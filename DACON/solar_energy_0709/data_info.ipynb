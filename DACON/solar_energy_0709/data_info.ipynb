{
 "metadata": {
  "language_info": {
   "codemirror_mode": {
    "name": "ipython",
    "version": 3
   },
   "file_extension": ".py",
   "mimetype": "text/x-python",
   "name": "python",
   "nbconvert_exporter": "python",
   "pygments_lexer": "ipython3",
   "version": "3.8.5"
  },
  "orig_nbformat": 2,
  "kernelspec": {
   "name": "python385jvsc74a57bd0cfed29639e118e2330c8cca2e9f389b076390c6676518be5d289ddd682bc9f99",
   "display_name": "Python 3.8.5 64-bit ('base': conda)"
  }
 },
 "nbformat": 4,
 "nbformat_minor": 2,
 "cells": [
  {
   "cell_type": "code",
   "execution_count": 6,
   "metadata": {},
   "outputs": [],
   "source": [
    "import pandas as pd\n",
    "from glob import glob\n",
    "from PIL import Image"
   ]
  },
  {
   "cell_type": "code",
   "execution_count": 7,
   "metadata": {},
   "outputs": [
    {
     "output_type": "stream",
     "name": "stdout",
     "text": [
      "['../../../data/solar_energy2\\\\dangjin_fcst_data.csv', '../../../data/solar_energy2\\\\dangjin_obs_data.csv', '../../../data/solar_energy2\\\\energy.csv', '../../../data/solar_energy2\\\\sample_submission.csv', '../../../data/solar_energy2\\\\site_info.csv', '../../../data/solar_energy2\\\\ulsan_fcst_data.csv', '../../../data/solar_energy2\\\\ulsan_obs_data.csv']\n"
     ]
    }
   ],
   "source": [
    "path = '../../../data/solar_energy2/'\n",
    "files = sorted(glob(path+'*.csv'))\n",
    "print(files)"
   ]
  },
  {
   "cell_type": "code",
   "execution_count": 8,
   "metadata": {},
   "outputs": [],
   "source": [
    "dangjin_fcst_data = pd.read_csv(files[0])\n",
    "dangjin_obs_data = pd.read_csv(files[1])\n",
    "energy = pd.read_csv(files[2])\n",
    "sample_submission = pd.read_csv(files[3])\n",
    "site_info = pd.read_csv(files[4])\n",
    "ulsan_fcst_data = pd.read_csv(files[5])\n",
    "ulsan_obs_data = pd.read_csv(files[6])"
   ]
  },
  {
   "source": [
    "# site_info.csv - 발전소 정보\n",
    "- Id : 사이트 식별자\n",
    "- Capacity : 발전소 발전용량(MW)\n",
    "- Address : 주소\n",
    "- InstallationAngle : 설치각(º)\n",
    "- IncidentAngle : 입사각(º)\n",
    "- Latitude : 위도\n",
    "- Longitude : 경도"
   ],
   "cell_type": "markdown",
   "metadata": {}
  },
  {
   "cell_type": "code",
   "execution_count": 16,
   "metadata": {},
   "outputs": [
    {
     "output_type": "stream",
     "name": "stdout",
     "text": [
      "          Id  Capacity            Address  InstallationAngle  IncidentAngle  \\\n0    당진수상태양광       1.0  충남 당진시 석문면 교로길 30               30.0           30.0   \n1  당진자재창고태양광       0.7  충남 당진시 석문면 교로길 30               30.0           30.0   \n2      당진태양광       1.0  충남 당진시 석문면 교로길 30               30.0           30.0   \n3      울산태양광       0.5   울산광역시 남구 용잠로 623               20.0           20.0   \n\n    Latitude   Longitude  \n0  37.050753  126.510299  \n1  37.050753  126.510299  \n2  37.050753  126.510299  \n3  35.477651  129.380778  \n"
     ]
    }
   ],
   "source": [
    "print(site_info)"
   ]
  },
  {
   "source": [
    "# energy.csv - 발전소별 발전량\n",
    "- time : 1시간 단위 계량된 시간 (ex-2018-03-01 1:00:00 => 2018-03-01 00:00:00 ~ 2018-03-01 1:00:00 1시간동안 발전량 계량)\n",
    "- dangjin_floating : 당진수상태양광 발전량(KW)\n",
    "- dangjin_warehouse : 당진자재창고태양광 발전량(KW)\n",
    "- dangjin : 당진태양광 발전량(KW)\n",
    "- ulsan : 울산태양광 발전량(KW)"
   ],
   "cell_type": "markdown",
   "metadata": {}
  },
  {
   "cell_type": "code",
   "execution_count": 17,
   "metadata": {},
   "outputs": [
    {
     "output_type": "stream",
     "name": "stdout",
     "text": [
      "                      time  dangjin_floating  dangjin_warehouse  dangjin  \\\n0       2018-03-01 1:00:00               0.0                0.0        0   \n1       2018-03-01 2:00:00               0.0                0.0        0   \n2       2018-03-01 3:00:00               0.0                0.0        0   \n3       2018-03-01 4:00:00               0.0                0.0        0   \n4       2018-03-01 5:00:00               0.0                0.0        0   \n...                    ...               ...                ...      ...   \n25627  2021-01-31 20:00:00               0.0                0.0        0   \n25628  2021-01-31 21:00:00               0.0                0.0        0   \n25629  2021-01-31 22:00:00               0.0                0.0        0   \n25630  2021-01-31 23:00:00               0.0                0.0        0   \n25631  2021-01-31 24:00:00               0.0                0.0        0   \n\n       ulsan  \n0          0  \n1          0  \n2          0  \n3          0  \n4          0  \n...      ...  \n25627      0  \n25628      0  \n25629      0  \n25630      0  \n25631      0  \n\n[25632 rows x 5 columns]\n"
     ]
    }
   ],
   "source": [
    "print(energy)"
   ]
  },
  {
   "source": [
    "# dangjin_fcst_data.csv - 당진지역 발전소 동네 예보\n",
    "- Forecast time : 예보 발표 시점\n",
    "- forecast : 예보 시간 (ex - Forecast time:2018-03-01 11:00:00, forecast:4.0 => 2018-03-01 11:00:00에 발표한 2018-03-01 15:00:00 예보    \n",
    "### 예보 발표 시점 'forecast'시간 후 기상 예보\n",
    "- Temperature : 온도(℃)\n",
    "- Humidity : 습도(%)\n",
    "- WindSpeed : 풍속(m/s)\n",
    "- WindDirection : 풍향(º)\n",
    "- Cloud : 하늘상태(1-맑음, 2-구름보통, 3-구름많음, 4-흐림)"
   ],
   "cell_type": "markdown",
   "metadata": {}
  },
  {
   "cell_type": "code",
   "execution_count": 18,
   "metadata": {},
   "outputs": [
    {
     "output_type": "stream",
     "name": "stdout",
     "text": [
      "              Forecast time  forecast  Temperature  Humidity  WindSpeed  \\\n0       2018-03-01 11:00:00       4.0          0.0      60.0        7.3   \n1       2018-03-01 11:00:00       7.0         -2.0      60.0        7.1   \n2       2018-03-01 11:00:00      10.0         -2.0      60.0        6.7   \n3       2018-03-01 11:00:00      13.0         -2.0      55.0        6.7   \n4       2018-03-01 11:00:00      16.0         -4.0      55.0        5.5   \n...                     ...       ...          ...       ...        ...   \n162203  2021-03-01 08:00:00      52.0          7.0      40.0        3.2   \n162204  2021-03-01 08:00:00      55.0          8.0      40.0        4.5   \n162205  2021-03-01 08:00:00      58.0          5.0      55.0        2.2   \n162206  2021-03-01 08:00:00      61.0          1.0      80.0        1.9   \n162207  2021-03-01 08:00:00      64.0          1.0      80.0        2.1   \n\n        WindDirection  Cloud  \n0               309.0    2.0  \n1               314.0    1.0  \n2               323.0    1.0  \n3               336.0    1.0  \n4               339.0    1.0  \n...               ...    ...  \n162203          187.0    1.0  \n162204          217.0    1.0  \n162205          210.0    1.0  \n162206          164.0    1.0  \n162207          152.0    1.0  \n\n[162208 rows x 7 columns]\n"
     ]
    }
   ],
   "source": [
    "print(dangjin_fcst_data)"
   ]
  },
  {
   "source": [
    "# dangjin_obs_data.csv - 당진지역 발전소 인근 기상 관측 자료\n",
    "- 지점 : 지점 코드\n",
    "- 지점명 : 관측소 지점\n",
    "- 일시 : 관측 시간\n",
    "- 기온(°C) : 기온(°C)\n",
    "- 풍속(m/s) : 풍속(m/s)\n",
    "- 풍향(16방위) : 풍향(º)\n",
    "- 습도(%) : 습도(%)\n",
    "- 전운량(10분위) : 전운량(낮을 수록 구름이 적음)"
   ],
   "cell_type": "markdown",
   "metadata": {}
  },
  {
   "cell_type": "code",
   "execution_count": 19,
   "metadata": {},
   "outputs": [
    {
     "output_type": "stream",
     "name": "stdout",
     "text": [
      "        지점 지점명                일시  기온(°C)  풍속(m/s)  풍향(16방위)  습도(%)  전운량(10분위)\n0      129  서산  2018-03-01 00:00     3.1      3.6     340.0   96.0        NaN\n1      129  서산  2018-03-01 01:00     2.8      0.7     140.0   97.0        NaN\n2      129  서산  2018-03-01 02:00     2.6      3.2     320.0   95.0        NaN\n3      129  서산  2018-03-01 03:00     2.0      1.9     230.0   97.0        NaN\n4      129  서산  2018-03-01 04:00     2.2      2.1     180.0   97.0        NaN\n...    ...  ..               ...     ...      ...       ...    ...        ...\n25621  129  서산  2021-01-31 19:00     6.7      1.5     200.0   75.0        8.0\n25622  129  서산  2021-01-31 20:00     6.2      0.8     200.0   77.0        8.0\n25623  129  서산  2021-01-31 21:00     5.3      0.7     230.0   82.0        8.0\n25624  129  서산  2021-01-31 22:00     5.8      1.0     200.0   77.0        8.0\n25625  129  서산  2021-01-31 23:00     5.3      0.6     230.0   80.0        7.0\n\n[25626 rows x 8 columns]\n"
     ]
    }
   ],
   "source": [
    "print(dangjin_obs_data)"
   ]
  },
  {
   "source": [
    "# ulsan_fcst_data.csv - 울산지역 발전소 동네 예보\n",
    "- Forecast time : 예보 발표 시점\n",
    "- forecast : 예보 시간 (ex - Forecast time:2018-03-01 11:00:00, forecast:4.0 => 2018-03-01 11:00:00에 발표한 2018-03-01 15:00:00 예보\n",
    "\n",
    "### 예보 발표 시점 'forecast'시간 후 기상 예보\n",
    "- Temperature : 온도(℃)\n",
    "- Humidity : 습도(%)\n",
    "- WindSpeed : 풍속(m/s)\n",
    "- WindDirection : 풍향(º)\n",
    "- Cloud : 하늘상태(1-맑음, 2-구름보통, 3-구름많음, 4-흐림)\n"
   ],
   "cell_type": "markdown",
   "metadata": {}
  },
  {
   "cell_type": "code",
   "execution_count": 20,
   "metadata": {},
   "outputs": [
    {
     "output_type": "stream",
     "name": "stdout",
     "text": [
      "              Forecast time  forecast  Temperature  Humidity  WindSpeed  \\\n0       2018-03-01 11:00:00       4.0          8.0      20.0       14.0   \n1       2018-03-01 11:00:00       7.0          4.0      20.0        4.3   \n2       2018-03-01 11:00:00      10.0          3.0      30.0        1.9   \n3       2018-03-01 11:00:00      13.0          0.0      40.0        1.5   \n4       2018-03-01 11:00:00      16.0         -1.0      45.0        1.8   \n...                     ...       ...          ...       ...        ...   \n162203  2021-03-01 08:00:00      52.0          9.0      45.0        3.1   \n162204  2021-03-01 08:00:00      55.0          9.0      45.0        3.0   \n162205  2021-03-01 08:00:00      58.0          8.0      55.0        2.2   \n162206  2021-03-01 08:00:00      61.0          6.0      65.0        0.9   \n162207  2021-03-01 08:00:00      64.0          4.0      80.0        0.7   \n\n        WindDirection  Cloud  \n0               298.0    2.0  \n1               298.0    2.0  \n2               309.0    2.0  \n3               318.0    2.0  \n4               308.0    2.0  \n...               ...    ...  \n162203           83.0    3.0  \n162204          111.0    3.0  \n162205          122.0    3.0  \n162206          131.0    3.0  \n162207          188.0    3.0  \n\n[162208 rows x 7 columns]\n"
     ]
    }
   ],
   "source": [
    "print(ulsan_fcst_data)"
   ]
  },
  {
   "source": [
    "# ulsan_obs_data.csv - 울산지역 발전소 인근 기상 관측 자료\n",
    "- 지점 : 지점 코드\n",
    "- 지점명 : 관측소 지점\n",
    "- 일시 : 관측 시간\n",
    "- 기온(°C) : 기온(°C)\n",
    "- 풍속(m/s) : 풍속(m/s)\n",
    "- 풍향(16방위) : 풍향(º)\n",
    "- 습도(%) : 습도(%)\n",
    "- 전운량(10분위) : 전운량(낮을 수록 구름이 적음)"
   ],
   "cell_type": "markdown",
   "metadata": {}
  },
  {
   "cell_type": "code",
   "execution_count": 21,
   "metadata": {},
   "outputs": [
    {
     "output_type": "stream",
     "name": "stdout",
     "text": [
      "        지점 지점명                일시  기온(°C)  풍속(m/s)  풍향(16방위)  습도(%)  전운량(10분위)\n0      152  울산  2018-03-01 00:00     8.2      3.9     340.0   98.0       10.0\n1      152  울산  2018-03-01 01:00     7.0      4.1     320.0   97.0       10.0\n2      152  울산  2018-03-01 02:00     6.5      5.9     290.0   80.0        NaN\n3      152  울산  2018-03-01 03:00     6.2      4.6     320.0   79.0        3.0\n4      152  울산  2018-03-01 04:00     6.7      4.5     320.0   73.0        1.0\n...    ...  ..               ...     ...      ...       ...    ...        ...\n25627  152  울산  2021-01-31 19:00     8.8      2.5     200.0   50.0        5.0\n25628  152  울산  2021-01-31 20:00     8.7      3.9     200.0   49.0        1.0\n25629  152  울산  2021-01-31 21:00     8.4      2.4     230.0   51.0        7.0\n25630  152  울산  2021-01-31 22:00     9.4      3.3     230.0   51.0        8.0\n25631  152  울산  2021-01-31 23:00     9.3      3.1     200.0   56.0        9.0\n\n[25632 rows x 8 columns]\n"
     ]
    }
   ],
   "source": [
    "print(ulsan_obs_data)"
   ]
  },
  {
   "source": [
    "# sample_submission.csv - 예측한 발전량 제출 양식\n",
    "- publci LB : 2021년 2월 예측\n",
    "- private LB : 2021년 6월 9일 ~ 2021년 7월 8일 30일간 예측, 평가기간 제출 가능, 예측 전날 선택된 제출물 평가    \n",
    "\n",
    "    ※주의1 : 2021년 2월 예측시점 전날에 확인 가능한 정보만을 feature로 사용 가능, fcst 데이터 사용시 주의    \n",
    "    ※주의2 : public 평가기간 data leakage가 의심되는 경우 코드 제출을 요청할 수 있으며 2일 내 미제출 또는 data leakage가 확인 되었을 시 LB 기록이 삭제    \n",
    "    ※주의3 : 대회 기간 동안 지속적인 data leakage가 확인된 팀은 참가 자격 박탈    \n",
    "\n",
    "- time : 지난 한시간동안 발전량 예측   \n",
    "- dangjin_floating : 당진수상태양광 예측 발전량(KW)   \n",
    "- dangjin_warehouse : 당진자재창고태양광 예측 발전량(KW)   \n",
    "- ulsan : 울산태양광 예측 발전량(KW)   "
   ],
   "cell_type": "markdown",
   "metadata": {}
  },
  {
   "cell_type": "code",
   "execution_count": 23,
   "metadata": {},
   "outputs": [
    {
     "output_type": "stream",
     "name": "stdout",
     "text": [
      "                     time  dangjin_floating  dangjin_warehouse  dangjin  ulsan\n0     2021-02-01 01:00:00                 0                  0        0      0\n1     2021-02-01 02:00:00                 0                  0        0      0\n2     2021-02-01 03:00:00                 0                  0        0      0\n3     2021-02-01 04:00:00                 0                  0        0      0\n4     2021-02-01 05:00:00                 0                  0        0      0\n...                   ...               ...                ...      ...    ...\n1387  2021-07-08 20:00:00                 0                  0        0      0\n1388  2021-07-08 21:00:00                 0                  0        0      0\n1389  2021-07-08 22:00:00                 0                  0        0      0\n1390  2021-07-08 23:00:00                 0                  0        0      0\n1391  2021-07-08 24:00:00                 0                  0        0      0\n\n[1392 rows x 5 columns]\n"
     ]
    }
   ],
   "source": [
    "print(sample_submission)"
   ]
  },
  {
   "source": [
    "# 평가 산식(NMAE-10)\n",
    "- 4개의 발전소 반전량을 하나로 합하여 평가\n",
    "- 4개 발전소 총 발전용량으로 정규화\n",
    "- 발전용량의 10% 이상 발전된 데이터만으로 평가"
   ],
   "cell_type": "markdown",
   "metadata": {}
  },
  {
   "cell_type": "code",
   "execution_count": 24,
   "metadata": {},
   "outputs": [],
   "source": [
    "import pandas as pd\n",
    "import numpy as np\n",
    "\n",
    "def sola_nmae(answer_df, submission_df):\n",
    "    submission = submission_df[submission_df['time'].isin(answer_df['time'])]\n",
    "    submission.index = range(submission.shape[0])\n",
    "    \n",
    "    # 시간대별 총 발전량\n",
    "    sum_submission = submission.iloc[:,1:].sum(axis=1)\n",
    "    sum_answer = answer_df.iloc[:,1:].sum(axis=1)\n",
    "    \n",
    "    # 발전소 발전용량\n",
    "    capacity = {\n",
    "        'dangjin_floating':1000, # 당진수상태양광 발전용량\n",
    "        'dangjin_warehouse':700, # 당진자재창고태양광 발전용량\n",
    "        'dangjin':1000, # 당진태양광 발전용량\n",
    "        'ulsan':500 # 울산태양광 발전용량\n",
    "    }\n",
    "    \n",
    "    # 총 발전용량\n",
    "    total_capacity = np.sum(list(capacity.values()))\n",
    "    \n",
    "    # 총 발전용량 절대오차\n",
    "    absolute_error = (sum_answer - sum_submission).abs()\n",
    "    \n",
    "    # 발전용량으로 정규화\n",
    "    absolute_error /= total_capacity\n",
    "    \n",
    "    # 총 발전용량의 10% 이상 발전한 데이터 인덱스 추출\n",
    "    target_idx = sum_answer[sum_answer>=total_capacity*0.1].index\n",
    "    \n",
    "    # NMAE(%)\n",
    "    nmae = 100 * absolute_error[target_idx].mean()\n",
    "    \n",
    "    return nmae"
   ]
  }
 ]
}