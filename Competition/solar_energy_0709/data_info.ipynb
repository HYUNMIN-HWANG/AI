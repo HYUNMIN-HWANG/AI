{
 "metadata": {
  "language_info": {
   "codemirror_mode": {
    "name": "ipython",
    "version": 3
   },
   "file_extension": ".py",
   "mimetype": "text/x-python",
   "name": "python",
   "nbconvert_exporter": "python",
   "pygments_lexer": "ipython3",
   "version": "3.8.5"
  },
  "orig_nbformat": 2,
  "kernelspec": {
   "name": "python385jvsc74a57bd0cfed29639e118e2330c8cca2e9f389b076390c6676518be5d289ddd682bc9f99",
   "display_name": "Python 3.8.5 64-bit ('base': conda)"
  }
 },
 "nbformat": 4,
 "nbformat_minor": 2,
 "cells": [
  {
   "cell_type": "code",
   "execution_count": 86,
   "metadata": {},
   "outputs": [],
   "source": [
    "import pandas as pd\n",
    "from glob import glob\n",
    "from PIL import Image"
   ]
  },
  {
   "cell_type": "code",
   "execution_count": 87,
   "metadata": {},
   "outputs": [
    {
     "output_type": "execute_result",
     "data": {
      "text/plain": [
       "['../../../data/solar_energy2\\\\dangjin_fcst_data.csv',\n",
       " '../../../data/solar_energy2\\\\dangjin_obs_data.csv',\n",
       " '../../../data/solar_energy2\\\\energy.csv',\n",
       " '../../../data/solar_energy2\\\\sample_submission.csv',\n",
       " '../../../data/solar_energy2\\\\site_info.csv',\n",
       " '../../../data/solar_energy2\\\\ulsan_fcst_data.csv',\n",
       " '../../../data/solar_energy2\\\\ulsan_obs_data.csv']"
      ]
     },
     "metadata": {},
     "execution_count": 87
    }
   ],
   "source": [
    "path = '../../../data/solar_energy2/'\n",
    "files = sorted(glob(path+'*.csv'))\n",
    "files"
   ]
  },
  {
   "cell_type": "code",
   "execution_count": 88,
   "metadata": {},
   "outputs": [],
   "source": [
    "dangjin_fcst_data = pd.read_csv(files[0])\n",
    "dangjin_obs_data = pd.read_csv(files[1])\n",
    "energy = pd.read_csv(files[2])\n",
    "sample_submission = pd.read_csv(files[3])\n",
    "site_info = pd.read_csv(files[4])\n",
    "ulsan_fcst_data = pd.read_csv(files[5])\n",
    "ulsan_obs_data = pd.read_csv(files[6])"
   ]
  },
  {
   "source": [
    "# site_info.csv - 발전소 정보\n",
    "- Id : 사이트 식별자\n",
    "- Capacity : 발전소 발전용량(MW)\n",
    "- Address : 주소\n",
    "- InstallationAngle : 설치각(º)\n",
    "- IncidentAngle : 입사각(º)\n",
    "- Latitude : 위도\n",
    "- Longitude : 경도"
   ],
   "cell_type": "markdown",
   "metadata": {}
  },
  {
   "cell_type": "code",
   "execution_count": 89,
   "metadata": {},
   "outputs": [
    {
     "output_type": "execute_result",
     "data": {
      "text/plain": [
       "          Id  Capacity            Address  InstallationAngle  IncidentAngle  \\\n",
       "0    당진수상태양광       1.0  충남 당진시 석문면 교로길 30               30.0           30.0   \n",
       "1  당진자재창고태양광       0.7  충남 당진시 석문면 교로길 30               30.0           30.0   \n",
       "2      당진태양광       1.0  충남 당진시 석문면 교로길 30               30.0           30.0   \n",
       "3      울산태양광       0.5   울산광역시 남구 용잠로 623               20.0           20.0   \n",
       "\n",
       "    Latitude   Longitude  \n",
       "0  37.050753  126.510299  \n",
       "1  37.050753  126.510299  \n",
       "2  37.050753  126.510299  \n",
       "3  35.477651  129.380778  "
      ],
      "text/html": "<div>\n<style scoped>\n    .dataframe tbody tr th:only-of-type {\n        vertical-align: middle;\n    }\n\n    .dataframe tbody tr th {\n        vertical-align: top;\n    }\n\n    .dataframe thead th {\n        text-align: right;\n    }\n</style>\n<table border=\"1\" class=\"dataframe\">\n  <thead>\n    <tr style=\"text-align: right;\">\n      <th></th>\n      <th>Id</th>\n      <th>Capacity</th>\n      <th>Address</th>\n      <th>InstallationAngle</th>\n      <th>IncidentAngle</th>\n      <th>Latitude</th>\n      <th>Longitude</th>\n    </tr>\n  </thead>\n  <tbody>\n    <tr>\n      <th>0</th>\n      <td>당진수상태양광</td>\n      <td>1.0</td>\n      <td>충남 당진시 석문면 교로길 30</td>\n      <td>30.0</td>\n      <td>30.0</td>\n      <td>37.050753</td>\n      <td>126.510299</td>\n    </tr>\n    <tr>\n      <th>1</th>\n      <td>당진자재창고태양광</td>\n      <td>0.7</td>\n      <td>충남 당진시 석문면 교로길 30</td>\n      <td>30.0</td>\n      <td>30.0</td>\n      <td>37.050753</td>\n      <td>126.510299</td>\n    </tr>\n    <tr>\n      <th>2</th>\n      <td>당진태양광</td>\n      <td>1.0</td>\n      <td>충남 당진시 석문면 교로길 30</td>\n      <td>30.0</td>\n      <td>30.0</td>\n      <td>37.050753</td>\n      <td>126.510299</td>\n    </tr>\n    <tr>\n      <th>3</th>\n      <td>울산태양광</td>\n      <td>0.5</td>\n      <td>울산광역시 남구 용잠로 623</td>\n      <td>20.0</td>\n      <td>20.0</td>\n      <td>35.477651</td>\n      <td>129.380778</td>\n    </tr>\n  </tbody>\n</table>\n</div>"
     },
     "metadata": {},
     "execution_count": 89
    }
   ],
   "source": [
    "site_info"
   ]
  },
  {
   "source": [
    "# energy.csv - 발전소별 발전량\n",
    "- time : 1시간 단위 계량된 시간 (ex-2018-03-01 1:00:00 => 2018-03-01 00:00:00 ~ 2018-03-01 1:00:00 1시간동안 발전량 계량)\n",
    "    + 하루에 1시간 씩, 총 24개의 발전량을 알 수 있음\n",
    "- dangjin_floating : 당진수상태양광 발전량(KW)\n",
    "- dangjin_warehouse : 당진자재창고태양광 발전량(KW)\n",
    "- dangjin : 당진태양광 발전량(KW)\n",
    "- ulsan : 울산태양광 발전량(KW)"
   ],
   "cell_type": "markdown",
   "metadata": {}
  },
  {
   "cell_type": "code",
   "execution_count": 90,
   "metadata": {},
   "outputs": [
    {
     "output_type": "execute_result",
     "data": {
      "text/plain": [
       "                      time  dangjin_floating  dangjin_warehouse  dangjin  \\\n",
       "0       2018-03-01 1:00:00               0.0                0.0        0   \n",
       "1       2018-03-01 2:00:00               0.0                0.0        0   \n",
       "2       2018-03-01 3:00:00               0.0                0.0        0   \n",
       "3       2018-03-01 4:00:00               0.0                0.0        0   \n",
       "4       2018-03-01 5:00:00               0.0                0.0        0   \n",
       "...                    ...               ...                ...      ...   \n",
       "25627  2021-01-31 20:00:00               0.0                0.0        0   \n",
       "25628  2021-01-31 21:00:00               0.0                0.0        0   \n",
       "25629  2021-01-31 22:00:00               0.0                0.0        0   \n",
       "25630  2021-01-31 23:00:00               0.0                0.0        0   \n",
       "25631  2021-01-31 24:00:00               0.0                0.0        0   \n",
       "\n",
       "       ulsan  \n",
       "0          0  \n",
       "1          0  \n",
       "2          0  \n",
       "3          0  \n",
       "4          0  \n",
       "...      ...  \n",
       "25627      0  \n",
       "25628      0  \n",
       "25629      0  \n",
       "25630      0  \n",
       "25631      0  \n",
       "\n",
       "[25632 rows x 5 columns]"
      ],
      "text/html": "<div>\n<style scoped>\n    .dataframe tbody tr th:only-of-type {\n        vertical-align: middle;\n    }\n\n    .dataframe tbody tr th {\n        vertical-align: top;\n    }\n\n    .dataframe thead th {\n        text-align: right;\n    }\n</style>\n<table border=\"1\" class=\"dataframe\">\n  <thead>\n    <tr style=\"text-align: right;\">\n      <th></th>\n      <th>time</th>\n      <th>dangjin_floating</th>\n      <th>dangjin_warehouse</th>\n      <th>dangjin</th>\n      <th>ulsan</th>\n    </tr>\n  </thead>\n  <tbody>\n    <tr>\n      <th>0</th>\n      <td>2018-03-01 1:00:00</td>\n      <td>0.0</td>\n      <td>0.0</td>\n      <td>0</td>\n      <td>0</td>\n    </tr>\n    <tr>\n      <th>1</th>\n      <td>2018-03-01 2:00:00</td>\n      <td>0.0</td>\n      <td>0.0</td>\n      <td>0</td>\n      <td>0</td>\n    </tr>\n    <tr>\n      <th>2</th>\n      <td>2018-03-01 3:00:00</td>\n      <td>0.0</td>\n      <td>0.0</td>\n      <td>0</td>\n      <td>0</td>\n    </tr>\n    <tr>\n      <th>3</th>\n      <td>2018-03-01 4:00:00</td>\n      <td>0.0</td>\n      <td>0.0</td>\n      <td>0</td>\n      <td>0</td>\n    </tr>\n    <tr>\n      <th>4</th>\n      <td>2018-03-01 5:00:00</td>\n      <td>0.0</td>\n      <td>0.0</td>\n      <td>0</td>\n      <td>0</td>\n    </tr>\n    <tr>\n      <th>...</th>\n      <td>...</td>\n      <td>...</td>\n      <td>...</td>\n      <td>...</td>\n      <td>...</td>\n    </tr>\n    <tr>\n      <th>25627</th>\n      <td>2021-01-31 20:00:00</td>\n      <td>0.0</td>\n      <td>0.0</td>\n      <td>0</td>\n      <td>0</td>\n    </tr>\n    <tr>\n      <th>25628</th>\n      <td>2021-01-31 21:00:00</td>\n      <td>0.0</td>\n      <td>0.0</td>\n      <td>0</td>\n      <td>0</td>\n    </tr>\n    <tr>\n      <th>25629</th>\n      <td>2021-01-31 22:00:00</td>\n      <td>0.0</td>\n      <td>0.0</td>\n      <td>0</td>\n      <td>0</td>\n    </tr>\n    <tr>\n      <th>25630</th>\n      <td>2021-01-31 23:00:00</td>\n      <td>0.0</td>\n      <td>0.0</td>\n      <td>0</td>\n      <td>0</td>\n    </tr>\n    <tr>\n      <th>25631</th>\n      <td>2021-01-31 24:00:00</td>\n      <td>0.0</td>\n      <td>0.0</td>\n      <td>0</td>\n      <td>0</td>\n    </tr>\n  </tbody>\n</table>\n<p>25632 rows × 5 columns</p>\n</div>"
     },
     "metadata": {},
     "execution_count": 90
    }
   ],
   "source": [
    "energy"
   ]
  },
  {
   "cell_type": "code",
   "execution_count": 91,
   "metadata": {},
   "outputs": [
    {
     "output_type": "execute_result",
     "data": {
      "text/plain": [
       "1068.0"
      ]
     },
     "metadata": {},
     "execution_count": 91
    }
   ],
   "source": [
    "len(energy)/24   # 1068일"
   ]
  },
  {
   "cell_type": "code",
   "execution_count": 92,
   "metadata": {},
   "outputs": [
    {
     "output_type": "execute_result",
     "data": {
      "text/plain": [
       "                   time  dangjin_floating  dangjin_warehouse  dangjin  ulsan\n",
       "0    2018-03-01 1:00:00               0.0                0.0        0      0\n",
       "1    2018-03-01 2:00:00               0.0                0.0        0      0\n",
       "2    2018-03-01 3:00:00               0.0                0.0        0      0\n",
       "3    2018-03-01 4:00:00               0.0                0.0        0      0\n",
       "4    2018-03-01 5:00:00               0.0                0.0        0      0\n",
       "5    2018-03-01 6:00:00               0.0                0.0        0      0\n",
       "6    2018-03-01 7:00:00               0.0                0.0        0      0\n",
       "7    2018-03-01 8:00:00               0.0                0.0        0      4\n",
       "8    2018-03-01 9:00:00              36.0               33.0       37     35\n",
       "9   2018-03-01 10:00:00             313.0              209.0      318     71\n",
       "10  2018-03-01 11:00:00             532.0              296.0      490     82\n",
       "11  2018-03-01 12:00:00             607.0              315.0      550    334\n",
       "12  2018-03-01 13:00:00             614.0              474.0      727    372\n",
       "13  2018-03-01 14:00:00             608.0              544.0      733    346\n",
       "14  2018-03-01 15:00:00             641.0              496.0      672    318\n",
       "15  2018-03-01 16:00:00             536.0              391.0      546    258\n",
       "16  2018-03-01 17:00:00             348.0              271.0      364    160\n",
       "17  2018-03-01 18:00:00             134.0               80.0      110     30\n",
       "18  2018-03-01 19:00:00              11.0                2.0        0      0\n",
       "19  2018-03-01 20:00:00               0.0                0.0        0      0\n",
       "20  2018-03-01 21:00:00               0.0                0.0        0      0\n",
       "21  2018-03-01 22:00:00               0.0                0.0        0      0\n",
       "22  2018-03-01 23:00:00               0.0                0.0        0      0\n",
       "23  2018-03-01 24:00:00               0.0                0.0        0      0\n",
       "24   2018-03-02 1:00:00               0.0                0.0        0      0"
      ],
      "text/html": "<div>\n<style scoped>\n    .dataframe tbody tr th:only-of-type {\n        vertical-align: middle;\n    }\n\n    .dataframe tbody tr th {\n        vertical-align: top;\n    }\n\n    .dataframe thead th {\n        text-align: right;\n    }\n</style>\n<table border=\"1\" class=\"dataframe\">\n  <thead>\n    <tr style=\"text-align: right;\">\n      <th></th>\n      <th>time</th>\n      <th>dangjin_floating</th>\n      <th>dangjin_warehouse</th>\n      <th>dangjin</th>\n      <th>ulsan</th>\n    </tr>\n  </thead>\n  <tbody>\n    <tr>\n      <th>0</th>\n      <td>2018-03-01 1:00:00</td>\n      <td>0.0</td>\n      <td>0.0</td>\n      <td>0</td>\n      <td>0</td>\n    </tr>\n    <tr>\n      <th>1</th>\n      <td>2018-03-01 2:00:00</td>\n      <td>0.0</td>\n      <td>0.0</td>\n      <td>0</td>\n      <td>0</td>\n    </tr>\n    <tr>\n      <th>2</th>\n      <td>2018-03-01 3:00:00</td>\n      <td>0.0</td>\n      <td>0.0</td>\n      <td>0</td>\n      <td>0</td>\n    </tr>\n    <tr>\n      <th>3</th>\n      <td>2018-03-01 4:00:00</td>\n      <td>0.0</td>\n      <td>0.0</td>\n      <td>0</td>\n      <td>0</td>\n    </tr>\n    <tr>\n      <th>4</th>\n      <td>2018-03-01 5:00:00</td>\n      <td>0.0</td>\n      <td>0.0</td>\n      <td>0</td>\n      <td>0</td>\n    </tr>\n    <tr>\n      <th>5</th>\n      <td>2018-03-01 6:00:00</td>\n      <td>0.0</td>\n      <td>0.0</td>\n      <td>0</td>\n      <td>0</td>\n    </tr>\n    <tr>\n      <th>6</th>\n      <td>2018-03-01 7:00:00</td>\n      <td>0.0</td>\n      <td>0.0</td>\n      <td>0</td>\n      <td>0</td>\n    </tr>\n    <tr>\n      <th>7</th>\n      <td>2018-03-01 8:00:00</td>\n      <td>0.0</td>\n      <td>0.0</td>\n      <td>0</td>\n      <td>4</td>\n    </tr>\n    <tr>\n      <th>8</th>\n      <td>2018-03-01 9:00:00</td>\n      <td>36.0</td>\n      <td>33.0</td>\n      <td>37</td>\n      <td>35</td>\n    </tr>\n    <tr>\n      <th>9</th>\n      <td>2018-03-01 10:00:00</td>\n      <td>313.0</td>\n      <td>209.0</td>\n      <td>318</td>\n      <td>71</td>\n    </tr>\n    <tr>\n      <th>10</th>\n      <td>2018-03-01 11:00:00</td>\n      <td>532.0</td>\n      <td>296.0</td>\n      <td>490</td>\n      <td>82</td>\n    </tr>\n    <tr>\n      <th>11</th>\n      <td>2018-03-01 12:00:00</td>\n      <td>607.0</td>\n      <td>315.0</td>\n      <td>550</td>\n      <td>334</td>\n    </tr>\n    <tr>\n      <th>12</th>\n      <td>2018-03-01 13:00:00</td>\n      <td>614.0</td>\n      <td>474.0</td>\n      <td>727</td>\n      <td>372</td>\n    </tr>\n    <tr>\n      <th>13</th>\n      <td>2018-03-01 14:00:00</td>\n      <td>608.0</td>\n      <td>544.0</td>\n      <td>733</td>\n      <td>346</td>\n    </tr>\n    <tr>\n      <th>14</th>\n      <td>2018-03-01 15:00:00</td>\n      <td>641.0</td>\n      <td>496.0</td>\n      <td>672</td>\n      <td>318</td>\n    </tr>\n    <tr>\n      <th>15</th>\n      <td>2018-03-01 16:00:00</td>\n      <td>536.0</td>\n      <td>391.0</td>\n      <td>546</td>\n      <td>258</td>\n    </tr>\n    <tr>\n      <th>16</th>\n      <td>2018-03-01 17:00:00</td>\n      <td>348.0</td>\n      <td>271.0</td>\n      <td>364</td>\n      <td>160</td>\n    </tr>\n    <tr>\n      <th>17</th>\n      <td>2018-03-01 18:00:00</td>\n      <td>134.0</td>\n      <td>80.0</td>\n      <td>110</td>\n      <td>30</td>\n    </tr>\n    <tr>\n      <th>18</th>\n      <td>2018-03-01 19:00:00</td>\n      <td>11.0</td>\n      <td>2.0</td>\n      <td>0</td>\n      <td>0</td>\n    </tr>\n    <tr>\n      <th>19</th>\n      <td>2018-03-01 20:00:00</td>\n      <td>0.0</td>\n      <td>0.0</td>\n      <td>0</td>\n      <td>0</td>\n    </tr>\n    <tr>\n      <th>20</th>\n      <td>2018-03-01 21:00:00</td>\n      <td>0.0</td>\n      <td>0.0</td>\n      <td>0</td>\n      <td>0</td>\n    </tr>\n    <tr>\n      <th>21</th>\n      <td>2018-03-01 22:00:00</td>\n      <td>0.0</td>\n      <td>0.0</td>\n      <td>0</td>\n      <td>0</td>\n    </tr>\n    <tr>\n      <th>22</th>\n      <td>2018-03-01 23:00:00</td>\n      <td>0.0</td>\n      <td>0.0</td>\n      <td>0</td>\n      <td>0</td>\n    </tr>\n    <tr>\n      <th>23</th>\n      <td>2018-03-01 24:00:00</td>\n      <td>0.0</td>\n      <td>0.0</td>\n      <td>0</td>\n      <td>0</td>\n    </tr>\n    <tr>\n      <th>24</th>\n      <td>2018-03-02 1:00:00</td>\n      <td>0.0</td>\n      <td>0.0</td>\n      <td>0</td>\n      <td>0</td>\n    </tr>\n  </tbody>\n</table>\n</div>"
     },
     "metadata": {},
     "execution_count": 92
    }
   ],
   "source": [
    "energy[:25]"
   ]
  },
  {
   "source": [],
   "cell_type": "markdown",
   "metadata": {}
  },
  {
   "source": [
    "# dangjin_fcst_data.csv - 당진지역 발전소 동네 예보\n",
    "- Forecast time : 예보 발표 시점\n",
    "- forecast : 예보 시간 (ex - Forecast time:2018-03-01 11:00:00, forecast:4.0 => 2018-03-01 11:00:00에 발표한 2018-03-01 15:00:00 예보    \n",
    "### 예보 발표 시점 'forecast'시간 후 기상 예보\n",
    "- Temperature : 온도(℃)\n",
    "- Humidity : 습도(%)\n",
    "- WindSpeed : 풍속(m/s)\n",
    "- WindDirection : 풍향(º)\n",
    "- Cloud : 하늘상태(1-맑음, 2-구름보통, 3-구름많음, 4-흐림)\n",
    "\n",
    "## 데이터 구성\n",
    "* 02시 - 15행\n",
    "* 05시 - 22행\n",
    "* 08시 - 21행\n",
    "* 11시 - 20행\n",
    "* 14시 - 19행\n",
    "* 17시 - 18행\n",
    "* 20시 - 17행\n",
    "* 23시 - 16행"
   ],
   "cell_type": "markdown",
   "metadata": {}
  },
  {
   "cell_type": "code",
   "execution_count": 93,
   "metadata": {},
   "outputs": [
    {
     "output_type": "execute_result",
     "data": {
      "text/plain": [
       "              Forecast time  forecast  Temperature  Humidity  WindSpeed  \\\n",
       "0       2018-03-01 11:00:00       4.0          0.0      60.0        7.3   \n",
       "1       2018-03-01 11:00:00       7.0         -2.0      60.0        7.1   \n",
       "2       2018-03-01 11:00:00      10.0         -2.0      60.0        6.7   \n",
       "3       2018-03-01 11:00:00      13.0         -2.0      55.0        6.7   \n",
       "4       2018-03-01 11:00:00      16.0         -4.0      55.0        5.5   \n",
       "...                     ...       ...          ...       ...        ...   \n",
       "162203  2021-03-01 08:00:00      52.0          7.0      40.0        3.2   \n",
       "162204  2021-03-01 08:00:00      55.0          8.0      40.0        4.5   \n",
       "162205  2021-03-01 08:00:00      58.0          5.0      55.0        2.2   \n",
       "162206  2021-03-01 08:00:00      61.0          1.0      80.0        1.9   \n",
       "162207  2021-03-01 08:00:00      64.0          1.0      80.0        2.1   \n",
       "\n",
       "        WindDirection  Cloud  \n",
       "0               309.0    2.0  \n",
       "1               314.0    1.0  \n",
       "2               323.0    1.0  \n",
       "3               336.0    1.0  \n",
       "4               339.0    1.0  \n",
       "...               ...    ...  \n",
       "162203          187.0    1.0  \n",
       "162204          217.0    1.0  \n",
       "162205          210.0    1.0  \n",
       "162206          164.0    1.0  \n",
       "162207          152.0    1.0  \n",
       "\n",
       "[162208 rows x 7 columns]"
      ],
      "text/html": "<div>\n<style scoped>\n    .dataframe tbody tr th:only-of-type {\n        vertical-align: middle;\n    }\n\n    .dataframe tbody tr th {\n        vertical-align: top;\n    }\n\n    .dataframe thead th {\n        text-align: right;\n    }\n</style>\n<table border=\"1\" class=\"dataframe\">\n  <thead>\n    <tr style=\"text-align: right;\">\n      <th></th>\n      <th>Forecast time</th>\n      <th>forecast</th>\n      <th>Temperature</th>\n      <th>Humidity</th>\n      <th>WindSpeed</th>\n      <th>WindDirection</th>\n      <th>Cloud</th>\n    </tr>\n  </thead>\n  <tbody>\n    <tr>\n      <th>0</th>\n      <td>2018-03-01 11:00:00</td>\n      <td>4.0</td>\n      <td>0.0</td>\n      <td>60.0</td>\n      <td>7.3</td>\n      <td>309.0</td>\n      <td>2.0</td>\n    </tr>\n    <tr>\n      <th>1</th>\n      <td>2018-03-01 11:00:00</td>\n      <td>7.0</td>\n      <td>-2.0</td>\n      <td>60.0</td>\n      <td>7.1</td>\n      <td>314.0</td>\n      <td>1.0</td>\n    </tr>\n    <tr>\n      <th>2</th>\n      <td>2018-03-01 11:00:00</td>\n      <td>10.0</td>\n      <td>-2.0</td>\n      <td>60.0</td>\n      <td>6.7</td>\n      <td>323.0</td>\n      <td>1.0</td>\n    </tr>\n    <tr>\n      <th>3</th>\n      <td>2018-03-01 11:00:00</td>\n      <td>13.0</td>\n      <td>-2.0</td>\n      <td>55.0</td>\n      <td>6.7</td>\n      <td>336.0</td>\n      <td>1.0</td>\n    </tr>\n    <tr>\n      <th>4</th>\n      <td>2018-03-01 11:00:00</td>\n      <td>16.0</td>\n      <td>-4.0</td>\n      <td>55.0</td>\n      <td>5.5</td>\n      <td>339.0</td>\n      <td>1.0</td>\n    </tr>\n    <tr>\n      <th>...</th>\n      <td>...</td>\n      <td>...</td>\n      <td>...</td>\n      <td>...</td>\n      <td>...</td>\n      <td>...</td>\n      <td>...</td>\n    </tr>\n    <tr>\n      <th>162203</th>\n      <td>2021-03-01 08:00:00</td>\n      <td>52.0</td>\n      <td>7.0</td>\n      <td>40.0</td>\n      <td>3.2</td>\n      <td>187.0</td>\n      <td>1.0</td>\n    </tr>\n    <tr>\n      <th>162204</th>\n      <td>2021-03-01 08:00:00</td>\n      <td>55.0</td>\n      <td>8.0</td>\n      <td>40.0</td>\n      <td>4.5</td>\n      <td>217.0</td>\n      <td>1.0</td>\n    </tr>\n    <tr>\n      <th>162205</th>\n      <td>2021-03-01 08:00:00</td>\n      <td>58.0</td>\n      <td>5.0</td>\n      <td>55.0</td>\n      <td>2.2</td>\n      <td>210.0</td>\n      <td>1.0</td>\n    </tr>\n    <tr>\n      <th>162206</th>\n      <td>2021-03-01 08:00:00</td>\n      <td>61.0</td>\n      <td>1.0</td>\n      <td>80.0</td>\n      <td>1.9</td>\n      <td>164.0</td>\n      <td>1.0</td>\n    </tr>\n    <tr>\n      <th>162207</th>\n      <td>2021-03-01 08:00:00</td>\n      <td>64.0</td>\n      <td>1.0</td>\n      <td>80.0</td>\n      <td>2.1</td>\n      <td>152.0</td>\n      <td>1.0</td>\n    </tr>\n  </tbody>\n</table>\n<p>162208 rows × 7 columns</p>\n</div>"
     },
     "metadata": {},
     "execution_count": 93
    }
   ],
   "source": [
    "dangjin_fcst_data"
   ]
  },
  {
   "cell_type": "code",
   "execution_count": 94,
   "metadata": {},
   "outputs": [
    {
     "output_type": "stream",
     "name": "stdout",
     "text": [
      "Index(['Forecast time', 'forecast', 'Temperature', 'Humidity', 'WindSpeed',\n       'WindDirection', 'Cloud'],\n      dtype='object')\n"
     ]
    }
   ],
   "source": [
    "print(dangjin_fcst_data.columns)"
   ]
  },
  {
   "cell_type": "code",
   "execution_count": 95,
   "metadata": {},
   "outputs": [
    {
     "output_type": "execute_result",
     "data": {
      "text/plain": [
       "          Forecast time  forecast  Temperature  Humidity  WindSpeed  \\\n",
       "0   2018-03-01 11:00:00       4.0          0.0      60.0        7.3   \n",
       "1   2018-03-01 11:00:00       7.0         -2.0      60.0        7.1   \n",
       "2   2018-03-01 11:00:00      10.0         -2.0      60.0        6.7   \n",
       "3   2018-03-01 11:00:00      13.0         -2.0      55.0        6.7   \n",
       "4   2018-03-01 11:00:00      16.0         -4.0      55.0        5.5   \n",
       "5   2018-03-01 11:00:00      19.0         -5.0      60.0        4.3   \n",
       "6   2018-03-01 11:00:00      22.0         -2.0      55.0        2.0   \n",
       "7   2018-03-01 11:00:00      25.0          1.0      45.0        0.8   \n",
       "8   2018-03-01 11:00:00      28.0          3.0      50.0        2.3   \n",
       "9   2018-03-01 11:00:00      31.0          1.0      55.0        1.9   \n",
       "10  2018-03-01 11:00:00      34.0         -1.0      70.0        1.6   \n",
       "11  2018-03-01 11:00:00      37.0         -2.0      75.0        2.0   \n",
       "12  2018-03-01 11:00:00      40.0         -2.0      75.0        2.6   \n",
       "13  2018-03-01 11:00:00      43.0         -2.0      80.0        2.7   \n",
       "14  2018-03-01 11:00:00      46.0          1.0      80.0        2.6   \n",
       "15  2018-03-01 11:00:00      49.0          9.0      70.0        3.1   \n",
       "16  2018-03-01 11:00:00      52.0         12.0      65.0        1.3   \n",
       "17  2018-03-01 11:00:00      55.0         11.0      80.0        1.3   \n",
       "18  2018-03-01 11:00:00      58.0          9.0      85.0        1.4   \n",
       "19  2018-03-01 11:00:00      61.0          9.0      85.0        1.4   \n",
       "\n",
       "    WindDirection  Cloud  \n",
       "0           309.0    2.0  \n",
       "1           314.0    1.0  \n",
       "2           323.0    1.0  \n",
       "3           336.0    1.0  \n",
       "4           339.0    1.0  \n",
       "5           344.0    1.0  \n",
       "6           345.0    1.0  \n",
       "7           256.0    1.0  \n",
       "8           270.0    1.0  \n",
       "9           264.0    1.0  \n",
       "10           68.0    1.0  \n",
       "11          114.0    2.0  \n",
       "12          140.0    2.0  \n",
       "13          138.0    2.0  \n",
       "14          133.0    2.0  \n",
       "15          130.0    2.0  \n",
       "16          184.0    3.0  \n",
       "17          135.0    3.0  \n",
       "18          155.0    3.0  \n",
       "19          197.0    3.0  "
      ],
      "text/html": "<div>\n<style scoped>\n    .dataframe tbody tr th:only-of-type {\n        vertical-align: middle;\n    }\n\n    .dataframe tbody tr th {\n        vertical-align: top;\n    }\n\n    .dataframe thead th {\n        text-align: right;\n    }\n</style>\n<table border=\"1\" class=\"dataframe\">\n  <thead>\n    <tr style=\"text-align: right;\">\n      <th></th>\n      <th>Forecast time</th>\n      <th>forecast</th>\n      <th>Temperature</th>\n      <th>Humidity</th>\n      <th>WindSpeed</th>\n      <th>WindDirection</th>\n      <th>Cloud</th>\n    </tr>\n  </thead>\n  <tbody>\n    <tr>\n      <th>0</th>\n      <td>2018-03-01 11:00:00</td>\n      <td>4.0</td>\n      <td>0.0</td>\n      <td>60.0</td>\n      <td>7.3</td>\n      <td>309.0</td>\n      <td>2.0</td>\n    </tr>\n    <tr>\n      <th>1</th>\n      <td>2018-03-01 11:00:00</td>\n      <td>7.0</td>\n      <td>-2.0</td>\n      <td>60.0</td>\n      <td>7.1</td>\n      <td>314.0</td>\n      <td>1.0</td>\n    </tr>\n    <tr>\n      <th>2</th>\n      <td>2018-03-01 11:00:00</td>\n      <td>10.0</td>\n      <td>-2.0</td>\n      <td>60.0</td>\n      <td>6.7</td>\n      <td>323.0</td>\n      <td>1.0</td>\n    </tr>\n    <tr>\n      <th>3</th>\n      <td>2018-03-01 11:00:00</td>\n      <td>13.0</td>\n      <td>-2.0</td>\n      <td>55.0</td>\n      <td>6.7</td>\n      <td>336.0</td>\n      <td>1.0</td>\n    </tr>\n    <tr>\n      <th>4</th>\n      <td>2018-03-01 11:00:00</td>\n      <td>16.0</td>\n      <td>-4.0</td>\n      <td>55.0</td>\n      <td>5.5</td>\n      <td>339.0</td>\n      <td>1.0</td>\n    </tr>\n    <tr>\n      <th>5</th>\n      <td>2018-03-01 11:00:00</td>\n      <td>19.0</td>\n      <td>-5.0</td>\n      <td>60.0</td>\n      <td>4.3</td>\n      <td>344.0</td>\n      <td>1.0</td>\n    </tr>\n    <tr>\n      <th>6</th>\n      <td>2018-03-01 11:00:00</td>\n      <td>22.0</td>\n      <td>-2.0</td>\n      <td>55.0</td>\n      <td>2.0</td>\n      <td>345.0</td>\n      <td>1.0</td>\n    </tr>\n    <tr>\n      <th>7</th>\n      <td>2018-03-01 11:00:00</td>\n      <td>25.0</td>\n      <td>1.0</td>\n      <td>45.0</td>\n      <td>0.8</td>\n      <td>256.0</td>\n      <td>1.0</td>\n    </tr>\n    <tr>\n      <th>8</th>\n      <td>2018-03-01 11:00:00</td>\n      <td>28.0</td>\n      <td>3.0</td>\n      <td>50.0</td>\n      <td>2.3</td>\n      <td>270.0</td>\n      <td>1.0</td>\n    </tr>\n    <tr>\n      <th>9</th>\n      <td>2018-03-01 11:00:00</td>\n      <td>31.0</td>\n      <td>1.0</td>\n      <td>55.0</td>\n      <td>1.9</td>\n      <td>264.0</td>\n      <td>1.0</td>\n    </tr>\n    <tr>\n      <th>10</th>\n      <td>2018-03-01 11:00:00</td>\n      <td>34.0</td>\n      <td>-1.0</td>\n      <td>70.0</td>\n      <td>1.6</td>\n      <td>68.0</td>\n      <td>1.0</td>\n    </tr>\n    <tr>\n      <th>11</th>\n      <td>2018-03-01 11:00:00</td>\n      <td>37.0</td>\n      <td>-2.0</td>\n      <td>75.0</td>\n      <td>2.0</td>\n      <td>114.0</td>\n      <td>2.0</td>\n    </tr>\n    <tr>\n      <th>12</th>\n      <td>2018-03-01 11:00:00</td>\n      <td>40.0</td>\n      <td>-2.0</td>\n      <td>75.0</td>\n      <td>2.6</td>\n      <td>140.0</td>\n      <td>2.0</td>\n    </tr>\n    <tr>\n      <th>13</th>\n      <td>2018-03-01 11:00:00</td>\n      <td>43.0</td>\n      <td>-2.0</td>\n      <td>80.0</td>\n      <td>2.7</td>\n      <td>138.0</td>\n      <td>2.0</td>\n    </tr>\n    <tr>\n      <th>14</th>\n      <td>2018-03-01 11:00:00</td>\n      <td>46.0</td>\n      <td>1.0</td>\n      <td>80.0</td>\n      <td>2.6</td>\n      <td>133.0</td>\n      <td>2.0</td>\n    </tr>\n    <tr>\n      <th>15</th>\n      <td>2018-03-01 11:00:00</td>\n      <td>49.0</td>\n      <td>9.0</td>\n      <td>70.0</td>\n      <td>3.1</td>\n      <td>130.0</td>\n      <td>2.0</td>\n    </tr>\n    <tr>\n      <th>16</th>\n      <td>2018-03-01 11:00:00</td>\n      <td>52.0</td>\n      <td>12.0</td>\n      <td>65.0</td>\n      <td>1.3</td>\n      <td>184.0</td>\n      <td>3.0</td>\n    </tr>\n    <tr>\n      <th>17</th>\n      <td>2018-03-01 11:00:00</td>\n      <td>55.0</td>\n      <td>11.0</td>\n      <td>80.0</td>\n      <td>1.3</td>\n      <td>135.0</td>\n      <td>3.0</td>\n    </tr>\n    <tr>\n      <th>18</th>\n      <td>2018-03-01 11:00:00</td>\n      <td>58.0</td>\n      <td>9.0</td>\n      <td>85.0</td>\n      <td>1.4</td>\n      <td>155.0</td>\n      <td>3.0</td>\n    </tr>\n    <tr>\n      <th>19</th>\n      <td>2018-03-01 11:00:00</td>\n      <td>61.0</td>\n      <td>9.0</td>\n      <td>85.0</td>\n      <td>1.4</td>\n      <td>197.0</td>\n      <td>3.0</td>\n    </tr>\n  </tbody>\n</table>\n</div>"
     },
     "metadata": {},
     "execution_count": 95
    }
   ],
   "source": [
    "dangjin_fcst_data[dangjin_fcst_data['Forecast time']=='2018-03-01 11:00:00']    # 20행"
   ]
  },
  {
   "cell_type": "code",
   "execution_count": 96,
   "metadata": {},
   "outputs": [
    {
     "output_type": "execute_result",
     "data": {
      "text/plain": [
       "          Forecast time  forecast  Temperature  Humidity  WindSpeed  \\\n",
       "20  2018-03-01 14:00:00       4.0         -2.0      60.0        7.1   \n",
       "21  2018-03-01 14:00:00       7.0         -2.0      60.0        6.7   \n",
       "22  2018-03-01 14:00:00      10.0         -2.0      55.0        6.7   \n",
       "23  2018-03-01 14:00:00      13.0         -4.0      55.0        5.5   \n",
       "24  2018-03-01 14:00:00      16.0         -5.0      60.0        4.3   \n",
       "25  2018-03-01 14:00:00      19.0         -2.0      55.0        2.0   \n",
       "26  2018-03-01 14:00:00      22.0          1.0      45.0        0.8   \n",
       "27  2018-03-01 14:00:00      25.0          3.0      50.0        2.3   \n",
       "28  2018-03-01 14:00:00      28.0          1.0      55.0        1.9   \n",
       "29  2018-03-01 14:00:00      31.0         -1.0      70.0        1.6   \n",
       "30  2018-03-01 14:00:00      34.0         -2.0      75.0        2.0   \n",
       "31  2018-03-01 14:00:00      37.0         -2.0      75.0        2.6   \n",
       "32  2018-03-01 14:00:00      40.0         -2.0      80.0        2.7   \n",
       "33  2018-03-01 14:00:00      43.0          1.0      80.0        2.6   \n",
       "34  2018-03-01 14:00:00      46.0          9.0      70.0        3.1   \n",
       "35  2018-03-01 14:00:00      49.0         12.0      65.0        1.3   \n",
       "36  2018-03-01 14:00:00      52.0         11.0      80.0        1.3   \n",
       "37  2018-03-01 14:00:00      55.0          9.0      85.0        1.4   \n",
       "38  2018-03-01 14:00:00      58.0          9.0      85.0        1.4   \n",
       "\n",
       "    WindDirection  Cloud  \n",
       "20          314.0    1.0  \n",
       "21          323.0    1.0  \n",
       "22          336.0    1.0  \n",
       "23          339.0    1.0  \n",
       "24          344.0    1.0  \n",
       "25          345.0    1.0  \n",
       "26          256.0    1.0  \n",
       "27          270.0    1.0  \n",
       "28          264.0    1.0  \n",
       "29           68.0    1.0  \n",
       "30          114.0    2.0  \n",
       "31          140.0    2.0  \n",
       "32          138.0    2.0  \n",
       "33          133.0    2.0  \n",
       "34          130.0    2.0  \n",
       "35          184.0    3.0  \n",
       "36          135.0    3.0  \n",
       "37          155.0    3.0  \n",
       "38          197.0    3.0  "
      ],
      "text/html": "<div>\n<style scoped>\n    .dataframe tbody tr th:only-of-type {\n        vertical-align: middle;\n    }\n\n    .dataframe tbody tr th {\n        vertical-align: top;\n    }\n\n    .dataframe thead th {\n        text-align: right;\n    }\n</style>\n<table border=\"1\" class=\"dataframe\">\n  <thead>\n    <tr style=\"text-align: right;\">\n      <th></th>\n      <th>Forecast time</th>\n      <th>forecast</th>\n      <th>Temperature</th>\n      <th>Humidity</th>\n      <th>WindSpeed</th>\n      <th>WindDirection</th>\n      <th>Cloud</th>\n    </tr>\n  </thead>\n  <tbody>\n    <tr>\n      <th>20</th>\n      <td>2018-03-01 14:00:00</td>\n      <td>4.0</td>\n      <td>-2.0</td>\n      <td>60.0</td>\n      <td>7.1</td>\n      <td>314.0</td>\n      <td>1.0</td>\n    </tr>\n    <tr>\n      <th>21</th>\n      <td>2018-03-01 14:00:00</td>\n      <td>7.0</td>\n      <td>-2.0</td>\n      <td>60.0</td>\n      <td>6.7</td>\n      <td>323.0</td>\n      <td>1.0</td>\n    </tr>\n    <tr>\n      <th>22</th>\n      <td>2018-03-01 14:00:00</td>\n      <td>10.0</td>\n      <td>-2.0</td>\n      <td>55.0</td>\n      <td>6.7</td>\n      <td>336.0</td>\n      <td>1.0</td>\n    </tr>\n    <tr>\n      <th>23</th>\n      <td>2018-03-01 14:00:00</td>\n      <td>13.0</td>\n      <td>-4.0</td>\n      <td>55.0</td>\n      <td>5.5</td>\n      <td>339.0</td>\n      <td>1.0</td>\n    </tr>\n    <tr>\n      <th>24</th>\n      <td>2018-03-01 14:00:00</td>\n      <td>16.0</td>\n      <td>-5.0</td>\n      <td>60.0</td>\n      <td>4.3</td>\n      <td>344.0</td>\n      <td>1.0</td>\n    </tr>\n    <tr>\n      <th>25</th>\n      <td>2018-03-01 14:00:00</td>\n      <td>19.0</td>\n      <td>-2.0</td>\n      <td>55.0</td>\n      <td>2.0</td>\n      <td>345.0</td>\n      <td>1.0</td>\n    </tr>\n    <tr>\n      <th>26</th>\n      <td>2018-03-01 14:00:00</td>\n      <td>22.0</td>\n      <td>1.0</td>\n      <td>45.0</td>\n      <td>0.8</td>\n      <td>256.0</td>\n      <td>1.0</td>\n    </tr>\n    <tr>\n      <th>27</th>\n      <td>2018-03-01 14:00:00</td>\n      <td>25.0</td>\n      <td>3.0</td>\n      <td>50.0</td>\n      <td>2.3</td>\n      <td>270.0</td>\n      <td>1.0</td>\n    </tr>\n    <tr>\n      <th>28</th>\n      <td>2018-03-01 14:00:00</td>\n      <td>28.0</td>\n      <td>1.0</td>\n      <td>55.0</td>\n      <td>1.9</td>\n      <td>264.0</td>\n      <td>1.0</td>\n    </tr>\n    <tr>\n      <th>29</th>\n      <td>2018-03-01 14:00:00</td>\n      <td>31.0</td>\n      <td>-1.0</td>\n      <td>70.0</td>\n      <td>1.6</td>\n      <td>68.0</td>\n      <td>1.0</td>\n    </tr>\n    <tr>\n      <th>30</th>\n      <td>2018-03-01 14:00:00</td>\n      <td>34.0</td>\n      <td>-2.0</td>\n      <td>75.0</td>\n      <td>2.0</td>\n      <td>114.0</td>\n      <td>2.0</td>\n    </tr>\n    <tr>\n      <th>31</th>\n      <td>2018-03-01 14:00:00</td>\n      <td>37.0</td>\n      <td>-2.0</td>\n      <td>75.0</td>\n      <td>2.6</td>\n      <td>140.0</td>\n      <td>2.0</td>\n    </tr>\n    <tr>\n      <th>32</th>\n      <td>2018-03-01 14:00:00</td>\n      <td>40.0</td>\n      <td>-2.0</td>\n      <td>80.0</td>\n      <td>2.7</td>\n      <td>138.0</td>\n      <td>2.0</td>\n    </tr>\n    <tr>\n      <th>33</th>\n      <td>2018-03-01 14:00:00</td>\n      <td>43.0</td>\n      <td>1.0</td>\n      <td>80.0</td>\n      <td>2.6</td>\n      <td>133.0</td>\n      <td>2.0</td>\n    </tr>\n    <tr>\n      <th>34</th>\n      <td>2018-03-01 14:00:00</td>\n      <td>46.0</td>\n      <td>9.0</td>\n      <td>70.0</td>\n      <td>3.1</td>\n      <td>130.0</td>\n      <td>2.0</td>\n    </tr>\n    <tr>\n      <th>35</th>\n      <td>2018-03-01 14:00:00</td>\n      <td>49.0</td>\n      <td>12.0</td>\n      <td>65.0</td>\n      <td>1.3</td>\n      <td>184.0</td>\n      <td>3.0</td>\n    </tr>\n    <tr>\n      <th>36</th>\n      <td>2018-03-01 14:00:00</td>\n      <td>52.0</td>\n      <td>11.0</td>\n      <td>80.0</td>\n      <td>1.3</td>\n      <td>135.0</td>\n      <td>3.0</td>\n    </tr>\n    <tr>\n      <th>37</th>\n      <td>2018-03-01 14:00:00</td>\n      <td>55.0</td>\n      <td>9.0</td>\n      <td>85.0</td>\n      <td>1.4</td>\n      <td>155.0</td>\n      <td>3.0</td>\n    </tr>\n    <tr>\n      <th>38</th>\n      <td>2018-03-01 14:00:00</td>\n      <td>58.0</td>\n      <td>9.0</td>\n      <td>85.0</td>\n      <td>1.4</td>\n      <td>197.0</td>\n      <td>3.0</td>\n    </tr>\n  </tbody>\n</table>\n</div>"
     },
     "metadata": {},
     "execution_count": 96
    }
   ],
   "source": [
    "dangjin_fcst_data[dangjin_fcst_data['Forecast time']=='2018-03-01 14:00:00']    # 19행\n"
   ]
  },
  {
   "cell_type": "code",
   "execution_count": 97,
   "metadata": {},
   "outputs": [
    {
     "output_type": "execute_result",
     "data": {
      "text/plain": [
       "          Forecast time  forecast  Temperature  Humidity  WindSpeed  \\\n",
       "39  2018-03-01 17:00:00       4.0         -2.0      60.0        7.5   \n",
       "40  2018-03-01 17:00:00       7.0         -2.0      50.0        5.8   \n",
       "41  2018-03-01 17:00:00      10.0         -3.0      55.0        5.0   \n",
       "42  2018-03-01 17:00:00      13.0         -4.0      60.0        4.1   \n",
       "43  2018-03-01 17:00:00      16.0         -2.0      55.0        1.1   \n",
       "44  2018-03-01 17:00:00      19.0          2.0      45.0        1.0   \n",
       "45  2018-03-01 17:00:00      22.0          3.0      55.0        2.6   \n",
       "46  2018-03-01 17:00:00      25.0          1.0      60.0        1.4   \n",
       "47  2018-03-01 17:00:00      28.0         -1.0      75.0        2.4   \n",
       "48  2018-03-01 17:00:00      31.0         -2.0      75.0        2.3   \n",
       "49  2018-03-01 17:00:00      34.0         -2.0      75.0        2.4   \n",
       "50  2018-03-01 17:00:00      37.0         -2.0      80.0        2.8   \n",
       "51  2018-03-01 17:00:00      40.0          2.0      70.0        3.4   \n",
       "52  2018-03-01 17:00:00      43.0          9.0      65.0        2.9   \n",
       "53  2018-03-01 17:00:00      46.0         12.0      65.0        2.0   \n",
       "54  2018-03-01 17:00:00      49.0         11.0      75.0        2.0   \n",
       "55  2018-03-01 17:00:00      52.0          9.0      80.0        2.5   \n",
       "56  2018-03-01 17:00:00      55.0          9.0      85.0        2.2   \n",
       "\n",
       "    WindDirection  Cloud  \n",
       "39          326.0    1.0  \n",
       "40          336.0    1.0  \n",
       "41          339.0    1.0  \n",
       "42          353.0    1.0  \n",
       "43          360.0    1.0  \n",
       "44          259.0    1.0  \n",
       "45          274.0    1.0  \n",
       "46          278.0    1.0  \n",
       "47           81.0    1.0  \n",
       "48           95.0    2.0  \n",
       "49          125.0    2.0  \n",
       "50          135.0    2.0  \n",
       "51          126.0    2.0  \n",
       "52          134.0    2.0  \n",
       "53          160.0    3.0  \n",
       "54          217.0    3.0  \n",
       "55          169.0    3.0  \n",
       "56          210.0    3.0  "
      ],
      "text/html": "<div>\n<style scoped>\n    .dataframe tbody tr th:only-of-type {\n        vertical-align: middle;\n    }\n\n    .dataframe tbody tr th {\n        vertical-align: top;\n    }\n\n    .dataframe thead th {\n        text-align: right;\n    }\n</style>\n<table border=\"1\" class=\"dataframe\">\n  <thead>\n    <tr style=\"text-align: right;\">\n      <th></th>\n      <th>Forecast time</th>\n      <th>forecast</th>\n      <th>Temperature</th>\n      <th>Humidity</th>\n      <th>WindSpeed</th>\n      <th>WindDirection</th>\n      <th>Cloud</th>\n    </tr>\n  </thead>\n  <tbody>\n    <tr>\n      <th>39</th>\n      <td>2018-03-01 17:00:00</td>\n      <td>4.0</td>\n      <td>-2.0</td>\n      <td>60.0</td>\n      <td>7.5</td>\n      <td>326.0</td>\n      <td>1.0</td>\n    </tr>\n    <tr>\n      <th>40</th>\n      <td>2018-03-01 17:00:00</td>\n      <td>7.0</td>\n      <td>-2.0</td>\n      <td>50.0</td>\n      <td>5.8</td>\n      <td>336.0</td>\n      <td>1.0</td>\n    </tr>\n    <tr>\n      <th>41</th>\n      <td>2018-03-01 17:00:00</td>\n      <td>10.0</td>\n      <td>-3.0</td>\n      <td>55.0</td>\n      <td>5.0</td>\n      <td>339.0</td>\n      <td>1.0</td>\n    </tr>\n    <tr>\n      <th>42</th>\n      <td>2018-03-01 17:00:00</td>\n      <td>13.0</td>\n      <td>-4.0</td>\n      <td>60.0</td>\n      <td>4.1</td>\n      <td>353.0</td>\n      <td>1.0</td>\n    </tr>\n    <tr>\n      <th>43</th>\n      <td>2018-03-01 17:00:00</td>\n      <td>16.0</td>\n      <td>-2.0</td>\n      <td>55.0</td>\n      <td>1.1</td>\n      <td>360.0</td>\n      <td>1.0</td>\n    </tr>\n    <tr>\n      <th>44</th>\n      <td>2018-03-01 17:00:00</td>\n      <td>19.0</td>\n      <td>2.0</td>\n      <td>45.0</td>\n      <td>1.0</td>\n      <td>259.0</td>\n      <td>1.0</td>\n    </tr>\n    <tr>\n      <th>45</th>\n      <td>2018-03-01 17:00:00</td>\n      <td>22.0</td>\n      <td>3.0</td>\n      <td>55.0</td>\n      <td>2.6</td>\n      <td>274.0</td>\n      <td>1.0</td>\n    </tr>\n    <tr>\n      <th>46</th>\n      <td>2018-03-01 17:00:00</td>\n      <td>25.0</td>\n      <td>1.0</td>\n      <td>60.0</td>\n      <td>1.4</td>\n      <td>278.0</td>\n      <td>1.0</td>\n    </tr>\n    <tr>\n      <th>47</th>\n      <td>2018-03-01 17:00:00</td>\n      <td>28.0</td>\n      <td>-1.0</td>\n      <td>75.0</td>\n      <td>2.4</td>\n      <td>81.0</td>\n      <td>1.0</td>\n    </tr>\n    <tr>\n      <th>48</th>\n      <td>2018-03-01 17:00:00</td>\n      <td>31.0</td>\n      <td>-2.0</td>\n      <td>75.0</td>\n      <td>2.3</td>\n      <td>95.0</td>\n      <td>2.0</td>\n    </tr>\n    <tr>\n      <th>49</th>\n      <td>2018-03-01 17:00:00</td>\n      <td>34.0</td>\n      <td>-2.0</td>\n      <td>75.0</td>\n      <td>2.4</td>\n      <td>125.0</td>\n      <td>2.0</td>\n    </tr>\n    <tr>\n      <th>50</th>\n      <td>2018-03-01 17:00:00</td>\n      <td>37.0</td>\n      <td>-2.0</td>\n      <td>80.0</td>\n      <td>2.8</td>\n      <td>135.0</td>\n      <td>2.0</td>\n    </tr>\n    <tr>\n      <th>51</th>\n      <td>2018-03-01 17:00:00</td>\n      <td>40.0</td>\n      <td>2.0</td>\n      <td>70.0</td>\n      <td>3.4</td>\n      <td>126.0</td>\n      <td>2.0</td>\n    </tr>\n    <tr>\n      <th>52</th>\n      <td>2018-03-01 17:00:00</td>\n      <td>43.0</td>\n      <td>9.0</td>\n      <td>65.0</td>\n      <td>2.9</td>\n      <td>134.0</td>\n      <td>2.0</td>\n    </tr>\n    <tr>\n      <th>53</th>\n      <td>2018-03-01 17:00:00</td>\n      <td>46.0</td>\n      <td>12.0</td>\n      <td>65.0</td>\n      <td>2.0</td>\n      <td>160.0</td>\n      <td>3.0</td>\n    </tr>\n    <tr>\n      <th>54</th>\n      <td>2018-03-01 17:00:00</td>\n      <td>49.0</td>\n      <td>11.0</td>\n      <td>75.0</td>\n      <td>2.0</td>\n      <td>217.0</td>\n      <td>3.0</td>\n    </tr>\n    <tr>\n      <th>55</th>\n      <td>2018-03-01 17:00:00</td>\n      <td>52.0</td>\n      <td>9.0</td>\n      <td>80.0</td>\n      <td>2.5</td>\n      <td>169.0</td>\n      <td>3.0</td>\n    </tr>\n    <tr>\n      <th>56</th>\n      <td>2018-03-01 17:00:00</td>\n      <td>55.0</td>\n      <td>9.0</td>\n      <td>85.0</td>\n      <td>2.2</td>\n      <td>210.0</td>\n      <td>3.0</td>\n    </tr>\n  </tbody>\n</table>\n</div>"
     },
     "metadata": {},
     "execution_count": 97
    }
   ],
   "source": [
    "dangjin_fcst_data[dangjin_fcst_data['Forecast time']=='2018-03-01 17:00:00']    # 18행\n"
   ]
  },
  {
   "cell_type": "code",
   "execution_count": 98,
   "metadata": {},
   "outputs": [
    {
     "output_type": "execute_result",
     "data": {
      "text/plain": [
       "          Forecast time  forecast  Temperature  Humidity  WindSpeed  \\\n",
       "74  2018-03-01 23:00:00       4.0         -3.0      55.0        5.0   \n",
       "75  2018-03-01 23:00:00       7.0         -4.0      60.0        4.1   \n",
       "76  2018-03-01 23:00:00      10.0         -2.0      55.0        1.1   \n",
       "77  2018-03-01 23:00:00      13.0          2.0      45.0        1.0   \n",
       "78  2018-03-01 23:00:00      16.0          3.0      55.0        2.6   \n",
       "79  2018-03-01 23:00:00      19.0          1.0      60.0        1.4   \n",
       "80  2018-03-01 23:00:00      22.0         -1.0      75.0        2.4   \n",
       "81  2018-03-01 23:00:00      25.0         -2.0      75.0        2.3   \n",
       "82  2018-03-01 23:00:00      28.0         -2.0      75.0        2.4   \n",
       "83  2018-03-01 23:00:00      31.0         -2.0      80.0        2.8   \n",
       "84  2018-03-01 23:00:00      34.0          2.0      70.0        3.4   \n",
       "85  2018-03-01 23:00:00      37.0          9.0      65.0        2.9   \n",
       "86  2018-03-01 23:00:00      40.0         12.0      65.0        2.0   \n",
       "87  2018-03-01 23:00:00      43.0         11.0      75.0        2.0   \n",
       "88  2018-03-01 23:00:00      46.0          9.0      80.0        2.5   \n",
       "89  2018-03-01 23:00:00      49.0          9.0      85.0        2.2   \n",
       "\n",
       "    WindDirection  Cloud  \n",
       "74          339.0    1.0  \n",
       "75          353.0    1.0  \n",
       "76          360.0    1.0  \n",
       "77          259.0    1.0  \n",
       "78          274.0    1.0  \n",
       "79          278.0    1.0  \n",
       "80           81.0    1.0  \n",
       "81           95.0    2.0  \n",
       "82          125.0    2.0  \n",
       "83          135.0    2.0  \n",
       "84          126.0    2.0  \n",
       "85          134.0    2.0  \n",
       "86          160.0    3.0  \n",
       "87          217.0    3.0  \n",
       "88          169.0    3.0  \n",
       "89          210.0    3.0  "
      ],
      "text/html": "<div>\n<style scoped>\n    .dataframe tbody tr th:only-of-type {\n        vertical-align: middle;\n    }\n\n    .dataframe tbody tr th {\n        vertical-align: top;\n    }\n\n    .dataframe thead th {\n        text-align: right;\n    }\n</style>\n<table border=\"1\" class=\"dataframe\">\n  <thead>\n    <tr style=\"text-align: right;\">\n      <th></th>\n      <th>Forecast time</th>\n      <th>forecast</th>\n      <th>Temperature</th>\n      <th>Humidity</th>\n      <th>WindSpeed</th>\n      <th>WindDirection</th>\n      <th>Cloud</th>\n    </tr>\n  </thead>\n  <tbody>\n    <tr>\n      <th>74</th>\n      <td>2018-03-01 23:00:00</td>\n      <td>4.0</td>\n      <td>-3.0</td>\n      <td>55.0</td>\n      <td>5.0</td>\n      <td>339.0</td>\n      <td>1.0</td>\n    </tr>\n    <tr>\n      <th>75</th>\n      <td>2018-03-01 23:00:00</td>\n      <td>7.0</td>\n      <td>-4.0</td>\n      <td>60.0</td>\n      <td>4.1</td>\n      <td>353.0</td>\n      <td>1.0</td>\n    </tr>\n    <tr>\n      <th>76</th>\n      <td>2018-03-01 23:00:00</td>\n      <td>10.0</td>\n      <td>-2.0</td>\n      <td>55.0</td>\n      <td>1.1</td>\n      <td>360.0</td>\n      <td>1.0</td>\n    </tr>\n    <tr>\n      <th>77</th>\n      <td>2018-03-01 23:00:00</td>\n      <td>13.0</td>\n      <td>2.0</td>\n      <td>45.0</td>\n      <td>1.0</td>\n      <td>259.0</td>\n      <td>1.0</td>\n    </tr>\n    <tr>\n      <th>78</th>\n      <td>2018-03-01 23:00:00</td>\n      <td>16.0</td>\n      <td>3.0</td>\n      <td>55.0</td>\n      <td>2.6</td>\n      <td>274.0</td>\n      <td>1.0</td>\n    </tr>\n    <tr>\n      <th>79</th>\n      <td>2018-03-01 23:00:00</td>\n      <td>19.0</td>\n      <td>1.0</td>\n      <td>60.0</td>\n      <td>1.4</td>\n      <td>278.0</td>\n      <td>1.0</td>\n    </tr>\n    <tr>\n      <th>80</th>\n      <td>2018-03-01 23:00:00</td>\n      <td>22.0</td>\n      <td>-1.0</td>\n      <td>75.0</td>\n      <td>2.4</td>\n      <td>81.0</td>\n      <td>1.0</td>\n    </tr>\n    <tr>\n      <th>81</th>\n      <td>2018-03-01 23:00:00</td>\n      <td>25.0</td>\n      <td>-2.0</td>\n      <td>75.0</td>\n      <td>2.3</td>\n      <td>95.0</td>\n      <td>2.0</td>\n    </tr>\n    <tr>\n      <th>82</th>\n      <td>2018-03-01 23:00:00</td>\n      <td>28.0</td>\n      <td>-2.0</td>\n      <td>75.0</td>\n      <td>2.4</td>\n      <td>125.0</td>\n      <td>2.0</td>\n    </tr>\n    <tr>\n      <th>83</th>\n      <td>2018-03-01 23:00:00</td>\n      <td>31.0</td>\n      <td>-2.0</td>\n      <td>80.0</td>\n      <td>2.8</td>\n      <td>135.0</td>\n      <td>2.0</td>\n    </tr>\n    <tr>\n      <th>84</th>\n      <td>2018-03-01 23:00:00</td>\n      <td>34.0</td>\n      <td>2.0</td>\n      <td>70.0</td>\n      <td>3.4</td>\n      <td>126.0</td>\n      <td>2.0</td>\n    </tr>\n    <tr>\n      <th>85</th>\n      <td>2018-03-01 23:00:00</td>\n      <td>37.0</td>\n      <td>9.0</td>\n      <td>65.0</td>\n      <td>2.9</td>\n      <td>134.0</td>\n      <td>2.0</td>\n    </tr>\n    <tr>\n      <th>86</th>\n      <td>2018-03-01 23:00:00</td>\n      <td>40.0</td>\n      <td>12.0</td>\n      <td>65.0</td>\n      <td>2.0</td>\n      <td>160.0</td>\n      <td>3.0</td>\n    </tr>\n    <tr>\n      <th>87</th>\n      <td>2018-03-01 23:00:00</td>\n      <td>43.0</td>\n      <td>11.0</td>\n      <td>75.0</td>\n      <td>2.0</td>\n      <td>217.0</td>\n      <td>3.0</td>\n    </tr>\n    <tr>\n      <th>88</th>\n      <td>2018-03-01 23:00:00</td>\n      <td>46.0</td>\n      <td>9.0</td>\n      <td>80.0</td>\n      <td>2.5</td>\n      <td>169.0</td>\n      <td>3.0</td>\n    </tr>\n    <tr>\n      <th>89</th>\n      <td>2018-03-01 23:00:00</td>\n      <td>49.0</td>\n      <td>9.0</td>\n      <td>85.0</td>\n      <td>2.2</td>\n      <td>210.0</td>\n      <td>3.0</td>\n    </tr>\n  </tbody>\n</table>\n</div>"
     },
     "metadata": {},
     "execution_count": 98
    }
   ],
   "source": [
    "dangjin_fcst_data[dangjin_fcst_data['Forecast time']=='2018-03-01 23:00:00']    # 16행\n"
   ]
  },
  {
   "cell_type": "code",
   "execution_count": 99,
   "metadata": {},
   "outputs": [
    {
     "output_type": "execute_result",
     "data": {
      "text/plain": [
       "           Forecast time  forecast  Temperature  Humidity  WindSpeed  \\\n",
       "90   2018-03-02 02:00:00       4.0         -4.0      60.0        4.1   \n",
       "91   2018-03-02 02:00:00       7.0         -2.0      55.0        1.1   \n",
       "92   2018-03-02 02:00:00      10.0          2.0      45.0        1.0   \n",
       "93   2018-03-02 02:00:00      13.0          3.0      55.0        2.6   \n",
       "94   2018-03-02 02:00:00      16.0          1.0      60.0        1.4   \n",
       "95   2018-03-02 02:00:00      19.0         -1.0      75.0        2.4   \n",
       "96   2018-03-02 02:00:00      22.0         -2.0      75.0        2.3   \n",
       "97   2018-03-02 02:00:00      25.0         -2.0      75.0        2.4   \n",
       "98   2018-03-02 02:00:00      28.0         -2.0      80.0        2.8   \n",
       "99   2018-03-02 02:00:00      31.0          2.0      70.0        3.4   \n",
       "100  2018-03-02 02:00:00      34.0          9.0      65.0        2.9   \n",
       "101  2018-03-02 02:00:00      37.0         12.0      65.0        2.0   \n",
       "102  2018-03-02 02:00:00      40.0         11.0      75.0        2.0   \n",
       "103  2018-03-02 02:00:00      43.0          9.0      80.0        2.5   \n",
       "104  2018-03-02 02:00:00      46.0          9.0      85.0        2.2   \n",
       "\n",
       "     WindDirection  Cloud  \n",
       "90           353.0    1.0  \n",
       "91           360.0    1.0  \n",
       "92           259.0    1.0  \n",
       "93           274.0    1.0  \n",
       "94           278.0    1.0  \n",
       "95            81.0    1.0  \n",
       "96            95.0    2.0  \n",
       "97           125.0    2.0  \n",
       "98           135.0    2.0  \n",
       "99           126.0    2.0  \n",
       "100          134.0    2.0  \n",
       "101          160.0    3.0  \n",
       "102          217.0    3.0  \n",
       "103          169.0    3.0  \n",
       "104          210.0    3.0  "
      ],
      "text/html": "<div>\n<style scoped>\n    .dataframe tbody tr th:only-of-type {\n        vertical-align: middle;\n    }\n\n    .dataframe tbody tr th {\n        vertical-align: top;\n    }\n\n    .dataframe thead th {\n        text-align: right;\n    }\n</style>\n<table border=\"1\" class=\"dataframe\">\n  <thead>\n    <tr style=\"text-align: right;\">\n      <th></th>\n      <th>Forecast time</th>\n      <th>forecast</th>\n      <th>Temperature</th>\n      <th>Humidity</th>\n      <th>WindSpeed</th>\n      <th>WindDirection</th>\n      <th>Cloud</th>\n    </tr>\n  </thead>\n  <tbody>\n    <tr>\n      <th>90</th>\n      <td>2018-03-02 02:00:00</td>\n      <td>4.0</td>\n      <td>-4.0</td>\n      <td>60.0</td>\n      <td>4.1</td>\n      <td>353.0</td>\n      <td>1.0</td>\n    </tr>\n    <tr>\n      <th>91</th>\n      <td>2018-03-02 02:00:00</td>\n      <td>7.0</td>\n      <td>-2.0</td>\n      <td>55.0</td>\n      <td>1.1</td>\n      <td>360.0</td>\n      <td>1.0</td>\n    </tr>\n    <tr>\n      <th>92</th>\n      <td>2018-03-02 02:00:00</td>\n      <td>10.0</td>\n      <td>2.0</td>\n      <td>45.0</td>\n      <td>1.0</td>\n      <td>259.0</td>\n      <td>1.0</td>\n    </tr>\n    <tr>\n      <th>93</th>\n      <td>2018-03-02 02:00:00</td>\n      <td>13.0</td>\n      <td>3.0</td>\n      <td>55.0</td>\n      <td>2.6</td>\n      <td>274.0</td>\n      <td>1.0</td>\n    </tr>\n    <tr>\n      <th>94</th>\n      <td>2018-03-02 02:00:00</td>\n      <td>16.0</td>\n      <td>1.0</td>\n      <td>60.0</td>\n      <td>1.4</td>\n      <td>278.0</td>\n      <td>1.0</td>\n    </tr>\n    <tr>\n      <th>95</th>\n      <td>2018-03-02 02:00:00</td>\n      <td>19.0</td>\n      <td>-1.0</td>\n      <td>75.0</td>\n      <td>2.4</td>\n      <td>81.0</td>\n      <td>1.0</td>\n    </tr>\n    <tr>\n      <th>96</th>\n      <td>2018-03-02 02:00:00</td>\n      <td>22.0</td>\n      <td>-2.0</td>\n      <td>75.0</td>\n      <td>2.3</td>\n      <td>95.0</td>\n      <td>2.0</td>\n    </tr>\n    <tr>\n      <th>97</th>\n      <td>2018-03-02 02:00:00</td>\n      <td>25.0</td>\n      <td>-2.0</td>\n      <td>75.0</td>\n      <td>2.4</td>\n      <td>125.0</td>\n      <td>2.0</td>\n    </tr>\n    <tr>\n      <th>98</th>\n      <td>2018-03-02 02:00:00</td>\n      <td>28.0</td>\n      <td>-2.0</td>\n      <td>80.0</td>\n      <td>2.8</td>\n      <td>135.0</td>\n      <td>2.0</td>\n    </tr>\n    <tr>\n      <th>99</th>\n      <td>2018-03-02 02:00:00</td>\n      <td>31.0</td>\n      <td>2.0</td>\n      <td>70.0</td>\n      <td>3.4</td>\n      <td>126.0</td>\n      <td>2.0</td>\n    </tr>\n    <tr>\n      <th>100</th>\n      <td>2018-03-02 02:00:00</td>\n      <td>34.0</td>\n      <td>9.0</td>\n      <td>65.0</td>\n      <td>2.9</td>\n      <td>134.0</td>\n      <td>2.0</td>\n    </tr>\n    <tr>\n      <th>101</th>\n      <td>2018-03-02 02:00:00</td>\n      <td>37.0</td>\n      <td>12.0</td>\n      <td>65.0</td>\n      <td>2.0</td>\n      <td>160.0</td>\n      <td>3.0</td>\n    </tr>\n    <tr>\n      <th>102</th>\n      <td>2018-03-02 02:00:00</td>\n      <td>40.0</td>\n      <td>11.0</td>\n      <td>75.0</td>\n      <td>2.0</td>\n      <td>217.0</td>\n      <td>3.0</td>\n    </tr>\n    <tr>\n      <th>103</th>\n      <td>2018-03-02 02:00:00</td>\n      <td>43.0</td>\n      <td>9.0</td>\n      <td>80.0</td>\n      <td>2.5</td>\n      <td>169.0</td>\n      <td>3.0</td>\n    </tr>\n    <tr>\n      <th>104</th>\n      <td>2018-03-02 02:00:00</td>\n      <td>46.0</td>\n      <td>9.0</td>\n      <td>85.0</td>\n      <td>2.2</td>\n      <td>210.0</td>\n      <td>3.0</td>\n    </tr>\n  </tbody>\n</table>\n</div>"
     },
     "metadata": {},
     "execution_count": 99
    }
   ],
   "source": [
    "dangjin_fcst_data[dangjin_fcst_data['Forecast time']=='2018-03-02 02:00:00']    # 15행\n"
   ]
  },
  {
   "cell_type": "code",
   "execution_count": 100,
   "metadata": {},
   "outputs": [
    {
     "output_type": "execute_result",
     "data": {
      "text/plain": [
       "           Forecast time  forecast  Temperature  Humidity  WindSpeed  \\\n",
       "105  2018-03-02 05:00:00       4.0         -2.0      55.0        0.4   \n",
       "106  2018-03-02 05:00:00       7.0          2.0      45.0        1.6   \n",
       "107  2018-03-02 05:00:00      10.0          3.0      55.0        2.1   \n",
       "108  2018-03-02 05:00:00      13.0          1.0      60.0        1.5   \n",
       "109  2018-03-02 05:00:00      16.0         -1.0      70.0        3.3   \n",
       "110  2018-03-02 05:00:00      19.0         -2.0      80.0        2.4   \n",
       "111  2018-03-02 05:00:00      22.0         -2.0      75.0        2.9   \n",
       "112  2018-03-02 05:00:00      25.0         -2.0      75.0        3.1   \n",
       "113  2018-03-02 05:00:00      28.0          2.0      65.0        2.6   \n",
       "114  2018-03-02 05:00:00      31.0          9.0      65.0        2.4   \n",
       "115  2018-03-02 05:00:00      34.0         13.0      65.0        2.4   \n",
       "116  2018-03-02 05:00:00      37.0         11.0      80.0        1.2   \n",
       "117  2018-03-02 05:00:00      40.0         10.0      85.0        2.5   \n",
       "118  2018-03-02 05:00:00      43.0          9.0      85.0        3.0   \n",
       "119  2018-03-02 05:00:00      46.0          9.0      90.0        2.6   \n",
       "120  2018-03-02 05:00:00      49.0          8.0      90.0        2.4   \n",
       "121  2018-03-02 05:00:00      52.0          9.0      95.0        3.1   \n",
       "122  2018-03-02 05:00:00      55.0         12.0      90.0        3.4   \n",
       "123  2018-03-02 05:00:00      58.0         15.0      85.0        3.8   \n",
       "124  2018-03-02 05:00:00      61.0         13.0      90.0        4.3   \n",
       "125  2018-03-02 05:00:00      64.0         12.0      95.0        3.7   \n",
       "126  2018-03-02 05:00:00      67.0         11.0      95.0        4.0   \n",
       "\n",
       "     WindDirection  Cloud  \n",
       "105           63.0    1.0  \n",
       "106          255.0    1.0  \n",
       "107          270.0    1.0  \n",
       "108          352.0    1.0  \n",
       "109           78.0    1.0  \n",
       "110           90.0    2.0  \n",
       "111          125.0    2.0  \n",
       "112          147.0    2.0  \n",
       "113          144.0    2.0  \n",
       "114          125.0    2.0  \n",
       "115          216.0    3.0  \n",
       "116          189.0    3.0  \n",
       "117          168.0    3.0  \n",
       "118          200.0    3.0  \n",
       "119          216.0    4.0  \n",
       "120          208.0    4.0  \n",
       "121           15.0    4.0  \n",
       "122           73.0    4.0  \n",
       "123           83.0    4.0  \n",
       "124           79.0    4.0  \n",
       "125           64.0    4.0  \n",
       "126           27.0    4.0  "
      ],
      "text/html": "<div>\n<style scoped>\n    .dataframe tbody tr th:only-of-type {\n        vertical-align: middle;\n    }\n\n    .dataframe tbody tr th {\n        vertical-align: top;\n    }\n\n    .dataframe thead th {\n        text-align: right;\n    }\n</style>\n<table border=\"1\" class=\"dataframe\">\n  <thead>\n    <tr style=\"text-align: right;\">\n      <th></th>\n      <th>Forecast time</th>\n      <th>forecast</th>\n      <th>Temperature</th>\n      <th>Humidity</th>\n      <th>WindSpeed</th>\n      <th>WindDirection</th>\n      <th>Cloud</th>\n    </tr>\n  </thead>\n  <tbody>\n    <tr>\n      <th>105</th>\n      <td>2018-03-02 05:00:00</td>\n      <td>4.0</td>\n      <td>-2.0</td>\n      <td>55.0</td>\n      <td>0.4</td>\n      <td>63.0</td>\n      <td>1.0</td>\n    </tr>\n    <tr>\n      <th>106</th>\n      <td>2018-03-02 05:00:00</td>\n      <td>7.0</td>\n      <td>2.0</td>\n      <td>45.0</td>\n      <td>1.6</td>\n      <td>255.0</td>\n      <td>1.0</td>\n    </tr>\n    <tr>\n      <th>107</th>\n      <td>2018-03-02 05:00:00</td>\n      <td>10.0</td>\n      <td>3.0</td>\n      <td>55.0</td>\n      <td>2.1</td>\n      <td>270.0</td>\n      <td>1.0</td>\n    </tr>\n    <tr>\n      <th>108</th>\n      <td>2018-03-02 05:00:00</td>\n      <td>13.0</td>\n      <td>1.0</td>\n      <td>60.0</td>\n      <td>1.5</td>\n      <td>352.0</td>\n      <td>1.0</td>\n    </tr>\n    <tr>\n      <th>109</th>\n      <td>2018-03-02 05:00:00</td>\n      <td>16.0</td>\n      <td>-1.0</td>\n      <td>70.0</td>\n      <td>3.3</td>\n      <td>78.0</td>\n      <td>1.0</td>\n    </tr>\n    <tr>\n      <th>110</th>\n      <td>2018-03-02 05:00:00</td>\n      <td>19.0</td>\n      <td>-2.0</td>\n      <td>80.0</td>\n      <td>2.4</td>\n      <td>90.0</td>\n      <td>2.0</td>\n    </tr>\n    <tr>\n      <th>111</th>\n      <td>2018-03-02 05:00:00</td>\n      <td>22.0</td>\n      <td>-2.0</td>\n      <td>75.0</td>\n      <td>2.9</td>\n      <td>125.0</td>\n      <td>2.0</td>\n    </tr>\n    <tr>\n      <th>112</th>\n      <td>2018-03-02 05:00:00</td>\n      <td>25.0</td>\n      <td>-2.0</td>\n      <td>75.0</td>\n      <td>3.1</td>\n      <td>147.0</td>\n      <td>2.0</td>\n    </tr>\n    <tr>\n      <th>113</th>\n      <td>2018-03-02 05:00:00</td>\n      <td>28.0</td>\n      <td>2.0</td>\n      <td>65.0</td>\n      <td>2.6</td>\n      <td>144.0</td>\n      <td>2.0</td>\n    </tr>\n    <tr>\n      <th>114</th>\n      <td>2018-03-02 05:00:00</td>\n      <td>31.0</td>\n      <td>9.0</td>\n      <td>65.0</td>\n      <td>2.4</td>\n      <td>125.0</td>\n      <td>2.0</td>\n    </tr>\n    <tr>\n      <th>115</th>\n      <td>2018-03-02 05:00:00</td>\n      <td>34.0</td>\n      <td>13.0</td>\n      <td>65.0</td>\n      <td>2.4</td>\n      <td>216.0</td>\n      <td>3.0</td>\n    </tr>\n    <tr>\n      <th>116</th>\n      <td>2018-03-02 05:00:00</td>\n      <td>37.0</td>\n      <td>11.0</td>\n      <td>80.0</td>\n      <td>1.2</td>\n      <td>189.0</td>\n      <td>3.0</td>\n    </tr>\n    <tr>\n      <th>117</th>\n      <td>2018-03-02 05:00:00</td>\n      <td>40.0</td>\n      <td>10.0</td>\n      <td>85.0</td>\n      <td>2.5</td>\n      <td>168.0</td>\n      <td>3.0</td>\n    </tr>\n    <tr>\n      <th>118</th>\n      <td>2018-03-02 05:00:00</td>\n      <td>43.0</td>\n      <td>9.0</td>\n      <td>85.0</td>\n      <td>3.0</td>\n      <td>200.0</td>\n      <td>3.0</td>\n    </tr>\n    <tr>\n      <th>119</th>\n      <td>2018-03-02 05:00:00</td>\n      <td>46.0</td>\n      <td>9.0</td>\n      <td>90.0</td>\n      <td>2.6</td>\n      <td>216.0</td>\n      <td>4.0</td>\n    </tr>\n    <tr>\n      <th>120</th>\n      <td>2018-03-02 05:00:00</td>\n      <td>49.0</td>\n      <td>8.0</td>\n      <td>90.0</td>\n      <td>2.4</td>\n      <td>208.0</td>\n      <td>4.0</td>\n    </tr>\n    <tr>\n      <th>121</th>\n      <td>2018-03-02 05:00:00</td>\n      <td>52.0</td>\n      <td>9.0</td>\n      <td>95.0</td>\n      <td>3.1</td>\n      <td>15.0</td>\n      <td>4.0</td>\n    </tr>\n    <tr>\n      <th>122</th>\n      <td>2018-03-02 05:00:00</td>\n      <td>55.0</td>\n      <td>12.0</td>\n      <td>90.0</td>\n      <td>3.4</td>\n      <td>73.0</td>\n      <td>4.0</td>\n    </tr>\n    <tr>\n      <th>123</th>\n      <td>2018-03-02 05:00:00</td>\n      <td>58.0</td>\n      <td>15.0</td>\n      <td>85.0</td>\n      <td>3.8</td>\n      <td>83.0</td>\n      <td>4.0</td>\n    </tr>\n    <tr>\n      <th>124</th>\n      <td>2018-03-02 05:00:00</td>\n      <td>61.0</td>\n      <td>13.0</td>\n      <td>90.0</td>\n      <td>4.3</td>\n      <td>79.0</td>\n      <td>4.0</td>\n    </tr>\n    <tr>\n      <th>125</th>\n      <td>2018-03-02 05:00:00</td>\n      <td>64.0</td>\n      <td>12.0</td>\n      <td>95.0</td>\n      <td>3.7</td>\n      <td>64.0</td>\n      <td>4.0</td>\n    </tr>\n    <tr>\n      <th>126</th>\n      <td>2018-03-02 05:00:00</td>\n      <td>67.0</td>\n      <td>11.0</td>\n      <td>95.0</td>\n      <td>4.0</td>\n      <td>27.0</td>\n      <td>4.0</td>\n    </tr>\n  </tbody>\n</table>\n</div>"
     },
     "metadata": {},
     "execution_count": 100
    }
   ],
   "source": [
    "dangjin_fcst_data[dangjin_fcst_data['Forecast time']=='2018-03-02 05:00:00']    # 22행\n"
   ]
  },
  {
   "cell_type": "code",
   "execution_count": 101,
   "metadata": {},
   "outputs": [
    {
     "output_type": "execute_result",
     "data": {
      "text/plain": [
       "           Forecast time  forecast  Temperature  Humidity  WindSpeed  \\\n",
       "127  2018-03-02 08:00:00       4.0          2.0      45.0        1.6   \n",
       "128  2018-03-02 08:00:00       7.0          3.0      55.0        2.1   \n",
       "129  2018-03-02 08:00:00      10.0          1.0      60.0        1.5   \n",
       "130  2018-03-02 08:00:00      13.0         -1.0      70.0        3.3   \n",
       "131  2018-03-02 08:00:00      16.0         -2.0      80.0        2.4   \n",
       "132  2018-03-02 08:00:00      19.0         -2.0      75.0        2.9   \n",
       "133  2018-03-02 08:00:00      22.0         -2.0      75.0        3.1   \n",
       "134  2018-03-02 08:00:00      25.0          2.0      65.0        2.6   \n",
       "135  2018-03-02 08:00:00      28.0          9.0      65.0        2.4   \n",
       "136  2018-03-02 08:00:00      31.0         13.0      65.0        2.4   \n",
       "137  2018-03-02 08:00:00      34.0         11.0      80.0        1.2   \n",
       "138  2018-03-02 08:00:00      37.0         10.0      85.0        2.5   \n",
       "139  2018-03-02 08:00:00      40.0          9.0      85.0        3.0   \n",
       "140  2018-03-02 08:00:00      43.0          9.0      90.0        2.6   \n",
       "141  2018-03-02 08:00:00      46.0          8.0      90.0        2.4   \n",
       "142  2018-03-02 08:00:00      49.0          9.0      95.0        3.1   \n",
       "143  2018-03-02 08:00:00      52.0         12.0      90.0        3.4   \n",
       "144  2018-03-02 08:00:00      55.0         15.0      85.0        3.8   \n",
       "145  2018-03-02 08:00:00      58.0         13.0      90.0        4.3   \n",
       "146  2018-03-02 08:00:00      61.0         12.0      95.0        3.7   \n",
       "147  2018-03-02 08:00:00      64.0         11.0      95.0        4.0   \n",
       "\n",
       "     WindDirection  Cloud  \n",
       "127          255.0    1.0  \n",
       "128          270.0    1.0  \n",
       "129          352.0    1.0  \n",
       "130           78.0    1.0  \n",
       "131           90.0    2.0  \n",
       "132          125.0    2.0  \n",
       "133          147.0    2.0  \n",
       "134          144.0    2.0  \n",
       "135          125.0    2.0  \n",
       "136          216.0    3.0  \n",
       "137          189.0    3.0  \n",
       "138          168.0    3.0  \n",
       "139          200.0    3.0  \n",
       "140          216.0    4.0  \n",
       "141          208.0    4.0  \n",
       "142           15.0    4.0  \n",
       "143           73.0    4.0  \n",
       "144           83.0    4.0  \n",
       "145           79.0    4.0  \n",
       "146           64.0    4.0  \n",
       "147           27.0    4.0  "
      ],
      "text/html": "<div>\n<style scoped>\n    .dataframe tbody tr th:only-of-type {\n        vertical-align: middle;\n    }\n\n    .dataframe tbody tr th {\n        vertical-align: top;\n    }\n\n    .dataframe thead th {\n        text-align: right;\n    }\n</style>\n<table border=\"1\" class=\"dataframe\">\n  <thead>\n    <tr style=\"text-align: right;\">\n      <th></th>\n      <th>Forecast time</th>\n      <th>forecast</th>\n      <th>Temperature</th>\n      <th>Humidity</th>\n      <th>WindSpeed</th>\n      <th>WindDirection</th>\n      <th>Cloud</th>\n    </tr>\n  </thead>\n  <tbody>\n    <tr>\n      <th>127</th>\n      <td>2018-03-02 08:00:00</td>\n      <td>4.0</td>\n      <td>2.0</td>\n      <td>45.0</td>\n      <td>1.6</td>\n      <td>255.0</td>\n      <td>1.0</td>\n    </tr>\n    <tr>\n      <th>128</th>\n      <td>2018-03-02 08:00:00</td>\n      <td>7.0</td>\n      <td>3.0</td>\n      <td>55.0</td>\n      <td>2.1</td>\n      <td>270.0</td>\n      <td>1.0</td>\n    </tr>\n    <tr>\n      <th>129</th>\n      <td>2018-03-02 08:00:00</td>\n      <td>10.0</td>\n      <td>1.0</td>\n      <td>60.0</td>\n      <td>1.5</td>\n      <td>352.0</td>\n      <td>1.0</td>\n    </tr>\n    <tr>\n      <th>130</th>\n      <td>2018-03-02 08:00:00</td>\n      <td>13.0</td>\n      <td>-1.0</td>\n      <td>70.0</td>\n      <td>3.3</td>\n      <td>78.0</td>\n      <td>1.0</td>\n    </tr>\n    <tr>\n      <th>131</th>\n      <td>2018-03-02 08:00:00</td>\n      <td>16.0</td>\n      <td>-2.0</td>\n      <td>80.0</td>\n      <td>2.4</td>\n      <td>90.0</td>\n      <td>2.0</td>\n    </tr>\n    <tr>\n      <th>132</th>\n      <td>2018-03-02 08:00:00</td>\n      <td>19.0</td>\n      <td>-2.0</td>\n      <td>75.0</td>\n      <td>2.9</td>\n      <td>125.0</td>\n      <td>2.0</td>\n    </tr>\n    <tr>\n      <th>133</th>\n      <td>2018-03-02 08:00:00</td>\n      <td>22.0</td>\n      <td>-2.0</td>\n      <td>75.0</td>\n      <td>3.1</td>\n      <td>147.0</td>\n      <td>2.0</td>\n    </tr>\n    <tr>\n      <th>134</th>\n      <td>2018-03-02 08:00:00</td>\n      <td>25.0</td>\n      <td>2.0</td>\n      <td>65.0</td>\n      <td>2.6</td>\n      <td>144.0</td>\n      <td>2.0</td>\n    </tr>\n    <tr>\n      <th>135</th>\n      <td>2018-03-02 08:00:00</td>\n      <td>28.0</td>\n      <td>9.0</td>\n      <td>65.0</td>\n      <td>2.4</td>\n      <td>125.0</td>\n      <td>2.0</td>\n    </tr>\n    <tr>\n      <th>136</th>\n      <td>2018-03-02 08:00:00</td>\n      <td>31.0</td>\n      <td>13.0</td>\n      <td>65.0</td>\n      <td>2.4</td>\n      <td>216.0</td>\n      <td>3.0</td>\n    </tr>\n    <tr>\n      <th>137</th>\n      <td>2018-03-02 08:00:00</td>\n      <td>34.0</td>\n      <td>11.0</td>\n      <td>80.0</td>\n      <td>1.2</td>\n      <td>189.0</td>\n      <td>3.0</td>\n    </tr>\n    <tr>\n      <th>138</th>\n      <td>2018-03-02 08:00:00</td>\n      <td>37.0</td>\n      <td>10.0</td>\n      <td>85.0</td>\n      <td>2.5</td>\n      <td>168.0</td>\n      <td>3.0</td>\n    </tr>\n    <tr>\n      <th>139</th>\n      <td>2018-03-02 08:00:00</td>\n      <td>40.0</td>\n      <td>9.0</td>\n      <td>85.0</td>\n      <td>3.0</td>\n      <td>200.0</td>\n      <td>3.0</td>\n    </tr>\n    <tr>\n      <th>140</th>\n      <td>2018-03-02 08:00:00</td>\n      <td>43.0</td>\n      <td>9.0</td>\n      <td>90.0</td>\n      <td>2.6</td>\n      <td>216.0</td>\n      <td>4.0</td>\n    </tr>\n    <tr>\n      <th>141</th>\n      <td>2018-03-02 08:00:00</td>\n      <td>46.0</td>\n      <td>8.0</td>\n      <td>90.0</td>\n      <td>2.4</td>\n      <td>208.0</td>\n      <td>4.0</td>\n    </tr>\n    <tr>\n      <th>142</th>\n      <td>2018-03-02 08:00:00</td>\n      <td>49.0</td>\n      <td>9.0</td>\n      <td>95.0</td>\n      <td>3.1</td>\n      <td>15.0</td>\n      <td>4.0</td>\n    </tr>\n    <tr>\n      <th>143</th>\n      <td>2018-03-02 08:00:00</td>\n      <td>52.0</td>\n      <td>12.0</td>\n      <td>90.0</td>\n      <td>3.4</td>\n      <td>73.0</td>\n      <td>4.0</td>\n    </tr>\n    <tr>\n      <th>144</th>\n      <td>2018-03-02 08:00:00</td>\n      <td>55.0</td>\n      <td>15.0</td>\n      <td>85.0</td>\n      <td>3.8</td>\n      <td>83.0</td>\n      <td>4.0</td>\n    </tr>\n    <tr>\n      <th>145</th>\n      <td>2018-03-02 08:00:00</td>\n      <td>58.0</td>\n      <td>13.0</td>\n      <td>90.0</td>\n      <td>4.3</td>\n      <td>79.0</td>\n      <td>4.0</td>\n    </tr>\n    <tr>\n      <th>146</th>\n      <td>2018-03-02 08:00:00</td>\n      <td>61.0</td>\n      <td>12.0</td>\n      <td>95.0</td>\n      <td>3.7</td>\n      <td>64.0</td>\n      <td>4.0</td>\n    </tr>\n    <tr>\n      <th>147</th>\n      <td>2018-03-02 08:00:00</td>\n      <td>64.0</td>\n      <td>11.0</td>\n      <td>95.0</td>\n      <td>4.0</td>\n      <td>27.0</td>\n      <td>4.0</td>\n    </tr>\n  </tbody>\n</table>\n</div>"
     },
     "metadata": {},
     "execution_count": 101
    }
   ],
   "source": [
    "dangjin_fcst_data[dangjin_fcst_data['Forecast time']=='2018-03-02 08:00:00']    # 21행\n"
   ]
  },
  {
   "source": [
    "# dangjin_obs_data.csv - 당진지역 발전소 인근 기상 관측 자료\n",
    "- 지점 : 지점 코드\n",
    "- 지점명 : 관측소 지점\n",
    "- 일시 : 관측 시간\n",
    "- 기온(°C) : 기온(°C)\n",
    "- 풍속(m/s) : 풍속(m/s)\n",
    "- 풍향(16방위) : 풍향(º)\n",
    "- 습도(%) : 습도(%)\n",
    "- 전운량(10분위) : 전운량(낮을 수록 구름이 적음)\n",
    "### dangjin_fcst_data.csv 칼럼과 순서만 다르고 칼럼명 동일함\n",
    "* 서산 지역의 날씨 : 1067일 + 18시간"
   ],
   "cell_type": "markdown",
   "metadata": {}
  },
  {
   "cell_type": "code",
   "execution_count": 102,
   "metadata": {},
   "outputs": [
    {
     "output_type": "execute_result",
     "data": {
      "text/plain": [
       "        지점 지점명                일시  기온(°C)  풍속(m/s)  풍향(16방위)  습도(%)  전운량(10분위)\n",
       "0      129  서산  2018-03-01 00:00     3.1      3.6     340.0   96.0        NaN\n",
       "1      129  서산  2018-03-01 01:00     2.8      0.7     140.0   97.0        NaN\n",
       "2      129  서산  2018-03-01 02:00     2.6      3.2     320.0   95.0        NaN\n",
       "3      129  서산  2018-03-01 03:00     2.0      1.9     230.0   97.0        NaN\n",
       "4      129  서산  2018-03-01 04:00     2.2      2.1     180.0   97.0        NaN\n",
       "...    ...  ..               ...     ...      ...       ...    ...        ...\n",
       "25621  129  서산  2021-01-31 19:00     6.7      1.5     200.0   75.0        8.0\n",
       "25622  129  서산  2021-01-31 20:00     6.2      0.8     200.0   77.0        8.0\n",
       "25623  129  서산  2021-01-31 21:00     5.3      0.7     230.0   82.0        8.0\n",
       "25624  129  서산  2021-01-31 22:00     5.8      1.0     200.0   77.0        8.0\n",
       "25625  129  서산  2021-01-31 23:00     5.3      0.6     230.0   80.0        7.0\n",
       "\n",
       "[25626 rows x 8 columns]"
      ],
      "text/html": "<div>\n<style scoped>\n    .dataframe tbody tr th:only-of-type {\n        vertical-align: middle;\n    }\n\n    .dataframe tbody tr th {\n        vertical-align: top;\n    }\n\n    .dataframe thead th {\n        text-align: right;\n    }\n</style>\n<table border=\"1\" class=\"dataframe\">\n  <thead>\n    <tr style=\"text-align: right;\">\n      <th></th>\n      <th>지점</th>\n      <th>지점명</th>\n      <th>일시</th>\n      <th>기온(°C)</th>\n      <th>풍속(m/s)</th>\n      <th>풍향(16방위)</th>\n      <th>습도(%)</th>\n      <th>전운량(10분위)</th>\n    </tr>\n  </thead>\n  <tbody>\n    <tr>\n      <th>0</th>\n      <td>129</td>\n      <td>서산</td>\n      <td>2018-03-01 00:00</td>\n      <td>3.1</td>\n      <td>3.6</td>\n      <td>340.0</td>\n      <td>96.0</td>\n      <td>NaN</td>\n    </tr>\n    <tr>\n      <th>1</th>\n      <td>129</td>\n      <td>서산</td>\n      <td>2018-03-01 01:00</td>\n      <td>2.8</td>\n      <td>0.7</td>\n      <td>140.0</td>\n      <td>97.0</td>\n      <td>NaN</td>\n    </tr>\n    <tr>\n      <th>2</th>\n      <td>129</td>\n      <td>서산</td>\n      <td>2018-03-01 02:00</td>\n      <td>2.6</td>\n      <td>3.2</td>\n      <td>320.0</td>\n      <td>95.0</td>\n      <td>NaN</td>\n    </tr>\n    <tr>\n      <th>3</th>\n      <td>129</td>\n      <td>서산</td>\n      <td>2018-03-01 03:00</td>\n      <td>2.0</td>\n      <td>1.9</td>\n      <td>230.0</td>\n      <td>97.0</td>\n      <td>NaN</td>\n    </tr>\n    <tr>\n      <th>4</th>\n      <td>129</td>\n      <td>서산</td>\n      <td>2018-03-01 04:00</td>\n      <td>2.2</td>\n      <td>2.1</td>\n      <td>180.0</td>\n      <td>97.0</td>\n      <td>NaN</td>\n    </tr>\n    <tr>\n      <th>...</th>\n      <td>...</td>\n      <td>...</td>\n      <td>...</td>\n      <td>...</td>\n      <td>...</td>\n      <td>...</td>\n      <td>...</td>\n      <td>...</td>\n    </tr>\n    <tr>\n      <th>25621</th>\n      <td>129</td>\n      <td>서산</td>\n      <td>2021-01-31 19:00</td>\n      <td>6.7</td>\n      <td>1.5</td>\n      <td>200.0</td>\n      <td>75.0</td>\n      <td>8.0</td>\n    </tr>\n    <tr>\n      <th>25622</th>\n      <td>129</td>\n      <td>서산</td>\n      <td>2021-01-31 20:00</td>\n      <td>6.2</td>\n      <td>0.8</td>\n      <td>200.0</td>\n      <td>77.0</td>\n      <td>8.0</td>\n    </tr>\n    <tr>\n      <th>25623</th>\n      <td>129</td>\n      <td>서산</td>\n      <td>2021-01-31 21:00</td>\n      <td>5.3</td>\n      <td>0.7</td>\n      <td>230.0</td>\n      <td>82.0</td>\n      <td>8.0</td>\n    </tr>\n    <tr>\n      <th>25624</th>\n      <td>129</td>\n      <td>서산</td>\n      <td>2021-01-31 22:00</td>\n      <td>5.8</td>\n      <td>1.0</td>\n      <td>200.0</td>\n      <td>77.0</td>\n      <td>8.0</td>\n    </tr>\n    <tr>\n      <th>25625</th>\n      <td>129</td>\n      <td>서산</td>\n      <td>2021-01-31 23:00</td>\n      <td>5.3</td>\n      <td>0.6</td>\n      <td>230.0</td>\n      <td>80.0</td>\n      <td>7.0</td>\n    </tr>\n  </tbody>\n</table>\n<p>25626 rows × 8 columns</p>\n</div>"
     },
     "metadata": {},
     "execution_count": 102
    }
   ],
   "source": [
    "dangjin_obs_data"
   ]
  },
  {
   "cell_type": "code",
   "execution_count": 103,
   "metadata": {},
   "outputs": [
    {
     "output_type": "execute_result",
     "data": {
      "text/plain": [
       "서산    25626\n",
       "Name: 지점명, dtype: int64"
      ]
     },
     "metadata": {},
     "execution_count": 103
    }
   ],
   "source": [
    "dangjin_obs_data[\"지점명\"].value_counts()"
   ]
  },
  {
   "cell_type": "code",
   "execution_count": 104,
   "metadata": {},
   "outputs": [
    {
     "output_type": "execute_result",
     "data": {
      "text/plain": [
       "1067.75"
      ]
     },
     "metadata": {},
     "execution_count": 104
    }
   ],
   "source": [
    "len(dangjin_obs_data)/24"
   ]
  },
  {
   "cell_type": "code",
   "execution_count": 105,
   "metadata": {},
   "outputs": [
    {
     "output_type": "execute_result",
     "data": {
      "text/plain": [
       "18"
      ]
     },
     "metadata": {},
     "execution_count": 105
    }
   ],
   "source": [
    "25626 - 1067 * 24"
   ]
  },
  {
   "cell_type": "code",
   "execution_count": 106,
   "metadata": {},
   "outputs": [
    {
     "output_type": "execute_result",
     "data": {
      "text/plain": [
       "     지점 지점명                일시  기온(°C)  풍속(m/s)  풍향(16방위)  습도(%)  전운량(10분위)\n",
       "0   129  서산  2018-03-01 00:00     3.1      3.6     340.0   96.0        NaN\n",
       "1   129  서산  2018-03-01 01:00     2.8      0.7     140.0   97.0        NaN\n",
       "2   129  서산  2018-03-01 02:00     2.6      3.2     320.0   95.0        NaN\n",
       "3   129  서산  2018-03-01 03:00     2.0      1.9     230.0   97.0        NaN\n",
       "4   129  서산  2018-03-01 04:00     2.2      2.1     180.0   97.0        NaN\n",
       "5   129  서산  2018-03-01 05:00     4.1      4.4     270.0   97.0        NaN\n",
       "6   129  서산  2018-03-01 06:00     3.5      7.9     320.0   93.0        NaN\n",
       "7   129  서산  2018-03-01 07:00     2.2      6.4     290.0   86.0        NaN\n",
       "8   129  서산  2018-03-01 08:00     1.0      7.7     320.0   82.0        NaN\n",
       "9   129  서산  2018-03-01 09:00     0.3      8.9     320.0   71.0        NaN\n",
       "10  129  서산  2018-03-01 10:00     0.6      7.9     320.0   63.0        NaN\n",
       "11  129  서산  2018-03-01 11:00     0.5      9.1     320.0   58.0        NaN\n",
       "12  129  서산  2018-03-01 12:00     0.7      6.7     320.0   60.0        NaN\n",
       "13  129  서산  2018-03-01 13:00     1.5      6.5     320.0   60.0        NaN\n",
       "14  129  서산  2018-03-01 14:00     0.1      5.1     340.0   56.0        NaN\n",
       "15  129  서산  2018-03-01 15:00     0.4      5.0     320.0   56.0        NaN\n",
       "16  129  서산  2018-03-01 16:00     0.3      6.0     290.0   56.0        NaN\n",
       "17  129  서산  2018-03-01 17:00    -0.5      4.6     320.0   59.0        NaN\n",
       "18  129  서산  2018-03-01 18:00    -1.3      5.4     290.0   62.0        NaN\n",
       "19  129  서산  2018-03-01 19:00    -1.7      4.4     320.0   63.0        NaN\n",
       "20  129  서산  2018-03-01 20:00    -1.8      4.3     320.0   63.0        NaN\n",
       "21  129  서산  2018-03-01 21:00    -1.8      4.7     320.0   61.0        NaN\n",
       "22  129  서산  2018-03-01 22:00    -1.9      3.3     320.0   60.0        NaN\n",
       "23  129  서산  2018-03-01 23:00    -2.3      3.7     340.0   55.0        NaN"
      ],
      "text/html": "<div>\n<style scoped>\n    .dataframe tbody tr th:only-of-type {\n        vertical-align: middle;\n    }\n\n    .dataframe tbody tr th {\n        vertical-align: top;\n    }\n\n    .dataframe thead th {\n        text-align: right;\n    }\n</style>\n<table border=\"1\" class=\"dataframe\">\n  <thead>\n    <tr style=\"text-align: right;\">\n      <th></th>\n      <th>지점</th>\n      <th>지점명</th>\n      <th>일시</th>\n      <th>기온(°C)</th>\n      <th>풍속(m/s)</th>\n      <th>풍향(16방위)</th>\n      <th>습도(%)</th>\n      <th>전운량(10분위)</th>\n    </tr>\n  </thead>\n  <tbody>\n    <tr>\n      <th>0</th>\n      <td>129</td>\n      <td>서산</td>\n      <td>2018-03-01 00:00</td>\n      <td>3.1</td>\n      <td>3.6</td>\n      <td>340.0</td>\n      <td>96.0</td>\n      <td>NaN</td>\n    </tr>\n    <tr>\n      <th>1</th>\n      <td>129</td>\n      <td>서산</td>\n      <td>2018-03-01 01:00</td>\n      <td>2.8</td>\n      <td>0.7</td>\n      <td>140.0</td>\n      <td>97.0</td>\n      <td>NaN</td>\n    </tr>\n    <tr>\n      <th>2</th>\n      <td>129</td>\n      <td>서산</td>\n      <td>2018-03-01 02:00</td>\n      <td>2.6</td>\n      <td>3.2</td>\n      <td>320.0</td>\n      <td>95.0</td>\n      <td>NaN</td>\n    </tr>\n    <tr>\n      <th>3</th>\n      <td>129</td>\n      <td>서산</td>\n      <td>2018-03-01 03:00</td>\n      <td>2.0</td>\n      <td>1.9</td>\n      <td>230.0</td>\n      <td>97.0</td>\n      <td>NaN</td>\n    </tr>\n    <tr>\n      <th>4</th>\n      <td>129</td>\n      <td>서산</td>\n      <td>2018-03-01 04:00</td>\n      <td>2.2</td>\n      <td>2.1</td>\n      <td>180.0</td>\n      <td>97.0</td>\n      <td>NaN</td>\n    </tr>\n    <tr>\n      <th>5</th>\n      <td>129</td>\n      <td>서산</td>\n      <td>2018-03-01 05:00</td>\n      <td>4.1</td>\n      <td>4.4</td>\n      <td>270.0</td>\n      <td>97.0</td>\n      <td>NaN</td>\n    </tr>\n    <tr>\n      <th>6</th>\n      <td>129</td>\n      <td>서산</td>\n      <td>2018-03-01 06:00</td>\n      <td>3.5</td>\n      <td>7.9</td>\n      <td>320.0</td>\n      <td>93.0</td>\n      <td>NaN</td>\n    </tr>\n    <tr>\n      <th>7</th>\n      <td>129</td>\n      <td>서산</td>\n      <td>2018-03-01 07:00</td>\n      <td>2.2</td>\n      <td>6.4</td>\n      <td>290.0</td>\n      <td>86.0</td>\n      <td>NaN</td>\n    </tr>\n    <tr>\n      <th>8</th>\n      <td>129</td>\n      <td>서산</td>\n      <td>2018-03-01 08:00</td>\n      <td>1.0</td>\n      <td>7.7</td>\n      <td>320.0</td>\n      <td>82.0</td>\n      <td>NaN</td>\n    </tr>\n    <tr>\n      <th>9</th>\n      <td>129</td>\n      <td>서산</td>\n      <td>2018-03-01 09:00</td>\n      <td>0.3</td>\n      <td>8.9</td>\n      <td>320.0</td>\n      <td>71.0</td>\n      <td>NaN</td>\n    </tr>\n    <tr>\n      <th>10</th>\n      <td>129</td>\n      <td>서산</td>\n      <td>2018-03-01 10:00</td>\n      <td>0.6</td>\n      <td>7.9</td>\n      <td>320.0</td>\n      <td>63.0</td>\n      <td>NaN</td>\n    </tr>\n    <tr>\n      <th>11</th>\n      <td>129</td>\n      <td>서산</td>\n      <td>2018-03-01 11:00</td>\n      <td>0.5</td>\n      <td>9.1</td>\n      <td>320.0</td>\n      <td>58.0</td>\n      <td>NaN</td>\n    </tr>\n    <tr>\n      <th>12</th>\n      <td>129</td>\n      <td>서산</td>\n      <td>2018-03-01 12:00</td>\n      <td>0.7</td>\n      <td>6.7</td>\n      <td>320.0</td>\n      <td>60.0</td>\n      <td>NaN</td>\n    </tr>\n    <tr>\n      <th>13</th>\n      <td>129</td>\n      <td>서산</td>\n      <td>2018-03-01 13:00</td>\n      <td>1.5</td>\n      <td>6.5</td>\n      <td>320.0</td>\n      <td>60.0</td>\n      <td>NaN</td>\n    </tr>\n    <tr>\n      <th>14</th>\n      <td>129</td>\n      <td>서산</td>\n      <td>2018-03-01 14:00</td>\n      <td>0.1</td>\n      <td>5.1</td>\n      <td>340.0</td>\n      <td>56.0</td>\n      <td>NaN</td>\n    </tr>\n    <tr>\n      <th>15</th>\n      <td>129</td>\n      <td>서산</td>\n      <td>2018-03-01 15:00</td>\n      <td>0.4</td>\n      <td>5.0</td>\n      <td>320.0</td>\n      <td>56.0</td>\n      <td>NaN</td>\n    </tr>\n    <tr>\n      <th>16</th>\n      <td>129</td>\n      <td>서산</td>\n      <td>2018-03-01 16:00</td>\n      <td>0.3</td>\n      <td>6.0</td>\n      <td>290.0</td>\n      <td>56.0</td>\n      <td>NaN</td>\n    </tr>\n    <tr>\n      <th>17</th>\n      <td>129</td>\n      <td>서산</td>\n      <td>2018-03-01 17:00</td>\n      <td>-0.5</td>\n      <td>4.6</td>\n      <td>320.0</td>\n      <td>59.0</td>\n      <td>NaN</td>\n    </tr>\n    <tr>\n      <th>18</th>\n      <td>129</td>\n      <td>서산</td>\n      <td>2018-03-01 18:00</td>\n      <td>-1.3</td>\n      <td>5.4</td>\n      <td>290.0</td>\n      <td>62.0</td>\n      <td>NaN</td>\n    </tr>\n    <tr>\n      <th>19</th>\n      <td>129</td>\n      <td>서산</td>\n      <td>2018-03-01 19:00</td>\n      <td>-1.7</td>\n      <td>4.4</td>\n      <td>320.0</td>\n      <td>63.0</td>\n      <td>NaN</td>\n    </tr>\n    <tr>\n      <th>20</th>\n      <td>129</td>\n      <td>서산</td>\n      <td>2018-03-01 20:00</td>\n      <td>-1.8</td>\n      <td>4.3</td>\n      <td>320.0</td>\n      <td>63.0</td>\n      <td>NaN</td>\n    </tr>\n    <tr>\n      <th>21</th>\n      <td>129</td>\n      <td>서산</td>\n      <td>2018-03-01 21:00</td>\n      <td>-1.8</td>\n      <td>4.7</td>\n      <td>320.0</td>\n      <td>61.0</td>\n      <td>NaN</td>\n    </tr>\n    <tr>\n      <th>22</th>\n      <td>129</td>\n      <td>서산</td>\n      <td>2018-03-01 22:00</td>\n      <td>-1.9</td>\n      <td>3.3</td>\n      <td>320.0</td>\n      <td>60.0</td>\n      <td>NaN</td>\n    </tr>\n    <tr>\n      <th>23</th>\n      <td>129</td>\n      <td>서산</td>\n      <td>2018-03-01 23:00</td>\n      <td>-2.3</td>\n      <td>3.7</td>\n      <td>340.0</td>\n      <td>55.0</td>\n      <td>NaN</td>\n    </tr>\n  </tbody>\n</table>\n</div>"
     },
     "metadata": {},
     "execution_count": 106
    }
   ],
   "source": [
    "dangjin_obs_data[dangjin_obs_data['일시'].str.contains('2018-03-01')]    # 24행"
   ]
  },
  {
   "source": [
    "### 18시간이 왜 남는 거지????"
   ],
   "cell_type": "markdown",
   "metadata": {}
  },
  {
   "source": [
    "# ulsan_fcst_data.csv - 울산지역 발전소 동네 예보\n",
    "- Forecast time : 예보 발표 시점\n",
    "- forecast : 예보 시간 (ex - Forecast time:2018-03-01 11:00:00, forecast:4.0 => 2018-03-01 11:00:00에 발표한 2018-03-01 15:00:00 예보\n",
    "\n",
    "### 예보 발표 시점 'forecast'시간 후 기상 예보\n",
    "- Temperature : 온도(℃)\n",
    "- Humidity : 습도(%)\n",
    "- WindSpeed : 풍속(m/s)\n",
    "- WindDirection : 풍향(º)\n",
    "- Cloud : 하늘상태(1-맑음, 2-구름보통, 3-구름많음, 4-흐림)\n"
   ],
   "cell_type": "markdown",
   "metadata": {}
  },
  {
   "cell_type": "code",
   "execution_count": 107,
   "metadata": {},
   "outputs": [
    {
     "output_type": "execute_result",
     "data": {
      "text/plain": [
       "              Forecast time  forecast  Temperature  Humidity  WindSpeed  \\\n",
       "0       2018-03-01 11:00:00       4.0          8.0      20.0       14.0   \n",
       "1       2018-03-01 11:00:00       7.0          4.0      20.0        4.3   \n",
       "2       2018-03-01 11:00:00      10.0          3.0      30.0        1.9   \n",
       "3       2018-03-01 11:00:00      13.0          0.0      40.0        1.5   \n",
       "4       2018-03-01 11:00:00      16.0         -1.0      45.0        1.8   \n",
       "...                     ...       ...          ...       ...        ...   \n",
       "162203  2021-03-01 08:00:00      52.0          9.0      45.0        3.1   \n",
       "162204  2021-03-01 08:00:00      55.0          9.0      45.0        3.0   \n",
       "162205  2021-03-01 08:00:00      58.0          8.0      55.0        2.2   \n",
       "162206  2021-03-01 08:00:00      61.0          6.0      65.0        0.9   \n",
       "162207  2021-03-01 08:00:00      64.0          4.0      80.0        0.7   \n",
       "\n",
       "        WindDirection  Cloud  \n",
       "0               298.0    2.0  \n",
       "1               298.0    2.0  \n",
       "2               309.0    2.0  \n",
       "3               318.0    2.0  \n",
       "4               308.0    2.0  \n",
       "...               ...    ...  \n",
       "162203           83.0    3.0  \n",
       "162204          111.0    3.0  \n",
       "162205          122.0    3.0  \n",
       "162206          131.0    3.0  \n",
       "162207          188.0    3.0  \n",
       "\n",
       "[162208 rows x 7 columns]"
      ],
      "text/html": "<div>\n<style scoped>\n    .dataframe tbody tr th:only-of-type {\n        vertical-align: middle;\n    }\n\n    .dataframe tbody tr th {\n        vertical-align: top;\n    }\n\n    .dataframe thead th {\n        text-align: right;\n    }\n</style>\n<table border=\"1\" class=\"dataframe\">\n  <thead>\n    <tr style=\"text-align: right;\">\n      <th></th>\n      <th>Forecast time</th>\n      <th>forecast</th>\n      <th>Temperature</th>\n      <th>Humidity</th>\n      <th>WindSpeed</th>\n      <th>WindDirection</th>\n      <th>Cloud</th>\n    </tr>\n  </thead>\n  <tbody>\n    <tr>\n      <th>0</th>\n      <td>2018-03-01 11:00:00</td>\n      <td>4.0</td>\n      <td>8.0</td>\n      <td>20.0</td>\n      <td>14.0</td>\n      <td>298.0</td>\n      <td>2.0</td>\n    </tr>\n    <tr>\n      <th>1</th>\n      <td>2018-03-01 11:00:00</td>\n      <td>7.0</td>\n      <td>4.0</td>\n      <td>20.0</td>\n      <td>4.3</td>\n      <td>298.0</td>\n      <td>2.0</td>\n    </tr>\n    <tr>\n      <th>2</th>\n      <td>2018-03-01 11:00:00</td>\n      <td>10.0</td>\n      <td>3.0</td>\n      <td>30.0</td>\n      <td>1.9</td>\n      <td>309.0</td>\n      <td>2.0</td>\n    </tr>\n    <tr>\n      <th>3</th>\n      <td>2018-03-01 11:00:00</td>\n      <td>13.0</td>\n      <td>0.0</td>\n      <td>40.0</td>\n      <td>1.5</td>\n      <td>318.0</td>\n      <td>2.0</td>\n    </tr>\n    <tr>\n      <th>4</th>\n      <td>2018-03-01 11:00:00</td>\n      <td>16.0</td>\n      <td>-1.0</td>\n      <td>45.0</td>\n      <td>1.8</td>\n      <td>308.0</td>\n      <td>2.0</td>\n    </tr>\n    <tr>\n      <th>...</th>\n      <td>...</td>\n      <td>...</td>\n      <td>...</td>\n      <td>...</td>\n      <td>...</td>\n      <td>...</td>\n      <td>...</td>\n    </tr>\n    <tr>\n      <th>162203</th>\n      <td>2021-03-01 08:00:00</td>\n      <td>52.0</td>\n      <td>9.0</td>\n      <td>45.0</td>\n      <td>3.1</td>\n      <td>83.0</td>\n      <td>3.0</td>\n    </tr>\n    <tr>\n      <th>162204</th>\n      <td>2021-03-01 08:00:00</td>\n      <td>55.0</td>\n      <td>9.0</td>\n      <td>45.0</td>\n      <td>3.0</td>\n      <td>111.0</td>\n      <td>3.0</td>\n    </tr>\n    <tr>\n      <th>162205</th>\n      <td>2021-03-01 08:00:00</td>\n      <td>58.0</td>\n      <td>8.0</td>\n      <td>55.0</td>\n      <td>2.2</td>\n      <td>122.0</td>\n      <td>3.0</td>\n    </tr>\n    <tr>\n      <th>162206</th>\n      <td>2021-03-01 08:00:00</td>\n      <td>61.0</td>\n      <td>6.0</td>\n      <td>65.0</td>\n      <td>0.9</td>\n      <td>131.0</td>\n      <td>3.0</td>\n    </tr>\n    <tr>\n      <th>162207</th>\n      <td>2021-03-01 08:00:00</td>\n      <td>64.0</td>\n      <td>4.0</td>\n      <td>80.0</td>\n      <td>0.7</td>\n      <td>188.0</td>\n      <td>3.0</td>\n    </tr>\n  </tbody>\n</table>\n<p>162208 rows × 7 columns</p>\n</div>"
     },
     "metadata": {},
     "execution_count": 107
    }
   ],
   "source": [
    "ulsan_fcst_data "
   ]
  },
  {
   "cell_type": "code",
   "execution_count": 113,
   "metadata": {},
   "outputs": [
    {
     "output_type": "execute_result",
     "data": {
      "text/plain": [
       "          Forecast time  forecast  Temperature  Humidity  WindSpeed  \\\n",
       "0   2018-03-01 11:00:00       4.0          8.0      20.0       14.0   \n",
       "1   2018-03-01 11:00:00       7.0          4.0      20.0        4.3   \n",
       "2   2018-03-01 11:00:00      10.0          3.0      30.0        1.9   \n",
       "3   2018-03-01 11:00:00      13.0          0.0      40.0        1.5   \n",
       "4   2018-03-01 11:00:00      16.0         -1.0      45.0        1.8   \n",
       "5   2018-03-01 11:00:00      19.0         -2.0      45.0        1.7   \n",
       "6   2018-03-01 11:00:00      22.0          0.0      35.0        1.9   \n",
       "7   2018-03-01 11:00:00      25.0          6.0      30.0        1.4   \n",
       "8   2018-03-01 11:00:00      28.0          9.0      30.0        0.8   \n",
       "9   2018-03-01 11:00:00      31.0          8.0      45.0        1.1   \n",
       "10  2018-03-01 11:00:00      34.0          6.0      60.0        1.7   \n",
       "11  2018-03-01 11:00:00      37.0          4.0      65.0        1.4   \n",
       "12  2018-03-01 11:00:00      40.0          3.0      70.0        1.3   \n",
       "13  2018-03-01 11:00:00      43.0          2.0      75.0        1.6   \n",
       "14  2018-03-01 11:00:00      46.0          6.0      60.0        1.6   \n",
       "15  2018-03-01 11:00:00      49.0         13.0      50.0        2.9   \n",
       "16  2018-03-01 11:00:00      52.0         14.0      60.0        3.2   \n",
       "17  2018-03-01 11:00:00      55.0         12.0      70.0        2.6   \n",
       "18  2018-03-01 11:00:00      58.0         11.0      75.0        2.0   \n",
       "19  2018-03-01 11:00:00      61.0         10.0      80.0        1.2   \n",
       "\n",
       "    WindDirection  Cloud  \n",
       "0           298.0    2.0  \n",
       "1           298.0    2.0  \n",
       "2           309.0    2.0  \n",
       "3           318.0    2.0  \n",
       "4           308.0    2.0  \n",
       "5           294.0    1.0  \n",
       "6           321.0    1.0  \n",
       "7           324.0    1.0  \n",
       "8            40.0    1.0  \n",
       "9           100.0    1.0  \n",
       "10          306.0    1.0  \n",
       "11          315.0    1.0  \n",
       "12          315.0    1.0  \n",
       "13          320.0    1.0  \n",
       "14          310.0    2.0  \n",
       "15          172.0    2.0  \n",
       "16          167.0    3.0  \n",
       "17          178.0    3.0  \n",
       "18          200.0    3.0  \n",
       "19          275.0    3.0  "
      ],
      "text/html": "<div>\n<style scoped>\n    .dataframe tbody tr th:only-of-type {\n        vertical-align: middle;\n    }\n\n    .dataframe tbody tr th {\n        vertical-align: top;\n    }\n\n    .dataframe thead th {\n        text-align: right;\n    }\n</style>\n<table border=\"1\" class=\"dataframe\">\n  <thead>\n    <tr style=\"text-align: right;\">\n      <th></th>\n      <th>Forecast time</th>\n      <th>forecast</th>\n      <th>Temperature</th>\n      <th>Humidity</th>\n      <th>WindSpeed</th>\n      <th>WindDirection</th>\n      <th>Cloud</th>\n    </tr>\n  </thead>\n  <tbody>\n    <tr>\n      <th>0</th>\n      <td>2018-03-01 11:00:00</td>\n      <td>4.0</td>\n      <td>8.0</td>\n      <td>20.0</td>\n      <td>14.0</td>\n      <td>298.0</td>\n      <td>2.0</td>\n    </tr>\n    <tr>\n      <th>1</th>\n      <td>2018-03-01 11:00:00</td>\n      <td>7.0</td>\n      <td>4.0</td>\n      <td>20.0</td>\n      <td>4.3</td>\n      <td>298.0</td>\n      <td>2.0</td>\n    </tr>\n    <tr>\n      <th>2</th>\n      <td>2018-03-01 11:00:00</td>\n      <td>10.0</td>\n      <td>3.0</td>\n      <td>30.0</td>\n      <td>1.9</td>\n      <td>309.0</td>\n      <td>2.0</td>\n    </tr>\n    <tr>\n      <th>3</th>\n      <td>2018-03-01 11:00:00</td>\n      <td>13.0</td>\n      <td>0.0</td>\n      <td>40.0</td>\n      <td>1.5</td>\n      <td>318.0</td>\n      <td>2.0</td>\n    </tr>\n    <tr>\n      <th>4</th>\n      <td>2018-03-01 11:00:00</td>\n      <td>16.0</td>\n      <td>-1.0</td>\n      <td>45.0</td>\n      <td>1.8</td>\n      <td>308.0</td>\n      <td>2.0</td>\n    </tr>\n    <tr>\n      <th>5</th>\n      <td>2018-03-01 11:00:00</td>\n      <td>19.0</td>\n      <td>-2.0</td>\n      <td>45.0</td>\n      <td>1.7</td>\n      <td>294.0</td>\n      <td>1.0</td>\n    </tr>\n    <tr>\n      <th>6</th>\n      <td>2018-03-01 11:00:00</td>\n      <td>22.0</td>\n      <td>0.0</td>\n      <td>35.0</td>\n      <td>1.9</td>\n      <td>321.0</td>\n      <td>1.0</td>\n    </tr>\n    <tr>\n      <th>7</th>\n      <td>2018-03-01 11:00:00</td>\n      <td>25.0</td>\n      <td>6.0</td>\n      <td>30.0</td>\n      <td>1.4</td>\n      <td>324.0</td>\n      <td>1.0</td>\n    </tr>\n    <tr>\n      <th>8</th>\n      <td>2018-03-01 11:00:00</td>\n      <td>28.0</td>\n      <td>9.0</td>\n      <td>30.0</td>\n      <td>0.8</td>\n      <td>40.0</td>\n      <td>1.0</td>\n    </tr>\n    <tr>\n      <th>9</th>\n      <td>2018-03-01 11:00:00</td>\n      <td>31.0</td>\n      <td>8.0</td>\n      <td>45.0</td>\n      <td>1.1</td>\n      <td>100.0</td>\n      <td>1.0</td>\n    </tr>\n    <tr>\n      <th>10</th>\n      <td>2018-03-01 11:00:00</td>\n      <td>34.0</td>\n      <td>6.0</td>\n      <td>60.0</td>\n      <td>1.7</td>\n      <td>306.0</td>\n      <td>1.0</td>\n    </tr>\n    <tr>\n      <th>11</th>\n      <td>2018-03-01 11:00:00</td>\n      <td>37.0</td>\n      <td>4.0</td>\n      <td>65.0</td>\n      <td>1.4</td>\n      <td>315.0</td>\n      <td>1.0</td>\n    </tr>\n    <tr>\n      <th>12</th>\n      <td>2018-03-01 11:00:00</td>\n      <td>40.0</td>\n      <td>3.0</td>\n      <td>70.0</td>\n      <td>1.3</td>\n      <td>315.0</td>\n      <td>1.0</td>\n    </tr>\n    <tr>\n      <th>13</th>\n      <td>2018-03-01 11:00:00</td>\n      <td>43.0</td>\n      <td>2.0</td>\n      <td>75.0</td>\n      <td>1.6</td>\n      <td>320.0</td>\n      <td>1.0</td>\n    </tr>\n    <tr>\n      <th>14</th>\n      <td>2018-03-01 11:00:00</td>\n      <td>46.0</td>\n      <td>6.0</td>\n      <td>60.0</td>\n      <td>1.6</td>\n      <td>310.0</td>\n      <td>2.0</td>\n    </tr>\n    <tr>\n      <th>15</th>\n      <td>2018-03-01 11:00:00</td>\n      <td>49.0</td>\n      <td>13.0</td>\n      <td>50.0</td>\n      <td>2.9</td>\n      <td>172.0</td>\n      <td>2.0</td>\n    </tr>\n    <tr>\n      <th>16</th>\n      <td>2018-03-01 11:00:00</td>\n      <td>52.0</td>\n      <td>14.0</td>\n      <td>60.0</td>\n      <td>3.2</td>\n      <td>167.0</td>\n      <td>3.0</td>\n    </tr>\n    <tr>\n      <th>17</th>\n      <td>2018-03-01 11:00:00</td>\n      <td>55.0</td>\n      <td>12.0</td>\n      <td>70.0</td>\n      <td>2.6</td>\n      <td>178.0</td>\n      <td>3.0</td>\n    </tr>\n    <tr>\n      <th>18</th>\n      <td>2018-03-01 11:00:00</td>\n      <td>58.0</td>\n      <td>11.0</td>\n      <td>75.0</td>\n      <td>2.0</td>\n      <td>200.0</td>\n      <td>3.0</td>\n    </tr>\n    <tr>\n      <th>19</th>\n      <td>2018-03-01 11:00:00</td>\n      <td>61.0</td>\n      <td>10.0</td>\n      <td>80.0</td>\n      <td>1.2</td>\n      <td>275.0</td>\n      <td>3.0</td>\n    </tr>\n  </tbody>\n</table>\n</div>"
     },
     "metadata": {},
     "execution_count": 113
    }
   ],
   "source": [
    "ulsan_fcst_data[ulsan_fcst_data['Forecast time'].str.contains('2018-03-01 11:00:00')]    # 20행"
   ]
  },
  {
   "cell_type": "code",
   "execution_count": 115,
   "metadata": {},
   "outputs": [
    {
     "output_type": "execute_result",
     "data": {
      "text/plain": [
       "          Forecast time  forecast  Temperature  Humidity  WindSpeed  \\\n",
       "20  2018-03-01 14:00:00       4.0          4.0      20.0        4.3   \n",
       "21  2018-03-01 14:00:00       7.0          3.0      30.0        1.9   \n",
       "22  2018-03-01 14:00:00      10.0          0.0      40.0        1.5   \n",
       "23  2018-03-01 14:00:00      13.0         -1.0      45.0        1.8   \n",
       "24  2018-03-01 14:00:00      16.0         -2.0      45.0        1.7   \n",
       "25  2018-03-01 14:00:00      19.0          0.0      35.0        1.9   \n",
       "26  2018-03-01 14:00:00      22.0          6.0      30.0        1.4   \n",
       "27  2018-03-01 14:00:00      25.0          9.0      30.0        0.8   \n",
       "28  2018-03-01 14:00:00      28.0          8.0      45.0        1.1   \n",
       "29  2018-03-01 14:00:00      31.0          6.0      60.0        1.7   \n",
       "30  2018-03-01 14:00:00      34.0          4.0      65.0        1.4   \n",
       "31  2018-03-01 14:00:00      37.0          3.0      70.0        1.3   \n",
       "32  2018-03-01 14:00:00      40.0          2.0      75.0        1.6   \n",
       "33  2018-03-01 14:00:00      43.0          6.0      60.0        1.6   \n",
       "34  2018-03-01 14:00:00      46.0         13.0      50.0        2.9   \n",
       "35  2018-03-01 14:00:00      49.0         14.0      60.0        3.2   \n",
       "36  2018-03-01 14:00:00      52.0         12.0      70.0        2.6   \n",
       "37  2018-03-01 14:00:00      55.0         11.0      75.0        2.0   \n",
       "38  2018-03-01 14:00:00      58.0         10.0      80.0        1.2   \n",
       "\n",
       "    WindDirection  Cloud  \n",
       "20          298.0    2.0  \n",
       "21          309.0    2.0  \n",
       "22          318.0    2.0  \n",
       "23          308.0    2.0  \n",
       "24          294.0    1.0  \n",
       "25          321.0    1.0  \n",
       "26          324.0    1.0  \n",
       "27           40.0    1.0  \n",
       "28          100.0    1.0  \n",
       "29          306.0    1.0  \n",
       "30          315.0    1.0  \n",
       "31          315.0    1.0  \n",
       "32          320.0    1.0  \n",
       "33          310.0    2.0  \n",
       "34          172.0    2.0  \n",
       "35          167.0    3.0  \n",
       "36          178.0    3.0  \n",
       "37          200.0    3.0  \n",
       "38          275.0    3.0  "
      ],
      "text/html": "<div>\n<style scoped>\n    .dataframe tbody tr th:only-of-type {\n        vertical-align: middle;\n    }\n\n    .dataframe tbody tr th {\n        vertical-align: top;\n    }\n\n    .dataframe thead th {\n        text-align: right;\n    }\n</style>\n<table border=\"1\" class=\"dataframe\">\n  <thead>\n    <tr style=\"text-align: right;\">\n      <th></th>\n      <th>Forecast time</th>\n      <th>forecast</th>\n      <th>Temperature</th>\n      <th>Humidity</th>\n      <th>WindSpeed</th>\n      <th>WindDirection</th>\n      <th>Cloud</th>\n    </tr>\n  </thead>\n  <tbody>\n    <tr>\n      <th>20</th>\n      <td>2018-03-01 14:00:00</td>\n      <td>4.0</td>\n      <td>4.0</td>\n      <td>20.0</td>\n      <td>4.3</td>\n      <td>298.0</td>\n      <td>2.0</td>\n    </tr>\n    <tr>\n      <th>21</th>\n      <td>2018-03-01 14:00:00</td>\n      <td>7.0</td>\n      <td>3.0</td>\n      <td>30.0</td>\n      <td>1.9</td>\n      <td>309.0</td>\n      <td>2.0</td>\n    </tr>\n    <tr>\n      <th>22</th>\n      <td>2018-03-01 14:00:00</td>\n      <td>10.0</td>\n      <td>0.0</td>\n      <td>40.0</td>\n      <td>1.5</td>\n      <td>318.0</td>\n      <td>2.0</td>\n    </tr>\n    <tr>\n      <th>23</th>\n      <td>2018-03-01 14:00:00</td>\n      <td>13.0</td>\n      <td>-1.0</td>\n      <td>45.0</td>\n      <td>1.8</td>\n      <td>308.0</td>\n      <td>2.0</td>\n    </tr>\n    <tr>\n      <th>24</th>\n      <td>2018-03-01 14:00:00</td>\n      <td>16.0</td>\n      <td>-2.0</td>\n      <td>45.0</td>\n      <td>1.7</td>\n      <td>294.0</td>\n      <td>1.0</td>\n    </tr>\n    <tr>\n      <th>25</th>\n      <td>2018-03-01 14:00:00</td>\n      <td>19.0</td>\n      <td>0.0</td>\n      <td>35.0</td>\n      <td>1.9</td>\n      <td>321.0</td>\n      <td>1.0</td>\n    </tr>\n    <tr>\n      <th>26</th>\n      <td>2018-03-01 14:00:00</td>\n      <td>22.0</td>\n      <td>6.0</td>\n      <td>30.0</td>\n      <td>1.4</td>\n      <td>324.0</td>\n      <td>1.0</td>\n    </tr>\n    <tr>\n      <th>27</th>\n      <td>2018-03-01 14:00:00</td>\n      <td>25.0</td>\n      <td>9.0</td>\n      <td>30.0</td>\n      <td>0.8</td>\n      <td>40.0</td>\n      <td>1.0</td>\n    </tr>\n    <tr>\n      <th>28</th>\n      <td>2018-03-01 14:00:00</td>\n      <td>28.0</td>\n      <td>8.0</td>\n      <td>45.0</td>\n      <td>1.1</td>\n      <td>100.0</td>\n      <td>1.0</td>\n    </tr>\n    <tr>\n      <th>29</th>\n      <td>2018-03-01 14:00:00</td>\n      <td>31.0</td>\n      <td>6.0</td>\n      <td>60.0</td>\n      <td>1.7</td>\n      <td>306.0</td>\n      <td>1.0</td>\n    </tr>\n    <tr>\n      <th>30</th>\n      <td>2018-03-01 14:00:00</td>\n      <td>34.0</td>\n      <td>4.0</td>\n      <td>65.0</td>\n      <td>1.4</td>\n      <td>315.0</td>\n      <td>1.0</td>\n    </tr>\n    <tr>\n      <th>31</th>\n      <td>2018-03-01 14:00:00</td>\n      <td>37.0</td>\n      <td>3.0</td>\n      <td>70.0</td>\n      <td>1.3</td>\n      <td>315.0</td>\n      <td>1.0</td>\n    </tr>\n    <tr>\n      <th>32</th>\n      <td>2018-03-01 14:00:00</td>\n      <td>40.0</td>\n      <td>2.0</td>\n      <td>75.0</td>\n      <td>1.6</td>\n      <td>320.0</td>\n      <td>1.0</td>\n    </tr>\n    <tr>\n      <th>33</th>\n      <td>2018-03-01 14:00:00</td>\n      <td>43.0</td>\n      <td>6.0</td>\n      <td>60.0</td>\n      <td>1.6</td>\n      <td>310.0</td>\n      <td>2.0</td>\n    </tr>\n    <tr>\n      <th>34</th>\n      <td>2018-03-01 14:00:00</td>\n      <td>46.0</td>\n      <td>13.0</td>\n      <td>50.0</td>\n      <td>2.9</td>\n      <td>172.0</td>\n      <td>2.0</td>\n    </tr>\n    <tr>\n      <th>35</th>\n      <td>2018-03-01 14:00:00</td>\n      <td>49.0</td>\n      <td>14.0</td>\n      <td>60.0</td>\n      <td>3.2</td>\n      <td>167.0</td>\n      <td>3.0</td>\n    </tr>\n    <tr>\n      <th>36</th>\n      <td>2018-03-01 14:00:00</td>\n      <td>52.0</td>\n      <td>12.0</td>\n      <td>70.0</td>\n      <td>2.6</td>\n      <td>178.0</td>\n      <td>3.0</td>\n    </tr>\n    <tr>\n      <th>37</th>\n      <td>2018-03-01 14:00:00</td>\n      <td>55.0</td>\n      <td>11.0</td>\n      <td>75.0</td>\n      <td>2.0</td>\n      <td>200.0</td>\n      <td>3.0</td>\n    </tr>\n    <tr>\n      <th>38</th>\n      <td>2018-03-01 14:00:00</td>\n      <td>58.0</td>\n      <td>10.0</td>\n      <td>80.0</td>\n      <td>1.2</td>\n      <td>275.0</td>\n      <td>3.0</td>\n    </tr>\n  </tbody>\n</table>\n</div>"
     },
     "metadata": {},
     "execution_count": 115
    }
   ],
   "source": [
    "ulsan_fcst_data[ulsan_fcst_data['Forecast time'].str.contains('2018-03-01 14:00:00')]    # 19행\n"
   ]
  },
  {
   "source": [
    "# ulsan_obs_data.csv - 울산지역 발전소 인근 기상 관측 자료\n",
    "- 지점 : 지점 코드\n",
    "- 지점명 : 관측소 지점\n",
    "- 일시 : 관측 시간\n",
    "- 기온(°C) : 기온(°C)\n",
    "- 풍속(m/s) : 풍속(m/s)\n",
    "- 풍향(16방위) : 풍향(º)\n",
    "- 습도(%) : 습도(%)\n",
    "- 전운량(10분위) : 전운량(낮을 수록 구름이 적음)"
   ],
   "cell_type": "markdown",
   "metadata": {}
  },
  {
   "cell_type": "code",
   "execution_count": 108,
   "metadata": {},
   "outputs": [
    {
     "output_type": "execute_result",
     "data": {
      "text/plain": [
       "        지점 지점명                일시  기온(°C)  풍속(m/s)  풍향(16방위)  습도(%)  전운량(10분위)\n",
       "0      152  울산  2018-03-01 00:00     8.2      3.9     340.0   98.0       10.0\n",
       "1      152  울산  2018-03-01 01:00     7.0      4.1     320.0   97.0       10.0\n",
       "2      152  울산  2018-03-01 02:00     6.5      5.9     290.0   80.0        NaN\n",
       "3      152  울산  2018-03-01 03:00     6.2      4.6     320.0   79.0        3.0\n",
       "4      152  울산  2018-03-01 04:00     6.7      4.5     320.0   73.0        1.0\n",
       "...    ...  ..               ...     ...      ...       ...    ...        ...\n",
       "25627  152  울산  2021-01-31 19:00     8.8      2.5     200.0   50.0        5.0\n",
       "25628  152  울산  2021-01-31 20:00     8.7      3.9     200.0   49.0        1.0\n",
       "25629  152  울산  2021-01-31 21:00     8.4      2.4     230.0   51.0        7.0\n",
       "25630  152  울산  2021-01-31 22:00     9.4      3.3     230.0   51.0        8.0\n",
       "25631  152  울산  2021-01-31 23:00     9.3      3.1     200.0   56.0        9.0\n",
       "\n",
       "[25632 rows x 8 columns]"
      ],
      "text/html": "<div>\n<style scoped>\n    .dataframe tbody tr th:only-of-type {\n        vertical-align: middle;\n    }\n\n    .dataframe tbody tr th {\n        vertical-align: top;\n    }\n\n    .dataframe thead th {\n        text-align: right;\n    }\n</style>\n<table border=\"1\" class=\"dataframe\">\n  <thead>\n    <tr style=\"text-align: right;\">\n      <th></th>\n      <th>지점</th>\n      <th>지점명</th>\n      <th>일시</th>\n      <th>기온(°C)</th>\n      <th>풍속(m/s)</th>\n      <th>풍향(16방위)</th>\n      <th>습도(%)</th>\n      <th>전운량(10분위)</th>\n    </tr>\n  </thead>\n  <tbody>\n    <tr>\n      <th>0</th>\n      <td>152</td>\n      <td>울산</td>\n      <td>2018-03-01 00:00</td>\n      <td>8.2</td>\n      <td>3.9</td>\n      <td>340.0</td>\n      <td>98.0</td>\n      <td>10.0</td>\n    </tr>\n    <tr>\n      <th>1</th>\n      <td>152</td>\n      <td>울산</td>\n      <td>2018-03-01 01:00</td>\n      <td>7.0</td>\n      <td>4.1</td>\n      <td>320.0</td>\n      <td>97.0</td>\n      <td>10.0</td>\n    </tr>\n    <tr>\n      <th>2</th>\n      <td>152</td>\n      <td>울산</td>\n      <td>2018-03-01 02:00</td>\n      <td>6.5</td>\n      <td>5.9</td>\n      <td>290.0</td>\n      <td>80.0</td>\n      <td>NaN</td>\n    </tr>\n    <tr>\n      <th>3</th>\n      <td>152</td>\n      <td>울산</td>\n      <td>2018-03-01 03:00</td>\n      <td>6.2</td>\n      <td>4.6</td>\n      <td>320.0</td>\n      <td>79.0</td>\n      <td>3.0</td>\n    </tr>\n    <tr>\n      <th>4</th>\n      <td>152</td>\n      <td>울산</td>\n      <td>2018-03-01 04:00</td>\n      <td>6.7</td>\n      <td>4.5</td>\n      <td>320.0</td>\n      <td>73.0</td>\n      <td>1.0</td>\n    </tr>\n    <tr>\n      <th>...</th>\n      <td>...</td>\n      <td>...</td>\n      <td>...</td>\n      <td>...</td>\n      <td>...</td>\n      <td>...</td>\n      <td>...</td>\n      <td>...</td>\n    </tr>\n    <tr>\n      <th>25627</th>\n      <td>152</td>\n      <td>울산</td>\n      <td>2021-01-31 19:00</td>\n      <td>8.8</td>\n      <td>2.5</td>\n      <td>200.0</td>\n      <td>50.0</td>\n      <td>5.0</td>\n    </tr>\n    <tr>\n      <th>25628</th>\n      <td>152</td>\n      <td>울산</td>\n      <td>2021-01-31 20:00</td>\n      <td>8.7</td>\n      <td>3.9</td>\n      <td>200.0</td>\n      <td>49.0</td>\n      <td>1.0</td>\n    </tr>\n    <tr>\n      <th>25629</th>\n      <td>152</td>\n      <td>울산</td>\n      <td>2021-01-31 21:00</td>\n      <td>8.4</td>\n      <td>2.4</td>\n      <td>230.0</td>\n      <td>51.0</td>\n      <td>7.0</td>\n    </tr>\n    <tr>\n      <th>25630</th>\n      <td>152</td>\n      <td>울산</td>\n      <td>2021-01-31 22:00</td>\n      <td>9.4</td>\n      <td>3.3</td>\n      <td>230.0</td>\n      <td>51.0</td>\n      <td>8.0</td>\n    </tr>\n    <tr>\n      <th>25631</th>\n      <td>152</td>\n      <td>울산</td>\n      <td>2021-01-31 23:00</td>\n      <td>9.3</td>\n      <td>3.1</td>\n      <td>200.0</td>\n      <td>56.0</td>\n      <td>9.0</td>\n    </tr>\n  </tbody>\n</table>\n<p>25632 rows × 8 columns</p>\n</div>"
     },
     "metadata": {},
     "execution_count": 108
    }
   ],
   "source": [
    "ulsan_obs_data"
   ]
  },
  {
   "cell_type": "code",
   "execution_count": 116,
   "metadata": {},
   "outputs": [
    {
     "output_type": "execute_result",
     "data": {
      "text/plain": [
       "울산    25632\n",
       "Name: 지점명, dtype: int64"
      ]
     },
     "metadata": {},
     "execution_count": 116
    }
   ],
   "source": [
    "ulsan_obs_data[\"지점명\"].value_counts()"
   ]
  },
  {
   "cell_type": "code",
   "execution_count": 117,
   "metadata": {},
   "outputs": [
    {
     "output_type": "execute_result",
     "data": {
      "text/plain": [
       "1068.0"
      ]
     },
     "metadata": {},
     "execution_count": 117
    }
   ],
   "source": [
    "25632 / 24"
   ]
  },
  {
   "source": [
    "# sample_submission.csv - 예측한 발전량 제출 양식\n",
    "- publci LB : 2021년 2월 예측\n",
    "- private LB : 2021년 6월 9일 ~ 2021년 7월 8일 30일간 예측, 평가기간 제출 가능, 예측 전날 선택된 제출물 평가    \n",
    "\n",
    "    ※주의1 : 2021년 2월 예측시점 전날에 확인 가능한 정보만을 feature로 사용 가능, fcst 데이터 사용시 주의    \n",
    "    ※주의2 : public 평가기간 data leakage가 의심되는 경우 코드 제출을 요청할 수 있으며 2일 내 미제출 또는 data leakage가 확인 되었을 시 LB 기록이 삭제    \n",
    "    ※주의3 : 대회 기간 동안 지속적인 data leakage가 확인된 팀은 참가 자격 박탈    \n",
    "\n",
    "- time : 지난 한시간동안 발전량 예측   \n",
    "- dangjin_floating : 당진수상태양광 예측 발전량(KW)   \n",
    "- dangjin_warehouse : 당진자재창고태양광 예측 발전량(KW)   \n",
    "- ulsan : 울산태양광 예측 발전량(KW)   "
   ],
   "cell_type": "markdown",
   "metadata": {}
  },
  {
   "cell_type": "code",
   "execution_count": 109,
   "metadata": {},
   "outputs": [
    {
     "output_type": "execute_result",
     "data": {
      "text/plain": [
       "                     time  dangjin_floating  dangjin_warehouse  dangjin  ulsan\n",
       "0     2021-02-01 01:00:00                 0                  0        0      0\n",
       "1     2021-02-01 02:00:00                 0                  0        0      0\n",
       "2     2021-02-01 03:00:00                 0                  0        0      0\n",
       "3     2021-02-01 04:00:00                 0                  0        0      0\n",
       "4     2021-02-01 05:00:00                 0                  0        0      0\n",
       "...                   ...               ...                ...      ...    ...\n",
       "1387  2021-07-08 20:00:00                 0                  0        0      0\n",
       "1388  2021-07-08 21:00:00                 0                  0        0      0\n",
       "1389  2021-07-08 22:00:00                 0                  0        0      0\n",
       "1390  2021-07-08 23:00:00                 0                  0        0      0\n",
       "1391  2021-07-08 24:00:00                 0                  0        0      0\n",
       "\n",
       "[1392 rows x 5 columns]"
      ],
      "text/html": "<div>\n<style scoped>\n    .dataframe tbody tr th:only-of-type {\n        vertical-align: middle;\n    }\n\n    .dataframe tbody tr th {\n        vertical-align: top;\n    }\n\n    .dataframe thead th {\n        text-align: right;\n    }\n</style>\n<table border=\"1\" class=\"dataframe\">\n  <thead>\n    <tr style=\"text-align: right;\">\n      <th></th>\n      <th>time</th>\n      <th>dangjin_floating</th>\n      <th>dangjin_warehouse</th>\n      <th>dangjin</th>\n      <th>ulsan</th>\n    </tr>\n  </thead>\n  <tbody>\n    <tr>\n      <th>0</th>\n      <td>2021-02-01 01:00:00</td>\n      <td>0</td>\n      <td>0</td>\n      <td>0</td>\n      <td>0</td>\n    </tr>\n    <tr>\n      <th>1</th>\n      <td>2021-02-01 02:00:00</td>\n      <td>0</td>\n      <td>0</td>\n      <td>0</td>\n      <td>0</td>\n    </tr>\n    <tr>\n      <th>2</th>\n      <td>2021-02-01 03:00:00</td>\n      <td>0</td>\n      <td>0</td>\n      <td>0</td>\n      <td>0</td>\n    </tr>\n    <tr>\n      <th>3</th>\n      <td>2021-02-01 04:00:00</td>\n      <td>0</td>\n      <td>0</td>\n      <td>0</td>\n      <td>0</td>\n    </tr>\n    <tr>\n      <th>4</th>\n      <td>2021-02-01 05:00:00</td>\n      <td>0</td>\n      <td>0</td>\n      <td>0</td>\n      <td>0</td>\n    </tr>\n    <tr>\n      <th>...</th>\n      <td>...</td>\n      <td>...</td>\n      <td>...</td>\n      <td>...</td>\n      <td>...</td>\n    </tr>\n    <tr>\n      <th>1387</th>\n      <td>2021-07-08 20:00:00</td>\n      <td>0</td>\n      <td>0</td>\n      <td>0</td>\n      <td>0</td>\n    </tr>\n    <tr>\n      <th>1388</th>\n      <td>2021-07-08 21:00:00</td>\n      <td>0</td>\n      <td>0</td>\n      <td>0</td>\n      <td>0</td>\n    </tr>\n    <tr>\n      <th>1389</th>\n      <td>2021-07-08 22:00:00</td>\n      <td>0</td>\n      <td>0</td>\n      <td>0</td>\n      <td>0</td>\n    </tr>\n    <tr>\n      <th>1390</th>\n      <td>2021-07-08 23:00:00</td>\n      <td>0</td>\n      <td>0</td>\n      <td>0</td>\n      <td>0</td>\n    </tr>\n    <tr>\n      <th>1391</th>\n      <td>2021-07-08 24:00:00</td>\n      <td>0</td>\n      <td>0</td>\n      <td>0</td>\n      <td>0</td>\n    </tr>\n  </tbody>\n</table>\n<p>1392 rows × 5 columns</p>\n</div>"
     },
     "metadata": {},
     "execution_count": 109
    }
   ],
   "source": [
    "sample_submission"
   ]
  },
  {
   "cell_type": "code",
   "execution_count": 122,
   "metadata": {},
   "outputs": [
    {
     "output_type": "execute_result",
     "data": {
      "text/plain": [
       "                    time  dangjin_floating  dangjin_warehouse  dangjin  ulsan\n",
       "0    2021-02-01 01:00:00                 0                  0        0      0\n",
       "1    2021-02-01 02:00:00                 0                  0        0      0\n",
       "2    2021-02-01 03:00:00                 0                  0        0      0\n",
       "3    2021-02-01 04:00:00                 0                  0        0      0\n",
       "4    2021-02-01 05:00:00                 0                  0        0      0\n",
       "..                   ...               ...                ...      ...    ...\n",
       "667  2021-02-28 20:00:00                 0                  0        0      0\n",
       "668  2021-02-28 21:00:00                 0                  0        0      0\n",
       "669  2021-02-28 22:00:00                 0                  0        0      0\n",
       "670  2021-02-28 23:00:00                 0                  0        0      0\n",
       "671  2021-02-28 24:00:00                 0                  0        0      0\n",
       "\n",
       "[672 rows x 5 columns]"
      ],
      "text/html": "<div>\n<style scoped>\n    .dataframe tbody tr th:only-of-type {\n        vertical-align: middle;\n    }\n\n    .dataframe tbody tr th {\n        vertical-align: top;\n    }\n\n    .dataframe thead th {\n        text-align: right;\n    }\n</style>\n<table border=\"1\" class=\"dataframe\">\n  <thead>\n    <tr style=\"text-align: right;\">\n      <th></th>\n      <th>time</th>\n      <th>dangjin_floating</th>\n      <th>dangjin_warehouse</th>\n      <th>dangjin</th>\n      <th>ulsan</th>\n    </tr>\n  </thead>\n  <tbody>\n    <tr>\n      <th>0</th>\n      <td>2021-02-01 01:00:00</td>\n      <td>0</td>\n      <td>0</td>\n      <td>0</td>\n      <td>0</td>\n    </tr>\n    <tr>\n      <th>1</th>\n      <td>2021-02-01 02:00:00</td>\n      <td>0</td>\n      <td>0</td>\n      <td>0</td>\n      <td>0</td>\n    </tr>\n    <tr>\n      <th>2</th>\n      <td>2021-02-01 03:00:00</td>\n      <td>0</td>\n      <td>0</td>\n      <td>0</td>\n      <td>0</td>\n    </tr>\n    <tr>\n      <th>3</th>\n      <td>2021-02-01 04:00:00</td>\n      <td>0</td>\n      <td>0</td>\n      <td>0</td>\n      <td>0</td>\n    </tr>\n    <tr>\n      <th>4</th>\n      <td>2021-02-01 05:00:00</td>\n      <td>0</td>\n      <td>0</td>\n      <td>0</td>\n      <td>0</td>\n    </tr>\n    <tr>\n      <th>...</th>\n      <td>...</td>\n      <td>...</td>\n      <td>...</td>\n      <td>...</td>\n      <td>...</td>\n    </tr>\n    <tr>\n      <th>667</th>\n      <td>2021-02-28 20:00:00</td>\n      <td>0</td>\n      <td>0</td>\n      <td>0</td>\n      <td>0</td>\n    </tr>\n    <tr>\n      <th>668</th>\n      <td>2021-02-28 21:00:00</td>\n      <td>0</td>\n      <td>0</td>\n      <td>0</td>\n      <td>0</td>\n    </tr>\n    <tr>\n      <th>669</th>\n      <td>2021-02-28 22:00:00</td>\n      <td>0</td>\n      <td>0</td>\n      <td>0</td>\n      <td>0</td>\n    </tr>\n    <tr>\n      <th>670</th>\n      <td>2021-02-28 23:00:00</td>\n      <td>0</td>\n      <td>0</td>\n      <td>0</td>\n      <td>0</td>\n    </tr>\n    <tr>\n      <th>671</th>\n      <td>2021-02-28 24:00:00</td>\n      <td>0</td>\n      <td>0</td>\n      <td>0</td>\n      <td>0</td>\n    </tr>\n  </tbody>\n</table>\n<p>672 rows × 5 columns</p>\n</div>"
     },
     "metadata": {},
     "execution_count": 122
    }
   ],
   "source": [
    "sample_submission[sample_submission['time'].str.contains('2021-02')]    # 672행\n"
   ]
  },
  {
   "cell_type": "code",
   "execution_count": 123,
   "metadata": {},
   "outputs": [
    {
     "output_type": "execute_result",
     "data": {
      "text/plain": [
       "                     time  dangjin_floating  dangjin_warehouse  dangjin  ulsan\n",
       "672   2021-06-09 01:00:00                 0                  0        0      0\n",
       "673   2021-06-09 02:00:00                 0                  0        0      0\n",
       "674   2021-06-09 03:00:00                 0                  0        0      0\n",
       "675   2021-06-09 04:00:00                 0                  0        0      0\n",
       "676   2021-06-09 05:00:00                 0                  0        0      0\n",
       "...                   ...               ...                ...      ...    ...\n",
       "1195  2021-06-30 20:00:00                 0                  0        0      0\n",
       "1196  2021-06-30 21:00:00                 0                  0        0      0\n",
       "1197  2021-06-30 22:00:00                 0                  0        0      0\n",
       "1198  2021-06-30 23:00:00                 0                  0        0      0\n",
       "1199  2021-06-30 24:00:00                 0                  0        0      0\n",
       "\n",
       "[528 rows x 5 columns]"
      ],
      "text/html": "<div>\n<style scoped>\n    .dataframe tbody tr th:only-of-type {\n        vertical-align: middle;\n    }\n\n    .dataframe tbody tr th {\n        vertical-align: top;\n    }\n\n    .dataframe thead th {\n        text-align: right;\n    }\n</style>\n<table border=\"1\" class=\"dataframe\">\n  <thead>\n    <tr style=\"text-align: right;\">\n      <th></th>\n      <th>time</th>\n      <th>dangjin_floating</th>\n      <th>dangjin_warehouse</th>\n      <th>dangjin</th>\n      <th>ulsan</th>\n    </tr>\n  </thead>\n  <tbody>\n    <tr>\n      <th>672</th>\n      <td>2021-06-09 01:00:00</td>\n      <td>0</td>\n      <td>0</td>\n      <td>0</td>\n      <td>0</td>\n    </tr>\n    <tr>\n      <th>673</th>\n      <td>2021-06-09 02:00:00</td>\n      <td>0</td>\n      <td>0</td>\n      <td>0</td>\n      <td>0</td>\n    </tr>\n    <tr>\n      <th>674</th>\n      <td>2021-06-09 03:00:00</td>\n      <td>0</td>\n      <td>0</td>\n      <td>0</td>\n      <td>0</td>\n    </tr>\n    <tr>\n      <th>675</th>\n      <td>2021-06-09 04:00:00</td>\n      <td>0</td>\n      <td>0</td>\n      <td>0</td>\n      <td>0</td>\n    </tr>\n    <tr>\n      <th>676</th>\n      <td>2021-06-09 05:00:00</td>\n      <td>0</td>\n      <td>0</td>\n      <td>0</td>\n      <td>0</td>\n    </tr>\n    <tr>\n      <th>...</th>\n      <td>...</td>\n      <td>...</td>\n      <td>...</td>\n      <td>...</td>\n      <td>...</td>\n    </tr>\n    <tr>\n      <th>1195</th>\n      <td>2021-06-30 20:00:00</td>\n      <td>0</td>\n      <td>0</td>\n      <td>0</td>\n      <td>0</td>\n    </tr>\n    <tr>\n      <th>1196</th>\n      <td>2021-06-30 21:00:00</td>\n      <td>0</td>\n      <td>0</td>\n      <td>0</td>\n      <td>0</td>\n    </tr>\n    <tr>\n      <th>1197</th>\n      <td>2021-06-30 22:00:00</td>\n      <td>0</td>\n      <td>0</td>\n      <td>0</td>\n      <td>0</td>\n    </tr>\n    <tr>\n      <th>1198</th>\n      <td>2021-06-30 23:00:00</td>\n      <td>0</td>\n      <td>0</td>\n      <td>0</td>\n      <td>0</td>\n    </tr>\n    <tr>\n      <th>1199</th>\n      <td>2021-06-30 24:00:00</td>\n      <td>0</td>\n      <td>0</td>\n      <td>0</td>\n      <td>0</td>\n    </tr>\n  </tbody>\n</table>\n<p>528 rows × 5 columns</p>\n</div>"
     },
     "metadata": {},
     "execution_count": 123
    }
   ],
   "source": [
    "sample_submission[sample_submission['time'].str.contains('2021-06')]    # 528행\n"
   ]
  },
  {
   "cell_type": "code",
   "execution_count": 124,
   "metadata": {},
   "outputs": [
    {
     "output_type": "execute_result",
     "data": {
      "text/plain": [
       "                     time  dangjin_floating  dangjin_warehouse  dangjin  ulsan\n",
       "1200  2021-07-01 01:00:00                 0                  0        0      0\n",
       "1201  2021-07-01 02:00:00                 0                  0        0      0\n",
       "1202  2021-07-01 03:00:00                 0                  0        0      0\n",
       "1203  2021-07-01 04:00:00                 0                  0        0      0\n",
       "1204  2021-07-01 05:00:00                 0                  0        0      0\n",
       "...                   ...               ...                ...      ...    ...\n",
       "1387  2021-07-08 20:00:00                 0                  0        0      0\n",
       "1388  2021-07-08 21:00:00                 0                  0        0      0\n",
       "1389  2021-07-08 22:00:00                 0                  0        0      0\n",
       "1390  2021-07-08 23:00:00                 0                  0        0      0\n",
       "1391  2021-07-08 24:00:00                 0                  0        0      0\n",
       "\n",
       "[192 rows x 5 columns]"
      ],
      "text/html": "<div>\n<style scoped>\n    .dataframe tbody tr th:only-of-type {\n        vertical-align: middle;\n    }\n\n    .dataframe tbody tr th {\n        vertical-align: top;\n    }\n\n    .dataframe thead th {\n        text-align: right;\n    }\n</style>\n<table border=\"1\" class=\"dataframe\">\n  <thead>\n    <tr style=\"text-align: right;\">\n      <th></th>\n      <th>time</th>\n      <th>dangjin_floating</th>\n      <th>dangjin_warehouse</th>\n      <th>dangjin</th>\n      <th>ulsan</th>\n    </tr>\n  </thead>\n  <tbody>\n    <tr>\n      <th>1200</th>\n      <td>2021-07-01 01:00:00</td>\n      <td>0</td>\n      <td>0</td>\n      <td>0</td>\n      <td>0</td>\n    </tr>\n    <tr>\n      <th>1201</th>\n      <td>2021-07-01 02:00:00</td>\n      <td>0</td>\n      <td>0</td>\n      <td>0</td>\n      <td>0</td>\n    </tr>\n    <tr>\n      <th>1202</th>\n      <td>2021-07-01 03:00:00</td>\n      <td>0</td>\n      <td>0</td>\n      <td>0</td>\n      <td>0</td>\n    </tr>\n    <tr>\n      <th>1203</th>\n      <td>2021-07-01 04:00:00</td>\n      <td>0</td>\n      <td>0</td>\n      <td>0</td>\n      <td>0</td>\n    </tr>\n    <tr>\n      <th>1204</th>\n      <td>2021-07-01 05:00:00</td>\n      <td>0</td>\n      <td>0</td>\n      <td>0</td>\n      <td>0</td>\n    </tr>\n    <tr>\n      <th>...</th>\n      <td>...</td>\n      <td>...</td>\n      <td>...</td>\n      <td>...</td>\n      <td>...</td>\n    </tr>\n    <tr>\n      <th>1387</th>\n      <td>2021-07-08 20:00:00</td>\n      <td>0</td>\n      <td>0</td>\n      <td>0</td>\n      <td>0</td>\n    </tr>\n    <tr>\n      <th>1388</th>\n      <td>2021-07-08 21:00:00</td>\n      <td>0</td>\n      <td>0</td>\n      <td>0</td>\n      <td>0</td>\n    </tr>\n    <tr>\n      <th>1389</th>\n      <td>2021-07-08 22:00:00</td>\n      <td>0</td>\n      <td>0</td>\n      <td>0</td>\n      <td>0</td>\n    </tr>\n    <tr>\n      <th>1390</th>\n      <td>2021-07-08 23:00:00</td>\n      <td>0</td>\n      <td>0</td>\n      <td>0</td>\n      <td>0</td>\n    </tr>\n    <tr>\n      <th>1391</th>\n      <td>2021-07-08 24:00:00</td>\n      <td>0</td>\n      <td>0</td>\n      <td>0</td>\n      <td>0</td>\n    </tr>\n  </tbody>\n</table>\n<p>192 rows × 5 columns</p>\n</div>"
     },
     "metadata": {},
     "execution_count": 124
    }
   ],
   "source": [
    "sample_submission[sample_submission['time'].str.contains('2021-07')]    # 192행\n"
   ]
  },
  {
   "source": [
    "# 평가 산식(NMAE-10)\n",
    "- 4개의 발전소 반전량을 하나로 합하여 평가\n",
    "- 4개 발전소 총 발전용량으로 정규화\n",
    "- 발전용량의 10% 이상 발전된 데이터만으로 평가"
   ],
   "cell_type": "markdown",
   "metadata": {}
  },
  {
   "cell_type": "code",
   "execution_count": 110,
   "metadata": {},
   "outputs": [],
   "source": [
    "import pandas as pd\n",
    "import numpy as np\n",
    "\n",
    "def sola_nmae(answer_df, submission_df):\n",
    "    submission = submission_df[submission_df['time'].isin(answer_df['time'])]\n",
    "    submission.index = range(submission.shape[0])\n",
    "    \n",
    "    # 시간대별 총 발전량\n",
    "    sum_submission = submission.iloc[:,1:].sum(axis=1)\n",
    "    sum_answer = answer_df.iloc[:,1:].sum(axis=1)\n",
    "    \n",
    "    # 발전소 발전용량\n",
    "    capacity = {\n",
    "        'dangjin_floating':1000, # 당진수상태양광 발전용량\n",
    "        'dangjin_warehouse':700, # 당진자재창고태양광 발전용량\n",
    "        'dangjin':1000, # 당진태양광 발전용량\n",
    "        'ulsan':500 # 울산태양광 발전용량\n",
    "    }\n",
    "    \n",
    "    # 총 발전용량\n",
    "    total_capacity = np.sum(list(capacity.values()))\n",
    "    \n",
    "    # 총 발전용량 절대오차\n",
    "    absolute_error = (sum_answer - sum_submission).abs()\n",
    "    \n",
    "    # 발전용량으로 정규화\n",
    "    absolute_error /= total_capacity\n",
    "    \n",
    "    # 총 발전용량의 10% 이상 발전한 데이터 인덱스 추출\n",
    "    target_idx = sum_answer[sum_answer>=total_capacity*0.1].index\n",
    "    \n",
    "    # NMAE(%)\n",
    "    nmae = 100 * absolute_error[target_idx].mean()\n",
    "    \n",
    "    return nmae"
   ]
  }
 ]
}