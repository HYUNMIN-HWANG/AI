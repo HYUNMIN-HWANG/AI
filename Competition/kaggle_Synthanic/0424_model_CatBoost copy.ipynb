{
 "metadata": {
  "language_info": {
   "codemirror_mode": {
    "name": "ipython",
    "version": 3
   },
   "file_extension": ".py",
   "mimetype": "text/x-python",
   "name": "python",
   "nbconvert_exporter": "python",
   "pygments_lexer": "ipython3",
   "version": "3.8.5"
  },
  "orig_nbformat": 2,
  "kernelspec": {
   "name": "python385jvsc74a57bd0cfed29639e118e2330c8cca2e9f389b076390c6676518be5d289ddd682bc9f99",
   "display_name": "Python 3.8.5 64-bit (conda)"
  }
 },
 "nbformat": 4,
 "nbformat_minor": 2,
 "cells": [
  {
   "cell_type": "code",
   "execution_count": 534,
   "metadata": {},
   "outputs": [],
   "source": [
    "import pandas as pd\n",
    "import numpy as np\n",
    "import random\n",
    "import os\n",
    "\n",
    "from sklearn.metrics import accuracy_score\n",
    "from sklearn.preprocessing import LabelEncoder, StandardScaler, OneHotEncoder, MinMaxScaler\n",
    "from sklearn.model_selection import train_test_split, KFold, StratifiedKFold\n",
    "\n",
    "train_df = pd.read_csv('E:\\data\\kaggle_tabular/train.csv')\n",
    "test_df = pd.read_csv('E:\\data\\kaggle_tabular/test.csv')\n",
    "submission = pd.read_csv('E:\\data\\kaggle_tabular/sample_submission.csv')"
   ]
  },
  {
   "source": [
    "앞으로 해볼 것    \n",
    "K-fold    \n",
    "GridSearchCV    \n",
    "best_columns를 구할 수 있는 게 있었던 거 같은데 - from sklearn.feature_selection import SelectFromModel    "
   ],
   "cell_type": "markdown",
   "metadata": {}
  },
  {
   "source": [
    "# data 전처리"
   ],
   "cell_type": "markdown",
   "metadata": {}
  },
  {
   "source": [
    "* Pclass - a proxy for socio-economic status (SES) where 1st = Upper, 2nd = Middle and 3rd = Lower.\n",
    "* Sex - male and female.\n",
    "* Age - fractional if it less than 1 and age estimation in the form of xx.5.\n",
    "* SibSp - number of siblings / spouses aboard the Synthanic; siblings are brother, sister, stepbrother and stepsister and spouses are husband and wife (mistresses and fiancés were ignored).\n",
    "* Parch - # of parents / children aboard the Synthanic; parents are mother and father; child are daughter, son, stepdaughter and stepson. Some children travelled only with a nanny, therefore Parch is 0 for them.\n",
    "* Fare - the paassenger fare.\n",
    "* Cabin - the cabin number.\n",
    "* Emarked - port of embarkation where C is Cherbourg, Q is Queenstown and S is Southampton.\n",
    "* Ticket - ticket number.\n",
    "* Name - passengers name.\n",
    "* Survived - target variable where 0 is not survived and 1 is survived."
   ],
   "cell_type": "markdown",
   "metadata": {}
  },
  {
   "source": [
    "* 결측값 채우기"
   ],
   "cell_type": "markdown",
   "metadata": {}
  },
  {
   "cell_type": "code",
   "execution_count": 535,
   "metadata": {},
   "outputs": [
    {
     "output_type": "stream",
     "name": "stdout",
     "text": [
      "Missing values per columns in train dataset\nPassengerId: 0\nSurvived: 0\nPclass: 0\nName: 0\nSex: 0\nAge: 3292\nSibSp: 0\nParch: 0\nTicket: 4623\nFare: 134\nCabin: 67866\nEmbarked: 250\n"
     ]
    }
   ],
   "source": [
    "print('Missing values per columns in train dataset')\n",
    "for col in train_df.columns:\n",
    "    temp_col = train_df[col].isnull().sum()\n",
    "    print(f'{col}: {temp_col}')"
   ]
  },
  {
   "cell_type": "code",
   "execution_count": 536,
   "metadata": {},
   "outputs": [],
   "source": [
    "# col = 'Age' 평균 나이로 결측값 채우기\n",
    "train_df['Age'] = train_df['Age'].fillna(train_df['Age'].mean())\n",
    "test_df['Age'] = test_df['Age'].fillna(test_df['Age'].mean())"
   ]
  },
  {
   "cell_type": "code",
   "execution_count": 537,
   "metadata": {},
   "outputs": [
    {
     "output_type": "execute_result",
     "data": {
      "text/plain": [
       "0      X\n",
       "1      X\n",
       "2     CA\n",
       "3     A.\n",
       "4      X\n",
       "      ..\n",
       "95     X\n",
       "96     X\n",
       "97    PC\n",
       "98     X\n",
       "99     X\n",
       "Name: Ticket, Length: 100, dtype: object"
      ]
     },
     "metadata": {},
     "execution_count": 537
    }
   ],
   "source": [
    "# col = 'Ticket', 결측값 'X'로 채우기\n",
    "train_df['Ticket'] = train_df['Ticket'].fillna('X').map(lambda x:str(x).split()[0] if len(str(x).split()) > 1 else 'X')\n",
    "test_df['Ticket'] = test_df['Ticket'].fillna('X').map(lambda x:str(x).split()[0] if len(str(x).split()) > 1 else 'X')\n",
    "train_df['Ticket'][:100]"
   ]
  },
  {
   "cell_type": "code",
   "execution_count": 538,
   "metadata": {},
   "outputs": [
    {
     "output_type": "execute_result",
     "data": {
      "text/plain": [
       "0     C\n",
       "1     X\n",
       "2     X\n",
       "3     X\n",
       "4     X\n",
       "     ..\n",
       "95    X\n",
       "96    X\n",
       "97    D\n",
       "98    X\n",
       "99    C\n",
       "Name: Cabin, Length: 100, dtype: object"
      ]
     },
     "metadata": {},
     "execution_count": 538
    }
   ],
   "source": [
    "# col = 'Cabin', 결측값 'X'로 채우기\n",
    "train_df['Cabin'] = train_df['Cabin'].fillna('X').map(lambda x: x[0].strip())\n",
    "test_df['Cabin'] = test_df['Cabin'].fillna('X').map(lambda x: x[0].strip())\n",
    "train_df['Cabin'][:100]"
   ]
  },
  {
   "cell_type": "code",
   "execution_count": 539,
   "metadata": {},
   "outputs": [
    {
     "output_type": "execute_result",
     "data": {
      "text/plain": [
       "0     S\n",
       "1     S\n",
       "2     S\n",
       "3     S\n",
       "4     S\n",
       "     ..\n",
       "95    S\n",
       "96    Q\n",
       "97    Q\n",
       "98    S\n",
       "99    C\n",
       "Name: Embarked, Length: 100, dtype: object"
      ]
     },
     "metadata": {},
     "execution_count": 539
    }
   ],
   "source": [
    "# col = 'Embarked', 결측값 'X'로 채우기\n",
    "train_df['Embarked'] = train_df['Embarked'].fillna('X')\n",
    "test_df['Embarked'] = test_df['Embarked'].fillna('X')\n",
    "train_df['Embarked'][:100]"
   ]
  },
  {
   "cell_type": "code",
   "execution_count": 540,
   "metadata": {},
   "outputs": [
    {
     "output_type": "execute_result",
     "data": {
      "text/plain": [
       "0     3.337192\n",
       "1     2.663750\n",
       "2     4.280686\n",
       "3     2.641910\n",
       "4     2.170196\n",
       "        ...   \n",
       "95    3.503754\n",
       "96    3.312730\n",
       "97    4.884921\n",
       "98    3.363149\n",
       "99    5.633217\n",
       "Name: Fare, Length: 100, dtype: float64"
      ]
     },
     "metadata": {},
     "execution_count": 540
    }
   ],
   "source": [
    "# col = 'Fare', 결측값 각 Pclass 마다 fare 중앙값을 넣는다.\n",
    "fare_map =  train_df[['Fare', 'Pclass']].dropna().groupby('Pclass').median().to_dict()\n",
    "# fare_map    # {'Fare': {1: 63.58, 2: 22.72, 3: 10.96}}\n",
    "train_df['Fare'] = train_df['Fare'].fillna(train_df['Pclass'].map(fare_map['Fare']))\n",
    "train_df['Fare'] = np.log1p(train_df['Fare'])\n",
    "train_df['Fare'][:100]"
   ]
  },
  {
   "cell_type": "code",
   "execution_count": 541,
   "metadata": {},
   "outputs": [
    {
     "output_type": "execute_result",
     "data": {
      "text/plain": [
       "0     4.159039\n",
       "1     1.918392\n",
       "2     3.686627\n",
       "3     2.634045\n",
       "4     3.328268\n",
       "        ...   \n",
       "95    2.249184\n",
       "96    2.621766\n",
       "97    1.969906\n",
       "98    2.536866\n",
       "99    3.469479\n",
       "Name: Fare, Length: 100, dtype: float64"
      ]
     },
     "metadata": {},
     "execution_count": 541
    }
   ],
   "source": [
    "# col = 'Fare', 결측값 각 Pclass 마다 fare 중앙값을 넣는다.\n",
    "fare_map =  test_df[['Fare', 'Pclass']].dropna().groupby('Pclass').median().to_dict()\n",
    "# fare_map    # {'Fare': {1: 80.68, 2: 14.455, 3: 11.52}}\n",
    "test_df['Fare'] = test_df['Fare'].fillna(test_df['Pclass'].map(fare_map['Fare']))\n",
    "test_df['Fare'] = np.log1p(test_df['Fare'])\n",
    "test_df['Fare'][:100]"
   ]
  },
  {
   "source": [
    "* 앞 이름만 가져오기"
   ],
   "cell_type": "markdown",
   "metadata": {}
  },
  {
   "cell_type": "code",
   "execution_count": 542,
   "metadata": {},
   "outputs": [
    {
     "output_type": "execute_result",
     "data": {
      "text/plain": [
       "       PassengerId  Survived  Pclass       Name     Sex        Age  SibSp  \\\n",
       "0                0         1       1    Oconnor    male  38.355472      2   \n",
       "1                1         0       3      Bryan    male  38.355472      0   \n",
       "2                2         0       3      Owens    male   0.330000      1   \n",
       "3                3         0       3     Kramer    male  19.000000      0   \n",
       "4                4         1       3       Bond    male  25.000000      0   \n",
       "...            ...       ...     ...        ...     ...        ...    ...   \n",
       "99995        99995         1       2       Bell  female  62.000000      0   \n",
       "99996        99996         0       2      Brown    male  66.000000      0   \n",
       "99997        99997         0       3  Childress    male  37.000000      0   \n",
       "99998        99998         0       3   Caughlin    male  51.000000      0   \n",
       "99999        99999         0       3     Enciso    male  55.000000      0   \n",
       "\n",
       "       Parch Ticket      Fare Cabin Embarked  \n",
       "0          0      X  3.337192     C        S  \n",
       "1          0      X  2.663750     X        S  \n",
       "2          2     CA  4.280686     X        S  \n",
       "3          0     A.  2.641910     X        S  \n",
       "4          0      X  2.170196     X        S  \n",
       "...      ...    ...       ...   ...      ...  \n",
       "99995      0     PC  2.763800     D        C  \n",
       "99996      0      X  2.497329     X        S  \n",
       "99997      0      X  2.393339     X        S  \n",
       "99998      1      X  3.463233     X        S  \n",
       "99999      0      X  2.705380     X        S  \n",
       "\n",
       "[100000 rows x 12 columns]"
      ],
      "text/html": "<div>\n<style scoped>\n    .dataframe tbody tr th:only-of-type {\n        vertical-align: middle;\n    }\n\n    .dataframe tbody tr th {\n        vertical-align: top;\n    }\n\n    .dataframe thead th {\n        text-align: right;\n    }\n</style>\n<table border=\"1\" class=\"dataframe\">\n  <thead>\n    <tr style=\"text-align: right;\">\n      <th></th>\n      <th>PassengerId</th>\n      <th>Survived</th>\n      <th>Pclass</th>\n      <th>Name</th>\n      <th>Sex</th>\n      <th>Age</th>\n      <th>SibSp</th>\n      <th>Parch</th>\n      <th>Ticket</th>\n      <th>Fare</th>\n      <th>Cabin</th>\n      <th>Embarked</th>\n    </tr>\n  </thead>\n  <tbody>\n    <tr>\n      <th>0</th>\n      <td>0</td>\n      <td>1</td>\n      <td>1</td>\n      <td>Oconnor</td>\n      <td>male</td>\n      <td>38.355472</td>\n      <td>2</td>\n      <td>0</td>\n      <td>X</td>\n      <td>3.337192</td>\n      <td>C</td>\n      <td>S</td>\n    </tr>\n    <tr>\n      <th>1</th>\n      <td>1</td>\n      <td>0</td>\n      <td>3</td>\n      <td>Bryan</td>\n      <td>male</td>\n      <td>38.355472</td>\n      <td>0</td>\n      <td>0</td>\n      <td>X</td>\n      <td>2.663750</td>\n      <td>X</td>\n      <td>S</td>\n    </tr>\n    <tr>\n      <th>2</th>\n      <td>2</td>\n      <td>0</td>\n      <td>3</td>\n      <td>Owens</td>\n      <td>male</td>\n      <td>0.330000</td>\n      <td>1</td>\n      <td>2</td>\n      <td>CA</td>\n      <td>4.280686</td>\n      <td>X</td>\n      <td>S</td>\n    </tr>\n    <tr>\n      <th>3</th>\n      <td>3</td>\n      <td>0</td>\n      <td>3</td>\n      <td>Kramer</td>\n      <td>male</td>\n      <td>19.000000</td>\n      <td>0</td>\n      <td>0</td>\n      <td>A.</td>\n      <td>2.641910</td>\n      <td>X</td>\n      <td>S</td>\n    </tr>\n    <tr>\n      <th>4</th>\n      <td>4</td>\n      <td>1</td>\n      <td>3</td>\n      <td>Bond</td>\n      <td>male</td>\n      <td>25.000000</td>\n      <td>0</td>\n      <td>0</td>\n      <td>X</td>\n      <td>2.170196</td>\n      <td>X</td>\n      <td>S</td>\n    </tr>\n    <tr>\n      <th>...</th>\n      <td>...</td>\n      <td>...</td>\n      <td>...</td>\n      <td>...</td>\n      <td>...</td>\n      <td>...</td>\n      <td>...</td>\n      <td>...</td>\n      <td>...</td>\n      <td>...</td>\n      <td>...</td>\n      <td>...</td>\n    </tr>\n    <tr>\n      <th>99995</th>\n      <td>99995</td>\n      <td>1</td>\n      <td>2</td>\n      <td>Bell</td>\n      <td>female</td>\n      <td>62.000000</td>\n      <td>0</td>\n      <td>0</td>\n      <td>PC</td>\n      <td>2.763800</td>\n      <td>D</td>\n      <td>C</td>\n    </tr>\n    <tr>\n      <th>99996</th>\n      <td>99996</td>\n      <td>0</td>\n      <td>2</td>\n      <td>Brown</td>\n      <td>male</td>\n      <td>66.000000</td>\n      <td>0</td>\n      <td>0</td>\n      <td>X</td>\n      <td>2.497329</td>\n      <td>X</td>\n      <td>S</td>\n    </tr>\n    <tr>\n      <th>99997</th>\n      <td>99997</td>\n      <td>0</td>\n      <td>3</td>\n      <td>Childress</td>\n      <td>male</td>\n      <td>37.000000</td>\n      <td>0</td>\n      <td>0</td>\n      <td>X</td>\n      <td>2.393339</td>\n      <td>X</td>\n      <td>S</td>\n    </tr>\n    <tr>\n      <th>99998</th>\n      <td>99998</td>\n      <td>0</td>\n      <td>3</td>\n      <td>Caughlin</td>\n      <td>male</td>\n      <td>51.000000</td>\n      <td>0</td>\n      <td>1</td>\n      <td>X</td>\n      <td>3.463233</td>\n      <td>X</td>\n      <td>S</td>\n    </tr>\n    <tr>\n      <th>99999</th>\n      <td>99999</td>\n      <td>0</td>\n      <td>3</td>\n      <td>Enciso</td>\n      <td>male</td>\n      <td>55.000000</td>\n      <td>0</td>\n      <td>0</td>\n      <td>X</td>\n      <td>2.705380</td>\n      <td>X</td>\n      <td>S</td>\n    </tr>\n  </tbody>\n</table>\n<p>100000 rows × 12 columns</p>\n</div>"
     },
     "metadata": {},
     "execution_count": 542
    }
   ],
   "source": [
    "train_df['Name'] = train_df['Name'].map(lambda x: x.split(',')[0])\n",
    "test_df['Name'] = test_df['Name'].map(lambda x: x.split(',')[0])\n",
    "train_df"
   ]
  },
  {
   "source": [
    "* 'Survived' 컬럼을 맨 뒤로 보내기"
   ],
   "cell_type": "markdown",
   "metadata": {}
  },
  {
   "cell_type": "code",
   "execution_count": 543,
   "metadata": {},
   "outputs": [
    {
     "output_type": "execute_result",
     "data": {
      "text/plain": [
       "       PassengerId  Pclass       Name     Sex        Age  SibSp  Parch Ticket  \\\n",
       "0                0       1    Oconnor    male  38.355472      2      0      X   \n",
       "1                1       3      Bryan    male  38.355472      0      0      X   \n",
       "2                2       3      Owens    male   0.330000      1      2     CA   \n",
       "3                3       3     Kramer    male  19.000000      0      0     A.   \n",
       "4                4       3       Bond    male  25.000000      0      0      X   \n",
       "...            ...     ...        ...     ...        ...    ...    ...    ...   \n",
       "99995        99995       2       Bell  female  62.000000      0      0     PC   \n",
       "99996        99996       2      Brown    male  66.000000      0      0      X   \n",
       "99997        99997       3  Childress    male  37.000000      0      0      X   \n",
       "99998        99998       3   Caughlin    male  51.000000      0      1      X   \n",
       "99999        99999       3     Enciso    male  55.000000      0      0      X   \n",
       "\n",
       "           Fare Cabin Embarked  y_target  \n",
       "0      3.337192     C        S         1  \n",
       "1      2.663750     X        S         0  \n",
       "2      4.280686     X        S         0  \n",
       "3      2.641910     X        S         0  \n",
       "4      2.170196     X        S         1  \n",
       "...         ...   ...      ...       ...  \n",
       "99995  2.763800     D        C         1  \n",
       "99996  2.497329     X        S         0  \n",
       "99997  2.393339     X        S         0  \n",
       "99998  3.463233     X        S         0  \n",
       "99999  2.705380     X        S         0  \n",
       "\n",
       "[100000 rows x 12 columns]"
      ],
      "text/html": "<div>\n<style scoped>\n    .dataframe tbody tr th:only-of-type {\n        vertical-align: middle;\n    }\n\n    .dataframe tbody tr th {\n        vertical-align: top;\n    }\n\n    .dataframe thead th {\n        text-align: right;\n    }\n</style>\n<table border=\"1\" class=\"dataframe\">\n  <thead>\n    <tr style=\"text-align: right;\">\n      <th></th>\n      <th>PassengerId</th>\n      <th>Pclass</th>\n      <th>Name</th>\n      <th>Sex</th>\n      <th>Age</th>\n      <th>SibSp</th>\n      <th>Parch</th>\n      <th>Ticket</th>\n      <th>Fare</th>\n      <th>Cabin</th>\n      <th>Embarked</th>\n      <th>y_target</th>\n    </tr>\n  </thead>\n  <tbody>\n    <tr>\n      <th>0</th>\n      <td>0</td>\n      <td>1</td>\n      <td>Oconnor</td>\n      <td>male</td>\n      <td>38.355472</td>\n      <td>2</td>\n      <td>0</td>\n      <td>X</td>\n      <td>3.337192</td>\n      <td>C</td>\n      <td>S</td>\n      <td>1</td>\n    </tr>\n    <tr>\n      <th>1</th>\n      <td>1</td>\n      <td>3</td>\n      <td>Bryan</td>\n      <td>male</td>\n      <td>38.355472</td>\n      <td>0</td>\n      <td>0</td>\n      <td>X</td>\n      <td>2.663750</td>\n      <td>X</td>\n      <td>S</td>\n      <td>0</td>\n    </tr>\n    <tr>\n      <th>2</th>\n      <td>2</td>\n      <td>3</td>\n      <td>Owens</td>\n      <td>male</td>\n      <td>0.330000</td>\n      <td>1</td>\n      <td>2</td>\n      <td>CA</td>\n      <td>4.280686</td>\n      <td>X</td>\n      <td>S</td>\n      <td>0</td>\n    </tr>\n    <tr>\n      <th>3</th>\n      <td>3</td>\n      <td>3</td>\n      <td>Kramer</td>\n      <td>male</td>\n      <td>19.000000</td>\n      <td>0</td>\n      <td>0</td>\n      <td>A.</td>\n      <td>2.641910</td>\n      <td>X</td>\n      <td>S</td>\n      <td>0</td>\n    </tr>\n    <tr>\n      <th>4</th>\n      <td>4</td>\n      <td>3</td>\n      <td>Bond</td>\n      <td>male</td>\n      <td>25.000000</td>\n      <td>0</td>\n      <td>0</td>\n      <td>X</td>\n      <td>2.170196</td>\n      <td>X</td>\n      <td>S</td>\n      <td>1</td>\n    </tr>\n    <tr>\n      <th>...</th>\n      <td>...</td>\n      <td>...</td>\n      <td>...</td>\n      <td>...</td>\n      <td>...</td>\n      <td>...</td>\n      <td>...</td>\n      <td>...</td>\n      <td>...</td>\n      <td>...</td>\n      <td>...</td>\n      <td>...</td>\n    </tr>\n    <tr>\n      <th>99995</th>\n      <td>99995</td>\n      <td>2</td>\n      <td>Bell</td>\n      <td>female</td>\n      <td>62.000000</td>\n      <td>0</td>\n      <td>0</td>\n      <td>PC</td>\n      <td>2.763800</td>\n      <td>D</td>\n      <td>C</td>\n      <td>1</td>\n    </tr>\n    <tr>\n      <th>99996</th>\n      <td>99996</td>\n      <td>2</td>\n      <td>Brown</td>\n      <td>male</td>\n      <td>66.000000</td>\n      <td>0</td>\n      <td>0</td>\n      <td>X</td>\n      <td>2.497329</td>\n      <td>X</td>\n      <td>S</td>\n      <td>0</td>\n    </tr>\n    <tr>\n      <th>99997</th>\n      <td>99997</td>\n      <td>3</td>\n      <td>Childress</td>\n      <td>male</td>\n      <td>37.000000</td>\n      <td>0</td>\n      <td>0</td>\n      <td>X</td>\n      <td>2.393339</td>\n      <td>X</td>\n      <td>S</td>\n      <td>0</td>\n    </tr>\n    <tr>\n      <th>99998</th>\n      <td>99998</td>\n      <td>3</td>\n      <td>Caughlin</td>\n      <td>male</td>\n      <td>51.000000</td>\n      <td>0</td>\n      <td>1</td>\n      <td>X</td>\n      <td>3.463233</td>\n      <td>X</td>\n      <td>S</td>\n      <td>0</td>\n    </tr>\n    <tr>\n      <th>99999</th>\n      <td>99999</td>\n      <td>3</td>\n      <td>Enciso</td>\n      <td>male</td>\n      <td>55.000000</td>\n      <td>0</td>\n      <td>0</td>\n      <td>X</td>\n      <td>2.705380</td>\n      <td>X</td>\n      <td>S</td>\n      <td>0</td>\n    </tr>\n  </tbody>\n</table>\n<p>100000 rows × 12 columns</p>\n</div>"
     },
     "metadata": {},
     "execution_count": 543
    }
   ],
   "source": [
    "train_df['y_target'] = train_df['Survived']\n",
    "train_df = train_df.drop(['Survived'], axis=1)\n",
    "train_df"
   ]
  },
  {
   "source": [
    "* 문자들을 숫자로 치환하기"
   ],
   "cell_type": "markdown",
   "metadata": {}
  },
  {
   "cell_type": "code",
   "execution_count": 544,
   "metadata": {},
   "outputs": [],
   "source": [
    "def label_encoder(c):\n",
    "    encoder = LabelEncoder()\n",
    "    return encoder.fit_transform(c)\n",
    "\n",
    "labels_col = ['Sex','Ticket']\n",
    "label_encoded_df = train_df[labels_col].apply(label_encoder)\n",
    "test_label_encoded_df = test_df[labels_col].apply(label_encoder)\n",
    "# label_encoded_df\n",
    "\n",
    "onehot_cols = ['Cabin', 'Embarked']\n",
    "onehot_encoded_df = pd.get_dummies(train_df[onehot_cols])\n",
    "test_onehot_encoded_df = pd.get_dummies(test_df[onehot_cols])\n",
    "# onehot_encoded_df\n",
    "\n",
    "numerical_cols = ['Age', 'SibSp', 'Parch', 'Fare']\n",
    "scaler = MinMaxScaler()\n",
    "numerical_df = pd.DataFrame(scaler.fit_transform(train_df[numerical_cols]), columns=numerical_cols)\n",
    "test_numerical_df = pd.DataFrame(scaler.fit_transform(test_df[numerical_cols]), columns=numerical_cols)\n",
    "# numerical_df\n",
    "\n",
    "etc_df = train_df['Pclass']\n",
    "test_etc_df = test_df['Pclass']\n",
    "\n",
    "target_df = train_df['y_target']\n",
    "\n",
    "\n",
    "train_df = pd.concat([etc_df, numerical_df, label_encoded_df, onehot_encoded_df, target_df], axis=1)\n",
    "test_df = pd.concat([test_etc_df, test_numerical_df, test_label_encoded_df, test_onehot_encoded_df], axis=1)"
   ]
  },
  {
   "source": [
    "최종적으로 사용할 데이터 셋"
   ],
   "cell_type": "markdown",
   "metadata": {}
  },
  {
   "cell_type": "code",
   "execution_count": 545,
   "metadata": {},
   "outputs": [
    {
     "output_type": "execute_result",
     "data": {
      "text/plain": [
       "       Pclass       Age  SibSp     Parch      Fare  Sex  Ticket  Cabin_A  \\\n",
       "0           1  0.440353  0.250  0.000000  0.462375    1      49        0   \n",
       "1           3  0.440353  0.000  0.000000  0.351893    1      49        0   \n",
       "2           3  0.002876  0.125  0.222222  0.617161    1      14        0   \n",
       "3           3  0.217671  0.000  0.000000  0.348310    1       0        0   \n",
       "4           3  0.286700  0.000  0.000000  0.270923    1      49        0   \n",
       "...       ...       ...    ...       ...       ...  ...     ...      ...   \n",
       "99995       2  0.712379  0.000  0.000000  0.368307    0      21        0   \n",
       "99996       2  0.758399  0.000  0.000000  0.324591    1      49        0   \n",
       "99997       3  0.424758  0.000  0.000000  0.307531    1      49        0   \n",
       "99998       3  0.585826  0.000  0.111111  0.483053    1      49        0   \n",
       "99999       3  0.631845  0.000  0.000000  0.358723    1      49        0   \n",
       "\n",
       "       Cabin_B  Cabin_C  ...  Cabin_E  Cabin_F  Cabin_G  Cabin_T  Cabin_X  \\\n",
       "0            0        1  ...        0        0        0        0        0   \n",
       "1            0        0  ...        0        0        0        0        1   \n",
       "2            0        0  ...        0        0        0        0        1   \n",
       "3            0        0  ...        0        0        0        0        1   \n",
       "4            0        0  ...        0        0        0        0        1   \n",
       "...        ...      ...  ...      ...      ...      ...      ...      ...   \n",
       "99995        0        0  ...        0        0        0        0        0   \n",
       "99996        0        0  ...        0        0        0        0        1   \n",
       "99997        0        0  ...        0        0        0        0        1   \n",
       "99998        0        0  ...        0        0        0        0        1   \n",
       "99999        0        0  ...        0        0        0        0        1   \n",
       "\n",
       "       Embarked_C  Embarked_Q  Embarked_S  Embarked_X  y_target  \n",
       "0               0           0           1           0         1  \n",
       "1               0           0           1           0         0  \n",
       "2               0           0           1           0         0  \n",
       "3               0           0           1           0         0  \n",
       "4               0           0           1           0         1  \n",
       "...           ...         ...         ...         ...       ...  \n",
       "99995           1           0           0           0         1  \n",
       "99996           0           0           1           0         0  \n",
       "99997           0           0           1           0         0  \n",
       "99998           0           0           1           0         0  \n",
       "99999           0           0           1           0         0  \n",
       "\n",
       "[100000 rows x 21 columns]"
      ],
      "text/html": "<div>\n<style scoped>\n    .dataframe tbody tr th:only-of-type {\n        vertical-align: middle;\n    }\n\n    .dataframe tbody tr th {\n        vertical-align: top;\n    }\n\n    .dataframe thead th {\n        text-align: right;\n    }\n</style>\n<table border=\"1\" class=\"dataframe\">\n  <thead>\n    <tr style=\"text-align: right;\">\n      <th></th>\n      <th>Pclass</th>\n      <th>Age</th>\n      <th>SibSp</th>\n      <th>Parch</th>\n      <th>Fare</th>\n      <th>Sex</th>\n      <th>Ticket</th>\n      <th>Cabin_A</th>\n      <th>Cabin_B</th>\n      <th>Cabin_C</th>\n      <th>...</th>\n      <th>Cabin_E</th>\n      <th>Cabin_F</th>\n      <th>Cabin_G</th>\n      <th>Cabin_T</th>\n      <th>Cabin_X</th>\n      <th>Embarked_C</th>\n      <th>Embarked_Q</th>\n      <th>Embarked_S</th>\n      <th>Embarked_X</th>\n      <th>y_target</th>\n    </tr>\n  </thead>\n  <tbody>\n    <tr>\n      <th>0</th>\n      <td>1</td>\n      <td>0.440353</td>\n      <td>0.250</td>\n      <td>0.000000</td>\n      <td>0.462375</td>\n      <td>1</td>\n      <td>49</td>\n      <td>0</td>\n      <td>0</td>\n      <td>1</td>\n      <td>...</td>\n      <td>0</td>\n      <td>0</td>\n      <td>0</td>\n      <td>0</td>\n      <td>0</td>\n      <td>0</td>\n      <td>0</td>\n      <td>1</td>\n      <td>0</td>\n      <td>1</td>\n    </tr>\n    <tr>\n      <th>1</th>\n      <td>3</td>\n      <td>0.440353</td>\n      <td>0.000</td>\n      <td>0.000000</td>\n      <td>0.351893</td>\n      <td>1</td>\n      <td>49</td>\n      <td>0</td>\n      <td>0</td>\n      <td>0</td>\n      <td>...</td>\n      <td>0</td>\n      <td>0</td>\n      <td>0</td>\n      <td>0</td>\n      <td>1</td>\n      <td>0</td>\n      <td>0</td>\n      <td>1</td>\n      <td>0</td>\n      <td>0</td>\n    </tr>\n    <tr>\n      <th>2</th>\n      <td>3</td>\n      <td>0.002876</td>\n      <td>0.125</td>\n      <td>0.222222</td>\n      <td>0.617161</td>\n      <td>1</td>\n      <td>14</td>\n      <td>0</td>\n      <td>0</td>\n      <td>0</td>\n      <td>...</td>\n      <td>0</td>\n      <td>0</td>\n      <td>0</td>\n      <td>0</td>\n      <td>1</td>\n      <td>0</td>\n      <td>0</td>\n      <td>1</td>\n      <td>0</td>\n      <td>0</td>\n    </tr>\n    <tr>\n      <th>3</th>\n      <td>3</td>\n      <td>0.217671</td>\n      <td>0.000</td>\n      <td>0.000000</td>\n      <td>0.348310</td>\n      <td>1</td>\n      <td>0</td>\n      <td>0</td>\n      <td>0</td>\n      <td>0</td>\n      <td>...</td>\n      <td>0</td>\n      <td>0</td>\n      <td>0</td>\n      <td>0</td>\n      <td>1</td>\n      <td>0</td>\n      <td>0</td>\n      <td>1</td>\n      <td>0</td>\n      <td>0</td>\n    </tr>\n    <tr>\n      <th>4</th>\n      <td>3</td>\n      <td>0.286700</td>\n      <td>0.000</td>\n      <td>0.000000</td>\n      <td>0.270923</td>\n      <td>1</td>\n      <td>49</td>\n      <td>0</td>\n      <td>0</td>\n      <td>0</td>\n      <td>...</td>\n      <td>0</td>\n      <td>0</td>\n      <td>0</td>\n      <td>0</td>\n      <td>1</td>\n      <td>0</td>\n      <td>0</td>\n      <td>1</td>\n      <td>0</td>\n      <td>1</td>\n    </tr>\n    <tr>\n      <th>...</th>\n      <td>...</td>\n      <td>...</td>\n      <td>...</td>\n      <td>...</td>\n      <td>...</td>\n      <td>...</td>\n      <td>...</td>\n      <td>...</td>\n      <td>...</td>\n      <td>...</td>\n      <td>...</td>\n      <td>...</td>\n      <td>...</td>\n      <td>...</td>\n      <td>...</td>\n      <td>...</td>\n      <td>...</td>\n      <td>...</td>\n      <td>...</td>\n      <td>...</td>\n      <td>...</td>\n    </tr>\n    <tr>\n      <th>99995</th>\n      <td>2</td>\n      <td>0.712379</td>\n      <td>0.000</td>\n      <td>0.000000</td>\n      <td>0.368307</td>\n      <td>0</td>\n      <td>21</td>\n      <td>0</td>\n      <td>0</td>\n      <td>0</td>\n      <td>...</td>\n      <td>0</td>\n      <td>0</td>\n      <td>0</td>\n      <td>0</td>\n      <td>0</td>\n      <td>1</td>\n      <td>0</td>\n      <td>0</td>\n      <td>0</td>\n      <td>1</td>\n    </tr>\n    <tr>\n      <th>99996</th>\n      <td>2</td>\n      <td>0.758399</td>\n      <td>0.000</td>\n      <td>0.000000</td>\n      <td>0.324591</td>\n      <td>1</td>\n      <td>49</td>\n      <td>0</td>\n      <td>0</td>\n      <td>0</td>\n      <td>...</td>\n      <td>0</td>\n      <td>0</td>\n      <td>0</td>\n      <td>0</td>\n      <td>1</td>\n      <td>0</td>\n      <td>0</td>\n      <td>1</td>\n      <td>0</td>\n      <td>0</td>\n    </tr>\n    <tr>\n      <th>99997</th>\n      <td>3</td>\n      <td>0.424758</td>\n      <td>0.000</td>\n      <td>0.000000</td>\n      <td>0.307531</td>\n      <td>1</td>\n      <td>49</td>\n      <td>0</td>\n      <td>0</td>\n      <td>0</td>\n      <td>...</td>\n      <td>0</td>\n      <td>0</td>\n      <td>0</td>\n      <td>0</td>\n      <td>1</td>\n      <td>0</td>\n      <td>0</td>\n      <td>1</td>\n      <td>0</td>\n      <td>0</td>\n    </tr>\n    <tr>\n      <th>99998</th>\n      <td>3</td>\n      <td>0.585826</td>\n      <td>0.000</td>\n      <td>0.111111</td>\n      <td>0.483053</td>\n      <td>1</td>\n      <td>49</td>\n      <td>0</td>\n      <td>0</td>\n      <td>0</td>\n      <td>...</td>\n      <td>0</td>\n      <td>0</td>\n      <td>0</td>\n      <td>0</td>\n      <td>1</td>\n      <td>0</td>\n      <td>0</td>\n      <td>1</td>\n      <td>0</td>\n      <td>0</td>\n    </tr>\n    <tr>\n      <th>99999</th>\n      <td>3</td>\n      <td>0.631845</td>\n      <td>0.000</td>\n      <td>0.000000</td>\n      <td>0.358723</td>\n      <td>1</td>\n      <td>49</td>\n      <td>0</td>\n      <td>0</td>\n      <td>0</td>\n      <td>...</td>\n      <td>0</td>\n      <td>0</td>\n      <td>0</td>\n      <td>0</td>\n      <td>1</td>\n      <td>0</td>\n      <td>0</td>\n      <td>1</td>\n      <td>0</td>\n      <td>0</td>\n    </tr>\n  </tbody>\n</table>\n<p>100000 rows × 21 columns</p>\n</div>"
     },
     "metadata": {},
     "execution_count": 545
    }
   ],
   "source": [
    "train_df"
   ]
  },
  {
   "cell_type": "code",
   "execution_count": 546,
   "metadata": {},
   "outputs": [
    {
     "output_type": "execute_result",
     "data": {
      "text/plain": [
       "       Pclass       Age  SibSp     Parch      Fare  Sex  Ticket  Cabin_A  \\\n",
       "0           3  0.233811  0.000  0.000000  0.634709    1      49        0   \n",
       "1           3  0.653979  0.000  0.000000  0.288706    0      49        0   \n",
       "2           1  0.233811  0.000  0.000000  0.561759    0      49        0   \n",
       "3           2  0.307958  0.000  0.000000  0.399218    1      49        0   \n",
       "4           1  0.209095  0.000  0.222222  0.506421    0      49        0   \n",
       "...       ...       ...    ...       ...       ...  ...     ...      ...   \n",
       "99995       3  0.332674  0.000  0.000000  0.364427    0      49        0   \n",
       "99996       1  0.728127  0.125  0.000000  0.646993    1      49        0   \n",
       "99997       3  0.579832  0.000  0.000000  0.374506    1      49        0   \n",
       "99998       1  0.604548  0.125  0.222222  0.521143    0      21        0   \n",
       "99999       1  0.505685  0.000  0.222222  0.807841    0      21        0   \n",
       "\n",
       "       Cabin_B  Cabin_C  Cabin_D  Cabin_E  Cabin_F  Cabin_G  Cabin_T  Cabin_X  \\\n",
       "0            0        0        0        0        0        0        0        1   \n",
       "1            0        0        0        0        0        0        0        1   \n",
       "2            1        0        0        0        0        0        0        0   \n",
       "3            0        0        0        0        0        0        0        1   \n",
       "4            1        0        0        0        0        0        0        0   \n",
       "...        ...      ...      ...      ...      ...      ...      ...      ...   \n",
       "99995        0        0        0        0        0        0        0        1   \n",
       "99996        0        0        0        0        0        0        0        1   \n",
       "99997        0        0        0        0        0        0        0        1   \n",
       "99998        1        0        0        0        0        0        0        0   \n",
       "99999        0        0        0        1        0        0        0        0   \n",
       "\n",
       "       Embarked_C  Embarked_Q  Embarked_S  Embarked_X  \n",
       "0               0           0           1           0  \n",
       "1               0           0           1           0  \n",
       "2               1           0           0           0  \n",
       "3               0           0           1           0  \n",
       "4               1           0           0           0  \n",
       "...           ...         ...         ...         ...  \n",
       "99995           0           1           0           0  \n",
       "99996           0           0           1           0  \n",
       "99997           0           0           1           0  \n",
       "99998           1           0           0           0  \n",
       "99999           1           0           0           0  \n",
       "\n",
       "[100000 rows x 20 columns]"
      ],
      "text/html": "<div>\n<style scoped>\n    .dataframe tbody tr th:only-of-type {\n        vertical-align: middle;\n    }\n\n    .dataframe tbody tr th {\n        vertical-align: top;\n    }\n\n    .dataframe thead th {\n        text-align: right;\n    }\n</style>\n<table border=\"1\" class=\"dataframe\">\n  <thead>\n    <tr style=\"text-align: right;\">\n      <th></th>\n      <th>Pclass</th>\n      <th>Age</th>\n      <th>SibSp</th>\n      <th>Parch</th>\n      <th>Fare</th>\n      <th>Sex</th>\n      <th>Ticket</th>\n      <th>Cabin_A</th>\n      <th>Cabin_B</th>\n      <th>Cabin_C</th>\n      <th>Cabin_D</th>\n      <th>Cabin_E</th>\n      <th>Cabin_F</th>\n      <th>Cabin_G</th>\n      <th>Cabin_T</th>\n      <th>Cabin_X</th>\n      <th>Embarked_C</th>\n      <th>Embarked_Q</th>\n      <th>Embarked_S</th>\n      <th>Embarked_X</th>\n    </tr>\n  </thead>\n  <tbody>\n    <tr>\n      <th>0</th>\n      <td>3</td>\n      <td>0.233811</td>\n      <td>0.000</td>\n      <td>0.000000</td>\n      <td>0.634709</td>\n      <td>1</td>\n      <td>49</td>\n      <td>0</td>\n      <td>0</td>\n      <td>0</td>\n      <td>0</td>\n      <td>0</td>\n      <td>0</td>\n      <td>0</td>\n      <td>0</td>\n      <td>1</td>\n      <td>0</td>\n      <td>0</td>\n      <td>1</td>\n      <td>0</td>\n    </tr>\n    <tr>\n      <th>1</th>\n      <td>3</td>\n      <td>0.653979</td>\n      <td>0.000</td>\n      <td>0.000000</td>\n      <td>0.288706</td>\n      <td>0</td>\n      <td>49</td>\n      <td>0</td>\n      <td>0</td>\n      <td>0</td>\n      <td>0</td>\n      <td>0</td>\n      <td>0</td>\n      <td>0</td>\n      <td>0</td>\n      <td>1</td>\n      <td>0</td>\n      <td>0</td>\n      <td>1</td>\n      <td>0</td>\n    </tr>\n    <tr>\n      <th>2</th>\n      <td>1</td>\n      <td>0.233811</td>\n      <td>0.000</td>\n      <td>0.000000</td>\n      <td>0.561759</td>\n      <td>0</td>\n      <td>49</td>\n      <td>0</td>\n      <td>1</td>\n      <td>0</td>\n      <td>0</td>\n      <td>0</td>\n      <td>0</td>\n      <td>0</td>\n      <td>0</td>\n      <td>0</td>\n      <td>1</td>\n      <td>0</td>\n      <td>0</td>\n      <td>0</td>\n    </tr>\n    <tr>\n      <th>3</th>\n      <td>2</td>\n      <td>0.307958</td>\n      <td>0.000</td>\n      <td>0.000000</td>\n      <td>0.399218</td>\n      <td>1</td>\n      <td>49</td>\n      <td>0</td>\n      <td>0</td>\n      <td>0</td>\n      <td>0</td>\n      <td>0</td>\n      <td>0</td>\n      <td>0</td>\n      <td>0</td>\n      <td>1</td>\n      <td>0</td>\n      <td>0</td>\n      <td>1</td>\n      <td>0</td>\n    </tr>\n    <tr>\n      <th>4</th>\n      <td>1</td>\n      <td>0.209095</td>\n      <td>0.000</td>\n      <td>0.222222</td>\n      <td>0.506421</td>\n      <td>0</td>\n      <td>49</td>\n      <td>0</td>\n      <td>1</td>\n      <td>0</td>\n      <td>0</td>\n      <td>0</td>\n      <td>0</td>\n      <td>0</td>\n      <td>0</td>\n      <td>0</td>\n      <td>1</td>\n      <td>0</td>\n      <td>0</td>\n      <td>0</td>\n    </tr>\n    <tr>\n      <th>...</th>\n      <td>...</td>\n      <td>...</td>\n      <td>...</td>\n      <td>...</td>\n      <td>...</td>\n      <td>...</td>\n      <td>...</td>\n      <td>...</td>\n      <td>...</td>\n      <td>...</td>\n      <td>...</td>\n      <td>...</td>\n      <td>...</td>\n      <td>...</td>\n      <td>...</td>\n      <td>...</td>\n      <td>...</td>\n      <td>...</td>\n      <td>...</td>\n      <td>...</td>\n    </tr>\n    <tr>\n      <th>99995</th>\n      <td>3</td>\n      <td>0.332674</td>\n      <td>0.000</td>\n      <td>0.000000</td>\n      <td>0.364427</td>\n      <td>0</td>\n      <td>49</td>\n      <td>0</td>\n      <td>0</td>\n      <td>0</td>\n      <td>0</td>\n      <td>0</td>\n      <td>0</td>\n      <td>0</td>\n      <td>0</td>\n      <td>1</td>\n      <td>0</td>\n      <td>1</td>\n      <td>0</td>\n      <td>0</td>\n    </tr>\n    <tr>\n      <th>99996</th>\n      <td>1</td>\n      <td>0.728127</td>\n      <td>0.125</td>\n      <td>0.000000</td>\n      <td>0.646993</td>\n      <td>1</td>\n      <td>49</td>\n      <td>0</td>\n      <td>0</td>\n      <td>0</td>\n      <td>0</td>\n      <td>0</td>\n      <td>0</td>\n      <td>0</td>\n      <td>0</td>\n      <td>1</td>\n      <td>0</td>\n      <td>0</td>\n      <td>1</td>\n      <td>0</td>\n    </tr>\n    <tr>\n      <th>99997</th>\n      <td>3</td>\n      <td>0.579832</td>\n      <td>0.000</td>\n      <td>0.000000</td>\n      <td>0.374506</td>\n      <td>1</td>\n      <td>49</td>\n      <td>0</td>\n      <td>0</td>\n      <td>0</td>\n      <td>0</td>\n      <td>0</td>\n      <td>0</td>\n      <td>0</td>\n      <td>0</td>\n      <td>1</td>\n      <td>0</td>\n      <td>0</td>\n      <td>1</td>\n      <td>0</td>\n    </tr>\n    <tr>\n      <th>99998</th>\n      <td>1</td>\n      <td>0.604548</td>\n      <td>0.125</td>\n      <td>0.222222</td>\n      <td>0.521143</td>\n      <td>0</td>\n      <td>21</td>\n      <td>0</td>\n      <td>1</td>\n      <td>0</td>\n      <td>0</td>\n      <td>0</td>\n      <td>0</td>\n      <td>0</td>\n      <td>0</td>\n      <td>0</td>\n      <td>1</td>\n      <td>0</td>\n      <td>0</td>\n      <td>0</td>\n    </tr>\n    <tr>\n      <th>99999</th>\n      <td>1</td>\n      <td>0.505685</td>\n      <td>0.000</td>\n      <td>0.222222</td>\n      <td>0.807841</td>\n      <td>0</td>\n      <td>21</td>\n      <td>0</td>\n      <td>0</td>\n      <td>0</td>\n      <td>0</td>\n      <td>1</td>\n      <td>0</td>\n      <td>0</td>\n      <td>0</td>\n      <td>0</td>\n      <td>1</td>\n      <td>0</td>\n      <td>0</td>\n      <td>0</td>\n    </tr>\n  </tbody>\n</table>\n<p>100000 rows × 20 columns</p>\n</div>"
     },
     "metadata": {},
     "execution_count": 546
    }
   ],
   "source": [
    "test_df"
   ]
  },
  {
   "source": [
    "# 1. DATA"
   ],
   "cell_type": "markdown",
   "metadata": {}
  },
  {
   "cell_type": "code",
   "execution_count": 547,
   "metadata": {},
   "outputs": [
    {
     "output_type": "stream",
     "name": "stdout",
     "text": [
      "(100000, 20) (100000,)\n"
     ]
    }
   ],
   "source": [
    "# 훈련 데이터 셋\n",
    "x = train_df.drop(['y_target'], axis=1)\n",
    "y = train_df['y_target']\n",
    "x = x.to_numpy()\n",
    "y = y.to_numpy()\n",
    "print(x.shape, y.shape)"
   ]
  },
  {
   "cell_type": "code",
   "execution_count": 548,
   "metadata": {},
   "outputs": [
    {
     "output_type": "stream",
     "name": "stdout",
     "text": [
      "(100000, 20)\n"
     ]
    }
   ],
   "source": [
    "# 예측 데이터 셋\n",
    "x_pred = test_df\n",
    "x_pred = x_pred.to_numpy()\n",
    "print(x_pred.shape)"
   ]
  },
  {
   "cell_type": "code",
   "execution_count": 549,
   "metadata": {},
   "outputs": [
    {
     "output_type": "stream",
     "name": "stdout",
     "text": [
      "(80000, 20) (20000, 20)\n(80000,) (20000,)\n"
     ]
    }
   ],
   "source": [
    "x_train, x_val, y_train, y_val = train_test_split(x, y, train_size=0.8, shuffle=True, random_state=42)\n",
    "print(x_train.shape, x_val.shape)   # (80000, 20) (20000, 20)\n",
    "print(y_train.shape, y_val.shape)   # (80000,) (20000,)"
   ]
  },
  {
   "source": [
    "# 2. Model"
   ],
   "cell_type": "markdown",
   "metadata": {}
  },
  {
   "cell_type": "code",
   "execution_count": 550,
   "metadata": {
    "tags": [
     "outputPrepend"
    ]
   },
   "outputs": [
    {
     "output_type": "stream",
     "name": "stdout",
     "text": [
      "5640 (592)\ttotal: 7.94s\tremaining: 5.42s\n",
      "594:\tlearn: 0.4596798\ttest: 0.4715695\tbest: 0.4715640 (592)\ttotal: 7.95s\tremaining: 5.41s\n",
      "595:\tlearn: 0.4596599\ttest: 0.4715646\tbest: 0.4715640 (592)\ttotal: 7.96s\tremaining: 5.4s\n",
      "596:\tlearn: 0.4596325\ttest: 0.4715582\tbest: 0.4715582 (596)\ttotal: 7.98s\tremaining: 5.38s\n",
      "597:\tlearn: 0.4596058\ttest: 0.4715508\tbest: 0.4715508 (597)\ttotal: 7.99s\tremaining: 5.37s\n",
      "598:\tlearn: 0.4595829\ttest: 0.4715487\tbest: 0.4715487 (598)\ttotal: 8s\tremaining: 5.36s\n",
      "599:\tlearn: 0.4595564\ttest: 0.4715310\tbest: 0.4715310 (599)\ttotal: 8.02s\tremaining: 5.34s\n",
      "600:\tlearn: 0.4595458\ttest: 0.4715352\tbest: 0.4715310 (599)\ttotal: 8.03s\tremaining: 5.33s\n",
      "601:\tlearn: 0.4595164\ttest: 0.4715316\tbest: 0.4715310 (599)\ttotal: 8.04s\tremaining: 5.32s\n",
      "602:\tlearn: 0.4594982\ttest: 0.4715348\tbest: 0.4715310 (599)\ttotal: 8.06s\tremaining: 5.3s\n",
      "603:\tlearn: 0.4594771\ttest: 0.4715217\tbest: 0.4715217 (603)\ttotal: 8.07s\tremaining: 5.29s\n",
      "604:\tlearn: 0.4594504\ttest: 0.4715088\tbest: 0.4715088 (604)\ttotal: 8.09s\tremaining: 5.28s\n",
      "605:\tlearn: 0.4594349\ttest: 0.4715120\tbest: 0.4715088 (604)\ttotal: 8.1s\tremaining: 5.27s\n",
      "606:\tlearn: 0.4594129\ttest: 0.4715220\tbest: 0.4715088 (604)\ttotal: 8.11s\tremaining: 5.25s\n",
      "607:\tlearn: 0.4593942\ttest: 0.4715215\tbest: 0.4715088 (604)\ttotal: 8.13s\tremaining: 5.24s\n",
      "608:\tlearn: 0.4593795\ttest: 0.4715161\tbest: 0.4715088 (604)\ttotal: 8.14s\tremaining: 5.23s\n",
      "609:\tlearn: 0.4593477\ttest: 0.4715236\tbest: 0.4715088 (604)\ttotal: 8.15s\tremaining: 5.21s\n",
      "610:\tlearn: 0.4593217\ttest: 0.4715265\tbest: 0.4715088 (604)\ttotal: 8.17s\tremaining: 5.2s\n",
      "611:\tlearn: 0.4592960\ttest: 0.4715197\tbest: 0.4715088 (604)\ttotal: 8.18s\tremaining: 5.19s\n",
      "612:\tlearn: 0.4592790\ttest: 0.4715148\tbest: 0.4715088 (604)\ttotal: 8.2s\tremaining: 5.17s\n",
      "613:\tlearn: 0.4592609\ttest: 0.4715166\tbest: 0.4715088 (604)\ttotal: 8.21s\tremaining: 5.16s\n",
      "614:\tlearn: 0.4592352\ttest: 0.4715124\tbest: 0.4715088 (604)\ttotal: 8.22s\tremaining: 5.15s\n",
      "615:\tlearn: 0.4592182\ttest: 0.4715192\tbest: 0.4715088 (604)\ttotal: 8.24s\tremaining: 5.13s\n",
      "616:\tlearn: 0.4592041\ttest: 0.4715224\tbest: 0.4715088 (604)\ttotal: 8.25s\tremaining: 5.12s\n",
      "617:\tlearn: 0.4591863\ttest: 0.4715199\tbest: 0.4715088 (604)\ttotal: 8.26s\tremaining: 5.11s\n",
      "618:\tlearn: 0.4591667\ttest: 0.4715265\tbest: 0.4715088 (604)\ttotal: 8.28s\tremaining: 5.09s\n",
      "619:\tlearn: 0.4591393\ttest: 0.4715238\tbest: 0.4715088 (604)\ttotal: 8.29s\tremaining: 5.08s\n",
      "620:\tlearn: 0.4591161\ttest: 0.4715207\tbest: 0.4715088 (604)\ttotal: 8.3s\tremaining: 5.07s\n",
      "621:\tlearn: 0.4590968\ttest: 0.4715216\tbest: 0.4715088 (604)\ttotal: 8.32s\tremaining: 5.05s\n",
      "622:\tlearn: 0.4590702\ttest: 0.4715201\tbest: 0.4715088 (604)\ttotal: 8.33s\tremaining: 5.04s\n",
      "623:\tlearn: 0.4590543\ttest: 0.4715094\tbest: 0.4715088 (604)\ttotal: 8.34s\tremaining: 5.03s\n",
      "624:\tlearn: 0.4590383\ttest: 0.4714985\tbest: 0.4714985 (624)\ttotal: 8.36s\tremaining: 5.01s\n",
      "625:\tlearn: 0.4590249\ttest: 0.4714955\tbest: 0.4714955 (625)\ttotal: 8.37s\tremaining: 5s\n",
      "626:\tlearn: 0.4589923\ttest: 0.4714956\tbest: 0.4714955 (625)\ttotal: 8.38s\tremaining: 4.99s\n",
      "627:\tlearn: 0.4589720\ttest: 0.4714858\tbest: 0.4714858 (627)\ttotal: 8.4s\tremaining: 4.97s\n",
      "628:\tlearn: 0.4589362\ttest: 0.4714735\tbest: 0.4714735 (628)\ttotal: 8.41s\tremaining: 4.96s\n",
      "629:\tlearn: 0.4589244\ttest: 0.4714771\tbest: 0.4714735 (628)\ttotal: 8.42s\tremaining: 4.95s\n",
      "630:\tlearn: 0.4588973\ttest: 0.4714689\tbest: 0.4714689 (630)\ttotal: 8.44s\tremaining: 4.93s\n",
      "631:\tlearn: 0.4588866\ttest: 0.4714800\tbest: 0.4714689 (630)\ttotal: 8.45s\tremaining: 4.92s\n",
      "632:\tlearn: 0.4588685\ttest: 0.4714822\tbest: 0.4714689 (630)\ttotal: 8.46s\tremaining: 4.91s\n",
      "633:\tlearn: 0.4588570\ttest: 0.4714807\tbest: 0.4714689 (630)\ttotal: 8.48s\tremaining: 4.89s\n",
      "634:\tlearn: 0.4588424\ttest: 0.4714809\tbest: 0.4714689 (630)\ttotal: 8.49s\tremaining: 4.88s\n",
      "635:\tlearn: 0.4588064\ttest: 0.4714730\tbest: 0.4714689 (630)\ttotal: 8.5s\tremaining: 4.87s\n",
      "636:\tlearn: 0.4587925\ttest: 0.4714758\tbest: 0.4714689 (630)\ttotal: 8.52s\tremaining: 4.85s\n",
      "637:\tlearn: 0.4587799\ttest: 0.4714658\tbest: 0.4714658 (637)\ttotal: 8.53s\tremaining: 4.84s\n",
      "638:\tlearn: 0.4587666\ttest: 0.4714637\tbest: 0.4714637 (638)\ttotal: 8.54s\tremaining: 4.83s\n",
      "639:\tlearn: 0.4587510\ttest: 0.4714599\tbest: 0.4714599 (639)\ttotal: 8.56s\tremaining: 4.81s\n",
      "640:\tlearn: 0.4587346\ttest: 0.4714644\tbest: 0.4714599 (639)\ttotal: 8.57s\tremaining: 4.8s\n",
      "641:\tlearn: 0.4587236\ttest: 0.4714644\tbest: 0.4714599 (639)\ttotal: 8.58s\tremaining: 4.79s\n",
      "642:\tlearn: 0.4587079\ttest: 0.4714687\tbest: 0.4714599 (639)\ttotal: 8.6s\tremaining: 4.77s\n",
      "643:\tlearn: 0.4586928\ttest: 0.4714696\tbest: 0.4714599 (639)\ttotal: 8.61s\tremaining: 4.76s\n",
      "644:\tlearn: 0.4586831\ttest: 0.4714644\tbest: 0.4714599 (639)\ttotal: 8.62s\tremaining: 4.75s\n",
      "645:\tlearn: 0.4586682\ttest: 0.4714628\tbest: 0.4714599 (639)\ttotal: 8.63s\tremaining: 4.73s\n",
      "646:\tlearn: 0.4586593\ttest: 0.4714562\tbest: 0.4714562 (646)\ttotal: 8.65s\tremaining: 4.72s\n",
      "647:\tlearn: 0.4586367\ttest: 0.4714561\tbest: 0.4714561 (647)\ttotal: 8.66s\tremaining: 4.71s\n",
      "648:\tlearn: 0.4586165\ttest: 0.4714517\tbest: 0.4714517 (648)\ttotal: 8.68s\tremaining: 4.69s\n",
      "649:\tlearn: 0.4585979\ttest: 0.4714439\tbest: 0.4714439 (649)\ttotal: 8.69s\tremaining: 4.68s\n",
      "650:\tlearn: 0.4585871\ttest: 0.4714466\tbest: 0.4714439 (649)\ttotal: 8.7s\tremaining: 4.67s\n",
      "651:\tlearn: 0.4585609\ttest: 0.4714491\tbest: 0.4714439 (649)\ttotal: 8.71s\tremaining: 4.65s\n",
      "652:\tlearn: 0.4585404\ttest: 0.4714358\tbest: 0.4714358 (652)\ttotal: 8.73s\tremaining: 4.64s\n",
      "653:\tlearn: 0.4585264\ttest: 0.4714368\tbest: 0.4714358 (652)\ttotal: 8.74s\tremaining: 4.63s\n",
      "654:\tlearn: 0.4585008\ttest: 0.4714191\tbest: 0.4714191 (654)\ttotal: 8.76s\tremaining: 4.61s\n",
      "655:\tlearn: 0.4584778\ttest: 0.4714193\tbest: 0.4714191 (654)\ttotal: 8.77s\tremaining: 4.6s\n",
      "656:\tlearn: 0.4584698\ttest: 0.4714154\tbest: 0.4714154 (656)\ttotal: 8.78s\tremaining: 4.58s\n",
      "657:\tlearn: 0.4584447\ttest: 0.4714097\tbest: 0.4714097 (657)\ttotal: 8.79s\tremaining: 4.57s\n",
      "658:\tlearn: 0.4584359\ttest: 0.4714046\tbest: 0.4714046 (658)\ttotal: 8.81s\tremaining: 4.56s\n",
      "659:\tlearn: 0.4584135\ttest: 0.4713974\tbest: 0.4713974 (659)\ttotal: 8.82s\tremaining: 4.54s\n",
      "660:\tlearn: 0.4583830\ttest: 0.4713989\tbest: 0.4713974 (659)\ttotal: 8.83s\tremaining: 4.53s\n",
      "661:\tlearn: 0.4583398\ttest: 0.4713778\tbest: 0.4713778 (661)\ttotal: 8.85s\tremaining: 4.52s\n",
      "662:\tlearn: 0.4583219\ttest: 0.4713717\tbest: 0.4713717 (662)\ttotal: 8.86s\tremaining: 4.5s\n",
      "663:\tlearn: 0.4583057\ttest: 0.4713749\tbest: 0.4713717 (662)\ttotal: 8.87s\tremaining: 4.49s\n",
      "664:\tlearn: 0.4582882\ttest: 0.4713780\tbest: 0.4713717 (662)\ttotal: 8.89s\tremaining: 4.48s\n",
      "665:\tlearn: 0.4582690\ttest: 0.4713815\tbest: 0.4713717 (662)\ttotal: 8.9s\tremaining: 4.46s\n",
      "666:\tlearn: 0.4582454\ttest: 0.4713768\tbest: 0.4713717 (662)\ttotal: 8.91s\tremaining: 4.45s\n",
      "667:\tlearn: 0.4582300\ttest: 0.4713762\tbest: 0.4713717 (662)\ttotal: 8.93s\tremaining: 4.44s\n",
      "668:\tlearn: 0.4582037\ttest: 0.4713590\tbest: 0.4713590 (668)\ttotal: 8.94s\tremaining: 4.42s\n",
      "669:\tlearn: 0.4581862\ttest: 0.4713546\tbest: 0.4713546 (669)\ttotal: 8.95s\tremaining: 4.41s\n",
      "670:\tlearn: 0.4581584\ttest: 0.4713445\tbest: 0.4713445 (670)\ttotal: 8.97s\tremaining: 4.4s\n",
      "671:\tlearn: 0.4581408\ttest: 0.4713467\tbest: 0.4713445 (670)\ttotal: 8.98s\tremaining: 4.38s\n",
      "672:\tlearn: 0.4581231\ttest: 0.4713428\tbest: 0.4713428 (672)\ttotal: 8.99s\tremaining: 4.37s\n",
      "673:\tlearn: 0.4580983\ttest: 0.4713492\tbest: 0.4713428 (672)\ttotal: 9.01s\tremaining: 4.36s\n",
      "674:\tlearn: 0.4580856\ttest: 0.4713455\tbest: 0.4713428 (672)\ttotal: 9.02s\tremaining: 4.34s\n",
      "675:\tlearn: 0.4580726\ttest: 0.4713393\tbest: 0.4713393 (675)\ttotal: 9.03s\tremaining: 4.33s\n",
      "676:\tlearn: 0.4580543\ttest: 0.4713376\tbest: 0.4713376 (676)\ttotal: 9.05s\tremaining: 4.32s\n",
      "677:\tlearn: 0.4580228\ttest: 0.4713258\tbest: 0.4713258 (677)\ttotal: 9.06s\tremaining: 4.3s\n",
      "678:\tlearn: 0.4579950\ttest: 0.4713203\tbest: 0.4713203 (678)\ttotal: 9.07s\tremaining: 4.29s\n",
      "679:\tlearn: 0.4579790\ttest: 0.4713142\tbest: 0.4713142 (679)\ttotal: 9.09s\tremaining: 4.28s\n",
      "680:\tlearn: 0.4579609\ttest: 0.4713261\tbest: 0.4713142 (679)\ttotal: 9.1s\tremaining: 4.26s\n",
      "681:\tlearn: 0.4579424\ttest: 0.4713201\tbest: 0.4713142 (679)\ttotal: 9.11s\tremaining: 4.25s\n",
      "682:\tlearn: 0.4579269\ttest: 0.4713305\tbest: 0.4713142 (679)\ttotal: 9.13s\tremaining: 4.24s\n",
      "683:\tlearn: 0.4579051\ttest: 0.4713255\tbest: 0.4713142 (679)\ttotal: 9.14s\tremaining: 4.22s\n",
      "684:\tlearn: 0.4578871\ttest: 0.4713186\tbest: 0.4713142 (679)\ttotal: 9.15s\tremaining: 4.21s\n",
      "685:\tlearn: 0.4578632\ttest: 0.4713122\tbest: 0.4713122 (685)\ttotal: 9.17s\tremaining: 4.2s\n",
      "686:\tlearn: 0.4578467\ttest: 0.4713102\tbest: 0.4713102 (686)\ttotal: 9.18s\tremaining: 4.18s\n",
      "687:\tlearn: 0.4578317\ttest: 0.4713067\tbest: 0.4713067 (687)\ttotal: 9.19s\tremaining: 4.17s\n",
      "688:\tlearn: 0.4578233\ttest: 0.4713040\tbest: 0.4713040 (688)\ttotal: 9.21s\tremaining: 4.16s\n",
      "689:\tlearn: 0.4577963\ttest: 0.4713094\tbest: 0.4713040 (688)\ttotal: 9.22s\tremaining: 4.14s\n",
      "690:\tlearn: 0.4577808\ttest: 0.4713043\tbest: 0.4713040 (688)\ttotal: 9.23s\tremaining: 4.13s\n",
      "691:\tlearn: 0.4577564\ttest: 0.4713048\tbest: 0.4713040 (688)\ttotal: 9.24s\tremaining: 4.11s\n",
      "692:\tlearn: 0.4577312\ttest: 0.4712971\tbest: 0.4712971 (692)\ttotal: 9.26s\tremaining: 4.1s\n",
      "693:\tlearn: 0.4577132\ttest: 0.4712942\tbest: 0.4712942 (693)\ttotal: 9.27s\tremaining: 4.09s\n",
      "694:\tlearn: 0.4576949\ttest: 0.4712888\tbest: 0.4712888 (694)\ttotal: 9.28s\tremaining: 4.07s\n",
      "695:\tlearn: 0.4576719\ttest: 0.4712769\tbest: 0.4712769 (695)\ttotal: 9.3s\tremaining: 4.06s\n",
      "696:\tlearn: 0.4576400\ttest: 0.4712746\tbest: 0.4712746 (696)\ttotal: 9.31s\tremaining: 4.05s\n",
      "697:\tlearn: 0.4576225\ttest: 0.4712733\tbest: 0.4712733 (697)\ttotal: 9.32s\tremaining: 4.03s\n",
      "698:\tlearn: 0.4575989\ttest: 0.4712641\tbest: 0.4712641 (698)\ttotal: 9.34s\tremaining: 4.02s\n",
      "699:\tlearn: 0.4575727\ttest: 0.4712605\tbest: 0.4712605 (699)\ttotal: 9.35s\tremaining: 4.01s\n",
      "700:\tlearn: 0.4575501\ttest: 0.4712633\tbest: 0.4712605 (699)\ttotal: 9.36s\tremaining: 3.99s\n",
      "701:\tlearn: 0.4575396\ttest: 0.4712618\tbest: 0.4712605 (699)\ttotal: 9.38s\tremaining: 3.98s\n",
      "702:\tlearn: 0.4575260\ttest: 0.4712597\tbest: 0.4712597 (702)\ttotal: 9.39s\tremaining: 3.97s\n",
      "703:\tlearn: 0.4574920\ttest: 0.4712464\tbest: 0.4712464 (703)\ttotal: 9.4s\tremaining: 3.95s\n",
      "704:\tlearn: 0.4574628\ttest: 0.4712423\tbest: 0.4712423 (704)\ttotal: 9.41s\tremaining: 3.94s\n",
      "705:\tlearn: 0.4574500\ttest: 0.4712417\tbest: 0.4712417 (705)\ttotal: 9.43s\tremaining: 3.93s\n",
      "706:\tlearn: 0.4574335\ttest: 0.4712387\tbest: 0.4712387 (706)\ttotal: 9.44s\tremaining: 3.91s\n",
      "707:\tlearn: 0.4574047\ttest: 0.4712250\tbest: 0.4712250 (707)\ttotal: 9.46s\tremaining: 3.9s\n",
      "708:\tlearn: 0.4573843\ttest: 0.4712229\tbest: 0.4712229 (708)\ttotal: 9.47s\tremaining: 3.89s\n",
      "709:\tlearn: 0.4573751\ttest: 0.4712118\tbest: 0.4712118 (709)\ttotal: 9.48s\tremaining: 3.87s\n",
      "710:\tlearn: 0.4573620\ttest: 0.4712107\tbest: 0.4712107 (710)\ttotal: 9.49s\tremaining: 3.86s\n",
      "711:\tlearn: 0.4573414\ttest: 0.4712051\tbest: 0.4712051 (711)\ttotal: 9.51s\tremaining: 3.85s\n",
      "712:\tlearn: 0.4573242\ttest: 0.4712038\tbest: 0.4712038 (712)\ttotal: 9.52s\tremaining: 3.83s\n",
      "713:\tlearn: 0.4572910\ttest: 0.4711978\tbest: 0.4711978 (713)\ttotal: 9.53s\tremaining: 3.82s\n",
      "714:\tlearn: 0.4572619\ttest: 0.4712065\tbest: 0.4711978 (713)\ttotal: 9.55s\tremaining: 3.81s\n",
      "715:\tlearn: 0.4572435\ttest: 0.4712023\tbest: 0.4711978 (713)\ttotal: 9.56s\tremaining: 3.79s\n",
      "716:\tlearn: 0.4572214\ttest: 0.4712004\tbest: 0.4711978 (713)\ttotal: 9.57s\tremaining: 3.78s\n",
      "717:\tlearn: 0.4572019\ttest: 0.4711936\tbest: 0.4711936 (717)\ttotal: 9.59s\tremaining: 3.77s\n",
      "718:\tlearn: 0.4571912\ttest: 0.4711964\tbest: 0.4711936 (717)\ttotal: 9.6s\tremaining: 3.75s\n",
      "719:\tlearn: 0.4571859\ttest: 0.4711949\tbest: 0.4711936 (717)\ttotal: 9.61s\tremaining: 3.74s\n",
      "720:\tlearn: 0.4571682\ttest: 0.4711861\tbest: 0.4711861 (720)\ttotal: 9.63s\tremaining: 3.73s\n",
      "721:\tlearn: 0.4571437\ttest: 0.4711761\tbest: 0.4711761 (721)\ttotal: 9.64s\tremaining: 3.71s\n",
      "722:\tlearn: 0.4571221\ttest: 0.4711836\tbest: 0.4711761 (721)\ttotal: 9.65s\tremaining: 3.7s\n",
      "723:\tlearn: 0.4570985\ttest: 0.4711734\tbest: 0.4711734 (723)\ttotal: 9.66s\tremaining: 3.68s\n",
      "724:\tlearn: 0.4570776\ttest: 0.4711715\tbest: 0.4711715 (724)\ttotal: 9.68s\tremaining: 3.67s\n",
      "725:\tlearn: 0.4570551\ttest: 0.4711572\tbest: 0.4711572 (725)\ttotal: 9.69s\tremaining: 3.66s\n",
      "726:\tlearn: 0.4570421\ttest: 0.4711625\tbest: 0.4711572 (725)\ttotal: 9.71s\tremaining: 3.64s\n",
      "727:\tlearn: 0.4570273\ttest: 0.4711648\tbest: 0.4711572 (725)\ttotal: 9.72s\tremaining: 3.63s\n",
      "728:\tlearn: 0.4570109\ttest: 0.4711808\tbest: 0.4711572 (725)\ttotal: 9.73s\tremaining: 3.62s\n",
      "729:\tlearn: 0.4569896\ttest: 0.4711806\tbest: 0.4711572 (725)\ttotal: 9.74s\tremaining: 3.6s\n",
      "730:\tlearn: 0.4569638\ttest: 0.4711915\tbest: 0.4711572 (725)\ttotal: 9.76s\tremaining: 3.59s\n",
      "731:\tlearn: 0.4569463\ttest: 0.4711812\tbest: 0.4711572 (725)\ttotal: 9.77s\tremaining: 3.58s\n",
      "732:\tlearn: 0.4569346\ttest: 0.4711787\tbest: 0.4711572 (725)\ttotal: 9.78s\tremaining: 3.56s\n",
      "733:\tlearn: 0.4569065\ttest: 0.4711805\tbest: 0.4711572 (725)\ttotal: 9.8s\tremaining: 3.55s\n",
      "734:\tlearn: 0.4568656\ttest: 0.4711699\tbest: 0.4711572 (725)\ttotal: 9.81s\tremaining: 3.54s\n",
      "735:\tlearn: 0.4568540\ttest: 0.4711698\tbest: 0.4711572 (725)\ttotal: 9.82s\tremaining: 3.52s\n",
      "736:\tlearn: 0.4568346\ttest: 0.4711595\tbest: 0.4711572 (725)\ttotal: 9.84s\tremaining: 3.51s\n",
      "737:\tlearn: 0.4568165\ttest: 0.4711533\tbest: 0.4711533 (737)\ttotal: 9.85s\tremaining: 3.5s\n",
      "738:\tlearn: 0.4567993\ttest: 0.4711564\tbest: 0.4711533 (737)\ttotal: 9.86s\tremaining: 3.48s\n",
      "739:\tlearn: 0.4567741\ttest: 0.4711525\tbest: 0.4711525 (739)\ttotal: 9.88s\tremaining: 3.47s\n",
      "740:\tlearn: 0.4567619\ttest: 0.4711480\tbest: 0.4711480 (740)\ttotal: 9.89s\tremaining: 3.46s\n",
      "741:\tlearn: 0.4567470\ttest: 0.4711511\tbest: 0.4711480 (740)\ttotal: 9.9s\tremaining: 3.44s\n",
      "742:\tlearn: 0.4567267\ttest: 0.4711478\tbest: 0.4711478 (742)\ttotal: 9.91s\tremaining: 3.43s\n",
      "743:\tlearn: 0.4566894\ttest: 0.4711433\tbest: 0.4711433 (743)\ttotal: 9.93s\tremaining: 3.42s\n",
      "744:\tlearn: 0.4566609\ttest: 0.4711363\tbest: 0.4711363 (744)\ttotal: 9.94s\tremaining: 3.4s\n",
      "745:\tlearn: 0.4566393\ttest: 0.4711286\tbest: 0.4711286 (745)\ttotal: 9.96s\tremaining: 3.39s\n",
      "746:\tlearn: 0.4566214\ttest: 0.4711275\tbest: 0.4711275 (746)\ttotal: 9.97s\tremaining: 3.38s\n",
      "747:\tlearn: 0.4566139\ttest: 0.4711228\tbest: 0.4711228 (747)\ttotal: 9.98s\tremaining: 3.36s\n",
      "748:\tlearn: 0.4565971\ttest: 0.4711177\tbest: 0.4711177 (748)\ttotal: 9.99s\tremaining: 3.35s\n",
      "749:\tlearn: 0.4565836\ttest: 0.4711174\tbest: 0.4711174 (749)\ttotal: 10s\tremaining: 3.33s\n",
      "750:\tlearn: 0.4565699\ttest: 0.4711145\tbest: 0.4711145 (750)\ttotal: 10s\tremaining: 3.32s\n",
      "751:\tlearn: 0.4565516\ttest: 0.4711133\tbest: 0.4711133 (751)\ttotal: 10s\tremaining: 3.31s\n",
      "752:\tlearn: 0.4565381\ttest: 0.4711083\tbest: 0.4711083 (752)\ttotal: 10s\tremaining: 3.29s\n",
      "753:\tlearn: 0.4565243\ttest: 0.4711052\tbest: 0.4711052 (753)\ttotal: 10.1s\tremaining: 3.28s\n",
      "754:\tlearn: 0.4565066\ttest: 0.4711030\tbest: 0.4711030 (754)\ttotal: 10.1s\tremaining: 3.27s\n",
      "755:\tlearn: 0.4564878\ttest: 0.4710973\tbest: 0.4710973 (755)\ttotal: 10.1s\tremaining: 3.25s\n",
      "756:\tlearn: 0.4564763\ttest: 0.4710932\tbest: 0.4710932 (756)\ttotal: 10.1s\tremaining: 3.24s\n",
      "757:\tlearn: 0.4564416\ttest: 0.4710847\tbest: 0.4710847 (757)\ttotal: 10.1s\tremaining: 3.23s\n",
      "758:\tlearn: 0.4564313\ttest: 0.4710810\tbest: 0.4710810 (758)\ttotal: 10.1s\tremaining: 3.21s\n",
      "759:\tlearn: 0.4564050\ttest: 0.4710868\tbest: 0.4710810 (758)\ttotal: 10.1s\tremaining: 3.2s\n",
      "760:\tlearn: 0.4563755\ttest: 0.4710870\tbest: 0.4710810 (758)\ttotal: 10.2s\tremaining: 3.19s\n",
      "761:\tlearn: 0.4563608\ttest: 0.4710932\tbest: 0.4710810 (758)\ttotal: 10.2s\tremaining: 3.17s\n",
      "762:\tlearn: 0.4563503\ttest: 0.4710859\tbest: 0.4710810 (758)\ttotal: 10.2s\tremaining: 3.16s\n",
      "763:\tlearn: 0.4563342\ttest: 0.4710887\tbest: 0.4710810 (758)\ttotal: 10.2s\tremaining: 3.15s\n",
      "764:\tlearn: 0.4563111\ttest: 0.4710938\tbest: 0.4710810 (758)\ttotal: 10.2s\tremaining: 3.13s\n",
      "765:\tlearn: 0.4562950\ttest: 0.4710805\tbest: 0.4710805 (765)\ttotal: 10.2s\tremaining: 3.12s\n",
      "766:\tlearn: 0.4562842\ttest: 0.4710755\tbest: 0.4710755 (766)\ttotal: 10.2s\tremaining: 3.11s\n",
      "767:\tlearn: 0.4562734\ttest: 0.4710825\tbest: 0.4710755 (766)\ttotal: 10.2s\tremaining: 3.09s\n",
      "768:\tlearn: 0.4562607\ttest: 0.4710759\tbest: 0.4710755 (766)\ttotal: 10.3s\tremaining: 3.08s\n",
      "769:\tlearn: 0.4562375\ttest: 0.4710755\tbest: 0.4710755 (766)\ttotal: 10.3s\tremaining: 3.07s\n",
      "770:\tlearn: 0.4562194\ttest: 0.4710797\tbest: 0.4710755 (766)\ttotal: 10.3s\tremaining: 3.05s\n",
      "771:\tlearn: 0.4562022\ttest: 0.4710862\tbest: 0.4710755 (766)\ttotal: 10.3s\tremaining: 3.04s\n",
      "772:\tlearn: 0.4561930\ttest: 0.4710837\tbest: 0.4710755 (766)\ttotal: 10.3s\tremaining: 3.03s\n",
      "773:\tlearn: 0.4561809\ttest: 0.4710887\tbest: 0.4710755 (766)\ttotal: 10.3s\tremaining: 3.01s\n",
      "774:\tlearn: 0.4561555\ttest: 0.4710928\tbest: 0.4710755 (766)\ttotal: 10.3s\tremaining: 3s\n",
      "775:\tlearn: 0.4561396\ttest: 0.4710843\tbest: 0.4710755 (766)\ttotal: 10.3s\tremaining: 2.99s\n",
      "776:\tlearn: 0.4561150\ttest: 0.4710717\tbest: 0.4710717 (776)\ttotal: 10.4s\tremaining: 2.97s\n",
      "777:\tlearn: 0.4560987\ttest: 0.4710724\tbest: 0.4710717 (776)\ttotal: 10.4s\tremaining: 2.96s\n",
      "778:\tlearn: 0.4560744\ttest: 0.4710624\tbest: 0.4710624 (778)\ttotal: 10.4s\tremaining: 2.95s\n",
      "779:\tlearn: 0.4560519\ttest: 0.4710637\tbest: 0.4710624 (778)\ttotal: 10.4s\tremaining: 2.93s\n",
      "780:\tlearn: 0.4560296\ttest: 0.4710666\tbest: 0.4710624 (778)\ttotal: 10.4s\tremaining: 2.92s\n",
      "781:\tlearn: 0.4560254\ttest: 0.4710649\tbest: 0.4710624 (778)\ttotal: 10.4s\tremaining: 2.91s\n",
      "782:\tlearn: 0.4560139\ttest: 0.4710645\tbest: 0.4710624 (778)\ttotal: 10.4s\tremaining: 2.89s\n",
      "783:\tlearn: 0.4559984\ttest: 0.4710730\tbest: 0.4710624 (778)\ttotal: 10.5s\tremaining: 2.88s\n",
      "784:\tlearn: 0.4559747\ttest: 0.4710745\tbest: 0.4710624 (778)\ttotal: 10.5s\tremaining: 2.87s\n",
      "785:\tlearn: 0.4559525\ttest: 0.4710768\tbest: 0.4710624 (778)\ttotal: 10.5s\tremaining: 2.85s\n",
      "786:\tlearn: 0.4559325\ttest: 0.4710701\tbest: 0.4710624 (778)\ttotal: 10.5s\tremaining: 2.84s\n",
      "787:\tlearn: 0.4559149\ttest: 0.4710770\tbest: 0.4710624 (778)\ttotal: 10.5s\tremaining: 2.83s\n",
      "788:\tlearn: 0.4558906\ttest: 0.4710848\tbest: 0.4710624 (778)\ttotal: 10.5s\tremaining: 2.81s\n",
      "789:\tlearn: 0.4558729\ttest: 0.4710770\tbest: 0.4710624 (778)\ttotal: 10.5s\tremaining: 2.8s\n",
      "790:\tlearn: 0.4558494\ttest: 0.4710717\tbest: 0.4710624 (778)\ttotal: 10.5s\tremaining: 2.79s\n",
      "791:\tlearn: 0.4558315\ttest: 0.4710729\tbest: 0.4710624 (778)\ttotal: 10.6s\tremaining: 2.77s\n",
      "792:\tlearn: 0.4558239\ttest: 0.4710702\tbest: 0.4710624 (778)\ttotal: 10.6s\tremaining: 2.76s\n",
      "793:\tlearn: 0.4558102\ttest: 0.4710632\tbest: 0.4710624 (778)\ttotal: 10.6s\tremaining: 2.75s\n",
      "794:\tlearn: 0.4557928\ttest: 0.4710570\tbest: 0.4710570 (794)\ttotal: 10.6s\tremaining: 2.73s\n",
      "795:\tlearn: 0.4557764\ttest: 0.4710659\tbest: 0.4710570 (794)\ttotal: 10.6s\tremaining: 2.72s\n",
      "796:\tlearn: 0.4557441\ttest: 0.4710689\tbest: 0.4710570 (794)\ttotal: 10.6s\tremaining: 2.71s\n",
      "797:\tlearn: 0.4557203\ttest: 0.4710640\tbest: 0.4710570 (794)\ttotal: 10.6s\tremaining: 2.69s\n",
      "798:\tlearn: 0.4556922\ttest: 0.4710627\tbest: 0.4710570 (794)\ttotal: 10.7s\tremaining: 2.68s\n",
      "799:\tlearn: 0.4556782\ttest: 0.4710679\tbest: 0.4710570 (794)\ttotal: 10.7s\tremaining: 2.67s\n",
      "800:\tlearn: 0.4556608\ttest: 0.4710757\tbest: 0.4710570 (794)\ttotal: 10.7s\tremaining: 2.65s\n",
      "801:\tlearn: 0.4556387\ttest: 0.4710851\tbest: 0.4710570 (794)\ttotal: 10.7s\tremaining: 2.64s\n",
      "802:\tlearn: 0.4556292\ttest: 0.4710903\tbest: 0.4710570 (794)\ttotal: 10.7s\tremaining: 2.63s\n",
      "803:\tlearn: 0.4556129\ttest: 0.4710892\tbest: 0.4710570 (794)\ttotal: 10.7s\tremaining: 2.61s\n",
      "804:\tlearn: 0.4556014\ttest: 0.4710948\tbest: 0.4710570 (794)\ttotal: 10.7s\tremaining: 2.6s\n",
      "805:\tlearn: 0.4555798\ttest: 0.4710954\tbest: 0.4710570 (794)\ttotal: 10.7s\tremaining: 2.59s\n",
      "806:\tlearn: 0.4555610\ttest: 0.4711018\tbest: 0.4710570 (794)\ttotal: 10.8s\tremaining: 2.57s\n",
      "807:\tlearn: 0.4555420\ttest: 0.4711000\tbest: 0.4710570 (794)\ttotal: 10.8s\tremaining: 2.56s\n",
      "808:\tlearn: 0.4555202\ttest: 0.4710894\tbest: 0.4710570 (794)\ttotal: 10.8s\tremaining: 2.55s\n",
      "809:\tlearn: 0.4554890\ttest: 0.4711015\tbest: 0.4710570 (794)\ttotal: 10.8s\tremaining: 2.53s\n",
      "810:\tlearn: 0.4554664\ttest: 0.4710951\tbest: 0.4710570 (794)\ttotal: 10.8s\tremaining: 2.52s\n",
      "811:\tlearn: 0.4554377\ttest: 0.4711013\tbest: 0.4710570 (794)\ttotal: 10.8s\tremaining: 2.51s\n",
      "812:\tlearn: 0.4554180\ttest: 0.4711072\tbest: 0.4710570 (794)\ttotal: 10.8s\tremaining: 2.49s\n",
      "813:\tlearn: 0.4553987\ttest: 0.4711071\tbest: 0.4710570 (794)\ttotal: 10.9s\tremaining: 2.48s\n",
      "814:\tlearn: 0.4553741\ttest: 0.4711052\tbest: 0.4710570 (794)\ttotal: 10.9s\tremaining: 2.47s\n",
      "bestTest = 0.4710569824\n",
      "bestIteration = 794\n",
      "Shrink model to first 795 iterations.\n",
      "===== ACCURACY SCORE 0.783750 =====\n"
     ]
    }
   ],
   "source": [
    "import catboost as ctb\n",
    "\n",
    "N_ESTIMATORS = 1000\n",
    "N_SPLITS = 10\n",
    "SEED = 2021\n",
    "EARLY_STOPPING_ROUNDS = 20\n",
    "VERBOSE = 1\n",
    "\n",
    "params = {\n",
    "    'bootstrap_type': 'Poisson',\n",
    "    'loss_function': 'Logloss',\n",
    "    'eval_metric': 'Logloss',\n",
    "    'random_seed': SEED,\n",
    "    'task_type': 'GPU',\n",
    "    'max_depth': 8,\n",
    "    'learning_rate': 0.01,\n",
    "    'n_estimators': N_ESTIMATORS,\n",
    "    'max_bin': 280,\n",
    "    'min_data_in_leaf': 64,\n",
    "    'l2_leaf_reg': 0.01,\n",
    "    'subsample': 0.8\n",
    "}\n",
    "\n",
    "model = ctb.CatBoostClassifier(**params)\n",
    "model.fit(x_train, y_train,\n",
    "          eval_set=[(x_val, y_val)],\n",
    "          use_best_model=True,\n",
    "          early_stopping_rounds=EARLY_STOPPING_ROUNDS,\n",
    "          verbose=VERBOSE)\n",
    "\n",
    "y_val_pred = model.predict(x_val)\n",
    "acc_score = accuracy_score(y_val, y_val_pred)\n",
    "print(f\"===== ACCURACY SCORE {acc_score:.6f} =====\")    # 0.783750"
   ]
  },
  {
   "source": [
    "# 3. Predict"
   ],
   "cell_type": "markdown",
   "metadata": {}
  },
  {
   "cell_type": "code",
   "execution_count": 551,
   "metadata": {},
   "outputs": [
    {
     "output_type": "execute_result",
     "data": {
      "text/plain": [
       "(100000,)"
      ]
     },
     "metadata": {},
     "execution_count": 551
    }
   ],
   "source": [
    "y_pred = model.predict(x_pred)\n",
    "y_pred.shape"
   ]
  },
  {
   "cell_type": "code",
   "execution_count": 552,
   "metadata": {},
   "outputs": [
    {
     "output_type": "execute_result",
     "data": {
      "text/plain": [
       "       PassengerId  Survived\n",
       "0           100000         0\n",
       "1           100001         1\n",
       "2           100002         1\n",
       "3           100003         0\n",
       "4           100004         1\n",
       "...            ...       ...\n",
       "99995       199995         1\n",
       "99996       199996         0\n",
       "99997       199997         0\n",
       "99998       199998         1\n",
       "99999       199999         1\n",
       "\n",
       "[100000 rows x 2 columns]"
      ],
      "text/html": "<div>\n<style scoped>\n    .dataframe tbody tr th:only-of-type {\n        vertical-align: middle;\n    }\n\n    .dataframe tbody tr th {\n        vertical-align: top;\n    }\n\n    .dataframe thead th {\n        text-align: right;\n    }\n</style>\n<table border=\"1\" class=\"dataframe\">\n  <thead>\n    <tr style=\"text-align: right;\">\n      <th></th>\n      <th>PassengerId</th>\n      <th>Survived</th>\n    </tr>\n  </thead>\n  <tbody>\n    <tr>\n      <th>0</th>\n      <td>100000</td>\n      <td>0</td>\n    </tr>\n    <tr>\n      <th>1</th>\n      <td>100001</td>\n      <td>1</td>\n    </tr>\n    <tr>\n      <th>2</th>\n      <td>100002</td>\n      <td>1</td>\n    </tr>\n    <tr>\n      <th>3</th>\n      <td>100003</td>\n      <td>0</td>\n    </tr>\n    <tr>\n      <th>4</th>\n      <td>100004</td>\n      <td>1</td>\n    </tr>\n    <tr>\n      <th>...</th>\n      <td>...</td>\n      <td>...</td>\n    </tr>\n    <tr>\n      <th>99995</th>\n      <td>199995</td>\n      <td>1</td>\n    </tr>\n    <tr>\n      <th>99996</th>\n      <td>199996</td>\n      <td>0</td>\n    </tr>\n    <tr>\n      <th>99997</th>\n      <td>199997</td>\n      <td>0</td>\n    </tr>\n    <tr>\n      <th>99998</th>\n      <td>199998</td>\n      <td>1</td>\n    </tr>\n    <tr>\n      <th>99999</th>\n      <td>199999</td>\n      <td>1</td>\n    </tr>\n  </tbody>\n</table>\n<p>100000 rows × 2 columns</p>\n</div>"
     },
     "metadata": {},
     "execution_count": 552
    }
   ],
   "source": [
    "submission['Survived'] = y_pred\n",
    "submission"
   ]
  },
  {
   "source": [
    "# 4.Submission"
   ],
   "cell_type": "markdown",
   "metadata": {}
  },
  {
   "cell_type": "code",
   "execution_count": 553,
   "metadata": {},
   "outputs": [
    {
     "output_type": "execute_result",
     "data": {
      "text/plain": [
       "       PassengerId  Survived\n",
       "0           100000         0\n",
       "1           100001         1\n",
       "2           100002         1\n",
       "3           100003         0\n",
       "4           100004         1\n",
       "...            ...       ...\n",
       "99995       199995         1\n",
       "99996       199996         0\n",
       "99997       199997         0\n",
       "99998       199998         1\n",
       "99999       199999         1\n",
       "\n",
       "[100000 rows x 2 columns]"
      ],
      "text/html": "<div>\n<style scoped>\n    .dataframe tbody tr th:only-of-type {\n        vertical-align: middle;\n    }\n\n    .dataframe tbody tr th {\n        vertical-align: top;\n    }\n\n    .dataframe thead th {\n        text-align: right;\n    }\n</style>\n<table border=\"1\" class=\"dataframe\">\n  <thead>\n    <tr style=\"text-align: right;\">\n      <th></th>\n      <th>PassengerId</th>\n      <th>Survived</th>\n    </tr>\n  </thead>\n  <tbody>\n    <tr>\n      <th>0</th>\n      <td>100000</td>\n      <td>0</td>\n    </tr>\n    <tr>\n      <th>1</th>\n      <td>100001</td>\n      <td>1</td>\n    </tr>\n    <tr>\n      <th>2</th>\n      <td>100002</td>\n      <td>1</td>\n    </tr>\n    <tr>\n      <th>3</th>\n      <td>100003</td>\n      <td>0</td>\n    </tr>\n    <tr>\n      <th>4</th>\n      <td>100004</td>\n      <td>1</td>\n    </tr>\n    <tr>\n      <th>...</th>\n      <td>...</td>\n      <td>...</td>\n    </tr>\n    <tr>\n      <th>99995</th>\n      <td>199995</td>\n      <td>1</td>\n    </tr>\n    <tr>\n      <th>99996</th>\n      <td>199996</td>\n      <td>0</td>\n    </tr>\n    <tr>\n      <th>99997</th>\n      <td>199997</td>\n      <td>0</td>\n    </tr>\n    <tr>\n      <th>99998</th>\n      <td>199998</td>\n      <td>1</td>\n    </tr>\n    <tr>\n      <th>99999</th>\n      <td>199999</td>\n      <td>1</td>\n    </tr>\n  </tbody>\n</table>\n<p>100000 rows × 2 columns</p>\n</div>"
     },
     "metadata": {},
     "execution_count": 553
    }
   ],
   "source": [
    "submission.to_csv(\"E:\\\\data\\\\kaggle_tabular\\\\submission\\\\submission_0424.csv\", index = False)\n",
    "submission"
   ]
  },
  {
   "source": [
    "---\n",
    "파일명 : submission_0424.csv     \n",
    "score : 0.80059"
   ],
   "cell_type": "markdown",
   "metadata": {}
  }
 ]
}