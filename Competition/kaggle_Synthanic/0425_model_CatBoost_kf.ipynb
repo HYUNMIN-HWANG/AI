{
 "metadata": {
  "language_info": {
   "codemirror_mode": {
    "name": "ipython",
    "version": 3
   },
   "file_extension": ".py",
   "mimetype": "text/x-python",
   "name": "python",
   "nbconvert_exporter": "python",
   "pygments_lexer": "ipython3",
   "version": "3.8.5"
  },
  "orig_nbformat": 2,
  "kernelspec": {
   "name": "python385jvsc74a57bd0cfed29639e118e2330c8cca2e9f389b076390c6676518be5d289ddd682bc9f99",
   "display_name": "Python 3.8.5 64-bit (conda)"
  }
 },
 "nbformat": 4,
 "nbformat_minor": 2,
 "cells": [
  {
   "cell_type": "code",
   "execution_count": 26,
   "metadata": {},
   "outputs": [],
   "source": [
    "import pandas as pd\n",
    "import numpy as np\n",
    "import random\n",
    "import os\n",
    "\n",
    "from sklearn.metrics import accuracy_score\n",
    "from sklearn.preprocessing import LabelEncoder, StandardScaler, OneHotEncoder, MinMaxScaler\n",
    "from sklearn.model_selection import train_test_split, KFold, StratifiedKFold\n",
    "\n",
    "train_df = pd.read_csv('E:\\data\\kaggle_tabular/train.csv')\n",
    "test_df = pd.read_csv('E:\\data\\kaggle_tabular/test.csv')\n",
    "submission = pd.read_csv('E:\\data\\kaggle_tabular/sample_submission.csv')"
   ]
  },
  {
   "source": [
    "https://www.kaggle.com/hiro5299834/tps-apr-2021-pseudo-labeling-voting-ensemble"
   ],
   "cell_type": "markdown",
   "metadata": {}
  },
  {
   "source": [
    "앞으로 해볼 것    \n",
    "K-fold    \n",
    "GridSearchCV    \n",
    "best_columns를 구할 수 있는 게 있었던 거 같은데 - from sklearn.feature_selection import SelectFromModel    "
   ],
   "cell_type": "markdown",
   "metadata": {}
  },
  {
   "source": [
    "# data 전처리"
   ],
   "cell_type": "markdown",
   "metadata": {}
  },
  {
   "source": [
    "* Pclass - a proxy for socio-economic status (SES) where 1st = Upper, 2nd = Middle and 3rd = Lower.\n",
    "* Sex - male and female.\n",
    "* Age - fractional if it less than 1 and age estimation in the form of xx.5.\n",
    "* SibSp - number of siblings / spouses aboard the Synthanic; siblings are brother, sister, stepbrother and stepsister and spouses are husband and wife (mistresses and fiancés were ignored).\n",
    "* Parch - # of parents / children aboard the Synthanic; parents are mother and father; child are daughter, son, stepdaughter and stepson. Some children travelled only with a nanny, therefore Parch is 0 for them.\n",
    "* Fare - the paassenger fare.\n",
    "* Cabin - the cabin number.\n",
    "* Emarked - port of embarkation where C is Cherbourg, Q is Queenstown and S is Southampton.\n",
    "* Ticket - ticket number.\n",
    "* Name - passengers name.\n",
    "* Survived - target variable where 0 is not survived and 1 is survived."
   ],
   "cell_type": "markdown",
   "metadata": {}
  },
  {
   "source": [
    "* 결측값 채우기"
   ],
   "cell_type": "markdown",
   "metadata": {}
  },
  {
   "cell_type": "code",
   "execution_count": 27,
   "metadata": {},
   "outputs": [
    {
     "output_type": "stream",
     "name": "stdout",
     "text": [
      "Missing values per columns in train dataset\nPassengerId: 0\nSurvived: 0\nPclass: 0\nName: 0\nSex: 0\nAge: 3292\nSibSp: 0\nParch: 0\nTicket: 4623\nFare: 134\nCabin: 67866\nEmbarked: 250\n"
     ]
    }
   ],
   "source": [
    "print('Missing values per columns in train dataset')\n",
    "for col in train_df.columns:\n",
    "    temp_col = train_df[col].isnull().sum()\n",
    "    print(f'{col}: {temp_col}')"
   ]
  },
  {
   "cell_type": "code",
   "execution_count": 28,
   "metadata": {},
   "outputs": [],
   "source": [
    "# col = 'Age' 평균 나이로 결측값 채우기\n",
    "train_df['Age'] = train_df['Age'].fillna(train_df['Age'].mean())\n",
    "test_df['Age'] = test_df['Age'].fillna(test_df['Age'].mean())"
   ]
  },
  {
   "cell_type": "code",
   "execution_count": 29,
   "metadata": {},
   "outputs": [
    {
     "output_type": "execute_result",
     "data": {
      "text/plain": [
       "0      X\n",
       "1      X\n",
       "2     CA\n",
       "3     A.\n",
       "4      X\n",
       "      ..\n",
       "95     X\n",
       "96     X\n",
       "97    PC\n",
       "98     X\n",
       "99     X\n",
       "Name: Ticket, Length: 100, dtype: object"
      ]
     },
     "metadata": {},
     "execution_count": 29
    }
   ],
   "source": [
    "# col = 'Ticket', 결측값 'X'로 채우기\n",
    "train_df['Ticket'] = train_df['Ticket'].fillna('X').map(lambda x:str(x).split()[0] if len(str(x).split()) > 1 else 'X')\n",
    "test_df['Ticket'] = test_df['Ticket'].fillna('X').map(lambda x:str(x).split()[0] if len(str(x).split()) > 1 else 'X')\n",
    "train_df['Ticket'][:100]"
   ]
  },
  {
   "cell_type": "code",
   "execution_count": 30,
   "metadata": {},
   "outputs": [
    {
     "output_type": "execute_result",
     "data": {
      "text/plain": [
       "0     C\n",
       "1     X\n",
       "2     X\n",
       "3     X\n",
       "4     X\n",
       "     ..\n",
       "95    X\n",
       "96    X\n",
       "97    D\n",
       "98    X\n",
       "99    C\n",
       "Name: Cabin, Length: 100, dtype: object"
      ]
     },
     "metadata": {},
     "execution_count": 30
    }
   ],
   "source": [
    "# col = 'Cabin', 결측값 'X'로 채우기\n",
    "train_df['Cabin'] = train_df['Cabin'].fillna('X').map(lambda x: x[0].strip())\n",
    "test_df['Cabin'] = test_df['Cabin'].fillna('X').map(lambda x: x[0].strip())\n",
    "train_df['Cabin'][:100]"
   ]
  },
  {
   "cell_type": "code",
   "execution_count": 31,
   "metadata": {},
   "outputs": [
    {
     "output_type": "execute_result",
     "data": {
      "text/plain": [
       "0     S\n",
       "1     S\n",
       "2     S\n",
       "3     S\n",
       "4     S\n",
       "     ..\n",
       "95    S\n",
       "96    Q\n",
       "97    Q\n",
       "98    S\n",
       "99    C\n",
       "Name: Embarked, Length: 100, dtype: object"
      ]
     },
     "metadata": {},
     "execution_count": 31
    }
   ],
   "source": [
    "# col = 'Embarked', 결측값 'X'로 채우기\n",
    "train_df['Embarked'] = train_df['Embarked'].fillna('X')\n",
    "test_df['Embarked'] = test_df['Embarked'].fillna('X')\n",
    "train_df['Embarked'][:100]"
   ]
  },
  {
   "cell_type": "code",
   "execution_count": 32,
   "metadata": {},
   "outputs": [
    {
     "output_type": "execute_result",
     "data": {
      "text/plain": [
       "0     3.337192\n",
       "1     2.663750\n",
       "2     4.280686\n",
       "3     2.641910\n",
       "4     2.170196\n",
       "        ...   \n",
       "95    3.503754\n",
       "96    3.312730\n",
       "97    4.884921\n",
       "98    3.363149\n",
       "99    5.633217\n",
       "Name: Fare, Length: 100, dtype: float64"
      ]
     },
     "metadata": {},
     "execution_count": 32
    }
   ],
   "source": [
    "# col = 'Fare', 결측값 각 Pclass 마다 fare 중앙값을 넣는다.\n",
    "fare_map =  train_df[['Fare', 'Pclass']].dropna().groupby('Pclass').median().to_dict()\n",
    "# fare_map    # {'Fare': {1: 63.58, 2: 22.72, 3: 10.96}}\n",
    "train_df['Fare'] = train_df['Fare'].fillna(train_df['Pclass'].map(fare_map['Fare']))\n",
    "train_df['Fare'] = np.log1p(train_df['Fare'])\n",
    "train_df['Fare'][:100]"
   ]
  },
  {
   "cell_type": "code",
   "execution_count": 33,
   "metadata": {},
   "outputs": [
    {
     "output_type": "execute_result",
     "data": {
      "text/plain": [
       "0     4.159039\n",
       "1     1.918392\n",
       "2     3.686627\n",
       "3     2.634045\n",
       "4     3.328268\n",
       "        ...   \n",
       "95    2.249184\n",
       "96    2.621766\n",
       "97    1.969906\n",
       "98    2.536866\n",
       "99    3.469479\n",
       "Name: Fare, Length: 100, dtype: float64"
      ]
     },
     "metadata": {},
     "execution_count": 33
    }
   ],
   "source": [
    "# col = 'Fare', 결측값 각 Pclass 마다 fare 중앙값을 넣는다.\n",
    "fare_map =  test_df[['Fare', 'Pclass']].dropna().groupby('Pclass').median().to_dict()\n",
    "# fare_map    # {'Fare': {1: 80.68, 2: 14.455, 3: 11.52}}\n",
    "test_df['Fare'] = test_df['Fare'].fillna(test_df['Pclass'].map(fare_map['Fare']))\n",
    "test_df['Fare'] = np.log1p(test_df['Fare'])\n",
    "test_df['Fare'][:100]"
   ]
  },
  {
   "source": [
    "* 앞 이름만 가져오기"
   ],
   "cell_type": "markdown",
   "metadata": {}
  },
  {
   "cell_type": "code",
   "execution_count": 34,
   "metadata": {},
   "outputs": [
    {
     "output_type": "execute_result",
     "data": {
      "text/plain": [
       "       PassengerId  Survived  Pclass       Name     Sex        Age  SibSp  \\\n",
       "0                0         1       1    Oconnor    male  38.355472      2   \n",
       "1                1         0       3      Bryan    male  38.355472      0   \n",
       "2                2         0       3      Owens    male   0.330000      1   \n",
       "3                3         0       3     Kramer    male  19.000000      0   \n",
       "4                4         1       3       Bond    male  25.000000      0   \n",
       "...            ...       ...     ...        ...     ...        ...    ...   \n",
       "99995        99995         1       2       Bell  female  62.000000      0   \n",
       "99996        99996         0       2      Brown    male  66.000000      0   \n",
       "99997        99997         0       3  Childress    male  37.000000      0   \n",
       "99998        99998         0       3   Caughlin    male  51.000000      0   \n",
       "99999        99999         0       3     Enciso    male  55.000000      0   \n",
       "\n",
       "       Parch Ticket      Fare Cabin Embarked  \n",
       "0          0      X  3.337192     C        S  \n",
       "1          0      X  2.663750     X        S  \n",
       "2          2     CA  4.280686     X        S  \n",
       "3          0     A.  2.641910     X        S  \n",
       "4          0      X  2.170196     X        S  \n",
       "...      ...    ...       ...   ...      ...  \n",
       "99995      0     PC  2.763800     D        C  \n",
       "99996      0      X  2.497329     X        S  \n",
       "99997      0      X  2.393339     X        S  \n",
       "99998      1      X  3.463233     X        S  \n",
       "99999      0      X  2.705380     X        S  \n",
       "\n",
       "[100000 rows x 12 columns]"
      ],
      "text/html": "<div>\n<style scoped>\n    .dataframe tbody tr th:only-of-type {\n        vertical-align: middle;\n    }\n\n    .dataframe tbody tr th {\n        vertical-align: top;\n    }\n\n    .dataframe thead th {\n        text-align: right;\n    }\n</style>\n<table border=\"1\" class=\"dataframe\">\n  <thead>\n    <tr style=\"text-align: right;\">\n      <th></th>\n      <th>PassengerId</th>\n      <th>Survived</th>\n      <th>Pclass</th>\n      <th>Name</th>\n      <th>Sex</th>\n      <th>Age</th>\n      <th>SibSp</th>\n      <th>Parch</th>\n      <th>Ticket</th>\n      <th>Fare</th>\n      <th>Cabin</th>\n      <th>Embarked</th>\n    </tr>\n  </thead>\n  <tbody>\n    <tr>\n      <th>0</th>\n      <td>0</td>\n      <td>1</td>\n      <td>1</td>\n      <td>Oconnor</td>\n      <td>male</td>\n      <td>38.355472</td>\n      <td>2</td>\n      <td>0</td>\n      <td>X</td>\n      <td>3.337192</td>\n      <td>C</td>\n      <td>S</td>\n    </tr>\n    <tr>\n      <th>1</th>\n      <td>1</td>\n      <td>0</td>\n      <td>3</td>\n      <td>Bryan</td>\n      <td>male</td>\n      <td>38.355472</td>\n      <td>0</td>\n      <td>0</td>\n      <td>X</td>\n      <td>2.663750</td>\n      <td>X</td>\n      <td>S</td>\n    </tr>\n    <tr>\n      <th>2</th>\n      <td>2</td>\n      <td>0</td>\n      <td>3</td>\n      <td>Owens</td>\n      <td>male</td>\n      <td>0.330000</td>\n      <td>1</td>\n      <td>2</td>\n      <td>CA</td>\n      <td>4.280686</td>\n      <td>X</td>\n      <td>S</td>\n    </tr>\n    <tr>\n      <th>3</th>\n      <td>3</td>\n      <td>0</td>\n      <td>3</td>\n      <td>Kramer</td>\n      <td>male</td>\n      <td>19.000000</td>\n      <td>0</td>\n      <td>0</td>\n      <td>A.</td>\n      <td>2.641910</td>\n      <td>X</td>\n      <td>S</td>\n    </tr>\n    <tr>\n      <th>4</th>\n      <td>4</td>\n      <td>1</td>\n      <td>3</td>\n      <td>Bond</td>\n      <td>male</td>\n      <td>25.000000</td>\n      <td>0</td>\n      <td>0</td>\n      <td>X</td>\n      <td>2.170196</td>\n      <td>X</td>\n      <td>S</td>\n    </tr>\n    <tr>\n      <th>...</th>\n      <td>...</td>\n      <td>...</td>\n      <td>...</td>\n      <td>...</td>\n      <td>...</td>\n      <td>...</td>\n      <td>...</td>\n      <td>...</td>\n      <td>...</td>\n      <td>...</td>\n      <td>...</td>\n      <td>...</td>\n    </tr>\n    <tr>\n      <th>99995</th>\n      <td>99995</td>\n      <td>1</td>\n      <td>2</td>\n      <td>Bell</td>\n      <td>female</td>\n      <td>62.000000</td>\n      <td>0</td>\n      <td>0</td>\n      <td>PC</td>\n      <td>2.763800</td>\n      <td>D</td>\n      <td>C</td>\n    </tr>\n    <tr>\n      <th>99996</th>\n      <td>99996</td>\n      <td>0</td>\n      <td>2</td>\n      <td>Brown</td>\n      <td>male</td>\n      <td>66.000000</td>\n      <td>0</td>\n      <td>0</td>\n      <td>X</td>\n      <td>2.497329</td>\n      <td>X</td>\n      <td>S</td>\n    </tr>\n    <tr>\n      <th>99997</th>\n      <td>99997</td>\n      <td>0</td>\n      <td>3</td>\n      <td>Childress</td>\n      <td>male</td>\n      <td>37.000000</td>\n      <td>0</td>\n      <td>0</td>\n      <td>X</td>\n      <td>2.393339</td>\n      <td>X</td>\n      <td>S</td>\n    </tr>\n    <tr>\n      <th>99998</th>\n      <td>99998</td>\n      <td>0</td>\n      <td>3</td>\n      <td>Caughlin</td>\n      <td>male</td>\n      <td>51.000000</td>\n      <td>0</td>\n      <td>1</td>\n      <td>X</td>\n      <td>3.463233</td>\n      <td>X</td>\n      <td>S</td>\n    </tr>\n    <tr>\n      <th>99999</th>\n      <td>99999</td>\n      <td>0</td>\n      <td>3</td>\n      <td>Enciso</td>\n      <td>male</td>\n      <td>55.000000</td>\n      <td>0</td>\n      <td>0</td>\n      <td>X</td>\n      <td>2.705380</td>\n      <td>X</td>\n      <td>S</td>\n    </tr>\n  </tbody>\n</table>\n<p>100000 rows × 12 columns</p>\n</div>"
     },
     "metadata": {},
     "execution_count": 34
    }
   ],
   "source": [
    "train_df['Name'] = train_df['Name'].map(lambda x: x.split(',')[0])\n",
    "test_df['Name'] = test_df['Name'].map(lambda x: x.split(',')[0])\n",
    "train_df"
   ]
  },
  {
   "source": [
    "* 'Survived' 컬럼을 맨 뒤로 보내기"
   ],
   "cell_type": "markdown",
   "metadata": {}
  },
  {
   "cell_type": "code",
   "execution_count": 35,
   "metadata": {},
   "outputs": [
    {
     "output_type": "execute_result",
     "data": {
      "text/plain": [
       "       PassengerId  Pclass       Name     Sex        Age  SibSp  Parch Ticket  \\\n",
       "0                0       1    Oconnor    male  38.355472      2      0      X   \n",
       "1                1       3      Bryan    male  38.355472      0      0      X   \n",
       "2                2       3      Owens    male   0.330000      1      2     CA   \n",
       "3                3       3     Kramer    male  19.000000      0      0     A.   \n",
       "4                4       3       Bond    male  25.000000      0      0      X   \n",
       "...            ...     ...        ...     ...        ...    ...    ...    ...   \n",
       "99995        99995       2       Bell  female  62.000000      0      0     PC   \n",
       "99996        99996       2      Brown    male  66.000000      0      0      X   \n",
       "99997        99997       3  Childress    male  37.000000      0      0      X   \n",
       "99998        99998       3   Caughlin    male  51.000000      0      1      X   \n",
       "99999        99999       3     Enciso    male  55.000000      0      0      X   \n",
       "\n",
       "           Fare Cabin Embarked  y_target  \n",
       "0      3.337192     C        S         1  \n",
       "1      2.663750     X        S         0  \n",
       "2      4.280686     X        S         0  \n",
       "3      2.641910     X        S         0  \n",
       "4      2.170196     X        S         1  \n",
       "...         ...   ...      ...       ...  \n",
       "99995  2.763800     D        C         1  \n",
       "99996  2.497329     X        S         0  \n",
       "99997  2.393339     X        S         0  \n",
       "99998  3.463233     X        S         0  \n",
       "99999  2.705380     X        S         0  \n",
       "\n",
       "[100000 rows x 12 columns]"
      ],
      "text/html": "<div>\n<style scoped>\n    .dataframe tbody tr th:only-of-type {\n        vertical-align: middle;\n    }\n\n    .dataframe tbody tr th {\n        vertical-align: top;\n    }\n\n    .dataframe thead th {\n        text-align: right;\n    }\n</style>\n<table border=\"1\" class=\"dataframe\">\n  <thead>\n    <tr style=\"text-align: right;\">\n      <th></th>\n      <th>PassengerId</th>\n      <th>Pclass</th>\n      <th>Name</th>\n      <th>Sex</th>\n      <th>Age</th>\n      <th>SibSp</th>\n      <th>Parch</th>\n      <th>Ticket</th>\n      <th>Fare</th>\n      <th>Cabin</th>\n      <th>Embarked</th>\n      <th>y_target</th>\n    </tr>\n  </thead>\n  <tbody>\n    <tr>\n      <th>0</th>\n      <td>0</td>\n      <td>1</td>\n      <td>Oconnor</td>\n      <td>male</td>\n      <td>38.355472</td>\n      <td>2</td>\n      <td>0</td>\n      <td>X</td>\n      <td>3.337192</td>\n      <td>C</td>\n      <td>S</td>\n      <td>1</td>\n    </tr>\n    <tr>\n      <th>1</th>\n      <td>1</td>\n      <td>3</td>\n      <td>Bryan</td>\n      <td>male</td>\n      <td>38.355472</td>\n      <td>0</td>\n      <td>0</td>\n      <td>X</td>\n      <td>2.663750</td>\n      <td>X</td>\n      <td>S</td>\n      <td>0</td>\n    </tr>\n    <tr>\n      <th>2</th>\n      <td>2</td>\n      <td>3</td>\n      <td>Owens</td>\n      <td>male</td>\n      <td>0.330000</td>\n      <td>1</td>\n      <td>2</td>\n      <td>CA</td>\n      <td>4.280686</td>\n      <td>X</td>\n      <td>S</td>\n      <td>0</td>\n    </tr>\n    <tr>\n      <th>3</th>\n      <td>3</td>\n      <td>3</td>\n      <td>Kramer</td>\n      <td>male</td>\n      <td>19.000000</td>\n      <td>0</td>\n      <td>0</td>\n      <td>A.</td>\n      <td>2.641910</td>\n      <td>X</td>\n      <td>S</td>\n      <td>0</td>\n    </tr>\n    <tr>\n      <th>4</th>\n      <td>4</td>\n      <td>3</td>\n      <td>Bond</td>\n      <td>male</td>\n      <td>25.000000</td>\n      <td>0</td>\n      <td>0</td>\n      <td>X</td>\n      <td>2.170196</td>\n      <td>X</td>\n      <td>S</td>\n      <td>1</td>\n    </tr>\n    <tr>\n      <th>...</th>\n      <td>...</td>\n      <td>...</td>\n      <td>...</td>\n      <td>...</td>\n      <td>...</td>\n      <td>...</td>\n      <td>...</td>\n      <td>...</td>\n      <td>...</td>\n      <td>...</td>\n      <td>...</td>\n      <td>...</td>\n    </tr>\n    <tr>\n      <th>99995</th>\n      <td>99995</td>\n      <td>2</td>\n      <td>Bell</td>\n      <td>female</td>\n      <td>62.000000</td>\n      <td>0</td>\n      <td>0</td>\n      <td>PC</td>\n      <td>2.763800</td>\n      <td>D</td>\n      <td>C</td>\n      <td>1</td>\n    </tr>\n    <tr>\n      <th>99996</th>\n      <td>99996</td>\n      <td>2</td>\n      <td>Brown</td>\n      <td>male</td>\n      <td>66.000000</td>\n      <td>0</td>\n      <td>0</td>\n      <td>X</td>\n      <td>2.497329</td>\n      <td>X</td>\n      <td>S</td>\n      <td>0</td>\n    </tr>\n    <tr>\n      <th>99997</th>\n      <td>99997</td>\n      <td>3</td>\n      <td>Childress</td>\n      <td>male</td>\n      <td>37.000000</td>\n      <td>0</td>\n      <td>0</td>\n      <td>X</td>\n      <td>2.393339</td>\n      <td>X</td>\n      <td>S</td>\n      <td>0</td>\n    </tr>\n    <tr>\n      <th>99998</th>\n      <td>99998</td>\n      <td>3</td>\n      <td>Caughlin</td>\n      <td>male</td>\n      <td>51.000000</td>\n      <td>0</td>\n      <td>1</td>\n      <td>X</td>\n      <td>3.463233</td>\n      <td>X</td>\n      <td>S</td>\n      <td>0</td>\n    </tr>\n    <tr>\n      <th>99999</th>\n      <td>99999</td>\n      <td>3</td>\n      <td>Enciso</td>\n      <td>male</td>\n      <td>55.000000</td>\n      <td>0</td>\n      <td>0</td>\n      <td>X</td>\n      <td>2.705380</td>\n      <td>X</td>\n      <td>S</td>\n      <td>0</td>\n    </tr>\n  </tbody>\n</table>\n<p>100000 rows × 12 columns</p>\n</div>"
     },
     "metadata": {},
     "execution_count": 35
    }
   ],
   "source": [
    "train_df['y_target'] = train_df['Survived']\n",
    "train_df = train_df.drop(['Survived'], axis=1)\n",
    "train_df"
   ]
  },
  {
   "source": [
    "* 문자들을 숫자로 치환하기"
   ],
   "cell_type": "markdown",
   "metadata": {}
  },
  {
   "cell_type": "code",
   "execution_count": 36,
   "metadata": {},
   "outputs": [],
   "source": [
    "def label_encoder(c):\n",
    "    encoder = LabelEncoder()\n",
    "    return encoder.fit_transform(c)\n",
    "\n",
    "labels_col = ['Sex','Ticket']\n",
    "label_encoded_df = train_df[labels_col].apply(label_encoder)\n",
    "test_label_encoded_df = test_df[labels_col].apply(label_encoder)\n",
    "# label_encoded_df\n",
    "\n",
    "onehot_cols = ['Cabin', 'Embarked']\n",
    "onehot_encoded_df = pd.get_dummies(train_df[onehot_cols])\n",
    "test_onehot_encoded_df = pd.get_dummies(test_df[onehot_cols])\n",
    "# onehot_encoded_df\n",
    "\n",
    "numerical_cols = ['Age', 'SibSp', 'Parch', 'Fare']\n",
    "scaler = MinMaxScaler()\n",
    "numerical_df = pd.DataFrame(scaler.fit_transform(train_df[numerical_cols]), columns=numerical_cols)\n",
    "test_numerical_df = pd.DataFrame(scaler.fit_transform(test_df[numerical_cols]), columns=numerical_cols)\n",
    "# numerical_df\n",
    "\n",
    "etc_df = train_df['Pclass']\n",
    "test_etc_df = test_df['Pclass']\n",
    "\n",
    "target_df = train_df['y_target']\n",
    "\n",
    "\n",
    "train_df = pd.concat([etc_df, numerical_df, label_encoded_df, onehot_encoded_df, target_df], axis=1)\n",
    "test_df = pd.concat([test_etc_df, test_numerical_df, test_label_encoded_df, test_onehot_encoded_df], axis=1)"
   ]
  },
  {
   "source": [
    "최종적으로 사용할 데이터 셋"
   ],
   "cell_type": "markdown",
   "metadata": {}
  },
  {
   "cell_type": "code",
   "execution_count": 37,
   "metadata": {},
   "outputs": [
    {
     "output_type": "execute_result",
     "data": {
      "text/plain": [
       "       Pclass       Age  SibSp     Parch      Fare  Sex  Ticket  Cabin_A  \\\n",
       "0           1  0.440353  0.250  0.000000  0.462375    1      49        0   \n",
       "1           3  0.440353  0.000  0.000000  0.351893    1      49        0   \n",
       "2           3  0.002876  0.125  0.222222  0.617161    1      14        0   \n",
       "3           3  0.217671  0.000  0.000000  0.348310    1       0        0   \n",
       "4           3  0.286700  0.000  0.000000  0.270923    1      49        0   \n",
       "...       ...       ...    ...       ...       ...  ...     ...      ...   \n",
       "99995       2  0.712379  0.000  0.000000  0.368307    0      21        0   \n",
       "99996       2  0.758399  0.000  0.000000  0.324591    1      49        0   \n",
       "99997       3  0.424758  0.000  0.000000  0.307531    1      49        0   \n",
       "99998       3  0.585826  0.000  0.111111  0.483053    1      49        0   \n",
       "99999       3  0.631845  0.000  0.000000  0.358723    1      49        0   \n",
       "\n",
       "       Cabin_B  Cabin_C  ...  Cabin_E  Cabin_F  Cabin_G  Cabin_T  Cabin_X  \\\n",
       "0            0        1  ...        0        0        0        0        0   \n",
       "1            0        0  ...        0        0        0        0        1   \n",
       "2            0        0  ...        0        0        0        0        1   \n",
       "3            0        0  ...        0        0        0        0        1   \n",
       "4            0        0  ...        0        0        0        0        1   \n",
       "...        ...      ...  ...      ...      ...      ...      ...      ...   \n",
       "99995        0        0  ...        0        0        0        0        0   \n",
       "99996        0        0  ...        0        0        0        0        1   \n",
       "99997        0        0  ...        0        0        0        0        1   \n",
       "99998        0        0  ...        0        0        0        0        1   \n",
       "99999        0        0  ...        0        0        0        0        1   \n",
       "\n",
       "       Embarked_C  Embarked_Q  Embarked_S  Embarked_X  y_target  \n",
       "0               0           0           1           0         1  \n",
       "1               0           0           1           0         0  \n",
       "2               0           0           1           0         0  \n",
       "3               0           0           1           0         0  \n",
       "4               0           0           1           0         1  \n",
       "...           ...         ...         ...         ...       ...  \n",
       "99995           1           0           0           0         1  \n",
       "99996           0           0           1           0         0  \n",
       "99997           0           0           1           0         0  \n",
       "99998           0           0           1           0         0  \n",
       "99999           0           0           1           0         0  \n",
       "\n",
       "[100000 rows x 21 columns]"
      ],
      "text/html": "<div>\n<style scoped>\n    .dataframe tbody tr th:only-of-type {\n        vertical-align: middle;\n    }\n\n    .dataframe tbody tr th {\n        vertical-align: top;\n    }\n\n    .dataframe thead th {\n        text-align: right;\n    }\n</style>\n<table border=\"1\" class=\"dataframe\">\n  <thead>\n    <tr style=\"text-align: right;\">\n      <th></th>\n      <th>Pclass</th>\n      <th>Age</th>\n      <th>SibSp</th>\n      <th>Parch</th>\n      <th>Fare</th>\n      <th>Sex</th>\n      <th>Ticket</th>\n      <th>Cabin_A</th>\n      <th>Cabin_B</th>\n      <th>Cabin_C</th>\n      <th>...</th>\n      <th>Cabin_E</th>\n      <th>Cabin_F</th>\n      <th>Cabin_G</th>\n      <th>Cabin_T</th>\n      <th>Cabin_X</th>\n      <th>Embarked_C</th>\n      <th>Embarked_Q</th>\n      <th>Embarked_S</th>\n      <th>Embarked_X</th>\n      <th>y_target</th>\n    </tr>\n  </thead>\n  <tbody>\n    <tr>\n      <th>0</th>\n      <td>1</td>\n      <td>0.440353</td>\n      <td>0.250</td>\n      <td>0.000000</td>\n      <td>0.462375</td>\n      <td>1</td>\n      <td>49</td>\n      <td>0</td>\n      <td>0</td>\n      <td>1</td>\n      <td>...</td>\n      <td>0</td>\n      <td>0</td>\n      <td>0</td>\n      <td>0</td>\n      <td>0</td>\n      <td>0</td>\n      <td>0</td>\n      <td>1</td>\n      <td>0</td>\n      <td>1</td>\n    </tr>\n    <tr>\n      <th>1</th>\n      <td>3</td>\n      <td>0.440353</td>\n      <td>0.000</td>\n      <td>0.000000</td>\n      <td>0.351893</td>\n      <td>1</td>\n      <td>49</td>\n      <td>0</td>\n      <td>0</td>\n      <td>0</td>\n      <td>...</td>\n      <td>0</td>\n      <td>0</td>\n      <td>0</td>\n      <td>0</td>\n      <td>1</td>\n      <td>0</td>\n      <td>0</td>\n      <td>1</td>\n      <td>0</td>\n      <td>0</td>\n    </tr>\n    <tr>\n      <th>2</th>\n      <td>3</td>\n      <td>0.002876</td>\n      <td>0.125</td>\n      <td>0.222222</td>\n      <td>0.617161</td>\n      <td>1</td>\n      <td>14</td>\n      <td>0</td>\n      <td>0</td>\n      <td>0</td>\n      <td>...</td>\n      <td>0</td>\n      <td>0</td>\n      <td>0</td>\n      <td>0</td>\n      <td>1</td>\n      <td>0</td>\n      <td>0</td>\n      <td>1</td>\n      <td>0</td>\n      <td>0</td>\n    </tr>\n    <tr>\n      <th>3</th>\n      <td>3</td>\n      <td>0.217671</td>\n      <td>0.000</td>\n      <td>0.000000</td>\n      <td>0.348310</td>\n      <td>1</td>\n      <td>0</td>\n      <td>0</td>\n      <td>0</td>\n      <td>0</td>\n      <td>...</td>\n      <td>0</td>\n      <td>0</td>\n      <td>0</td>\n      <td>0</td>\n      <td>1</td>\n      <td>0</td>\n      <td>0</td>\n      <td>1</td>\n      <td>0</td>\n      <td>0</td>\n    </tr>\n    <tr>\n      <th>4</th>\n      <td>3</td>\n      <td>0.286700</td>\n      <td>0.000</td>\n      <td>0.000000</td>\n      <td>0.270923</td>\n      <td>1</td>\n      <td>49</td>\n      <td>0</td>\n      <td>0</td>\n      <td>0</td>\n      <td>...</td>\n      <td>0</td>\n      <td>0</td>\n      <td>0</td>\n      <td>0</td>\n      <td>1</td>\n      <td>0</td>\n      <td>0</td>\n      <td>1</td>\n      <td>0</td>\n      <td>1</td>\n    </tr>\n    <tr>\n      <th>...</th>\n      <td>...</td>\n      <td>...</td>\n      <td>...</td>\n      <td>...</td>\n      <td>...</td>\n      <td>...</td>\n      <td>...</td>\n      <td>...</td>\n      <td>...</td>\n      <td>...</td>\n      <td>...</td>\n      <td>...</td>\n      <td>...</td>\n      <td>...</td>\n      <td>...</td>\n      <td>...</td>\n      <td>...</td>\n      <td>...</td>\n      <td>...</td>\n      <td>...</td>\n      <td>...</td>\n    </tr>\n    <tr>\n      <th>99995</th>\n      <td>2</td>\n      <td>0.712379</td>\n      <td>0.000</td>\n      <td>0.000000</td>\n      <td>0.368307</td>\n      <td>0</td>\n      <td>21</td>\n      <td>0</td>\n      <td>0</td>\n      <td>0</td>\n      <td>...</td>\n      <td>0</td>\n      <td>0</td>\n      <td>0</td>\n      <td>0</td>\n      <td>0</td>\n      <td>1</td>\n      <td>0</td>\n      <td>0</td>\n      <td>0</td>\n      <td>1</td>\n    </tr>\n    <tr>\n      <th>99996</th>\n      <td>2</td>\n      <td>0.758399</td>\n      <td>0.000</td>\n      <td>0.000000</td>\n      <td>0.324591</td>\n      <td>1</td>\n      <td>49</td>\n      <td>0</td>\n      <td>0</td>\n      <td>0</td>\n      <td>...</td>\n      <td>0</td>\n      <td>0</td>\n      <td>0</td>\n      <td>0</td>\n      <td>1</td>\n      <td>0</td>\n      <td>0</td>\n      <td>1</td>\n      <td>0</td>\n      <td>0</td>\n    </tr>\n    <tr>\n      <th>99997</th>\n      <td>3</td>\n      <td>0.424758</td>\n      <td>0.000</td>\n      <td>0.000000</td>\n      <td>0.307531</td>\n      <td>1</td>\n      <td>49</td>\n      <td>0</td>\n      <td>0</td>\n      <td>0</td>\n      <td>...</td>\n      <td>0</td>\n      <td>0</td>\n      <td>0</td>\n      <td>0</td>\n      <td>1</td>\n      <td>0</td>\n      <td>0</td>\n      <td>1</td>\n      <td>0</td>\n      <td>0</td>\n    </tr>\n    <tr>\n      <th>99998</th>\n      <td>3</td>\n      <td>0.585826</td>\n      <td>0.000</td>\n      <td>0.111111</td>\n      <td>0.483053</td>\n      <td>1</td>\n      <td>49</td>\n      <td>0</td>\n      <td>0</td>\n      <td>0</td>\n      <td>...</td>\n      <td>0</td>\n      <td>0</td>\n      <td>0</td>\n      <td>0</td>\n      <td>1</td>\n      <td>0</td>\n      <td>0</td>\n      <td>1</td>\n      <td>0</td>\n      <td>0</td>\n    </tr>\n    <tr>\n      <th>99999</th>\n      <td>3</td>\n      <td>0.631845</td>\n      <td>0.000</td>\n      <td>0.000000</td>\n      <td>0.358723</td>\n      <td>1</td>\n      <td>49</td>\n      <td>0</td>\n      <td>0</td>\n      <td>0</td>\n      <td>...</td>\n      <td>0</td>\n      <td>0</td>\n      <td>0</td>\n      <td>0</td>\n      <td>1</td>\n      <td>0</td>\n      <td>0</td>\n      <td>1</td>\n      <td>0</td>\n      <td>0</td>\n    </tr>\n  </tbody>\n</table>\n<p>100000 rows × 21 columns</p>\n</div>"
     },
     "metadata": {},
     "execution_count": 37
    }
   ],
   "source": [
    "train_df"
   ]
  },
  {
   "cell_type": "code",
   "execution_count": 38,
   "metadata": {},
   "outputs": [
    {
     "output_type": "execute_result",
     "data": {
      "text/plain": [
       "       Pclass       Age  SibSp     Parch      Fare  Sex  Ticket  Cabin_A  \\\n",
       "0           3  0.233811  0.000  0.000000  0.634709    1      49        0   \n",
       "1           3  0.653979  0.000  0.000000  0.288706    0      49        0   \n",
       "2           1  0.233811  0.000  0.000000  0.561759    0      49        0   \n",
       "3           2  0.307958  0.000  0.000000  0.399218    1      49        0   \n",
       "4           1  0.209095  0.000  0.222222  0.506421    0      49        0   \n",
       "...       ...       ...    ...       ...       ...  ...     ...      ...   \n",
       "99995       3  0.332674  0.000  0.000000  0.364427    0      49        0   \n",
       "99996       1  0.728127  0.125  0.000000  0.646993    1      49        0   \n",
       "99997       3  0.579832  0.000  0.000000  0.374506    1      49        0   \n",
       "99998       1  0.604548  0.125  0.222222  0.521143    0      21        0   \n",
       "99999       1  0.505685  0.000  0.222222  0.807841    0      21        0   \n",
       "\n",
       "       Cabin_B  Cabin_C  Cabin_D  Cabin_E  Cabin_F  Cabin_G  Cabin_T  Cabin_X  \\\n",
       "0            0        0        0        0        0        0        0        1   \n",
       "1            0        0        0        0        0        0        0        1   \n",
       "2            1        0        0        0        0        0        0        0   \n",
       "3            0        0        0        0        0        0        0        1   \n",
       "4            1        0        0        0        0        0        0        0   \n",
       "...        ...      ...      ...      ...      ...      ...      ...      ...   \n",
       "99995        0        0        0        0        0        0        0        1   \n",
       "99996        0        0        0        0        0        0        0        1   \n",
       "99997        0        0        0        0        0        0        0        1   \n",
       "99998        1        0        0        0        0        0        0        0   \n",
       "99999        0        0        0        1        0        0        0        0   \n",
       "\n",
       "       Embarked_C  Embarked_Q  Embarked_S  Embarked_X  \n",
       "0               0           0           1           0  \n",
       "1               0           0           1           0  \n",
       "2               1           0           0           0  \n",
       "3               0           0           1           0  \n",
       "4               1           0           0           0  \n",
       "...           ...         ...         ...         ...  \n",
       "99995           0           1           0           0  \n",
       "99996           0           0           1           0  \n",
       "99997           0           0           1           0  \n",
       "99998           1           0           0           0  \n",
       "99999           1           0           0           0  \n",
       "\n",
       "[100000 rows x 20 columns]"
      ],
      "text/html": "<div>\n<style scoped>\n    .dataframe tbody tr th:only-of-type {\n        vertical-align: middle;\n    }\n\n    .dataframe tbody tr th {\n        vertical-align: top;\n    }\n\n    .dataframe thead th {\n        text-align: right;\n    }\n</style>\n<table border=\"1\" class=\"dataframe\">\n  <thead>\n    <tr style=\"text-align: right;\">\n      <th></th>\n      <th>Pclass</th>\n      <th>Age</th>\n      <th>SibSp</th>\n      <th>Parch</th>\n      <th>Fare</th>\n      <th>Sex</th>\n      <th>Ticket</th>\n      <th>Cabin_A</th>\n      <th>Cabin_B</th>\n      <th>Cabin_C</th>\n      <th>Cabin_D</th>\n      <th>Cabin_E</th>\n      <th>Cabin_F</th>\n      <th>Cabin_G</th>\n      <th>Cabin_T</th>\n      <th>Cabin_X</th>\n      <th>Embarked_C</th>\n      <th>Embarked_Q</th>\n      <th>Embarked_S</th>\n      <th>Embarked_X</th>\n    </tr>\n  </thead>\n  <tbody>\n    <tr>\n      <th>0</th>\n      <td>3</td>\n      <td>0.233811</td>\n      <td>0.000</td>\n      <td>0.000000</td>\n      <td>0.634709</td>\n      <td>1</td>\n      <td>49</td>\n      <td>0</td>\n      <td>0</td>\n      <td>0</td>\n      <td>0</td>\n      <td>0</td>\n      <td>0</td>\n      <td>0</td>\n      <td>0</td>\n      <td>1</td>\n      <td>0</td>\n      <td>0</td>\n      <td>1</td>\n      <td>0</td>\n    </tr>\n    <tr>\n      <th>1</th>\n      <td>3</td>\n      <td>0.653979</td>\n      <td>0.000</td>\n      <td>0.000000</td>\n      <td>0.288706</td>\n      <td>0</td>\n      <td>49</td>\n      <td>0</td>\n      <td>0</td>\n      <td>0</td>\n      <td>0</td>\n      <td>0</td>\n      <td>0</td>\n      <td>0</td>\n      <td>0</td>\n      <td>1</td>\n      <td>0</td>\n      <td>0</td>\n      <td>1</td>\n      <td>0</td>\n    </tr>\n    <tr>\n      <th>2</th>\n      <td>1</td>\n      <td>0.233811</td>\n      <td>0.000</td>\n      <td>0.000000</td>\n      <td>0.561759</td>\n      <td>0</td>\n      <td>49</td>\n      <td>0</td>\n      <td>1</td>\n      <td>0</td>\n      <td>0</td>\n      <td>0</td>\n      <td>0</td>\n      <td>0</td>\n      <td>0</td>\n      <td>0</td>\n      <td>1</td>\n      <td>0</td>\n      <td>0</td>\n      <td>0</td>\n    </tr>\n    <tr>\n      <th>3</th>\n      <td>2</td>\n      <td>0.307958</td>\n      <td>0.000</td>\n      <td>0.000000</td>\n      <td>0.399218</td>\n      <td>1</td>\n      <td>49</td>\n      <td>0</td>\n      <td>0</td>\n      <td>0</td>\n      <td>0</td>\n      <td>0</td>\n      <td>0</td>\n      <td>0</td>\n      <td>0</td>\n      <td>1</td>\n      <td>0</td>\n      <td>0</td>\n      <td>1</td>\n      <td>0</td>\n    </tr>\n    <tr>\n      <th>4</th>\n      <td>1</td>\n      <td>0.209095</td>\n      <td>0.000</td>\n      <td>0.222222</td>\n      <td>0.506421</td>\n      <td>0</td>\n      <td>49</td>\n      <td>0</td>\n      <td>1</td>\n      <td>0</td>\n      <td>0</td>\n      <td>0</td>\n      <td>0</td>\n      <td>0</td>\n      <td>0</td>\n      <td>0</td>\n      <td>1</td>\n      <td>0</td>\n      <td>0</td>\n      <td>0</td>\n    </tr>\n    <tr>\n      <th>...</th>\n      <td>...</td>\n      <td>...</td>\n      <td>...</td>\n      <td>...</td>\n      <td>...</td>\n      <td>...</td>\n      <td>...</td>\n      <td>...</td>\n      <td>...</td>\n      <td>...</td>\n      <td>...</td>\n      <td>...</td>\n      <td>...</td>\n      <td>...</td>\n      <td>...</td>\n      <td>...</td>\n      <td>...</td>\n      <td>...</td>\n      <td>...</td>\n      <td>...</td>\n    </tr>\n    <tr>\n      <th>99995</th>\n      <td>3</td>\n      <td>0.332674</td>\n      <td>0.000</td>\n      <td>0.000000</td>\n      <td>0.364427</td>\n      <td>0</td>\n      <td>49</td>\n      <td>0</td>\n      <td>0</td>\n      <td>0</td>\n      <td>0</td>\n      <td>0</td>\n      <td>0</td>\n      <td>0</td>\n      <td>0</td>\n      <td>1</td>\n      <td>0</td>\n      <td>1</td>\n      <td>0</td>\n      <td>0</td>\n    </tr>\n    <tr>\n      <th>99996</th>\n      <td>1</td>\n      <td>0.728127</td>\n      <td>0.125</td>\n      <td>0.000000</td>\n      <td>0.646993</td>\n      <td>1</td>\n      <td>49</td>\n      <td>0</td>\n      <td>0</td>\n      <td>0</td>\n      <td>0</td>\n      <td>0</td>\n      <td>0</td>\n      <td>0</td>\n      <td>0</td>\n      <td>1</td>\n      <td>0</td>\n      <td>0</td>\n      <td>1</td>\n      <td>0</td>\n    </tr>\n    <tr>\n      <th>99997</th>\n      <td>3</td>\n      <td>0.579832</td>\n      <td>0.000</td>\n      <td>0.000000</td>\n      <td>0.374506</td>\n      <td>1</td>\n      <td>49</td>\n      <td>0</td>\n      <td>0</td>\n      <td>0</td>\n      <td>0</td>\n      <td>0</td>\n      <td>0</td>\n      <td>0</td>\n      <td>0</td>\n      <td>1</td>\n      <td>0</td>\n      <td>0</td>\n      <td>1</td>\n      <td>0</td>\n    </tr>\n    <tr>\n      <th>99998</th>\n      <td>1</td>\n      <td>0.604548</td>\n      <td>0.125</td>\n      <td>0.222222</td>\n      <td>0.521143</td>\n      <td>0</td>\n      <td>21</td>\n      <td>0</td>\n      <td>1</td>\n      <td>0</td>\n      <td>0</td>\n      <td>0</td>\n      <td>0</td>\n      <td>0</td>\n      <td>0</td>\n      <td>0</td>\n      <td>1</td>\n      <td>0</td>\n      <td>0</td>\n      <td>0</td>\n    </tr>\n    <tr>\n      <th>99999</th>\n      <td>1</td>\n      <td>0.505685</td>\n      <td>0.000</td>\n      <td>0.222222</td>\n      <td>0.807841</td>\n      <td>0</td>\n      <td>21</td>\n      <td>0</td>\n      <td>0</td>\n      <td>0</td>\n      <td>0</td>\n      <td>1</td>\n      <td>0</td>\n      <td>0</td>\n      <td>0</td>\n      <td>0</td>\n      <td>1</td>\n      <td>0</td>\n      <td>0</td>\n      <td>0</td>\n    </tr>\n  </tbody>\n</table>\n<p>100000 rows × 20 columns</p>\n</div>"
     },
     "metadata": {},
     "execution_count": 38
    }
   ],
   "source": [
    "test_df"
   ]
  },
  {
   "source": [
    "# 1. DATA"
   ],
   "cell_type": "markdown",
   "metadata": {}
  },
  {
   "cell_type": "code",
   "execution_count": 39,
   "metadata": {},
   "outputs": [],
   "source": [
    "N_ESTIMATORS = 1000\n",
    "N_SPLITS = 10\n",
    "SEED = 2021\n",
    "EARLY_STOPPING_ROUNDS = 20\n",
    "VERBOSE = 1\n",
    "\n",
    "skf = StratifiedKFold(n_splits=N_SPLITS, shuffle=True, random_state=SEED)"
   ]
  },
  {
   "cell_type": "code",
   "execution_count": 40,
   "metadata": {},
   "outputs": [
    {
     "output_type": "stream",
     "name": "stdout",
     "text": [
      "(100000, 20) (100000,)\n"
     ]
    }
   ],
   "source": [
    "# 훈련 데이터 셋\n",
    "x = train_df.drop(['y_target'], axis=1)\n",
    "y = train_df['y_target']\n",
    "x = x.to_numpy()\n",
    "y = y.to_numpy()\n",
    "print(x.shape, y.shape)"
   ]
  },
  {
   "cell_type": "code",
   "execution_count": 41,
   "metadata": {},
   "outputs": [
    {
     "output_type": "stream",
     "name": "stdout",
     "text": [
      "(100000, 20)\n"
     ]
    }
   ],
   "source": [
    "# 예측 데이터 셋\n",
    "x_pred = test_df\n",
    "x_pred = x_pred.to_numpy()\n",
    "print(x_pred.shape)"
   ]
  },
  {
   "cell_type": "code",
   "execution_count": 42,
   "metadata": {},
   "outputs": [],
   "source": [
    "# x_train, x_val, y_train, y_val = train_test_split(x, y, train_size=0.8, shuffle=True, random_state=42)\n",
    "# print(x_train.shape, x_val.shape)   # (80000, 20) (20000, 20)\n",
    "# print(y_train.shape, y_val.shape)   # (80000,) (20000,)"
   ]
  },
  {
   "source": [
    "# 2. Model"
   ],
   "cell_type": "markdown",
   "metadata": {}
  },
  {
   "cell_type": "code",
   "execution_count": 43,
   "metadata": {
    "tags": [
     "outputPrepend"
    ]
   },
   "outputs": [
    {
     "output_type": "stream",
     "name": "stdout",
     "text": [
      "6.93s\n",
      "457:\tlearn: 0.4632417\ttest: 0.4749191\tbest: 0.4749191 (457)\ttotal: 5.85s\tremaining: 6.92s\n",
      "458:\tlearn: 0.4632247\ttest: 0.4749093\tbest: 0.4749093 (458)\ttotal: 5.86s\tremaining: 6.91s\n",
      "459:\tlearn: 0.4632014\ttest: 0.4749005\tbest: 0.4749005 (459)\ttotal: 5.87s\tremaining: 6.89s\n",
      "460:\tlearn: 0.4631593\ttest: 0.4748816\tbest: 0.4748816 (460)\ttotal: 5.88s\tremaining: 6.88s\n",
      "461:\tlearn: 0.4631328\ttest: 0.4748687\tbest: 0.4748687 (461)\ttotal: 5.9s\tremaining: 6.87s\n",
      "462:\tlearn: 0.4630993\ttest: 0.4748612\tbest: 0.4748612 (462)\ttotal: 5.91s\tremaining: 6.85s\n",
      "463:\tlearn: 0.4630605\ttest: 0.4748673\tbest: 0.4748612 (462)\ttotal: 5.92s\tremaining: 6.84s\n",
      "464:\tlearn: 0.4630483\ttest: 0.4748662\tbest: 0.4748612 (462)\ttotal: 5.93s\tremaining: 6.83s\n",
      "465:\tlearn: 0.4630269\ttest: 0.4748720\tbest: 0.4748612 (462)\ttotal: 5.95s\tremaining: 6.82s\n",
      "466:\tlearn: 0.4629994\ttest: 0.4748683\tbest: 0.4748612 (462)\ttotal: 5.96s\tremaining: 6.8s\n",
      "467:\tlearn: 0.4629832\ttest: 0.4748610\tbest: 0.4748610 (467)\ttotal: 5.97s\tremaining: 6.79s\n",
      "468:\tlearn: 0.4629643\ttest: 0.4748724\tbest: 0.4748610 (467)\ttotal: 5.99s\tremaining: 6.78s\n",
      "469:\tlearn: 0.4629266\ttest: 0.4748653\tbest: 0.4748610 (467)\ttotal: 6s\tremaining: 6.76s\n",
      "470:\tlearn: 0.4629027\ttest: 0.4748597\tbest: 0.4748597 (470)\ttotal: 6.01s\tremaining: 6.75s\n",
      "471:\tlearn: 0.4628830\ttest: 0.4748497\tbest: 0.4748497 (471)\ttotal: 6.03s\tremaining: 6.74s\n",
      "472:\tlearn: 0.4628591\ttest: 0.4748271\tbest: 0.4748271 (472)\ttotal: 6.04s\tremaining: 6.73s\n",
      "473:\tlearn: 0.4628342\ttest: 0.4748207\tbest: 0.4748207 (473)\ttotal: 6.05s\tremaining: 6.71s\n",
      "474:\tlearn: 0.4628125\ttest: 0.4748097\tbest: 0.4748097 (474)\ttotal: 6.06s\tremaining: 6.7s\n",
      "475:\tlearn: 0.4627684\ttest: 0.4747891\tbest: 0.4747891 (475)\ttotal: 6.08s\tremaining: 6.69s\n",
      "476:\tlearn: 0.4627372\ttest: 0.4747807\tbest: 0.4747807 (476)\ttotal: 6.09s\tremaining: 6.68s\n",
      "477:\tlearn: 0.4627091\ttest: 0.4747648\tbest: 0.4747648 (477)\ttotal: 6.1s\tremaining: 6.66s\n",
      "478:\tlearn: 0.4626845\ttest: 0.4747618\tbest: 0.4747618 (478)\ttotal: 6.11s\tremaining: 6.65s\n",
      "479:\tlearn: 0.4626697\ttest: 0.4747613\tbest: 0.4747613 (479)\ttotal: 6.13s\tremaining: 6.64s\n",
      "480:\tlearn: 0.4626330\ttest: 0.4747472\tbest: 0.4747472 (480)\ttotal: 6.14s\tremaining: 6.63s\n",
      "481:\tlearn: 0.4626220\ttest: 0.4747379\tbest: 0.4747379 (481)\ttotal: 6.15s\tremaining: 6.61s\n",
      "482:\tlearn: 0.4626023\ttest: 0.4747304\tbest: 0.4747304 (482)\ttotal: 6.17s\tremaining: 6.6s\n",
      "483:\tlearn: 0.4625722\ttest: 0.4747113\tbest: 0.4747113 (483)\ttotal: 6.18s\tremaining: 6.59s\n",
      "484:\tlearn: 0.4625467\ttest: 0.4746972\tbest: 0.4746972 (484)\ttotal: 6.19s\tremaining: 6.57s\n",
      "485:\tlearn: 0.4625341\ttest: 0.4746904\tbest: 0.4746904 (485)\ttotal: 6.2s\tremaining: 6.56s\n",
      "486:\tlearn: 0.4625026\ttest: 0.4746931\tbest: 0.4746904 (485)\ttotal: 6.22s\tremaining: 6.55s\n",
      "487:\tlearn: 0.4624872\ttest: 0.4746965\tbest: 0.4746904 (485)\ttotal: 6.23s\tremaining: 6.54s\n",
      "488:\tlearn: 0.4624664\ttest: 0.4747007\tbest: 0.4746904 (485)\ttotal: 6.24s\tremaining: 6.52s\n",
      "489:\tlearn: 0.4624449\ttest: 0.4747054\tbest: 0.4746904 (485)\ttotal: 6.25s\tremaining: 6.51s\n",
      "490:\tlearn: 0.4624220\ttest: 0.4746961\tbest: 0.4746904 (485)\ttotal: 6.27s\tremaining: 6.5s\n",
      "491:\tlearn: 0.4624086\ttest: 0.4746941\tbest: 0.4746904 (485)\ttotal: 6.28s\tremaining: 6.48s\n",
      "492:\tlearn: 0.4623884\ttest: 0.4746938\tbest: 0.4746904 (485)\ttotal: 6.29s\tremaining: 6.47s\n",
      "493:\tlearn: 0.4623641\ttest: 0.4746909\tbest: 0.4746904 (485)\ttotal: 6.31s\tremaining: 6.46s\n",
      "494:\tlearn: 0.4623387\ttest: 0.4746859\tbest: 0.4746859 (494)\ttotal: 6.32s\tremaining: 6.45s\n",
      "495:\tlearn: 0.4623201\ttest: 0.4746831\tbest: 0.4746831 (495)\ttotal: 6.33s\tremaining: 6.43s\n",
      "496:\tlearn: 0.4623008\ttest: 0.4746789\tbest: 0.4746789 (496)\ttotal: 6.34s\tremaining: 6.42s\n",
      "497:\tlearn: 0.4622868\ttest: 0.4746750\tbest: 0.4746750 (497)\ttotal: 6.36s\tremaining: 6.41s\n",
      "498:\tlearn: 0.4622555\ttest: 0.4746785\tbest: 0.4746750 (497)\ttotal: 6.37s\tremaining: 6.39s\n",
      "499:\tlearn: 0.4622392\ttest: 0.4746717\tbest: 0.4746717 (499)\ttotal: 6.38s\tremaining: 6.38s\n",
      "500:\tlearn: 0.4622205\ttest: 0.4746486\tbest: 0.4746486 (500)\ttotal: 6.39s\tremaining: 6.37s\n",
      "501:\tlearn: 0.4622098\ttest: 0.4746414\tbest: 0.4746414 (501)\ttotal: 6.41s\tremaining: 6.36s\n",
      "502:\tlearn: 0.4621874\ttest: 0.4746423\tbest: 0.4746414 (501)\ttotal: 6.42s\tremaining: 6.34s\n",
      "503:\tlearn: 0.4621645\ttest: 0.4746290\tbest: 0.4746290 (503)\ttotal: 6.43s\tremaining: 6.33s\n",
      "504:\tlearn: 0.4621356\ttest: 0.4746182\tbest: 0.4746182 (504)\ttotal: 6.45s\tremaining: 6.32s\n",
      "505:\tlearn: 0.4621128\ttest: 0.4746198\tbest: 0.4746182 (504)\ttotal: 6.46s\tremaining: 6.3s\n",
      "506:\tlearn: 0.4620901\ttest: 0.4746169\tbest: 0.4746169 (506)\ttotal: 6.47s\tremaining: 6.29s\n",
      "507:\tlearn: 0.4620690\ttest: 0.4746011\tbest: 0.4746011 (507)\ttotal: 6.48s\tremaining: 6.28s\n",
      "508:\tlearn: 0.4620571\ttest: 0.4746063\tbest: 0.4746011 (507)\ttotal: 6.5s\tremaining: 6.27s\n",
      "509:\tlearn: 0.4620462\ttest: 0.4746052\tbest: 0.4746011 (507)\ttotal: 6.51s\tremaining: 6.25s\n",
      "510:\tlearn: 0.4620225\ttest: 0.4745934\tbest: 0.4745934 (510)\ttotal: 6.52s\tremaining: 6.24s\n",
      "511:\tlearn: 0.4619985\ttest: 0.4745854\tbest: 0.4745854 (511)\ttotal: 6.54s\tremaining: 6.23s\n",
      "512:\tlearn: 0.4619706\ttest: 0.4745719\tbest: 0.4745719 (512)\ttotal: 6.55s\tremaining: 6.22s\n",
      "513:\tlearn: 0.4619574\ttest: 0.4745725\tbest: 0.4745719 (512)\ttotal: 6.56s\tremaining: 6.2s\n",
      "514:\tlearn: 0.4619335\ttest: 0.4745691\tbest: 0.4745691 (514)\ttotal: 6.57s\tremaining: 6.19s\n",
      "515:\tlearn: 0.4619155\ttest: 0.4745668\tbest: 0.4745668 (515)\ttotal: 6.59s\tremaining: 6.18s\n",
      "516:\tlearn: 0.4618934\ttest: 0.4745605\tbest: 0.4745605 (516)\ttotal: 6.6s\tremaining: 6.17s\n",
      "517:\tlearn: 0.4618712\ttest: 0.4745737\tbest: 0.4745605 (516)\ttotal: 6.61s\tremaining: 6.15s\n",
      "518:\tlearn: 0.4618541\ttest: 0.4745703\tbest: 0.4745605 (516)\ttotal: 6.62s\tremaining: 6.14s\n",
      "519:\tlearn: 0.4618293\ttest: 0.4745866\tbest: 0.4745605 (516)\ttotal: 6.64s\tremaining: 6.13s\n",
      "520:\tlearn: 0.4618117\ttest: 0.4745815\tbest: 0.4745605 (516)\ttotal: 6.65s\tremaining: 6.11s\n",
      "521:\tlearn: 0.4617954\ttest: 0.4745737\tbest: 0.4745605 (516)\ttotal: 6.66s\tremaining: 6.1s\n",
      "522:\tlearn: 0.4617797\ttest: 0.4745690\tbest: 0.4745605 (516)\ttotal: 6.67s\tremaining: 6.09s\n",
      "523:\tlearn: 0.4617568\ttest: 0.4745691\tbest: 0.4745605 (516)\ttotal: 6.69s\tremaining: 6.08s\n",
      "524:\tlearn: 0.4617237\ttest: 0.4745780\tbest: 0.4745605 (516)\ttotal: 6.7s\tremaining: 6.06s\n",
      "525:\tlearn: 0.4616966\ttest: 0.4745837\tbest: 0.4745605 (516)\ttotal: 6.71s\tremaining: 6.05s\n",
      "526:\tlearn: 0.4616820\ttest: 0.4745749\tbest: 0.4745605 (516)\ttotal: 6.73s\tremaining: 6.04s\n",
      "527:\tlearn: 0.4616565\ttest: 0.4745712\tbest: 0.4745605 (516)\ttotal: 6.74s\tremaining: 6.03s\n",
      "528:\tlearn: 0.4616309\ttest: 0.4745586\tbest: 0.4745586 (528)\ttotal: 6.75s\tremaining: 6.01s\n",
      "529:\tlearn: 0.4616118\ttest: 0.4745466\tbest: 0.4745466 (529)\ttotal: 6.76s\tremaining: 6s\n",
      "530:\tlearn: 0.4615947\ttest: 0.4745354\tbest: 0.4745354 (530)\ttotal: 6.78s\tremaining: 5.99s\n",
      "531:\tlearn: 0.4615827\ttest: 0.4745238\tbest: 0.4745238 (531)\ttotal: 6.79s\tremaining: 5.97s\n",
      "532:\tlearn: 0.4615673\ttest: 0.4745261\tbest: 0.4745238 (531)\ttotal: 6.8s\tremaining: 5.96s\n",
      "533:\tlearn: 0.4615503\ttest: 0.4745337\tbest: 0.4745238 (531)\ttotal: 6.82s\tremaining: 5.95s\n",
      "534:\tlearn: 0.4615341\ttest: 0.4745353\tbest: 0.4745238 (531)\ttotal: 6.83s\tremaining: 5.93s\n",
      "535:\tlearn: 0.4615106\ttest: 0.4745216\tbest: 0.4745216 (535)\ttotal: 6.84s\tremaining: 5.92s\n",
      "536:\tlearn: 0.4614807\ttest: 0.4745247\tbest: 0.4745216 (535)\ttotal: 6.85s\tremaining: 5.91s\n",
      "537:\tlearn: 0.4614607\ttest: 0.4745218\tbest: 0.4745216 (535)\ttotal: 6.87s\tremaining: 5.9s\n",
      "538:\tlearn: 0.4614347\ttest: 0.4745119\tbest: 0.4745119 (538)\ttotal: 6.88s\tremaining: 5.88s\n",
      "539:\tlearn: 0.4614089\ttest: 0.4745144\tbest: 0.4745119 (538)\ttotal: 6.89s\tremaining: 5.87s\n",
      "540:\tlearn: 0.4613878\ttest: 0.4745191\tbest: 0.4745119 (538)\ttotal: 6.91s\tremaining: 5.86s\n",
      "541:\tlearn: 0.4613533\ttest: 0.4745158\tbest: 0.4745119 (538)\ttotal: 6.92s\tremaining: 5.85s\n",
      "542:\tlearn: 0.4613315\ttest: 0.4745108\tbest: 0.4745108 (542)\ttotal: 6.93s\tremaining: 5.83s\n",
      "543:\tlearn: 0.4613162\ttest: 0.4745022\tbest: 0.4745022 (543)\ttotal: 6.94s\tremaining: 5.82s\n",
      "544:\tlearn: 0.4613014\ttest: 0.4744945\tbest: 0.4744945 (544)\ttotal: 6.96s\tremaining: 5.81s\n",
      "545:\tlearn: 0.4612873\ttest: 0.4745051\tbest: 0.4744945 (544)\ttotal: 6.97s\tremaining: 5.79s\n",
      "546:\tlearn: 0.4612666\ttest: 0.4744968\tbest: 0.4744945 (544)\ttotal: 6.98s\tremaining: 5.78s\n",
      "547:\tlearn: 0.4612517\ttest: 0.4744845\tbest: 0.4744845 (547)\ttotal: 6.99s\tremaining: 5.77s\n",
      "548:\tlearn: 0.4612164\ttest: 0.4744603\tbest: 0.4744603 (548)\ttotal: 7.01s\tremaining: 5.76s\n",
      "549:\tlearn: 0.4611833\ttest: 0.4744524\tbest: 0.4744524 (549)\ttotal: 7.02s\tremaining: 5.74s\n",
      "550:\tlearn: 0.4611602\ttest: 0.4744552\tbest: 0.4744524 (549)\ttotal: 7.03s\tremaining: 5.73s\n",
      "551:\tlearn: 0.4611367\ttest: 0.4744580\tbest: 0.4744524 (549)\ttotal: 7.04s\tremaining: 5.72s\n",
      "552:\tlearn: 0.4611017\ttest: 0.4744431\tbest: 0.4744431 (552)\ttotal: 7.06s\tremaining: 5.71s\n",
      "553:\tlearn: 0.4610915\ttest: 0.4744350\tbest: 0.4744350 (553)\ttotal: 7.07s\tremaining: 5.69s\n",
      "554:\tlearn: 0.4610717\ttest: 0.4744215\tbest: 0.4744215 (554)\ttotal: 7.08s\tremaining: 5.68s\n",
      "555:\tlearn: 0.4610419\ttest: 0.4744060\tbest: 0.4744060 (555)\ttotal: 7.1s\tremaining: 5.67s\n",
      "556:\tlearn: 0.4610190\ttest: 0.4744119\tbest: 0.4744060 (555)\ttotal: 7.11s\tremaining: 5.66s\n",
      "557:\tlearn: 0.4610010\ttest: 0.4744110\tbest: 0.4744060 (555)\ttotal: 7.12s\tremaining: 5.64s\n",
      "558:\tlearn: 0.4609864\ttest: 0.4743994\tbest: 0.4743994 (558)\ttotal: 7.14s\tremaining: 5.63s\n",
      "559:\tlearn: 0.4609642\ttest: 0.4743940\tbest: 0.4743940 (559)\ttotal: 7.15s\tremaining: 5.62s\n",
      "560:\tlearn: 0.4609349\ttest: 0.4744094\tbest: 0.4743940 (559)\ttotal: 7.16s\tremaining: 5.6s\n",
      "561:\tlearn: 0.4609174\ttest: 0.4744089\tbest: 0.4743940 (559)\ttotal: 7.17s\tremaining: 5.59s\n",
      "562:\tlearn: 0.4609008\ttest: 0.4744004\tbest: 0.4743940 (559)\ttotal: 7.19s\tremaining: 5.58s\n",
      "563:\tlearn: 0.4608908\ttest: 0.4743988\tbest: 0.4743940 (559)\ttotal: 7.2s\tremaining: 5.57s\n",
      "564:\tlearn: 0.4608568\ttest: 0.4743880\tbest: 0.4743880 (564)\ttotal: 7.21s\tremaining: 5.55s\n",
      "565:\tlearn: 0.4608469\ttest: 0.4743898\tbest: 0.4743880 (564)\ttotal: 7.22s\tremaining: 5.54s\n",
      "566:\tlearn: 0.4608230\ttest: 0.4743789\tbest: 0.4743789 (566)\ttotal: 7.24s\tremaining: 5.53s\n",
      "567:\tlearn: 0.4608030\ttest: 0.4743792\tbest: 0.4743789 (566)\ttotal: 7.25s\tremaining: 5.51s\n",
      "568:\tlearn: 0.4607839\ttest: 0.4743795\tbest: 0.4743789 (566)\ttotal: 7.26s\tremaining: 5.5s\n",
      "569:\tlearn: 0.4607615\ttest: 0.4743797\tbest: 0.4743789 (566)\ttotal: 7.28s\tremaining: 5.49s\n",
      "570:\tlearn: 0.4607286\ttest: 0.4743798\tbest: 0.4743789 (566)\ttotal: 7.29s\tremaining: 5.48s\n",
      "571:\tlearn: 0.4607195\ttest: 0.4743745\tbest: 0.4743745 (571)\ttotal: 7.3s\tremaining: 5.46s\n",
      "572:\tlearn: 0.4606985\ttest: 0.4743643\tbest: 0.4743643 (572)\ttotal: 7.32s\tremaining: 5.45s\n",
      "573:\tlearn: 0.4606832\ttest: 0.4743618\tbest: 0.4743618 (573)\ttotal: 7.33s\tremaining: 5.44s\n",
      "574:\tlearn: 0.4606544\ttest: 0.4743464\tbest: 0.4743464 (574)\ttotal: 7.34s\tremaining: 5.42s\n",
      "575:\tlearn: 0.4606355\ttest: 0.4743493\tbest: 0.4743464 (574)\ttotal: 7.35s\tremaining: 5.41s\n",
      "576:\tlearn: 0.4606177\ttest: 0.4743474\tbest: 0.4743464 (574)\ttotal: 7.37s\tremaining: 5.4s\n",
      "577:\tlearn: 0.4605990\ttest: 0.4743470\tbest: 0.4743464 (574)\ttotal: 7.38s\tremaining: 5.39s\n",
      "578:\tlearn: 0.4605781\ttest: 0.4743334\tbest: 0.4743334 (578)\ttotal: 7.39s\tremaining: 5.37s\n",
      "579:\tlearn: 0.4605566\ttest: 0.4743344\tbest: 0.4743334 (578)\ttotal: 7.4s\tremaining: 5.36s\n",
      "580:\tlearn: 0.4605283\ttest: 0.4743273\tbest: 0.4743273 (580)\ttotal: 7.42s\tremaining: 5.35s\n",
      "581:\tlearn: 0.4605095\ttest: 0.4743395\tbest: 0.4743273 (580)\ttotal: 7.43s\tremaining: 5.33s\n",
      "582:\tlearn: 0.4604966\ttest: 0.4743359\tbest: 0.4743273 (580)\ttotal: 7.44s\tremaining: 5.32s\n",
      "583:\tlearn: 0.4604795\ttest: 0.4743392\tbest: 0.4743273 (580)\ttotal: 7.46s\tremaining: 5.31s\n",
      "584:\tlearn: 0.4604530\ttest: 0.4743184\tbest: 0.4743184 (584)\ttotal: 7.47s\tremaining: 5.3s\n",
      "585:\tlearn: 0.4604422\ttest: 0.4743215\tbest: 0.4743184 (584)\ttotal: 7.48s\tremaining: 5.29s\n",
      "586:\tlearn: 0.4604220\ttest: 0.4743188\tbest: 0.4743184 (584)\ttotal: 7.49s\tremaining: 5.27s\n",
      "587:\tlearn: 0.4603940\ttest: 0.4743163\tbest: 0.4743163 (587)\ttotal: 7.51s\tremaining: 5.26s\n",
      "588:\tlearn: 0.4603754\ttest: 0.4743145\tbest: 0.4743145 (588)\ttotal: 7.52s\tremaining: 5.25s\n",
      "589:\tlearn: 0.4603533\ttest: 0.4743168\tbest: 0.4743145 (588)\ttotal: 7.53s\tremaining: 5.23s\n",
      "590:\tlearn: 0.4603405\ttest: 0.4743135\tbest: 0.4743135 (590)\ttotal: 7.54s\tremaining: 5.22s\n",
      "591:\tlearn: 0.4603267\ttest: 0.4743057\tbest: 0.4743057 (591)\ttotal: 7.56s\tremaining: 5.21s\n",
      "592:\tlearn: 0.4602991\ttest: 0.4742958\tbest: 0.4742958 (592)\ttotal: 7.57s\tremaining: 5.2s\n",
      "593:\tlearn: 0.4602785\ttest: 0.4742933\tbest: 0.4742933 (593)\ttotal: 7.58s\tremaining: 5.18s\n",
      "594:\tlearn: 0.4602643\ttest: 0.4742967\tbest: 0.4742933 (593)\ttotal: 7.59s\tremaining: 5.17s\n",
      "595:\tlearn: 0.4602414\ttest: 0.4742886\tbest: 0.4742886 (595)\ttotal: 7.61s\tremaining: 5.16s\n",
      "596:\tlearn: 0.4602195\ttest: 0.4742871\tbest: 0.4742871 (596)\ttotal: 7.62s\tremaining: 5.14s\n",
      "597:\tlearn: 0.4602076\ttest: 0.4742841\tbest: 0.4742841 (597)\ttotal: 7.63s\tremaining: 5.13s\n",
      "598:\tlearn: 0.4601902\ttest: 0.4742806\tbest: 0.4742806 (598)\ttotal: 7.65s\tremaining: 5.12s\n",
      "599:\tlearn: 0.4601716\ttest: 0.4742840\tbest: 0.4742806 (598)\ttotal: 7.66s\tremaining: 5.11s\n",
      "600:\tlearn: 0.4601523\ttest: 0.4742597\tbest: 0.4742597 (600)\ttotal: 7.67s\tremaining: 5.09s\n",
      "601:\tlearn: 0.4601366\ttest: 0.4742529\tbest: 0.4742529 (601)\ttotal: 7.68s\tremaining: 5.08s\n",
      "602:\tlearn: 0.4601275\ttest: 0.4742559\tbest: 0.4742529 (601)\ttotal: 7.7s\tremaining: 5.07s\n",
      "603:\tlearn: 0.4601116\ttest: 0.4742474\tbest: 0.4742474 (603)\ttotal: 7.71s\tremaining: 5.05s\n",
      "604:\tlearn: 0.4600834\ttest: 0.4742526\tbest: 0.4742474 (603)\ttotal: 7.72s\tremaining: 5.04s\n",
      "605:\tlearn: 0.4600676\ttest: 0.4742567\tbest: 0.4742474 (603)\ttotal: 7.74s\tremaining: 5.03s\n",
      "606:\tlearn: 0.4600311\ttest: 0.4742555\tbest: 0.4742474 (603)\ttotal: 7.75s\tremaining: 5.02s\n",
      "607:\tlearn: 0.4600072\ttest: 0.4742460\tbest: 0.4742460 (607)\ttotal: 7.76s\tremaining: 5s\n",
      "608:\tlearn: 0.4599946\ttest: 0.4742469\tbest: 0.4742460 (607)\ttotal: 7.77s\tremaining: 4.99s\n",
      "609:\tlearn: 0.4599797\ttest: 0.4742454\tbest: 0.4742454 (609)\ttotal: 7.79s\tremaining: 4.98s\n",
      "610:\tlearn: 0.4599486\ttest: 0.4742226\tbest: 0.4742226 (610)\ttotal: 7.8s\tremaining: 4.97s\n",
      "611:\tlearn: 0.4599342\ttest: 0.4742233\tbest: 0.4742226 (610)\ttotal: 7.81s\tremaining: 4.95s\n",
      "612:\tlearn: 0.4599215\ttest: 0.4742176\tbest: 0.4742176 (612)\ttotal: 7.83s\tremaining: 4.94s\n",
      "613:\tlearn: 0.4599039\ttest: 0.4742104\tbest: 0.4742104 (613)\ttotal: 7.84s\tremaining: 4.93s\n",
      "614:\tlearn: 0.4598831\ttest: 0.4742004\tbest: 0.4742004 (614)\ttotal: 7.85s\tremaining: 4.91s\n",
      "615:\tlearn: 0.4598667\ttest: 0.4741939\tbest: 0.4741939 (615)\ttotal: 7.86s\tremaining: 4.9s\n",
      "616:\tlearn: 0.4598544\ttest: 0.4741954\tbest: 0.4741939 (615)\ttotal: 7.88s\tremaining: 4.89s\n",
      "617:\tlearn: 0.4598390\ttest: 0.4741947\tbest: 0.4741939 (615)\ttotal: 7.89s\tremaining: 4.88s\n",
      "618:\tlearn: 0.4598130\ttest: 0.4741804\tbest: 0.4741804 (618)\ttotal: 7.9s\tremaining: 4.86s\n",
      "619:\tlearn: 0.4597804\ttest: 0.4741700\tbest: 0.4741700 (619)\ttotal: 7.91s\tremaining: 4.85s\n",
      "620:\tlearn: 0.4597670\ttest: 0.4741698\tbest: 0.4741698 (620)\ttotal: 7.93s\tremaining: 4.84s\n",
      "621:\tlearn: 0.4597303\ttest: 0.4741730\tbest: 0.4741698 (620)\ttotal: 7.94s\tremaining: 4.83s\n",
      "622:\tlearn: 0.4597028\ttest: 0.4741695\tbest: 0.4741695 (622)\ttotal: 7.95s\tremaining: 4.81s\n",
      "623:\tlearn: 0.4596885\ttest: 0.4741658\tbest: 0.4741658 (623)\ttotal: 7.96s\tremaining: 4.8s\n",
      "624:\tlearn: 0.4596760\ttest: 0.4741622\tbest: 0.4741622 (624)\ttotal: 7.98s\tremaining: 4.79s\n",
      "625:\tlearn: 0.4596635\ttest: 0.4741549\tbest: 0.4741549 (625)\ttotal: 7.99s\tremaining: 4.77s\n",
      "626:\tlearn: 0.4596395\ttest: 0.4741534\tbest: 0.4741534 (626)\ttotal: 8s\tremaining: 4.76s\n",
      "627:\tlearn: 0.4596237\ttest: 0.4741637\tbest: 0.4741534 (626)\ttotal: 8.02s\tremaining: 4.75s\n",
      "628:\tlearn: 0.4596018\ttest: 0.4741616\tbest: 0.4741534 (626)\ttotal: 8.03s\tremaining: 4.74s\n",
      "629:\tlearn: 0.4595950\ttest: 0.4741578\tbest: 0.4741534 (626)\ttotal: 8.04s\tremaining: 4.72s\n",
      "630:\tlearn: 0.4595836\ttest: 0.4741569\tbest: 0.4741534 (626)\ttotal: 8.05s\tremaining: 4.71s\n",
      "631:\tlearn: 0.4595628\ttest: 0.4741459\tbest: 0.4741459 (631)\ttotal: 8.07s\tremaining: 4.7s\n",
      "632:\tlearn: 0.4595475\ttest: 0.4741487\tbest: 0.4741459 (631)\ttotal: 8.08s\tremaining: 4.68s\n",
      "633:\tlearn: 0.4595317\ttest: 0.4741460\tbest: 0.4741459 (631)\ttotal: 8.09s\tremaining: 4.67s\n",
      "634:\tlearn: 0.4595074\ttest: 0.4741426\tbest: 0.4741426 (634)\ttotal: 8.11s\tremaining: 4.66s\n",
      "635:\tlearn: 0.4594691\ttest: 0.4741274\tbest: 0.4741274 (635)\ttotal: 8.12s\tremaining: 4.65s\n",
      "636:\tlearn: 0.4594574\ttest: 0.4741259\tbest: 0.4741259 (636)\ttotal: 8.13s\tremaining: 4.63s\n",
      "637:\tlearn: 0.4594348\ttest: 0.4741297\tbest: 0.4741259 (636)\ttotal: 8.14s\tremaining: 4.62s\n",
      "638:\tlearn: 0.4594030\ttest: 0.4741043\tbest: 0.4741043 (638)\ttotal: 8.16s\tremaining: 4.61s\n",
      "639:\tlearn: 0.4593779\ttest: 0.4741037\tbest: 0.4741037 (639)\ttotal: 8.17s\tremaining: 4.59s\n",
      "640:\tlearn: 0.4593566\ttest: 0.4741158\tbest: 0.4741037 (639)\ttotal: 8.18s\tremaining: 4.58s\n",
      "641:\tlearn: 0.4593392\ttest: 0.4741136\tbest: 0.4741037 (639)\ttotal: 8.2s\tremaining: 4.57s\n",
      "642:\tlearn: 0.4593292\ttest: 0.4741150\tbest: 0.4741037 (639)\ttotal: 8.21s\tremaining: 4.56s\n",
      "643:\tlearn: 0.4593078\ttest: 0.4741072\tbest: 0.4741037 (639)\ttotal: 8.22s\tremaining: 4.54s\n",
      "644:\tlearn: 0.4592987\ttest: 0.4741014\tbest: 0.4741014 (644)\ttotal: 8.23s\tremaining: 4.53s\n",
      "645:\tlearn: 0.4592789\ttest: 0.4740993\tbest: 0.4740993 (645)\ttotal: 8.25s\tremaining: 4.52s\n",
      "646:\tlearn: 0.4592688\ttest: 0.4740915\tbest: 0.4740915 (646)\ttotal: 8.26s\tremaining: 4.51s\n",
      "647:\tlearn: 0.4592579\ttest: 0.4740976\tbest: 0.4740915 (646)\ttotal: 8.27s\tremaining: 4.49s\n",
      "648:\tlearn: 0.4592450\ttest: 0.4740882\tbest: 0.4740882 (648)\ttotal: 8.28s\tremaining: 4.48s\n",
      "649:\tlearn: 0.4592316\ttest: 0.4740909\tbest: 0.4740882 (648)\ttotal: 8.3s\tremaining: 4.47s\n",
      "650:\tlearn: 0.4592191\ttest: 0.4740870\tbest: 0.4740870 (650)\ttotal: 8.31s\tremaining: 4.45s\n",
      "651:\tlearn: 0.4591833\ttest: 0.4740896\tbest: 0.4740870 (650)\ttotal: 8.32s\tremaining: 4.44s\n",
      "652:\tlearn: 0.4591596\ttest: 0.4740900\tbest: 0.4740870 (650)\ttotal: 8.33s\tremaining: 4.43s\n",
      "653:\tlearn: 0.4591378\ttest: 0.4740919\tbest: 0.4740870 (650)\ttotal: 8.35s\tremaining: 4.42s\n",
      "654:\tlearn: 0.4591168\ttest: 0.4740860\tbest: 0.4740860 (654)\ttotal: 8.36s\tremaining: 4.4s\n",
      "655:\tlearn: 0.4590857\ttest: 0.4740816\tbest: 0.4740816 (655)\ttotal: 8.37s\tremaining: 4.39s\n",
      "656:\tlearn: 0.4590727\ttest: 0.4740852\tbest: 0.4740816 (655)\ttotal: 8.39s\tremaining: 4.38s\n",
      "657:\tlearn: 0.4590586\ttest: 0.4740800\tbest: 0.4740800 (657)\ttotal: 8.4s\tremaining: 4.37s\n",
      "658:\tlearn: 0.4590469\ttest: 0.4740898\tbest: 0.4740800 (657)\ttotal: 8.41s\tremaining: 4.35s\n",
      "659:\tlearn: 0.4590198\ttest: 0.4741046\tbest: 0.4740800 (657)\ttotal: 8.43s\tremaining: 4.34s\n",
      "660:\tlearn: 0.4590015\ttest: 0.4741217\tbest: 0.4740800 (657)\ttotal: 8.44s\tremaining: 4.33s\n",
      "661:\tlearn: 0.4589828\ttest: 0.4741279\tbest: 0.4740800 (657)\ttotal: 8.45s\tremaining: 4.31s\n",
      "662:\tlearn: 0.4589655\ttest: 0.4741193\tbest: 0.4740800 (657)\ttotal: 8.46s\tremaining: 4.3s\n",
      "663:\tlearn: 0.4589384\ttest: 0.4741038\tbest: 0.4740800 (657)\ttotal: 8.47s\tremaining: 4.29s\n",
      "664:\tlearn: 0.4589093\ttest: 0.4741106\tbest: 0.4740800 (657)\ttotal: 8.49s\tremaining: 4.28s\n",
      "665:\tlearn: 0.4588961\ttest: 0.4741111\tbest: 0.4740800 (657)\ttotal: 8.5s\tremaining: 4.26s\n",
      "666:\tlearn: 0.4588722\ttest: 0.4741188\tbest: 0.4740800 (657)\ttotal: 8.51s\tremaining: 4.25s\n",
      "667:\tlearn: 0.4588569\ttest: 0.4741181\tbest: 0.4740800 (657)\ttotal: 8.53s\tremaining: 4.24s\n",
      "668:\tlearn: 0.4588401\ttest: 0.4741152\tbest: 0.4740800 (657)\ttotal: 8.54s\tremaining: 4.22s\n",
      "669:\tlearn: 0.4588174\ttest: 0.4741172\tbest: 0.4740800 (657)\ttotal: 8.55s\tremaining: 4.21s\n",
      "670:\tlearn: 0.4587996\ttest: 0.4741098\tbest: 0.4740800 (657)\ttotal: 8.57s\tremaining: 4.2s\n",
      "671:\tlearn: 0.4587835\ttest: 0.4741063\tbest: 0.4740800 (657)\ttotal: 8.58s\tremaining: 4.19s\n",
      "672:\tlearn: 0.4587729\ttest: 0.4741130\tbest: 0.4740800 (657)\ttotal: 8.59s\tremaining: 4.17s\n",
      "673:\tlearn: 0.4587572\ttest: 0.4741056\tbest: 0.4740800 (657)\ttotal: 8.6s\tremaining: 4.16s\n",
      "674:\tlearn: 0.4587398\ttest: 0.4740972\tbest: 0.4740800 (657)\ttotal: 8.62s\tremaining: 4.15s\n",
      "675:\tlearn: 0.4587138\ttest: 0.4740995\tbest: 0.4740800 (657)\ttotal: 8.63s\tremaining: 4.13s\n",
      "676:\tlearn: 0.4586876\ttest: 0.4740993\tbest: 0.4740800 (657)\ttotal: 8.64s\tremaining: 4.12s\n",
      "677:\tlearn: 0.4586703\ttest: 0.4740969\tbest: 0.4740800 (657)\ttotal: 8.65s\tremaining: 4.11s\n",
      "bestTest = 0.4740799805\n",
      "bestIteration = 657\n",
      "Shrink model to first 658 iterations.\n",
      "===== ACCURACY SCORE 0.778700 =====\n",
      "===== ACCURACY SCORE 0.778700 =====\n"
     ]
    }
   ],
   "source": [
    "import catboost as ctb\n",
    "\n",
    "params = {\n",
    "    'bootstrap_type': 'Poisson',\n",
    "    'loss_function': 'Logloss',\n",
    "    'eval_metric': 'Logloss',\n",
    "    'random_seed': SEED,\n",
    "    'task_type': 'GPU',\n",
    "    'max_depth': 8,\n",
    "    'learning_rate': 0.01,\n",
    "    'n_estimators': N_ESTIMATORS,\n",
    "    'max_bin': 280,\n",
    "    'min_data_in_leaf': 64,\n",
    "    'l2_leaf_reg': 0.01,\n",
    "    'subsample': 0.8\n",
    "}\n",
    "\n",
    "#KFold\n",
    "for fold, (train_idx, valid_idx) in enumerate(skf.split(x, y)) :\n",
    "    print(f\"=====Fold {fold}=====\")\n",
    "    x_train = x[train_idx]\n",
    "    x_val = x[valid_idx]\n",
    "    y_train = y[train_idx]\n",
    "    y_val = y[valid_idx]  \n",
    "    # print(x_train.shape, x_val.shape)  # (90000, 20) (10000, 20)\n",
    "    # print(y_train.shape, y_val.shape)  # (90000,) (10000,)\n",
    "    \n",
    "\n",
    "    model = ctb.CatBoostClassifier(**params)\n",
    "    model.fit(x_train, y_train,\n",
    "            eval_set=[(x_val, y_val)],\n",
    "            use_best_model=True,\n",
    "            early_stopping_rounds=EARLY_STOPPING_ROUNDS,\n",
    "            verbose=VERBOSE)\n",
    "\n",
    "    y_val_pred = model.predict(x_val)\n",
    "    acc_score = accuracy_score(y_val, y_val_pred)\n",
    "    print(f\"===== ACCURACY SCORE {acc_score:.6f} =====\")    # 0.778700\n",
    "\n",
    "acc_score = accuracy_score(y_val, y_val_pred)\n",
    "print(f\"===== ACCURACY SCORE {acc_score:.6f} =====\")    # 0.778700"
   ]
  },
  {
   "source": [
    "# 3. Predict"
   ],
   "cell_type": "markdown",
   "metadata": {}
  },
  {
   "cell_type": "code",
   "execution_count": 47,
   "metadata": {},
   "outputs": [
    {
     "output_type": "execute_result",
     "data": {
      "text/plain": [
       "(100000,)"
      ]
     },
     "metadata": {},
     "execution_count": 47
    }
   ],
   "source": [
    "y_pred = model.predict(x_pred)\n",
    "y_pred.shape"
   ]
  },
  {
   "cell_type": "code",
   "execution_count": 48,
   "metadata": {},
   "outputs": [
    {
     "output_type": "execute_result",
     "data": {
      "text/plain": [
       "       PassengerId  Survived\n",
       "0           100000         0\n",
       "1           100001         1\n",
       "2           100002         1\n",
       "3           100003         0\n",
       "4           100004         1\n",
       "...            ...       ...\n",
       "99995       199995         1\n",
       "99996       199996         0\n",
       "99997       199997         0\n",
       "99998       199998         1\n",
       "99999       199999         1\n",
       "\n",
       "[100000 rows x 2 columns]"
      ],
      "text/html": "<div>\n<style scoped>\n    .dataframe tbody tr th:only-of-type {\n        vertical-align: middle;\n    }\n\n    .dataframe tbody tr th {\n        vertical-align: top;\n    }\n\n    .dataframe thead th {\n        text-align: right;\n    }\n</style>\n<table border=\"1\" class=\"dataframe\">\n  <thead>\n    <tr style=\"text-align: right;\">\n      <th></th>\n      <th>PassengerId</th>\n      <th>Survived</th>\n    </tr>\n  </thead>\n  <tbody>\n    <tr>\n      <th>0</th>\n      <td>100000</td>\n      <td>0</td>\n    </tr>\n    <tr>\n      <th>1</th>\n      <td>100001</td>\n      <td>1</td>\n    </tr>\n    <tr>\n      <th>2</th>\n      <td>100002</td>\n      <td>1</td>\n    </tr>\n    <tr>\n      <th>3</th>\n      <td>100003</td>\n      <td>0</td>\n    </tr>\n    <tr>\n      <th>4</th>\n      <td>100004</td>\n      <td>1</td>\n    </tr>\n    <tr>\n      <th>...</th>\n      <td>...</td>\n      <td>...</td>\n    </tr>\n    <tr>\n      <th>99995</th>\n      <td>199995</td>\n      <td>1</td>\n    </tr>\n    <tr>\n      <th>99996</th>\n      <td>199996</td>\n      <td>0</td>\n    </tr>\n    <tr>\n      <th>99997</th>\n      <td>199997</td>\n      <td>0</td>\n    </tr>\n    <tr>\n      <th>99998</th>\n      <td>199998</td>\n      <td>1</td>\n    </tr>\n    <tr>\n      <th>99999</th>\n      <td>199999</td>\n      <td>1</td>\n    </tr>\n  </tbody>\n</table>\n<p>100000 rows × 2 columns</p>\n</div>"
     },
     "metadata": {},
     "execution_count": 48
    }
   ],
   "source": [
    "submission['Survived'] = y_pred\n",
    "submission"
   ]
  },
  {
   "source": [
    "# 4.Submission"
   ],
   "cell_type": "markdown",
   "metadata": {}
  },
  {
   "cell_type": "code",
   "execution_count": 49,
   "metadata": {},
   "outputs": [
    {
     "output_type": "execute_result",
     "data": {
      "text/plain": [
       "       PassengerId  Survived\n",
       "0           100000         0\n",
       "1           100001         1\n",
       "2           100002         1\n",
       "3           100003         0\n",
       "4           100004         1\n",
       "...            ...       ...\n",
       "99995       199995         1\n",
       "99996       199996         0\n",
       "99997       199997         0\n",
       "99998       199998         1\n",
       "99999       199999         1\n",
       "\n",
       "[100000 rows x 2 columns]"
      ],
      "text/html": "<div>\n<style scoped>\n    .dataframe tbody tr th:only-of-type {\n        vertical-align: middle;\n    }\n\n    .dataframe tbody tr th {\n        vertical-align: top;\n    }\n\n    .dataframe thead th {\n        text-align: right;\n    }\n</style>\n<table border=\"1\" class=\"dataframe\">\n  <thead>\n    <tr style=\"text-align: right;\">\n      <th></th>\n      <th>PassengerId</th>\n      <th>Survived</th>\n    </tr>\n  </thead>\n  <tbody>\n    <tr>\n      <th>0</th>\n      <td>100000</td>\n      <td>0</td>\n    </tr>\n    <tr>\n      <th>1</th>\n      <td>100001</td>\n      <td>1</td>\n    </tr>\n    <tr>\n      <th>2</th>\n      <td>100002</td>\n      <td>1</td>\n    </tr>\n    <tr>\n      <th>3</th>\n      <td>100003</td>\n      <td>0</td>\n    </tr>\n    <tr>\n      <th>4</th>\n      <td>100004</td>\n      <td>1</td>\n    </tr>\n    <tr>\n      <th>...</th>\n      <td>...</td>\n      <td>...</td>\n    </tr>\n    <tr>\n      <th>99995</th>\n      <td>199995</td>\n      <td>1</td>\n    </tr>\n    <tr>\n      <th>99996</th>\n      <td>199996</td>\n      <td>0</td>\n    </tr>\n    <tr>\n      <th>99997</th>\n      <td>199997</td>\n      <td>0</td>\n    </tr>\n    <tr>\n      <th>99998</th>\n      <td>199998</td>\n      <td>1</td>\n    </tr>\n    <tr>\n      <th>99999</th>\n      <td>199999</td>\n      <td>1</td>\n    </tr>\n  </tbody>\n</table>\n<p>100000 rows × 2 columns</p>\n</div>"
     },
     "metadata": {},
     "execution_count": 49
    }
   ],
   "source": [
    "submission.to_csv(\"E:\\\\data\\\\kaggle_tabular\\\\submission_0425.csv\", index = False)\n",
    "submission"
   ]
  },
  {
   "source": [
    "---\n",
    "파일명 : submission_0425.csv     \n",
    "score : 0.80265"
   ],
   "cell_type": "markdown",
   "metadata": {}
  }
 ]
}