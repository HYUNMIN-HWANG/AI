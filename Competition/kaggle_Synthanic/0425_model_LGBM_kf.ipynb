{
 "metadata": {
  "language_info": {
   "codemirror_mode": {
    "name": "ipython",
    "version": 3
   },
   "file_extension": ".py",
   "mimetype": "text/x-python",
   "name": "python",
   "nbconvert_exporter": "python",
   "pygments_lexer": "ipython3",
   "version": "3.8.5"
  },
  "orig_nbformat": 2,
  "kernelspec": {
   "name": "python385jvsc74a57bd0cfed29639e118e2330c8cca2e9f389b076390c6676518be5d289ddd682bc9f99",
   "display_name": "Python 3.8.5 64-bit (conda)"
  }
 },
 "nbformat": 4,
 "nbformat_minor": 2,
 "cells": [
  {
   "cell_type": "code",
   "execution_count": 20,
   "metadata": {},
   "outputs": [],
   "source": [
    "import pandas as pd\n",
    "import numpy as np\n",
    "import random\n",
    "import os\n",
    "\n",
    "from sklearn.metrics import accuracy_score\n",
    "from sklearn.preprocessing import LabelEncoder, StandardScaler, OneHotEncoder, MinMaxScaler\n",
    "from sklearn.model_selection import train_test_split, KFold, StratifiedKFold\n",
    "\n",
    "train_df = pd.read_csv('E:\\data\\kaggle_tabular/train.csv')\n",
    "test_df = pd.read_csv('E:\\data\\kaggle_tabular/test.csv')\n",
    "submission = pd.read_csv('E:\\data\\kaggle_tabular/sample_submission.csv')"
   ]
  },
  {
   "source": [
    "https://www.kaggle.com/hiro5299834/tps-apr-2021-pseudo-labeling-voting-ensemble"
   ],
   "cell_type": "markdown",
   "metadata": {}
  },
  {
   "source": [
    "앞으로 해볼 것    \n",
    "K-fold    \n",
    "GridSearchCV    \n",
    "best_columns를 구할 수 있는 게 있었던 거 같은데 - from sklearn.feature_selection import SelectFromModel    "
   ],
   "cell_type": "markdown",
   "metadata": {}
  },
  {
   "source": [
    "# data 전처리"
   ],
   "cell_type": "markdown",
   "metadata": {}
  },
  {
   "source": [
    "* Pclass - a proxy for socio-economic status (SES) where 1st = Upper, 2nd = Middle and 3rd = Lower.\n",
    "* Sex - male and female.\n",
    "* Age - fractional if it less than 1 and age estimation in the form of xx.5.\n",
    "* SibSp - number of siblings / spouses aboard the Synthanic; siblings are brother, sister, stepbrother and stepsister and spouses are husband and wife (mistresses and fiancés were ignored).\n",
    "* Parch - # of parents / children aboard the Synthanic; parents are mother and father; child are daughter, son, stepdaughter and stepson. Some children travelled only with a nanny, therefore Parch is 0 for them.\n",
    "* Fare - the paassenger fare.\n",
    "* Cabin - the cabin number.\n",
    "* Emarked - port of embarkation where C is Cherbourg, Q is Queenstown and S is Southampton.\n",
    "* Ticket - ticket number.\n",
    "* Name - passengers name.\n",
    "* Survived - target variable where 0 is not survived and 1 is survived."
   ],
   "cell_type": "markdown",
   "metadata": {}
  },
  {
   "source": [
    "* 결측값 채우기"
   ],
   "cell_type": "markdown",
   "metadata": {}
  },
  {
   "cell_type": "code",
   "execution_count": 21,
   "metadata": {},
   "outputs": [
    {
     "output_type": "stream",
     "name": "stdout",
     "text": [
      "Missing values per columns in train dataset\nPassengerId: 0\nSurvived: 0\nPclass: 0\nName: 0\nSex: 0\nAge: 3292\nSibSp: 0\nParch: 0\nTicket: 4623\nFare: 134\nCabin: 67866\nEmbarked: 250\n"
     ]
    }
   ],
   "source": [
    "print('Missing values per columns in train dataset')\n",
    "for col in train_df.columns:\n",
    "    temp_col = train_df[col].isnull().sum()\n",
    "    print(f'{col}: {temp_col}')"
   ]
  },
  {
   "cell_type": "code",
   "execution_count": 22,
   "metadata": {},
   "outputs": [],
   "source": [
    "# col = 'Age' 평균 나이로 결측값 채우기\n",
    "train_df['Age'] = train_df['Age'].fillna(train_df['Age'].mean())\n",
    "test_df['Age'] = test_df['Age'].fillna(test_df['Age'].mean())"
   ]
  },
  {
   "cell_type": "code",
   "execution_count": 23,
   "metadata": {},
   "outputs": [
    {
     "output_type": "execute_result",
     "data": {
      "text/plain": [
       "0      X\n",
       "1      X\n",
       "2     CA\n",
       "3     A.\n",
       "4      X\n",
       "      ..\n",
       "95     X\n",
       "96     X\n",
       "97    PC\n",
       "98     X\n",
       "99     X\n",
       "Name: Ticket, Length: 100, dtype: object"
      ]
     },
     "metadata": {},
     "execution_count": 23
    }
   ],
   "source": [
    "# col = 'Ticket', 결측값 'X'로 채우기\n",
    "train_df['Ticket'] = train_df['Ticket'].fillna('X').map(lambda x:str(x).split()[0] if len(str(x).split()) > 1 else 'X')\n",
    "test_df['Ticket'] = test_df['Ticket'].fillna('X').map(lambda x:str(x).split()[0] if len(str(x).split()) > 1 else 'X')\n",
    "train_df['Ticket'][:100]"
   ]
  },
  {
   "cell_type": "code",
   "execution_count": 24,
   "metadata": {},
   "outputs": [
    {
     "output_type": "execute_result",
     "data": {
      "text/plain": [
       "0     C\n",
       "1     X\n",
       "2     X\n",
       "3     X\n",
       "4     X\n",
       "     ..\n",
       "95    X\n",
       "96    X\n",
       "97    D\n",
       "98    X\n",
       "99    C\n",
       "Name: Cabin, Length: 100, dtype: object"
      ]
     },
     "metadata": {},
     "execution_count": 24
    }
   ],
   "source": [
    "# col = 'Cabin', 결측값 'X'로 채우기\n",
    "train_df['Cabin'] = train_df['Cabin'].fillna('X').map(lambda x: x[0].strip())\n",
    "test_df['Cabin'] = test_df['Cabin'].fillna('X').map(lambda x: x[0].strip())\n",
    "train_df['Cabin'][:100]"
   ]
  },
  {
   "cell_type": "code",
   "execution_count": 25,
   "metadata": {},
   "outputs": [
    {
     "output_type": "execute_result",
     "data": {
      "text/plain": [
       "0     S\n",
       "1     S\n",
       "2     S\n",
       "3     S\n",
       "4     S\n",
       "     ..\n",
       "95    S\n",
       "96    Q\n",
       "97    Q\n",
       "98    S\n",
       "99    C\n",
       "Name: Embarked, Length: 100, dtype: object"
      ]
     },
     "metadata": {},
     "execution_count": 25
    }
   ],
   "source": [
    "# col = 'Embarked', 결측값 'X'로 채우기\n",
    "train_df['Embarked'] = train_df['Embarked'].fillna('X')\n",
    "test_df['Embarked'] = test_df['Embarked'].fillna('X')\n",
    "train_df['Embarked'][:100]"
   ]
  },
  {
   "cell_type": "code",
   "execution_count": 26,
   "metadata": {},
   "outputs": [
    {
     "output_type": "execute_result",
     "data": {
      "text/plain": [
       "0     3.337192\n",
       "1     2.663750\n",
       "2     4.280686\n",
       "3     2.641910\n",
       "4     2.170196\n",
       "        ...   \n",
       "95    3.503754\n",
       "96    3.312730\n",
       "97    4.884921\n",
       "98    3.363149\n",
       "99    5.633217\n",
       "Name: Fare, Length: 100, dtype: float64"
      ]
     },
     "metadata": {},
     "execution_count": 26
    }
   ],
   "source": [
    "# col = 'Fare', 결측값 각 Pclass 마다 fare 중앙값을 넣는다.\n",
    "fare_map =  train_df[['Fare', 'Pclass']].dropna().groupby('Pclass').median().to_dict()\n",
    "# fare_map    # {'Fare': {1: 63.58, 2: 22.72, 3: 10.96}}\n",
    "train_df['Fare'] = train_df['Fare'].fillna(train_df['Pclass'].map(fare_map['Fare']))\n",
    "train_df['Fare'] = np.log1p(train_df['Fare'])\n",
    "train_df['Fare'][:100]"
   ]
  },
  {
   "cell_type": "code",
   "execution_count": 27,
   "metadata": {},
   "outputs": [
    {
     "output_type": "execute_result",
     "data": {
      "text/plain": [
       "0     4.159039\n",
       "1     1.918392\n",
       "2     3.686627\n",
       "3     2.634045\n",
       "4     3.328268\n",
       "        ...   \n",
       "95    2.249184\n",
       "96    2.621766\n",
       "97    1.969906\n",
       "98    2.536866\n",
       "99    3.469479\n",
       "Name: Fare, Length: 100, dtype: float64"
      ]
     },
     "metadata": {},
     "execution_count": 27
    }
   ],
   "source": [
    "# col = 'Fare', 결측값 각 Pclass 마다 fare 중앙값을 넣는다.\n",
    "fare_map =  test_df[['Fare', 'Pclass']].dropna().groupby('Pclass').median().to_dict()\n",
    "# fare_map    # {'Fare': {1: 80.68, 2: 14.455, 3: 11.52}}\n",
    "test_df['Fare'] = test_df['Fare'].fillna(test_df['Pclass'].map(fare_map['Fare']))\n",
    "test_df['Fare'] = np.log1p(test_df['Fare'])\n",
    "test_df['Fare'][:100]"
   ]
  },
  {
   "source": [
    "* 앞 이름만 가져오기"
   ],
   "cell_type": "markdown",
   "metadata": {}
  },
  {
   "cell_type": "code",
   "execution_count": 28,
   "metadata": {},
   "outputs": [
    {
     "output_type": "execute_result",
     "data": {
      "text/plain": [
       "       PassengerId  Survived  Pclass       Name     Sex        Age  SibSp  \\\n",
       "0                0         1       1    Oconnor    male  38.355472      2   \n",
       "1                1         0       3      Bryan    male  38.355472      0   \n",
       "2                2         0       3      Owens    male   0.330000      1   \n",
       "3                3         0       3     Kramer    male  19.000000      0   \n",
       "4                4         1       3       Bond    male  25.000000      0   \n",
       "...            ...       ...     ...        ...     ...        ...    ...   \n",
       "99995        99995         1       2       Bell  female  62.000000      0   \n",
       "99996        99996         0       2      Brown    male  66.000000      0   \n",
       "99997        99997         0       3  Childress    male  37.000000      0   \n",
       "99998        99998         0       3   Caughlin    male  51.000000      0   \n",
       "99999        99999         0       3     Enciso    male  55.000000      0   \n",
       "\n",
       "       Parch Ticket      Fare Cabin Embarked  \n",
       "0          0      X  3.337192     C        S  \n",
       "1          0      X  2.663750     X        S  \n",
       "2          2     CA  4.280686     X        S  \n",
       "3          0     A.  2.641910     X        S  \n",
       "4          0      X  2.170196     X        S  \n",
       "...      ...    ...       ...   ...      ...  \n",
       "99995      0     PC  2.763800     D        C  \n",
       "99996      0      X  2.497329     X        S  \n",
       "99997      0      X  2.393339     X        S  \n",
       "99998      1      X  3.463233     X        S  \n",
       "99999      0      X  2.705380     X        S  \n",
       "\n",
       "[100000 rows x 12 columns]"
      ],
      "text/html": "<div>\n<style scoped>\n    .dataframe tbody tr th:only-of-type {\n        vertical-align: middle;\n    }\n\n    .dataframe tbody tr th {\n        vertical-align: top;\n    }\n\n    .dataframe thead th {\n        text-align: right;\n    }\n</style>\n<table border=\"1\" class=\"dataframe\">\n  <thead>\n    <tr style=\"text-align: right;\">\n      <th></th>\n      <th>PassengerId</th>\n      <th>Survived</th>\n      <th>Pclass</th>\n      <th>Name</th>\n      <th>Sex</th>\n      <th>Age</th>\n      <th>SibSp</th>\n      <th>Parch</th>\n      <th>Ticket</th>\n      <th>Fare</th>\n      <th>Cabin</th>\n      <th>Embarked</th>\n    </tr>\n  </thead>\n  <tbody>\n    <tr>\n      <th>0</th>\n      <td>0</td>\n      <td>1</td>\n      <td>1</td>\n      <td>Oconnor</td>\n      <td>male</td>\n      <td>38.355472</td>\n      <td>2</td>\n      <td>0</td>\n      <td>X</td>\n      <td>3.337192</td>\n      <td>C</td>\n      <td>S</td>\n    </tr>\n    <tr>\n      <th>1</th>\n      <td>1</td>\n      <td>0</td>\n      <td>3</td>\n      <td>Bryan</td>\n      <td>male</td>\n      <td>38.355472</td>\n      <td>0</td>\n      <td>0</td>\n      <td>X</td>\n      <td>2.663750</td>\n      <td>X</td>\n      <td>S</td>\n    </tr>\n    <tr>\n      <th>2</th>\n      <td>2</td>\n      <td>0</td>\n      <td>3</td>\n      <td>Owens</td>\n      <td>male</td>\n      <td>0.330000</td>\n      <td>1</td>\n      <td>2</td>\n      <td>CA</td>\n      <td>4.280686</td>\n      <td>X</td>\n      <td>S</td>\n    </tr>\n    <tr>\n      <th>3</th>\n      <td>3</td>\n      <td>0</td>\n      <td>3</td>\n      <td>Kramer</td>\n      <td>male</td>\n      <td>19.000000</td>\n      <td>0</td>\n      <td>0</td>\n      <td>A.</td>\n      <td>2.641910</td>\n      <td>X</td>\n      <td>S</td>\n    </tr>\n    <tr>\n      <th>4</th>\n      <td>4</td>\n      <td>1</td>\n      <td>3</td>\n      <td>Bond</td>\n      <td>male</td>\n      <td>25.000000</td>\n      <td>0</td>\n      <td>0</td>\n      <td>X</td>\n      <td>2.170196</td>\n      <td>X</td>\n      <td>S</td>\n    </tr>\n    <tr>\n      <th>...</th>\n      <td>...</td>\n      <td>...</td>\n      <td>...</td>\n      <td>...</td>\n      <td>...</td>\n      <td>...</td>\n      <td>...</td>\n      <td>...</td>\n      <td>...</td>\n      <td>...</td>\n      <td>...</td>\n      <td>...</td>\n    </tr>\n    <tr>\n      <th>99995</th>\n      <td>99995</td>\n      <td>1</td>\n      <td>2</td>\n      <td>Bell</td>\n      <td>female</td>\n      <td>62.000000</td>\n      <td>0</td>\n      <td>0</td>\n      <td>PC</td>\n      <td>2.763800</td>\n      <td>D</td>\n      <td>C</td>\n    </tr>\n    <tr>\n      <th>99996</th>\n      <td>99996</td>\n      <td>0</td>\n      <td>2</td>\n      <td>Brown</td>\n      <td>male</td>\n      <td>66.000000</td>\n      <td>0</td>\n      <td>0</td>\n      <td>X</td>\n      <td>2.497329</td>\n      <td>X</td>\n      <td>S</td>\n    </tr>\n    <tr>\n      <th>99997</th>\n      <td>99997</td>\n      <td>0</td>\n      <td>3</td>\n      <td>Childress</td>\n      <td>male</td>\n      <td>37.000000</td>\n      <td>0</td>\n      <td>0</td>\n      <td>X</td>\n      <td>2.393339</td>\n      <td>X</td>\n      <td>S</td>\n    </tr>\n    <tr>\n      <th>99998</th>\n      <td>99998</td>\n      <td>0</td>\n      <td>3</td>\n      <td>Caughlin</td>\n      <td>male</td>\n      <td>51.000000</td>\n      <td>0</td>\n      <td>1</td>\n      <td>X</td>\n      <td>3.463233</td>\n      <td>X</td>\n      <td>S</td>\n    </tr>\n    <tr>\n      <th>99999</th>\n      <td>99999</td>\n      <td>0</td>\n      <td>3</td>\n      <td>Enciso</td>\n      <td>male</td>\n      <td>55.000000</td>\n      <td>0</td>\n      <td>0</td>\n      <td>X</td>\n      <td>2.705380</td>\n      <td>X</td>\n      <td>S</td>\n    </tr>\n  </tbody>\n</table>\n<p>100000 rows × 12 columns</p>\n</div>"
     },
     "metadata": {},
     "execution_count": 28
    }
   ],
   "source": [
    "train_df['Name'] = train_df['Name'].map(lambda x: x.split(',')[0])\n",
    "test_df['Name'] = test_df['Name'].map(lambda x: x.split(',')[0])\n",
    "train_df"
   ]
  },
  {
   "source": [
    "* 'Survived' 컬럼을 맨 뒤로 보내기"
   ],
   "cell_type": "markdown",
   "metadata": {}
  },
  {
   "cell_type": "code",
   "execution_count": 29,
   "metadata": {},
   "outputs": [
    {
     "output_type": "execute_result",
     "data": {
      "text/plain": [
       "       PassengerId  Pclass       Name     Sex        Age  SibSp  Parch Ticket  \\\n",
       "0                0       1    Oconnor    male  38.355472      2      0      X   \n",
       "1                1       3      Bryan    male  38.355472      0      0      X   \n",
       "2                2       3      Owens    male   0.330000      1      2     CA   \n",
       "3                3       3     Kramer    male  19.000000      0      0     A.   \n",
       "4                4       3       Bond    male  25.000000      0      0      X   \n",
       "...            ...     ...        ...     ...        ...    ...    ...    ...   \n",
       "99995        99995       2       Bell  female  62.000000      0      0     PC   \n",
       "99996        99996       2      Brown    male  66.000000      0      0      X   \n",
       "99997        99997       3  Childress    male  37.000000      0      0      X   \n",
       "99998        99998       3   Caughlin    male  51.000000      0      1      X   \n",
       "99999        99999       3     Enciso    male  55.000000      0      0      X   \n",
       "\n",
       "           Fare Cabin Embarked  y_target  \n",
       "0      3.337192     C        S         1  \n",
       "1      2.663750     X        S         0  \n",
       "2      4.280686     X        S         0  \n",
       "3      2.641910     X        S         0  \n",
       "4      2.170196     X        S         1  \n",
       "...         ...   ...      ...       ...  \n",
       "99995  2.763800     D        C         1  \n",
       "99996  2.497329     X        S         0  \n",
       "99997  2.393339     X        S         0  \n",
       "99998  3.463233     X        S         0  \n",
       "99999  2.705380     X        S         0  \n",
       "\n",
       "[100000 rows x 12 columns]"
      ],
      "text/html": "<div>\n<style scoped>\n    .dataframe tbody tr th:only-of-type {\n        vertical-align: middle;\n    }\n\n    .dataframe tbody tr th {\n        vertical-align: top;\n    }\n\n    .dataframe thead th {\n        text-align: right;\n    }\n</style>\n<table border=\"1\" class=\"dataframe\">\n  <thead>\n    <tr style=\"text-align: right;\">\n      <th></th>\n      <th>PassengerId</th>\n      <th>Pclass</th>\n      <th>Name</th>\n      <th>Sex</th>\n      <th>Age</th>\n      <th>SibSp</th>\n      <th>Parch</th>\n      <th>Ticket</th>\n      <th>Fare</th>\n      <th>Cabin</th>\n      <th>Embarked</th>\n      <th>y_target</th>\n    </tr>\n  </thead>\n  <tbody>\n    <tr>\n      <th>0</th>\n      <td>0</td>\n      <td>1</td>\n      <td>Oconnor</td>\n      <td>male</td>\n      <td>38.355472</td>\n      <td>2</td>\n      <td>0</td>\n      <td>X</td>\n      <td>3.337192</td>\n      <td>C</td>\n      <td>S</td>\n      <td>1</td>\n    </tr>\n    <tr>\n      <th>1</th>\n      <td>1</td>\n      <td>3</td>\n      <td>Bryan</td>\n      <td>male</td>\n      <td>38.355472</td>\n      <td>0</td>\n      <td>0</td>\n      <td>X</td>\n      <td>2.663750</td>\n      <td>X</td>\n      <td>S</td>\n      <td>0</td>\n    </tr>\n    <tr>\n      <th>2</th>\n      <td>2</td>\n      <td>3</td>\n      <td>Owens</td>\n      <td>male</td>\n      <td>0.330000</td>\n      <td>1</td>\n      <td>2</td>\n      <td>CA</td>\n      <td>4.280686</td>\n      <td>X</td>\n      <td>S</td>\n      <td>0</td>\n    </tr>\n    <tr>\n      <th>3</th>\n      <td>3</td>\n      <td>3</td>\n      <td>Kramer</td>\n      <td>male</td>\n      <td>19.000000</td>\n      <td>0</td>\n      <td>0</td>\n      <td>A.</td>\n      <td>2.641910</td>\n      <td>X</td>\n      <td>S</td>\n      <td>0</td>\n    </tr>\n    <tr>\n      <th>4</th>\n      <td>4</td>\n      <td>3</td>\n      <td>Bond</td>\n      <td>male</td>\n      <td>25.000000</td>\n      <td>0</td>\n      <td>0</td>\n      <td>X</td>\n      <td>2.170196</td>\n      <td>X</td>\n      <td>S</td>\n      <td>1</td>\n    </tr>\n    <tr>\n      <th>...</th>\n      <td>...</td>\n      <td>...</td>\n      <td>...</td>\n      <td>...</td>\n      <td>...</td>\n      <td>...</td>\n      <td>...</td>\n      <td>...</td>\n      <td>...</td>\n      <td>...</td>\n      <td>...</td>\n      <td>...</td>\n    </tr>\n    <tr>\n      <th>99995</th>\n      <td>99995</td>\n      <td>2</td>\n      <td>Bell</td>\n      <td>female</td>\n      <td>62.000000</td>\n      <td>0</td>\n      <td>0</td>\n      <td>PC</td>\n      <td>2.763800</td>\n      <td>D</td>\n      <td>C</td>\n      <td>1</td>\n    </tr>\n    <tr>\n      <th>99996</th>\n      <td>99996</td>\n      <td>2</td>\n      <td>Brown</td>\n      <td>male</td>\n      <td>66.000000</td>\n      <td>0</td>\n      <td>0</td>\n      <td>X</td>\n      <td>2.497329</td>\n      <td>X</td>\n      <td>S</td>\n      <td>0</td>\n    </tr>\n    <tr>\n      <th>99997</th>\n      <td>99997</td>\n      <td>3</td>\n      <td>Childress</td>\n      <td>male</td>\n      <td>37.000000</td>\n      <td>0</td>\n      <td>0</td>\n      <td>X</td>\n      <td>2.393339</td>\n      <td>X</td>\n      <td>S</td>\n      <td>0</td>\n    </tr>\n    <tr>\n      <th>99998</th>\n      <td>99998</td>\n      <td>3</td>\n      <td>Caughlin</td>\n      <td>male</td>\n      <td>51.000000</td>\n      <td>0</td>\n      <td>1</td>\n      <td>X</td>\n      <td>3.463233</td>\n      <td>X</td>\n      <td>S</td>\n      <td>0</td>\n    </tr>\n    <tr>\n      <th>99999</th>\n      <td>99999</td>\n      <td>3</td>\n      <td>Enciso</td>\n      <td>male</td>\n      <td>55.000000</td>\n      <td>0</td>\n      <td>0</td>\n      <td>X</td>\n      <td>2.705380</td>\n      <td>X</td>\n      <td>S</td>\n      <td>0</td>\n    </tr>\n  </tbody>\n</table>\n<p>100000 rows × 12 columns</p>\n</div>"
     },
     "metadata": {},
     "execution_count": 29
    }
   ],
   "source": [
    "train_df['y_target'] = train_df['Survived']\n",
    "train_df = train_df.drop(['Survived'], axis=1)\n",
    "train_df"
   ]
  },
  {
   "source": [
    "* 문자들을 숫자로 치환하기"
   ],
   "cell_type": "markdown",
   "metadata": {}
  },
  {
   "cell_type": "code",
   "execution_count": 30,
   "metadata": {},
   "outputs": [],
   "source": [
    "def label_encoder(c):\n",
    "    encoder = LabelEncoder()\n",
    "    return encoder.fit_transform(c)\n",
    "\n",
    "labels_col = ['Sex','Ticket']\n",
    "label_encoded_df = train_df[labels_col].apply(label_encoder)\n",
    "test_label_encoded_df = test_df[labels_col].apply(label_encoder)\n",
    "# label_encoded_df\n",
    "\n",
    "onehot_cols = ['Cabin', 'Embarked']\n",
    "onehot_encoded_df = pd.get_dummies(train_df[onehot_cols])\n",
    "test_onehot_encoded_df = pd.get_dummies(test_df[onehot_cols])\n",
    "# onehot_encoded_df\n",
    "\n",
    "numerical_cols = ['Age', 'SibSp', 'Parch', 'Fare']\n",
    "scaler = MinMaxScaler()\n",
    "numerical_df = pd.DataFrame(scaler.fit_transform(train_df[numerical_cols]), columns=numerical_cols)\n",
    "test_numerical_df = pd.DataFrame(scaler.fit_transform(test_df[numerical_cols]), columns=numerical_cols)\n",
    "# numerical_df\n",
    "\n",
    "etc_df = train_df['Pclass']\n",
    "test_etc_df = test_df['Pclass']\n",
    "\n",
    "target_df = train_df['y_target']\n",
    "\n",
    "\n",
    "train_df = pd.concat([etc_df, numerical_df, label_encoded_df, onehot_encoded_df, target_df], axis=1)\n",
    "test_df = pd.concat([test_etc_df, test_numerical_df, test_label_encoded_df, test_onehot_encoded_df], axis=1)"
   ]
  },
  {
   "source": [
    "최종적으로 사용할 데이터 셋"
   ],
   "cell_type": "markdown",
   "metadata": {}
  },
  {
   "cell_type": "code",
   "execution_count": 31,
   "metadata": {},
   "outputs": [
    {
     "output_type": "execute_result",
     "data": {
      "text/plain": [
       "       Pclass       Age  SibSp     Parch      Fare  Sex  Ticket  Cabin_A  \\\n",
       "0           1  0.440353  0.250  0.000000  0.462375    1      49        0   \n",
       "1           3  0.440353  0.000  0.000000  0.351893    1      49        0   \n",
       "2           3  0.002876  0.125  0.222222  0.617161    1      14        0   \n",
       "3           3  0.217671  0.000  0.000000  0.348310    1       0        0   \n",
       "4           3  0.286700  0.000  0.000000  0.270923    1      49        0   \n",
       "...       ...       ...    ...       ...       ...  ...     ...      ...   \n",
       "99995       2  0.712379  0.000  0.000000  0.368307    0      21        0   \n",
       "99996       2  0.758399  0.000  0.000000  0.324591    1      49        0   \n",
       "99997       3  0.424758  0.000  0.000000  0.307531    1      49        0   \n",
       "99998       3  0.585826  0.000  0.111111  0.483053    1      49        0   \n",
       "99999       3  0.631845  0.000  0.000000  0.358723    1      49        0   \n",
       "\n",
       "       Cabin_B  Cabin_C  ...  Cabin_E  Cabin_F  Cabin_G  Cabin_T  Cabin_X  \\\n",
       "0            0        1  ...        0        0        0        0        0   \n",
       "1            0        0  ...        0        0        0        0        1   \n",
       "2            0        0  ...        0        0        0        0        1   \n",
       "3            0        0  ...        0        0        0        0        1   \n",
       "4            0        0  ...        0        0        0        0        1   \n",
       "...        ...      ...  ...      ...      ...      ...      ...      ...   \n",
       "99995        0        0  ...        0        0        0        0        0   \n",
       "99996        0        0  ...        0        0        0        0        1   \n",
       "99997        0        0  ...        0        0        0        0        1   \n",
       "99998        0        0  ...        0        0        0        0        1   \n",
       "99999        0        0  ...        0        0        0        0        1   \n",
       "\n",
       "       Embarked_C  Embarked_Q  Embarked_S  Embarked_X  y_target  \n",
       "0               0           0           1           0         1  \n",
       "1               0           0           1           0         0  \n",
       "2               0           0           1           0         0  \n",
       "3               0           0           1           0         0  \n",
       "4               0           0           1           0         1  \n",
       "...           ...         ...         ...         ...       ...  \n",
       "99995           1           0           0           0         1  \n",
       "99996           0           0           1           0         0  \n",
       "99997           0           0           1           0         0  \n",
       "99998           0           0           1           0         0  \n",
       "99999           0           0           1           0         0  \n",
       "\n",
       "[100000 rows x 21 columns]"
      ],
      "text/html": "<div>\n<style scoped>\n    .dataframe tbody tr th:only-of-type {\n        vertical-align: middle;\n    }\n\n    .dataframe tbody tr th {\n        vertical-align: top;\n    }\n\n    .dataframe thead th {\n        text-align: right;\n    }\n</style>\n<table border=\"1\" class=\"dataframe\">\n  <thead>\n    <tr style=\"text-align: right;\">\n      <th></th>\n      <th>Pclass</th>\n      <th>Age</th>\n      <th>SibSp</th>\n      <th>Parch</th>\n      <th>Fare</th>\n      <th>Sex</th>\n      <th>Ticket</th>\n      <th>Cabin_A</th>\n      <th>Cabin_B</th>\n      <th>Cabin_C</th>\n      <th>...</th>\n      <th>Cabin_E</th>\n      <th>Cabin_F</th>\n      <th>Cabin_G</th>\n      <th>Cabin_T</th>\n      <th>Cabin_X</th>\n      <th>Embarked_C</th>\n      <th>Embarked_Q</th>\n      <th>Embarked_S</th>\n      <th>Embarked_X</th>\n      <th>y_target</th>\n    </tr>\n  </thead>\n  <tbody>\n    <tr>\n      <th>0</th>\n      <td>1</td>\n      <td>0.440353</td>\n      <td>0.250</td>\n      <td>0.000000</td>\n      <td>0.462375</td>\n      <td>1</td>\n      <td>49</td>\n      <td>0</td>\n      <td>0</td>\n      <td>1</td>\n      <td>...</td>\n      <td>0</td>\n      <td>0</td>\n      <td>0</td>\n      <td>0</td>\n      <td>0</td>\n      <td>0</td>\n      <td>0</td>\n      <td>1</td>\n      <td>0</td>\n      <td>1</td>\n    </tr>\n    <tr>\n      <th>1</th>\n      <td>3</td>\n      <td>0.440353</td>\n      <td>0.000</td>\n      <td>0.000000</td>\n      <td>0.351893</td>\n      <td>1</td>\n      <td>49</td>\n      <td>0</td>\n      <td>0</td>\n      <td>0</td>\n      <td>...</td>\n      <td>0</td>\n      <td>0</td>\n      <td>0</td>\n      <td>0</td>\n      <td>1</td>\n      <td>0</td>\n      <td>0</td>\n      <td>1</td>\n      <td>0</td>\n      <td>0</td>\n    </tr>\n    <tr>\n      <th>2</th>\n      <td>3</td>\n      <td>0.002876</td>\n      <td>0.125</td>\n      <td>0.222222</td>\n      <td>0.617161</td>\n      <td>1</td>\n      <td>14</td>\n      <td>0</td>\n      <td>0</td>\n      <td>0</td>\n      <td>...</td>\n      <td>0</td>\n      <td>0</td>\n      <td>0</td>\n      <td>0</td>\n      <td>1</td>\n      <td>0</td>\n      <td>0</td>\n      <td>1</td>\n      <td>0</td>\n      <td>0</td>\n    </tr>\n    <tr>\n      <th>3</th>\n      <td>3</td>\n      <td>0.217671</td>\n      <td>0.000</td>\n      <td>0.000000</td>\n      <td>0.348310</td>\n      <td>1</td>\n      <td>0</td>\n      <td>0</td>\n      <td>0</td>\n      <td>0</td>\n      <td>...</td>\n      <td>0</td>\n      <td>0</td>\n      <td>0</td>\n      <td>0</td>\n      <td>1</td>\n      <td>0</td>\n      <td>0</td>\n      <td>1</td>\n      <td>0</td>\n      <td>0</td>\n    </tr>\n    <tr>\n      <th>4</th>\n      <td>3</td>\n      <td>0.286700</td>\n      <td>0.000</td>\n      <td>0.000000</td>\n      <td>0.270923</td>\n      <td>1</td>\n      <td>49</td>\n      <td>0</td>\n      <td>0</td>\n      <td>0</td>\n      <td>...</td>\n      <td>0</td>\n      <td>0</td>\n      <td>0</td>\n      <td>0</td>\n      <td>1</td>\n      <td>0</td>\n      <td>0</td>\n      <td>1</td>\n      <td>0</td>\n      <td>1</td>\n    </tr>\n    <tr>\n      <th>...</th>\n      <td>...</td>\n      <td>...</td>\n      <td>...</td>\n      <td>...</td>\n      <td>...</td>\n      <td>...</td>\n      <td>...</td>\n      <td>...</td>\n      <td>...</td>\n      <td>...</td>\n      <td>...</td>\n      <td>...</td>\n      <td>...</td>\n      <td>...</td>\n      <td>...</td>\n      <td>...</td>\n      <td>...</td>\n      <td>...</td>\n      <td>...</td>\n      <td>...</td>\n      <td>...</td>\n    </tr>\n    <tr>\n      <th>99995</th>\n      <td>2</td>\n      <td>0.712379</td>\n      <td>0.000</td>\n      <td>0.000000</td>\n      <td>0.368307</td>\n      <td>0</td>\n      <td>21</td>\n      <td>0</td>\n      <td>0</td>\n      <td>0</td>\n      <td>...</td>\n      <td>0</td>\n      <td>0</td>\n      <td>0</td>\n      <td>0</td>\n      <td>0</td>\n      <td>1</td>\n      <td>0</td>\n      <td>0</td>\n      <td>0</td>\n      <td>1</td>\n    </tr>\n    <tr>\n      <th>99996</th>\n      <td>2</td>\n      <td>0.758399</td>\n      <td>0.000</td>\n      <td>0.000000</td>\n      <td>0.324591</td>\n      <td>1</td>\n      <td>49</td>\n      <td>0</td>\n      <td>0</td>\n      <td>0</td>\n      <td>...</td>\n      <td>0</td>\n      <td>0</td>\n      <td>0</td>\n      <td>0</td>\n      <td>1</td>\n      <td>0</td>\n      <td>0</td>\n      <td>1</td>\n      <td>0</td>\n      <td>0</td>\n    </tr>\n    <tr>\n      <th>99997</th>\n      <td>3</td>\n      <td>0.424758</td>\n      <td>0.000</td>\n      <td>0.000000</td>\n      <td>0.307531</td>\n      <td>1</td>\n      <td>49</td>\n      <td>0</td>\n      <td>0</td>\n      <td>0</td>\n      <td>...</td>\n      <td>0</td>\n      <td>0</td>\n      <td>0</td>\n      <td>0</td>\n      <td>1</td>\n      <td>0</td>\n      <td>0</td>\n      <td>1</td>\n      <td>0</td>\n      <td>0</td>\n    </tr>\n    <tr>\n      <th>99998</th>\n      <td>3</td>\n      <td>0.585826</td>\n      <td>0.000</td>\n      <td>0.111111</td>\n      <td>0.483053</td>\n      <td>1</td>\n      <td>49</td>\n      <td>0</td>\n      <td>0</td>\n      <td>0</td>\n      <td>...</td>\n      <td>0</td>\n      <td>0</td>\n      <td>0</td>\n      <td>0</td>\n      <td>1</td>\n      <td>0</td>\n      <td>0</td>\n      <td>1</td>\n      <td>0</td>\n      <td>0</td>\n    </tr>\n    <tr>\n      <th>99999</th>\n      <td>3</td>\n      <td>0.631845</td>\n      <td>0.000</td>\n      <td>0.000000</td>\n      <td>0.358723</td>\n      <td>1</td>\n      <td>49</td>\n      <td>0</td>\n      <td>0</td>\n      <td>0</td>\n      <td>...</td>\n      <td>0</td>\n      <td>0</td>\n      <td>0</td>\n      <td>0</td>\n      <td>1</td>\n      <td>0</td>\n      <td>0</td>\n      <td>1</td>\n      <td>0</td>\n      <td>0</td>\n    </tr>\n  </tbody>\n</table>\n<p>100000 rows × 21 columns</p>\n</div>"
     },
     "metadata": {},
     "execution_count": 31
    }
   ],
   "source": [
    "train_df"
   ]
  },
  {
   "cell_type": "code",
   "execution_count": 32,
   "metadata": {},
   "outputs": [
    {
     "output_type": "execute_result",
     "data": {
      "text/plain": [
       "       Pclass       Age  SibSp     Parch      Fare  Sex  Ticket  Cabin_A  \\\n",
       "0           3  0.233811  0.000  0.000000  0.634709    1      49        0   \n",
       "1           3  0.653979  0.000  0.000000  0.288706    0      49        0   \n",
       "2           1  0.233811  0.000  0.000000  0.561759    0      49        0   \n",
       "3           2  0.307958  0.000  0.000000  0.399218    1      49        0   \n",
       "4           1  0.209095  0.000  0.222222  0.506421    0      49        0   \n",
       "...       ...       ...    ...       ...       ...  ...     ...      ...   \n",
       "99995       3  0.332674  0.000  0.000000  0.364427    0      49        0   \n",
       "99996       1  0.728127  0.125  0.000000  0.646993    1      49        0   \n",
       "99997       3  0.579832  0.000  0.000000  0.374506    1      49        0   \n",
       "99998       1  0.604548  0.125  0.222222  0.521143    0      21        0   \n",
       "99999       1  0.505685  0.000  0.222222  0.807841    0      21        0   \n",
       "\n",
       "       Cabin_B  Cabin_C  Cabin_D  Cabin_E  Cabin_F  Cabin_G  Cabin_T  Cabin_X  \\\n",
       "0            0        0        0        0        0        0        0        1   \n",
       "1            0        0        0        0        0        0        0        1   \n",
       "2            1        0        0        0        0        0        0        0   \n",
       "3            0        0        0        0        0        0        0        1   \n",
       "4            1        0        0        0        0        0        0        0   \n",
       "...        ...      ...      ...      ...      ...      ...      ...      ...   \n",
       "99995        0        0        0        0        0        0        0        1   \n",
       "99996        0        0        0        0        0        0        0        1   \n",
       "99997        0        0        0        0        0        0        0        1   \n",
       "99998        1        0        0        0        0        0        0        0   \n",
       "99999        0        0        0        1        0        0        0        0   \n",
       "\n",
       "       Embarked_C  Embarked_Q  Embarked_S  Embarked_X  \n",
       "0               0           0           1           0  \n",
       "1               0           0           1           0  \n",
       "2               1           0           0           0  \n",
       "3               0           0           1           0  \n",
       "4               1           0           0           0  \n",
       "...           ...         ...         ...         ...  \n",
       "99995           0           1           0           0  \n",
       "99996           0           0           1           0  \n",
       "99997           0           0           1           0  \n",
       "99998           1           0           0           0  \n",
       "99999           1           0           0           0  \n",
       "\n",
       "[100000 rows x 20 columns]"
      ],
      "text/html": "<div>\n<style scoped>\n    .dataframe tbody tr th:only-of-type {\n        vertical-align: middle;\n    }\n\n    .dataframe tbody tr th {\n        vertical-align: top;\n    }\n\n    .dataframe thead th {\n        text-align: right;\n    }\n</style>\n<table border=\"1\" class=\"dataframe\">\n  <thead>\n    <tr style=\"text-align: right;\">\n      <th></th>\n      <th>Pclass</th>\n      <th>Age</th>\n      <th>SibSp</th>\n      <th>Parch</th>\n      <th>Fare</th>\n      <th>Sex</th>\n      <th>Ticket</th>\n      <th>Cabin_A</th>\n      <th>Cabin_B</th>\n      <th>Cabin_C</th>\n      <th>Cabin_D</th>\n      <th>Cabin_E</th>\n      <th>Cabin_F</th>\n      <th>Cabin_G</th>\n      <th>Cabin_T</th>\n      <th>Cabin_X</th>\n      <th>Embarked_C</th>\n      <th>Embarked_Q</th>\n      <th>Embarked_S</th>\n      <th>Embarked_X</th>\n    </tr>\n  </thead>\n  <tbody>\n    <tr>\n      <th>0</th>\n      <td>3</td>\n      <td>0.233811</td>\n      <td>0.000</td>\n      <td>0.000000</td>\n      <td>0.634709</td>\n      <td>1</td>\n      <td>49</td>\n      <td>0</td>\n      <td>0</td>\n      <td>0</td>\n      <td>0</td>\n      <td>0</td>\n      <td>0</td>\n      <td>0</td>\n      <td>0</td>\n      <td>1</td>\n      <td>0</td>\n      <td>0</td>\n      <td>1</td>\n      <td>0</td>\n    </tr>\n    <tr>\n      <th>1</th>\n      <td>3</td>\n      <td>0.653979</td>\n      <td>0.000</td>\n      <td>0.000000</td>\n      <td>0.288706</td>\n      <td>0</td>\n      <td>49</td>\n      <td>0</td>\n      <td>0</td>\n      <td>0</td>\n      <td>0</td>\n      <td>0</td>\n      <td>0</td>\n      <td>0</td>\n      <td>0</td>\n      <td>1</td>\n      <td>0</td>\n      <td>0</td>\n      <td>1</td>\n      <td>0</td>\n    </tr>\n    <tr>\n      <th>2</th>\n      <td>1</td>\n      <td>0.233811</td>\n      <td>0.000</td>\n      <td>0.000000</td>\n      <td>0.561759</td>\n      <td>0</td>\n      <td>49</td>\n      <td>0</td>\n      <td>1</td>\n      <td>0</td>\n      <td>0</td>\n      <td>0</td>\n      <td>0</td>\n      <td>0</td>\n      <td>0</td>\n      <td>0</td>\n      <td>1</td>\n      <td>0</td>\n      <td>0</td>\n      <td>0</td>\n    </tr>\n    <tr>\n      <th>3</th>\n      <td>2</td>\n      <td>0.307958</td>\n      <td>0.000</td>\n      <td>0.000000</td>\n      <td>0.399218</td>\n      <td>1</td>\n      <td>49</td>\n      <td>0</td>\n      <td>0</td>\n      <td>0</td>\n      <td>0</td>\n      <td>0</td>\n      <td>0</td>\n      <td>0</td>\n      <td>0</td>\n      <td>1</td>\n      <td>0</td>\n      <td>0</td>\n      <td>1</td>\n      <td>0</td>\n    </tr>\n    <tr>\n      <th>4</th>\n      <td>1</td>\n      <td>0.209095</td>\n      <td>0.000</td>\n      <td>0.222222</td>\n      <td>0.506421</td>\n      <td>0</td>\n      <td>49</td>\n      <td>0</td>\n      <td>1</td>\n      <td>0</td>\n      <td>0</td>\n      <td>0</td>\n      <td>0</td>\n      <td>0</td>\n      <td>0</td>\n      <td>0</td>\n      <td>1</td>\n      <td>0</td>\n      <td>0</td>\n      <td>0</td>\n    </tr>\n    <tr>\n      <th>...</th>\n      <td>...</td>\n      <td>...</td>\n      <td>...</td>\n      <td>...</td>\n      <td>...</td>\n      <td>...</td>\n      <td>...</td>\n      <td>...</td>\n      <td>...</td>\n      <td>...</td>\n      <td>...</td>\n      <td>...</td>\n      <td>...</td>\n      <td>...</td>\n      <td>...</td>\n      <td>...</td>\n      <td>...</td>\n      <td>...</td>\n      <td>...</td>\n      <td>...</td>\n    </tr>\n    <tr>\n      <th>99995</th>\n      <td>3</td>\n      <td>0.332674</td>\n      <td>0.000</td>\n      <td>0.000000</td>\n      <td>0.364427</td>\n      <td>0</td>\n      <td>49</td>\n      <td>0</td>\n      <td>0</td>\n      <td>0</td>\n      <td>0</td>\n      <td>0</td>\n      <td>0</td>\n      <td>0</td>\n      <td>0</td>\n      <td>1</td>\n      <td>0</td>\n      <td>1</td>\n      <td>0</td>\n      <td>0</td>\n    </tr>\n    <tr>\n      <th>99996</th>\n      <td>1</td>\n      <td>0.728127</td>\n      <td>0.125</td>\n      <td>0.000000</td>\n      <td>0.646993</td>\n      <td>1</td>\n      <td>49</td>\n      <td>0</td>\n      <td>0</td>\n      <td>0</td>\n      <td>0</td>\n      <td>0</td>\n      <td>0</td>\n      <td>0</td>\n      <td>0</td>\n      <td>1</td>\n      <td>0</td>\n      <td>0</td>\n      <td>1</td>\n      <td>0</td>\n    </tr>\n    <tr>\n      <th>99997</th>\n      <td>3</td>\n      <td>0.579832</td>\n      <td>0.000</td>\n      <td>0.000000</td>\n      <td>0.374506</td>\n      <td>1</td>\n      <td>49</td>\n      <td>0</td>\n      <td>0</td>\n      <td>0</td>\n      <td>0</td>\n      <td>0</td>\n      <td>0</td>\n      <td>0</td>\n      <td>0</td>\n      <td>1</td>\n      <td>0</td>\n      <td>0</td>\n      <td>1</td>\n      <td>0</td>\n    </tr>\n    <tr>\n      <th>99998</th>\n      <td>1</td>\n      <td>0.604548</td>\n      <td>0.125</td>\n      <td>0.222222</td>\n      <td>0.521143</td>\n      <td>0</td>\n      <td>21</td>\n      <td>0</td>\n      <td>1</td>\n      <td>0</td>\n      <td>0</td>\n      <td>0</td>\n      <td>0</td>\n      <td>0</td>\n      <td>0</td>\n      <td>0</td>\n      <td>1</td>\n      <td>0</td>\n      <td>0</td>\n      <td>0</td>\n    </tr>\n    <tr>\n      <th>99999</th>\n      <td>1</td>\n      <td>0.505685</td>\n      <td>0.000</td>\n      <td>0.222222</td>\n      <td>0.807841</td>\n      <td>0</td>\n      <td>21</td>\n      <td>0</td>\n      <td>0</td>\n      <td>0</td>\n      <td>0</td>\n      <td>1</td>\n      <td>0</td>\n      <td>0</td>\n      <td>0</td>\n      <td>0</td>\n      <td>1</td>\n      <td>0</td>\n      <td>0</td>\n      <td>0</td>\n    </tr>\n  </tbody>\n</table>\n<p>100000 rows × 20 columns</p>\n</div>"
     },
     "metadata": {},
     "execution_count": 32
    }
   ],
   "source": [
    "test_df"
   ]
  },
  {
   "source": [
    "# 1. DATA"
   ],
   "cell_type": "markdown",
   "metadata": {}
  },
  {
   "cell_type": "code",
   "execution_count": 33,
   "metadata": {},
   "outputs": [],
   "source": [
    "N_ESTIMATORS = 1000\n",
    "N_SPLITS = 10\n",
    "SEED = 2021\n",
    "EARLY_STOPPING_ROUNDS = 20\n",
    "VERBOSE = 1\n",
    "\n",
    "skf = StratifiedKFold(n_splits=N_SPLITS, shuffle=True, random_state=SEED)"
   ]
  },
  {
   "cell_type": "code",
   "execution_count": 34,
   "metadata": {},
   "outputs": [
    {
     "output_type": "stream",
     "name": "stdout",
     "text": [
      "(100000, 20) (100000,)\n"
     ]
    }
   ],
   "source": [
    "# 훈련 데이터 셋\n",
    "x = train_df.drop(['y_target'], axis=1)\n",
    "y = train_df['y_target']\n",
    "x = x.to_numpy()\n",
    "y = y.to_numpy()\n",
    "print(x.shape, y.shape)"
   ]
  },
  {
   "cell_type": "code",
   "execution_count": 35,
   "metadata": {},
   "outputs": [
    {
     "output_type": "stream",
     "name": "stdout",
     "text": [
      "(100000, 20)\n"
     ]
    }
   ],
   "source": [
    "# 예측 데이터 셋\n",
    "x_pred = test_df\n",
    "x_pred = x_pred.to_numpy()\n",
    "print(x_pred.shape)"
   ]
  },
  {
   "cell_type": "code",
   "execution_count": 36,
   "metadata": {},
   "outputs": [],
   "source": [
    "# x_train, x_val, y_train, y_val = train_test_split(x, y, train_size=0.8, shuffle=True, random_state=42)\n",
    "# print(x_train.shape, x_val.shape)   # (80000, 20) (20000, 20)\n",
    "# print(y_train.shape, y_val.shape)   # (80000,) (20000,)"
   ]
  },
  {
   "source": [
    "# 2. Model"
   ],
   "cell_type": "markdown",
   "metadata": {}
  },
  {
   "cell_type": "code",
   "execution_count": 38,
   "metadata": {
    "tags": [
     "outputPrepend"
    ]
   },
   "outputs": [
    {
     "output_type": "stream",
     "name": "stdout",
     "text": [
      "ogloss: 0.474263\n",
      "[436]\tvalid_0's binary_logloss: 0.474252\n",
      "[437]\tvalid_0's binary_logloss: 0.474222\n",
      "[438]\tvalid_0's binary_logloss: 0.474203\n",
      "[439]\tvalid_0's binary_logloss: 0.474197\n",
      "[440]\tvalid_0's binary_logloss: 0.474177\n",
      "[441]\tvalid_0's binary_logloss: 0.474157\n",
      "[442]\tvalid_0's binary_logloss: 0.474142\n",
      "[443]\tvalid_0's binary_logloss: 0.474132\n",
      "[444]\tvalid_0's binary_logloss: 0.474119\n",
      "[445]\tvalid_0's binary_logloss: 0.474104\n",
      "[446]\tvalid_0's binary_logloss: 0.474081\n",
      "[447]\tvalid_0's binary_logloss: 0.474073\n",
      "[448]\tvalid_0's binary_logloss: 0.474061\n",
      "[449]\tvalid_0's binary_logloss: 0.474045\n",
      "[450]\tvalid_0's binary_logloss: 0.474031\n",
      "[451]\tvalid_0's binary_logloss: 0.474021\n",
      "[452]\tvalid_0's binary_logloss: 0.47401\n",
      "[453]\tvalid_0's binary_logloss: 0.474004\n",
      "[454]\tvalid_0's binary_logloss: 0.473987\n",
      "[455]\tvalid_0's binary_logloss: 0.473967\n",
      "[456]\tvalid_0's binary_logloss: 0.473949\n",
      "[457]\tvalid_0's binary_logloss: 0.473937\n",
      "[458]\tvalid_0's binary_logloss: 0.473921\n",
      "[459]\tvalid_0's binary_logloss: 0.473903\n",
      "[460]\tvalid_0's binary_logloss: 0.473886\n",
      "[461]\tvalid_0's binary_logloss: 0.473872\n",
      "[462]\tvalid_0's binary_logloss: 0.473858\n",
      "[463]\tvalid_0's binary_logloss: 0.473837\n",
      "[464]\tvalid_0's binary_logloss: 0.473823\n",
      "[465]\tvalid_0's binary_logloss: 0.473811\n",
      "[466]\tvalid_0's binary_logloss: 0.473792\n",
      "[467]\tvalid_0's binary_logloss: 0.473778\n",
      "[468]\tvalid_0's binary_logloss: 0.473766\n",
      "[469]\tvalid_0's binary_logloss: 0.473748\n",
      "[470]\tvalid_0's binary_logloss: 0.473729\n",
      "[471]\tvalid_0's binary_logloss: 0.473716\n",
      "[472]\tvalid_0's binary_logloss: 0.473705\n",
      "[473]\tvalid_0's binary_logloss: 0.473694\n",
      "[474]\tvalid_0's binary_logloss: 0.473684\n",
      "[475]\tvalid_0's binary_logloss: 0.473669\n",
      "[476]\tvalid_0's binary_logloss: 0.473658\n",
      "[477]\tvalid_0's binary_logloss: 0.473651\n",
      "[478]\tvalid_0's binary_logloss: 0.473642\n",
      "[479]\tvalid_0's binary_logloss: 0.473636\n",
      "[480]\tvalid_0's binary_logloss: 0.473625\n",
      "[481]\tvalid_0's binary_logloss: 0.473613\n",
      "[482]\tvalid_0's binary_logloss: 0.473602\n",
      "[483]\tvalid_0's binary_logloss: 0.473582\n",
      "[484]\tvalid_0's binary_logloss: 0.47356\n",
      "[485]\tvalid_0's binary_logloss: 0.473557\n",
      "[486]\tvalid_0's binary_logloss: 0.473543\n",
      "[487]\tvalid_0's binary_logloss: 0.473526\n",
      "[488]\tvalid_0's binary_logloss: 0.473519\n",
      "[489]\tvalid_0's binary_logloss: 0.473506\n",
      "[490]\tvalid_0's binary_logloss: 0.473495\n",
      "[491]\tvalid_0's binary_logloss: 0.473485\n",
      "[492]\tvalid_0's binary_logloss: 0.473477\n",
      "[493]\tvalid_0's binary_logloss: 0.473456\n",
      "[494]\tvalid_0's binary_logloss: 0.47345\n",
      "[495]\tvalid_0's binary_logloss: 0.473439\n",
      "[496]\tvalid_0's binary_logloss: 0.473429\n",
      "[497]\tvalid_0's binary_logloss: 0.473422\n",
      "[498]\tvalid_0's binary_logloss: 0.473405\n",
      "[499]\tvalid_0's binary_logloss: 0.473393\n",
      "[500]\tvalid_0's binary_logloss: 0.473384\n",
      "[501]\tvalid_0's binary_logloss: 0.473387\n",
      "[502]\tvalid_0's binary_logloss: 0.473377\n",
      "[503]\tvalid_0's binary_logloss: 0.47336\n",
      "[504]\tvalid_0's binary_logloss: 0.473343\n",
      "[505]\tvalid_0's binary_logloss: 0.473329\n",
      "[506]\tvalid_0's binary_logloss: 0.473318\n",
      "[507]\tvalid_0's binary_logloss: 0.473305\n",
      "[508]\tvalid_0's binary_logloss: 0.473301\n",
      "[509]\tvalid_0's binary_logloss: 0.473286\n",
      "[510]\tvalid_0's binary_logloss: 0.473275\n",
      "[511]\tvalid_0's binary_logloss: 0.473259\n",
      "[512]\tvalid_0's binary_logloss: 0.473243\n",
      "[513]\tvalid_0's binary_logloss: 0.473236\n",
      "[514]\tvalid_0's binary_logloss: 0.473223\n",
      "[515]\tvalid_0's binary_logloss: 0.473213\n",
      "[516]\tvalid_0's binary_logloss: 0.473204\n",
      "[517]\tvalid_0's binary_logloss: 0.473198\n",
      "[518]\tvalid_0's binary_logloss: 0.473188\n",
      "[519]\tvalid_0's binary_logloss: 0.473182\n",
      "[520]\tvalid_0's binary_logloss: 0.473179\n",
      "[521]\tvalid_0's binary_logloss: 0.473168\n",
      "[522]\tvalid_0's binary_logloss: 0.473156\n",
      "[523]\tvalid_0's binary_logloss: 0.47315\n",
      "[524]\tvalid_0's binary_logloss: 0.473138\n",
      "[525]\tvalid_0's binary_logloss: 0.473127\n",
      "[526]\tvalid_0's binary_logloss: 0.47312\n",
      "[527]\tvalid_0's binary_logloss: 0.473103\n",
      "[528]\tvalid_0's binary_logloss: 0.47309\n",
      "[529]\tvalid_0's binary_logloss: 0.473078\n",
      "[530]\tvalid_0's binary_logloss: 0.473064\n",
      "[531]\tvalid_0's binary_logloss: 0.473062\n",
      "[532]\tvalid_0's binary_logloss: 0.47305\n",
      "[533]\tvalid_0's binary_logloss: 0.473041\n",
      "[534]\tvalid_0's binary_logloss: 0.473035\n",
      "[535]\tvalid_0's binary_logloss: 0.473025\n",
      "[536]\tvalid_0's binary_logloss: 0.473014\n",
      "[537]\tvalid_0's binary_logloss: 0.473011\n",
      "[538]\tvalid_0's binary_logloss: 0.473007\n",
      "[539]\tvalid_0's binary_logloss: 0.472998\n",
      "[540]\tvalid_0's binary_logloss: 0.472989\n",
      "[541]\tvalid_0's binary_logloss: 0.472975\n",
      "[542]\tvalid_0's binary_logloss: 0.472963\n",
      "[543]\tvalid_0's binary_logloss: 0.472952\n",
      "[544]\tvalid_0's binary_logloss: 0.47294\n",
      "[545]\tvalid_0's binary_logloss: 0.472935\n",
      "[546]\tvalid_0's binary_logloss: 0.472927\n",
      "[547]\tvalid_0's binary_logloss: 0.472916\n",
      "[548]\tvalid_0's binary_logloss: 0.472913\n",
      "[549]\tvalid_0's binary_logloss: 0.472907\n",
      "[550]\tvalid_0's binary_logloss: 0.472897\n",
      "[551]\tvalid_0's binary_logloss: 0.4729\n",
      "[552]\tvalid_0's binary_logloss: 0.472891\n",
      "[553]\tvalid_0's binary_logloss: 0.472884\n",
      "[554]\tvalid_0's binary_logloss: 0.472879\n",
      "[555]\tvalid_0's binary_logloss: 0.472866\n",
      "[556]\tvalid_0's binary_logloss: 0.472854\n",
      "[557]\tvalid_0's binary_logloss: 0.47285\n",
      "[558]\tvalid_0's binary_logloss: 0.472844\n",
      "[559]\tvalid_0's binary_logloss: 0.472827\n",
      "[560]\tvalid_0's binary_logloss: 0.472822\n",
      "[561]\tvalid_0's binary_logloss: 0.472808\n",
      "[562]\tvalid_0's binary_logloss: 0.472798\n",
      "[563]\tvalid_0's binary_logloss: 0.472801\n",
      "[564]\tvalid_0's binary_logloss: 0.472802\n",
      "[565]\tvalid_0's binary_logloss: 0.472789\n",
      "[566]\tvalid_0's binary_logloss: 0.472782\n",
      "[567]\tvalid_0's binary_logloss: 0.472779\n",
      "[568]\tvalid_0's binary_logloss: 0.472776\n",
      "[569]\tvalid_0's binary_logloss: 0.472772\n",
      "[570]\tvalid_0's binary_logloss: 0.472769\n",
      "[571]\tvalid_0's binary_logloss: 0.472765\n",
      "[572]\tvalid_0's binary_logloss: 0.472759\n",
      "[573]\tvalid_0's binary_logloss: 0.472749\n",
      "[574]\tvalid_0's binary_logloss: 0.472745\n",
      "[575]\tvalid_0's binary_logloss: 0.472743\n",
      "[576]\tvalid_0's binary_logloss: 0.472737\n",
      "[577]\tvalid_0's binary_logloss: 0.472731\n",
      "[578]\tvalid_0's binary_logloss: 0.472723\n",
      "[579]\tvalid_0's binary_logloss: 0.472723\n",
      "[580]\tvalid_0's binary_logloss: 0.472714\n",
      "[581]\tvalid_0's binary_logloss: 0.472709\n",
      "[582]\tvalid_0's binary_logloss: 0.472701\n",
      "[583]\tvalid_0's binary_logloss: 0.472695\n",
      "[584]\tvalid_0's binary_logloss: 0.472684\n",
      "[585]\tvalid_0's binary_logloss: 0.472681\n",
      "[586]\tvalid_0's binary_logloss: 0.472673\n",
      "[587]\tvalid_0's binary_logloss: 0.472671\n",
      "[588]\tvalid_0's binary_logloss: 0.472672\n",
      "[589]\tvalid_0's binary_logloss: 0.472671\n",
      "[590]\tvalid_0's binary_logloss: 0.472666\n",
      "[591]\tvalid_0's binary_logloss: 0.472657\n",
      "[592]\tvalid_0's binary_logloss: 0.472654\n",
      "[593]\tvalid_0's binary_logloss: 0.472645\n",
      "[594]\tvalid_0's binary_logloss: 0.472637\n",
      "[595]\tvalid_0's binary_logloss: 0.472627\n",
      "[596]\tvalid_0's binary_logloss: 0.472625\n",
      "[597]\tvalid_0's binary_logloss: 0.472614\n",
      "[598]\tvalid_0's binary_logloss: 0.472612\n",
      "[599]\tvalid_0's binary_logloss: 0.472608\n",
      "[600]\tvalid_0's binary_logloss: 0.472602\n",
      "[601]\tvalid_0's binary_logloss: 0.472596\n",
      "[602]\tvalid_0's binary_logloss: 0.472593\n",
      "[603]\tvalid_0's binary_logloss: 0.472581\n",
      "[604]\tvalid_0's binary_logloss: 0.472574\n",
      "[605]\tvalid_0's binary_logloss: 0.472561\n",
      "[606]\tvalid_0's binary_logloss: 0.47256\n",
      "[607]\tvalid_0's binary_logloss: 0.472559\n",
      "[608]\tvalid_0's binary_logloss: 0.472552\n",
      "[609]\tvalid_0's binary_logloss: 0.472544\n",
      "[610]\tvalid_0's binary_logloss: 0.472541\n",
      "[611]\tvalid_0's binary_logloss: 0.47254\n",
      "[612]\tvalid_0's binary_logloss: 0.472535\n",
      "[613]\tvalid_0's binary_logloss: 0.472531\n",
      "[614]\tvalid_0's binary_logloss: 0.472529\n",
      "[615]\tvalid_0's binary_logloss: 0.472523\n",
      "[616]\tvalid_0's binary_logloss: 0.472517\n",
      "[617]\tvalid_0's binary_logloss: 0.472514\n",
      "[618]\tvalid_0's binary_logloss: 0.472509\n",
      "[619]\tvalid_0's binary_logloss: 0.472507\n",
      "[620]\tvalid_0's binary_logloss: 0.472502\n",
      "[621]\tvalid_0's binary_logloss: 0.472492\n",
      "[622]\tvalid_0's binary_logloss: 0.472493\n",
      "[623]\tvalid_0's binary_logloss: 0.472486\n",
      "[624]\tvalid_0's binary_logloss: 0.472476\n",
      "[625]\tvalid_0's binary_logloss: 0.472472\n",
      "[626]\tvalid_0's binary_logloss: 0.472465\n",
      "[627]\tvalid_0's binary_logloss: 0.472464\n",
      "[628]\tvalid_0's binary_logloss: 0.472456\n",
      "[629]\tvalid_0's binary_logloss: 0.472448\n",
      "[630]\tvalid_0's binary_logloss: 0.472439\n",
      "[631]\tvalid_0's binary_logloss: 0.472439\n",
      "[632]\tvalid_0's binary_logloss: 0.472431\n",
      "[633]\tvalid_0's binary_logloss: 0.472426\n",
      "[634]\tvalid_0's binary_logloss: 0.472426\n",
      "[635]\tvalid_0's binary_logloss: 0.472424\n",
      "[636]\tvalid_0's binary_logloss: 0.472418\n",
      "[637]\tvalid_0's binary_logloss: 0.472414\n",
      "[638]\tvalid_0's binary_logloss: 0.47241\n",
      "[639]\tvalid_0's binary_logloss: 0.472412\n",
      "[640]\tvalid_0's binary_logloss: 0.472412\n",
      "[641]\tvalid_0's binary_logloss: 0.472404\n",
      "[642]\tvalid_0's binary_logloss: 0.472394\n",
      "[643]\tvalid_0's binary_logloss: 0.47239\n",
      "[644]\tvalid_0's binary_logloss: 0.472392\n",
      "[645]\tvalid_0's binary_logloss: 0.47239\n",
      "[646]\tvalid_0's binary_logloss: 0.472387\n",
      "[647]\tvalid_0's binary_logloss: 0.472385\n",
      "[648]\tvalid_0's binary_logloss: 0.472379\n",
      "[649]\tvalid_0's binary_logloss: 0.472377\n",
      "[650]\tvalid_0's binary_logloss: 0.472377\n",
      "[651]\tvalid_0's binary_logloss: 0.472372\n",
      "[652]\tvalid_0's binary_logloss: 0.472369\n",
      "[653]\tvalid_0's binary_logloss: 0.472372\n",
      "[654]\tvalid_0's binary_logloss: 0.472367\n",
      "[655]\tvalid_0's binary_logloss: 0.472363\n",
      "[656]\tvalid_0's binary_logloss: 0.472359\n",
      "[657]\tvalid_0's binary_logloss: 0.472356\n",
      "[658]\tvalid_0's binary_logloss: 0.472348\n",
      "[659]\tvalid_0's binary_logloss: 0.472346\n",
      "[660]\tvalid_0's binary_logloss: 0.472349\n",
      "[661]\tvalid_0's binary_logloss: 0.472337\n",
      "[662]\tvalid_0's binary_logloss: 0.472334\n",
      "[663]\tvalid_0's binary_logloss: 0.472331\n",
      "[664]\tvalid_0's binary_logloss: 0.472328\n",
      "[665]\tvalid_0's binary_logloss: 0.472318\n",
      "[666]\tvalid_0's binary_logloss: 0.472305\n",
      "[667]\tvalid_0's binary_logloss: 0.472298\n",
      "[668]\tvalid_0's binary_logloss: 0.472296\n",
      "[669]\tvalid_0's binary_logloss: 0.472297\n",
      "[670]\tvalid_0's binary_logloss: 0.472299\n",
      "[671]\tvalid_0's binary_logloss: 0.472292\n",
      "[672]\tvalid_0's binary_logloss: 0.472293\n",
      "[673]\tvalid_0's binary_logloss: 0.472287\n",
      "[674]\tvalid_0's binary_logloss: 0.472287\n",
      "[675]\tvalid_0's binary_logloss: 0.47229\n",
      "[676]\tvalid_0's binary_logloss: 0.472289\n",
      "[677]\tvalid_0's binary_logloss: 0.472289\n",
      "[678]\tvalid_0's binary_logloss: 0.472292\n",
      "[679]\tvalid_0's binary_logloss: 0.472282\n",
      "[680]\tvalid_0's binary_logloss: 0.472281\n",
      "[681]\tvalid_0's binary_logloss: 0.472281\n",
      "[682]\tvalid_0's binary_logloss: 0.472279\n",
      "[683]\tvalid_0's binary_logloss: 0.472274\n",
      "[684]\tvalid_0's binary_logloss: 0.47227\n",
      "[685]\tvalid_0's binary_logloss: 0.472273\n",
      "[686]\tvalid_0's binary_logloss: 0.472273\n",
      "[687]\tvalid_0's binary_logloss: 0.472273\n",
      "[688]\tvalid_0's binary_logloss: 0.472266\n",
      "[689]\tvalid_0's binary_logloss: 0.472256\n",
      "[690]\tvalid_0's binary_logloss: 0.472254\n",
      "[691]\tvalid_0's binary_logloss: 0.472248\n",
      "[692]\tvalid_0's binary_logloss: 0.472248\n",
      "[693]\tvalid_0's binary_logloss: 0.472245\n",
      "[694]\tvalid_0's binary_logloss: 0.47224\n",
      "[695]\tvalid_0's binary_logloss: 0.472243\n",
      "[696]\tvalid_0's binary_logloss: 0.472238\n",
      "[697]\tvalid_0's binary_logloss: 0.472238\n",
      "[698]\tvalid_0's binary_logloss: 0.47224\n",
      "[699]\tvalid_0's binary_logloss: 0.472243\n",
      "[700]\tvalid_0's binary_logloss: 0.472243\n",
      "[701]\tvalid_0's binary_logloss: 0.472241\n",
      "[702]\tvalid_0's binary_logloss: 0.472235\n",
      "[703]\tvalid_0's binary_logloss: 0.472233\n",
      "[704]\tvalid_0's binary_logloss: 0.472226\n",
      "[705]\tvalid_0's binary_logloss: 0.472225\n",
      "[706]\tvalid_0's binary_logloss: 0.472226\n",
      "[707]\tvalid_0's binary_logloss: 0.472221\n",
      "[708]\tvalid_0's binary_logloss: 0.472214\n",
      "[709]\tvalid_0's binary_logloss: 0.472212\n",
      "[710]\tvalid_0's binary_logloss: 0.472207\n",
      "[711]\tvalid_0's binary_logloss: 0.472205\n",
      "[712]\tvalid_0's binary_logloss: 0.472203\n",
      "[713]\tvalid_0's binary_logloss: 0.472207\n",
      "[714]\tvalid_0's binary_logloss: 0.472202\n",
      "[715]\tvalid_0's binary_logloss: 0.472202\n",
      "[716]\tvalid_0's binary_logloss: 0.472205\n",
      "[717]\tvalid_0's binary_logloss: 0.472205\n",
      "[718]\tvalid_0's binary_logloss: 0.472206\n",
      "[719]\tvalid_0's binary_logloss: 0.472198\n",
      "[720]\tvalid_0's binary_logloss: 0.472191\n",
      "[721]\tvalid_0's binary_logloss: 0.472193\n",
      "[722]\tvalid_0's binary_logloss: 0.472192\n",
      "[723]\tvalid_0's binary_logloss: 0.472192\n",
      "[724]\tvalid_0's binary_logloss: 0.47219\n",
      "[725]\tvalid_0's binary_logloss: 0.472177\n",
      "[726]\tvalid_0's binary_logloss: 0.472169\n",
      "[727]\tvalid_0's binary_logloss: 0.472166\n",
      "[728]\tvalid_0's binary_logloss: 0.472159\n",
      "[729]\tvalid_0's binary_logloss: 0.472161\n",
      "[730]\tvalid_0's binary_logloss: 0.47216\n",
      "[731]\tvalid_0's binary_logloss: 0.472161\n",
      "[732]\tvalid_0's binary_logloss: 0.472152\n",
      "[733]\tvalid_0's binary_logloss: 0.47215\n",
      "[734]\tvalid_0's binary_logloss: 0.472154\n",
      "[735]\tvalid_0's binary_logloss: 0.472148\n",
      "[736]\tvalid_0's binary_logloss: 0.472141\n",
      "[737]\tvalid_0's binary_logloss: 0.472145\n",
      "[738]\tvalid_0's binary_logloss: 0.472146\n",
      "[739]\tvalid_0's binary_logloss: 0.472146\n",
      "[740]\tvalid_0's binary_logloss: 0.472145\n",
      "[741]\tvalid_0's binary_logloss: 0.47214\n",
      "[742]\tvalid_0's binary_logloss: 0.472138\n",
      "[743]\tvalid_0's binary_logloss: 0.472133\n",
      "[744]\tvalid_0's binary_logloss: 0.47213\n",
      "[745]\tvalid_0's binary_logloss: 0.47213\n",
      "[746]\tvalid_0's binary_logloss: 0.472127\n",
      "[747]\tvalid_0's binary_logloss: 0.472122\n",
      "[748]\tvalid_0's binary_logloss: 0.472119\n",
      "[749]\tvalid_0's binary_logloss: 0.472121\n",
      "[750]\tvalid_0's binary_logloss: 0.472124\n",
      "[751]\tvalid_0's binary_logloss: 0.472117\n",
      "[752]\tvalid_0's binary_logloss: 0.472112\n",
      "[753]\tvalid_0's binary_logloss: 0.472112\n",
      "[754]\tvalid_0's binary_logloss: 0.472105\n",
      "[755]\tvalid_0's binary_logloss: 0.472106\n",
      "[756]\tvalid_0's binary_logloss: 0.472105\n",
      "[757]\tvalid_0's binary_logloss: 0.472106\n",
      "[758]\tvalid_0's binary_logloss: 0.472103\n",
      "[759]\tvalid_0's binary_logloss: 0.472099\n",
      "[760]\tvalid_0's binary_logloss: 0.472096\n",
      "[761]\tvalid_0's binary_logloss: 0.4721\n",
      "[762]\tvalid_0's binary_logloss: 0.472103\n",
      "[763]\tvalid_0's binary_logloss: 0.472102\n",
      "[764]\tvalid_0's binary_logloss: 0.472104\n",
      "[765]\tvalid_0's binary_logloss: 0.472107\n",
      "[766]\tvalid_0's binary_logloss: 0.472108\n",
      "[767]\tvalid_0's binary_logloss: 0.472106\n",
      "[768]\tvalid_0's binary_logloss: 0.472109\n",
      "[769]\tvalid_0's binary_logloss: 0.472109\n",
      "[770]\tvalid_0's binary_logloss: 0.472102\n",
      "[771]\tvalid_0's binary_logloss: 0.472097\n",
      "[772]\tvalid_0's binary_logloss: 0.472096\n",
      "[773]\tvalid_0's binary_logloss: 0.472097\n",
      "[774]\tvalid_0's binary_logloss: 0.472096\n",
      "[775]\tvalid_0's binary_logloss: 0.472095\n",
      "[776]\tvalid_0's binary_logloss: 0.472096\n",
      "[777]\tvalid_0's binary_logloss: 0.472097\n",
      "[778]\tvalid_0's binary_logloss: 0.472099\n",
      "[779]\tvalid_0's binary_logloss: 0.472097\n",
      "[780]\tvalid_0's binary_logloss: 0.472092\n",
      "[781]\tvalid_0's binary_logloss: 0.472091\n",
      "[782]\tvalid_0's binary_logloss: 0.472088\n",
      "[783]\tvalid_0's binary_logloss: 0.472093\n",
      "[784]\tvalid_0's binary_logloss: 0.472099\n",
      "[785]\tvalid_0's binary_logloss: 0.472099\n",
      "[786]\tvalid_0's binary_logloss: 0.472102\n",
      "[787]\tvalid_0's binary_logloss: 0.472098\n",
      "[788]\tvalid_0's binary_logloss: 0.472091\n",
      "[789]\tvalid_0's binary_logloss: 0.472087\n",
      "[790]\tvalid_0's binary_logloss: 0.472088\n",
      "[791]\tvalid_0's binary_logloss: 0.472085\n",
      "[792]\tvalid_0's binary_logloss: 0.472086\n",
      "[793]\tvalid_0's binary_logloss: 0.472082\n",
      "[794]\tvalid_0's binary_logloss: 0.472075\n",
      "[795]\tvalid_0's binary_logloss: 0.472071\n",
      "[796]\tvalid_0's binary_logloss: 0.472072\n",
      "[797]\tvalid_0's binary_logloss: 0.472063\n",
      "[798]\tvalid_0's binary_logloss: 0.472062\n",
      "[799]\tvalid_0's binary_logloss: 0.472058\n",
      "[800]\tvalid_0's binary_logloss: 0.472058\n",
      "[801]\tvalid_0's binary_logloss: 0.47205\n",
      "[802]\tvalid_0's binary_logloss: 0.472047\n",
      "[803]\tvalid_0's binary_logloss: 0.472043\n",
      "[804]\tvalid_0's binary_logloss: 0.472039\n",
      "[805]\tvalid_0's binary_logloss: 0.472033\n",
      "[806]\tvalid_0's binary_logloss: 0.472031\n",
      "[807]\tvalid_0's binary_logloss: 0.472035\n",
      "[808]\tvalid_0's binary_logloss: 0.472037\n",
      "[809]\tvalid_0's binary_logloss: 0.472025\n",
      "[810]\tvalid_0's binary_logloss: 0.472016\n",
      "[811]\tvalid_0's binary_logloss: 0.472012\n",
      "[812]\tvalid_0's binary_logloss: 0.472015\n",
      "[813]\tvalid_0's binary_logloss: 0.47201\n",
      "[814]\tvalid_0's binary_logloss: 0.472002\n",
      "[815]\tvalid_0's binary_logloss: 0.472\n",
      "[816]\tvalid_0's binary_logloss: 0.472003\n",
      "[817]\tvalid_0's binary_logloss: 0.472002\n",
      "[818]\tvalid_0's binary_logloss: 0.472001\n",
      "[819]\tvalid_0's binary_logloss: 0.472\n",
      "[820]\tvalid_0's binary_logloss: 0.471996\n",
      "[821]\tvalid_0's binary_logloss: 0.471999\n",
      "[822]\tvalid_0's binary_logloss: 0.472\n",
      "[823]\tvalid_0's binary_logloss: 0.472004\n",
      "[824]\tvalid_0's binary_logloss: 0.472004\n",
      "[825]\tvalid_0's binary_logloss: 0.472\n",
      "[826]\tvalid_0's binary_logloss: 0.471993\n",
      "[827]\tvalid_0's binary_logloss: 0.471997\n",
      "[828]\tvalid_0's binary_logloss: 0.471999\n",
      "[829]\tvalid_0's binary_logloss: 0.471994\n",
      "[830]\tvalid_0's binary_logloss: 0.471984\n",
      "[831]\tvalid_0's binary_logloss: 0.471985\n",
      "[832]\tvalid_0's binary_logloss: 0.471987\n",
      "[833]\tvalid_0's binary_logloss: 0.471986\n",
      "[834]\tvalid_0's binary_logloss: 0.471988\n",
      "[835]\tvalid_0's binary_logloss: 0.471986\n",
      "[836]\tvalid_0's binary_logloss: 0.471984\n",
      "[837]\tvalid_0's binary_logloss: 0.47199\n",
      "[838]\tvalid_0's binary_logloss: 0.471993\n",
      "[839]\tvalid_0's binary_logloss: 0.471989\n",
      "[840]\tvalid_0's binary_logloss: 0.471988\n",
      "[841]\tvalid_0's binary_logloss: 0.471987\n",
      "[842]\tvalid_0's binary_logloss: 0.471982\n",
      "[843]\tvalid_0's binary_logloss: 0.471981\n",
      "[844]\tvalid_0's binary_logloss: 0.471981\n",
      "[845]\tvalid_0's binary_logloss: 0.471977\n",
      "[846]\tvalid_0's binary_logloss: 0.471977\n",
      "[847]\tvalid_0's binary_logloss: 0.471972\n",
      "[848]\tvalid_0's binary_logloss: 0.471965\n",
      "[849]\tvalid_0's binary_logloss: 0.471965\n",
      "[850]\tvalid_0's binary_logloss: 0.471965\n",
      "[851]\tvalid_0's binary_logloss: 0.471964\n",
      "[852]\tvalid_0's binary_logloss: 0.471961\n",
      "[853]\tvalid_0's binary_logloss: 0.471962\n",
      "[854]\tvalid_0's binary_logloss: 0.471959\n",
      "[855]\tvalid_0's binary_logloss: 0.47196\n",
      "[856]\tvalid_0's binary_logloss: 0.471963\n",
      "[857]\tvalid_0's binary_logloss: 0.471968\n",
      "[858]\tvalid_0's binary_logloss: 0.471968\n",
      "[859]\tvalid_0's binary_logloss: 0.471964\n",
      "[860]\tvalid_0's binary_logloss: 0.471962\n",
      "[861]\tvalid_0's binary_logloss: 0.47196\n",
      "[862]\tvalid_0's binary_logloss: 0.471963\n",
      "[863]\tvalid_0's binary_logloss: 0.471961\n",
      "[864]\tvalid_0's binary_logloss: 0.47196\n",
      "[865]\tvalid_0's binary_logloss: 0.47196\n",
      "[866]\tvalid_0's binary_logloss: 0.471957\n",
      "[867]\tvalid_0's binary_logloss: 0.471948\n",
      "[868]\tvalid_0's binary_logloss: 0.471947\n",
      "[869]\tvalid_0's binary_logloss: 0.471944\n",
      "[870]\tvalid_0's binary_logloss: 0.471951\n",
      "[871]\tvalid_0's binary_logloss: 0.471947\n",
      "[872]\tvalid_0's binary_logloss: 0.471949\n",
      "[873]\tvalid_0's binary_logloss: 0.471946\n",
      "[874]\tvalid_0's binary_logloss: 0.471944\n",
      "[875]\tvalid_0's binary_logloss: 0.471945\n",
      "[876]\tvalid_0's binary_logloss: 0.47195\n",
      "[877]\tvalid_0's binary_logloss: 0.471956\n",
      "[878]\tvalid_0's binary_logloss: 0.471954\n",
      "[879]\tvalid_0's binary_logloss: 0.471949\n",
      "[880]\tvalid_0's binary_logloss: 0.471946\n",
      "[881]\tvalid_0's binary_logloss: 0.471943\n",
      "[882]\tvalid_0's binary_logloss: 0.471942\n",
      "[883]\tvalid_0's binary_logloss: 0.471943\n",
      "[884]\tvalid_0's binary_logloss: 0.471938\n",
      "[885]\tvalid_0's binary_logloss: 0.471934\n",
      "[886]\tvalid_0's binary_logloss: 0.471931\n",
      "[887]\tvalid_0's binary_logloss: 0.471934\n",
      "[888]\tvalid_0's binary_logloss: 0.471934\n",
      "[889]\tvalid_0's binary_logloss: 0.471928\n",
      "[890]\tvalid_0's binary_logloss: 0.471925\n",
      "[891]\tvalid_0's binary_logloss: 0.471918\n",
      "[892]\tvalid_0's binary_logloss: 0.47191\n",
      "[893]\tvalid_0's binary_logloss: 0.471909\n",
      "[894]\tvalid_0's binary_logloss: 0.471905\n",
      "[895]\tvalid_0's binary_logloss: 0.471903\n",
      "[896]\tvalid_0's binary_logloss: 0.471901\n",
      "[897]\tvalid_0's binary_logloss: 0.471901\n",
      "[898]\tvalid_0's binary_logloss: 0.471899\n",
      "[899]\tvalid_0's binary_logloss: 0.471895\n",
      "[900]\tvalid_0's binary_logloss: 0.471893\n",
      "[901]\tvalid_0's binary_logloss: 0.471899\n",
      "[902]\tvalid_0's binary_logloss: 0.471906\n",
      "[903]\tvalid_0's binary_logloss: 0.471898\n",
      "[904]\tvalid_0's binary_logloss: 0.471904\n",
      "[905]\tvalid_0's binary_logloss: 0.471904\n",
      "[906]\tvalid_0's binary_logloss: 0.471905\n",
      "[907]\tvalid_0's binary_logloss: 0.471905\n",
      "[908]\tvalid_0's binary_logloss: 0.471902\n",
      "[909]\tvalid_0's binary_logloss: 0.471903\n",
      "[910]\tvalid_0's binary_logloss: 0.471901\n",
      "[911]\tvalid_0's binary_logloss: 0.471903\n",
      "[912]\tvalid_0's binary_logloss: 0.471901\n",
      "[913]\tvalid_0's binary_logloss: 0.471902\n",
      "[914]\tvalid_0's binary_logloss: 0.471904\n",
      "[915]\tvalid_0's binary_logloss: 0.471909\n",
      "[916]\tvalid_0's binary_logloss: 0.471907\n",
      "[917]\tvalid_0's binary_logloss: 0.471909\n",
      "[918]\tvalid_0's binary_logloss: 0.471909\n",
      "[919]\tvalid_0's binary_logloss: 0.471909\n",
      "[920]\tvalid_0's binary_logloss: 0.471904\n",
      "Early stopping, best iteration is:\n",
      "[900]\tvalid_0's binary_logloss: 0.471893\n",
      "===== ACCURACY SCORE 0.776500 =====\n",
      "===== ACCURACY SCORE 0.776500 =====\n"
     ]
    }
   ],
   "source": [
    "import lightgbm as lgb\n",
    "\n",
    "params = {\n",
    "    'metric': 'binary_logloss',\n",
    "    'n_estimators': N_ESTIMATORS,\n",
    "    'objective': 'binary',\n",
    "    'random_state': SEED,\n",
    "    'learning_rate': 0.01,\n",
    "    'min_child_samples': 150,\n",
    "    'reg_alpha': 3e-5,\n",
    "    'reg_lambda': 9e-2,\n",
    "    'num_leaves': 20,\n",
    "    'max_depth': 16,\n",
    "    'colsample_bytree': 0.8,\n",
    "    'subsample': 0.8,\n",
    "    'subsample_freq': 2,\n",
    "    'max_bin': 240,\n",
    "}\n",
    "\n",
    "#KFold\n",
    "for fold, (train_idx, valid_idx) in enumerate(skf.split(x, y)) :\n",
    "    print(f\"=====Fold {fold}=====\")\n",
    "    x_train = x[train_idx]\n",
    "    x_val = x[valid_idx]\n",
    "    y_train = y[train_idx]\n",
    "    y_val = y[valid_idx]  \n",
    "    # print(x_train.shape, x_val.shape)  # (90000, 20) (10000, 20)\n",
    "    # print(y_train.shape, y_val.shape)  # (90000,) (10000,)\n",
    "    \n",
    "\n",
    "    model = lgb.LGBMClassifier(**params)\n",
    "    model.fit(x_train, y_train,\n",
    "            eval_set=[(x_val, y_val)],\n",
    "            early_stopping_rounds=EARLY_STOPPING_ROUNDS,\n",
    "            verbose=VERBOSE)\n",
    "\n",
    "    y_val_pred = model.predict(x_val)\n",
    "    acc_score = accuracy_score(y_val, y_val_pred)\n",
    "    print(f\"===== ACCURACY SCORE {acc_score:.6f} =====\")    # 0.776500 \n",
    "\n",
    "acc_score = accuracy_score(y_val, y_val_pred)\n",
    "print(f\"===== ACCURACY SCORE {acc_score:.6f} =====\")    # 0.776500 "
   ]
  },
  {
   "source": [
    "# 3. Predict"
   ],
   "cell_type": "markdown",
   "metadata": {}
  },
  {
   "cell_type": "code",
   "execution_count": 39,
   "metadata": {},
   "outputs": [
    {
     "output_type": "execute_result",
     "data": {
      "text/plain": [
       "(100000,)"
      ]
     },
     "metadata": {},
     "execution_count": 39
    }
   ],
   "source": [
    "y_pred = model.predict(x_pred)\n",
    "y_pred.shape"
   ]
  },
  {
   "cell_type": "code",
   "execution_count": 41,
   "metadata": {},
   "outputs": [
    {
     "output_type": "execute_result",
     "data": {
      "text/plain": [
       "       PassengerId  Survived\n",
       "0           100000         0\n",
       "1           100001         1\n",
       "2           100002         1\n",
       "3           100003         0\n",
       "4           100004         1\n",
       "...            ...       ...\n",
       "99995       199995         1\n",
       "99996       199996         0\n",
       "99997       199997         0\n",
       "99998       199998         1\n",
       "99999       199999         1\n",
       "\n",
       "[100000 rows x 2 columns]"
      ],
      "text/html": "<div>\n<style scoped>\n    .dataframe tbody tr th:only-of-type {\n        vertical-align: middle;\n    }\n\n    .dataframe tbody tr th {\n        vertical-align: top;\n    }\n\n    .dataframe thead th {\n        text-align: right;\n    }\n</style>\n<table border=\"1\" class=\"dataframe\">\n  <thead>\n    <tr style=\"text-align: right;\">\n      <th></th>\n      <th>PassengerId</th>\n      <th>Survived</th>\n    </tr>\n  </thead>\n  <tbody>\n    <tr>\n      <th>0</th>\n      <td>100000</td>\n      <td>0</td>\n    </tr>\n    <tr>\n      <th>1</th>\n      <td>100001</td>\n      <td>1</td>\n    </tr>\n    <tr>\n      <th>2</th>\n      <td>100002</td>\n      <td>1</td>\n    </tr>\n    <tr>\n      <th>3</th>\n      <td>100003</td>\n      <td>0</td>\n    </tr>\n    <tr>\n      <th>4</th>\n      <td>100004</td>\n      <td>1</td>\n    </tr>\n    <tr>\n      <th>...</th>\n      <td>...</td>\n      <td>...</td>\n    </tr>\n    <tr>\n      <th>99995</th>\n      <td>199995</td>\n      <td>1</td>\n    </tr>\n    <tr>\n      <th>99996</th>\n      <td>199996</td>\n      <td>0</td>\n    </tr>\n    <tr>\n      <th>99997</th>\n      <td>199997</td>\n      <td>0</td>\n    </tr>\n    <tr>\n      <th>99998</th>\n      <td>199998</td>\n      <td>1</td>\n    </tr>\n    <tr>\n      <th>99999</th>\n      <td>199999</td>\n      <td>1</td>\n    </tr>\n  </tbody>\n</table>\n<p>100000 rows × 2 columns</p>\n</div>"
     },
     "metadata": {},
     "execution_count": 41
    }
   ],
   "source": [
    "submission['Survived'] = y_pred\n",
    "submission"
   ]
  },
  {
   "source": [
    "# 4.Submission"
   ],
   "cell_type": "markdown",
   "metadata": {}
  },
  {
   "cell_type": "code",
   "execution_count": 42,
   "metadata": {},
   "outputs": [
    {
     "output_type": "execute_result",
     "data": {
      "text/plain": [
       "       PassengerId  Survived\n",
       "0           100000         0\n",
       "1           100001         1\n",
       "2           100002         1\n",
       "3           100003         0\n",
       "4           100004         1\n",
       "...            ...       ...\n",
       "99995       199995         1\n",
       "99996       199996         0\n",
       "99997       199997         0\n",
       "99998       199998         1\n",
       "99999       199999         1\n",
       "\n",
       "[100000 rows x 2 columns]"
      ],
      "text/html": "<div>\n<style scoped>\n    .dataframe tbody tr th:only-of-type {\n        vertical-align: middle;\n    }\n\n    .dataframe tbody tr th {\n        vertical-align: top;\n    }\n\n    .dataframe thead th {\n        text-align: right;\n    }\n</style>\n<table border=\"1\" class=\"dataframe\">\n  <thead>\n    <tr style=\"text-align: right;\">\n      <th></th>\n      <th>PassengerId</th>\n      <th>Survived</th>\n    </tr>\n  </thead>\n  <tbody>\n    <tr>\n      <th>0</th>\n      <td>100000</td>\n      <td>0</td>\n    </tr>\n    <tr>\n      <th>1</th>\n      <td>100001</td>\n      <td>1</td>\n    </tr>\n    <tr>\n      <th>2</th>\n      <td>100002</td>\n      <td>1</td>\n    </tr>\n    <tr>\n      <th>3</th>\n      <td>100003</td>\n      <td>0</td>\n    </tr>\n    <tr>\n      <th>4</th>\n      <td>100004</td>\n      <td>1</td>\n    </tr>\n    <tr>\n      <th>...</th>\n      <td>...</td>\n      <td>...</td>\n    </tr>\n    <tr>\n      <th>99995</th>\n      <td>199995</td>\n      <td>1</td>\n    </tr>\n    <tr>\n      <th>99996</th>\n      <td>199996</td>\n      <td>0</td>\n    </tr>\n    <tr>\n      <th>99997</th>\n      <td>199997</td>\n      <td>0</td>\n    </tr>\n    <tr>\n      <th>99998</th>\n      <td>199998</td>\n      <td>1</td>\n    </tr>\n    <tr>\n      <th>99999</th>\n      <td>199999</td>\n      <td>1</td>\n    </tr>\n  </tbody>\n</table>\n<p>100000 rows × 2 columns</p>\n</div>"
     },
     "metadata": {},
     "execution_count": 42
    }
   ],
   "source": [
    "submission.to_csv(\"E:\\\\data\\\\kaggle_tabular\\\\submission_0425_lgbm.csv\", index = False)\n",
    "submission"
   ]
  },
  {
   "source": [
    "---\n",
    "파일명 : submission_0425_lgbm.csv     \n",
    "score : 0.80112"
   ],
   "cell_type": "markdown",
   "metadata": {}
  }
 ]
}