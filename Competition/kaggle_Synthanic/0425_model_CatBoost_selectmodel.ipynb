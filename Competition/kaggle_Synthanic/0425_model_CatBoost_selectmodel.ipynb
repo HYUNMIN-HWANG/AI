{
 "metadata": {
  "language_info": {
   "codemirror_mode": {
    "name": "ipython",
    "version": 3
   },
   "file_extension": ".py",
   "mimetype": "text/x-python",
   "name": "python",
   "nbconvert_exporter": "python",
   "pygments_lexer": "ipython3",
   "version": "3.8.5"
  },
  "orig_nbformat": 2,
  "kernelspec": {
   "name": "python385jvsc74a57bd0cfed29639e118e2330c8cca2e9f389b076390c6676518be5d289ddd682bc9f99",
   "display_name": "Python 3.8.5 64-bit (conda)"
  }
 },
 "nbformat": 4,
 "nbformat_minor": 2,
 "cells": [
  {
   "cell_type": "code",
   "execution_count": 61,
   "metadata": {},
   "outputs": [],
   "source": [
    "import pandas as pd\n",
    "import numpy as np\n",
    "import random\n",
    "import os\n",
    "\n",
    "from sklearn.metrics import accuracy_score\n",
    "from sklearn.preprocessing import LabelEncoder, StandardScaler, OneHotEncoder, MinMaxScaler\n",
    "from sklearn.model_selection import train_test_split, KFold, StratifiedKFold\n",
    "\n",
    "from sklearn.feature_selection import SelectFromModel\n",
    "\n",
    "train_df = pd.read_csv('E:\\data\\kaggle_tabular/train.csv')\n",
    "test_df = pd.read_csv('E:\\data\\kaggle_tabular/test.csv')\n",
    "submission = pd.read_csv('E:\\data\\kaggle_tabular/sample_submission.csv')"
   ]
  },
  {
   "source": [
    "https://www.kaggle.com/hiro5299834/tps-apr-2021-pseudo-labeling-voting-ensemble"
   ],
   "cell_type": "markdown",
   "metadata": {}
  },
  {
   "source": [
    "앞으로 해볼 것    \n",
    "K-fold    \n",
    "GridSearchCV  > 튜닝하기      \n",
    "best_columns를 구할 수 있는 게 있었던 거 같은데 - from sklearn.feature_selection import SelectFromModel    > 중요 컬람만 남기기    "
   ],
   "cell_type": "markdown",
   "metadata": {}
  },
  {
   "source": [
    "# data 전처리"
   ],
   "cell_type": "markdown",
   "metadata": {}
  },
  {
   "source": [
    "* Pclass - a proxy for socio-economic status (SES) where 1st = Upper, 2nd = Middle and 3rd = Lower.\n",
    "* Sex - male and female.\n",
    "* Age - fractional if it less than 1 and age estimation in the form of xx.5.\n",
    "* SibSp - number of siblings / spouses aboard the Synthanic; siblings are brother, sister, stepbrother and stepsister and spouses are husband and wife (mistresses and fiancés were ignored).\n",
    "* Parch - # of parents / children aboard the Synthanic; parents are mother and father; child are daughter, son, stepdaughter and stepson. Some children travelled only with a nanny, therefore Parch is 0 for them.\n",
    "* Fare - the paassenger fare.\n",
    "* Cabin - the cabin number.\n",
    "* Emarked - port of embarkation where C is Cherbourg, Q is Queenstown and S is Southampton.\n",
    "* Ticket - ticket number.\n",
    "* Name - passengers name.\n",
    "* Survived - target variable where 0 is not survived and 1 is survived."
   ],
   "cell_type": "markdown",
   "metadata": {}
  },
  {
   "source": [
    "* 결측값 채우기"
   ],
   "cell_type": "markdown",
   "metadata": {}
  },
  {
   "cell_type": "code",
   "execution_count": 62,
   "metadata": {},
   "outputs": [
    {
     "output_type": "stream",
     "name": "stdout",
     "text": [
      "Missing values per columns in train dataset\nPassengerId: 0\nSurvived: 0\nPclass: 0\nName: 0\nSex: 0\nAge: 3292\nSibSp: 0\nParch: 0\nTicket: 4623\nFare: 134\nCabin: 67866\nEmbarked: 250\n"
     ]
    }
   ],
   "source": [
    "print('Missing values per columns in train dataset')\n",
    "for col in train_df.columns:\n",
    "    temp_col = train_df[col].isnull().sum()\n",
    "    print(f'{col}: {temp_col}')"
   ]
  },
  {
   "cell_type": "code",
   "execution_count": 63,
   "metadata": {},
   "outputs": [],
   "source": [
    "# col = 'Age' 평균 나이로 결측값 채우기\n",
    "train_df['Age'] = train_df['Age'].fillna(train_df['Age'].mean())\n",
    "test_df['Age'] = test_df['Age'].fillna(test_df['Age'].mean())"
   ]
  },
  {
   "cell_type": "code",
   "execution_count": 64,
   "metadata": {},
   "outputs": [
    {
     "output_type": "execute_result",
     "data": {
      "text/plain": [
       "0      X\n",
       "1      X\n",
       "2     CA\n",
       "3     A.\n",
       "4      X\n",
       "      ..\n",
       "95     X\n",
       "96     X\n",
       "97    PC\n",
       "98     X\n",
       "99     X\n",
       "Name: Ticket, Length: 100, dtype: object"
      ]
     },
     "metadata": {},
     "execution_count": 64
    }
   ],
   "source": [
    "# col = 'Ticket', 결측값 'X'로 채우기\n",
    "train_df['Ticket'] = train_df['Ticket'].fillna('X').map(lambda x:str(x).split()[0] if len(str(x).split()) > 1 else 'X')\n",
    "test_df['Ticket'] = test_df['Ticket'].fillna('X').map(lambda x:str(x).split()[0] if len(str(x).split()) > 1 else 'X')\n",
    "train_df['Ticket'][:100]"
   ]
  },
  {
   "cell_type": "code",
   "execution_count": 65,
   "metadata": {},
   "outputs": [
    {
     "output_type": "execute_result",
     "data": {
      "text/plain": [
       "0     C\n",
       "1     X\n",
       "2     X\n",
       "3     X\n",
       "4     X\n",
       "     ..\n",
       "95    X\n",
       "96    X\n",
       "97    D\n",
       "98    X\n",
       "99    C\n",
       "Name: Cabin, Length: 100, dtype: object"
      ]
     },
     "metadata": {},
     "execution_count": 65
    }
   ],
   "source": [
    "# col = 'Cabin', 결측값 'X'로 채우기\n",
    "train_df['Cabin'] = train_df['Cabin'].fillna('X').map(lambda x: x[0].strip())\n",
    "test_df['Cabin'] = test_df['Cabin'].fillna('X').map(lambda x: x[0].strip())\n",
    "train_df['Cabin'][:100]"
   ]
  },
  {
   "cell_type": "code",
   "execution_count": 66,
   "metadata": {},
   "outputs": [
    {
     "output_type": "execute_result",
     "data": {
      "text/plain": [
       "0     S\n",
       "1     S\n",
       "2     S\n",
       "3     S\n",
       "4     S\n",
       "     ..\n",
       "95    S\n",
       "96    Q\n",
       "97    Q\n",
       "98    S\n",
       "99    C\n",
       "Name: Embarked, Length: 100, dtype: object"
      ]
     },
     "metadata": {},
     "execution_count": 66
    }
   ],
   "source": [
    "# col = 'Embarked', 결측값 'X'로 채우기\n",
    "train_df['Embarked'] = train_df['Embarked'].fillna('X')\n",
    "test_df['Embarked'] = test_df['Embarked'].fillna('X')\n",
    "train_df['Embarked'][:100]"
   ]
  },
  {
   "cell_type": "code",
   "execution_count": 67,
   "metadata": {},
   "outputs": [
    {
     "output_type": "execute_result",
     "data": {
      "text/plain": [
       "0     3.337192\n",
       "1     2.663750\n",
       "2     4.280686\n",
       "3     2.641910\n",
       "4     2.170196\n",
       "        ...   \n",
       "95    3.503754\n",
       "96    3.312730\n",
       "97    4.884921\n",
       "98    3.363149\n",
       "99    5.633217\n",
       "Name: Fare, Length: 100, dtype: float64"
      ]
     },
     "metadata": {},
     "execution_count": 67
    }
   ],
   "source": [
    "# col = 'Fare', 결측값 각 Pclass 마다 fare 중앙값을 넣는다.\n",
    "fare_map =  train_df[['Fare', 'Pclass']].dropna().groupby('Pclass').median().to_dict()\n",
    "# fare_map    # {'Fare': {1: 63.58, 2: 22.72, 3: 10.96}}\n",
    "train_df['Fare'] = train_df['Fare'].fillna(train_df['Pclass'].map(fare_map['Fare']))\n",
    "train_df['Fare'] = np.log1p(train_df['Fare'])\n",
    "train_df['Fare'][:100]"
   ]
  },
  {
   "cell_type": "code",
   "execution_count": 68,
   "metadata": {},
   "outputs": [
    {
     "output_type": "execute_result",
     "data": {
      "text/plain": [
       "0     4.159039\n",
       "1     1.918392\n",
       "2     3.686627\n",
       "3     2.634045\n",
       "4     3.328268\n",
       "        ...   \n",
       "95    2.249184\n",
       "96    2.621766\n",
       "97    1.969906\n",
       "98    2.536866\n",
       "99    3.469479\n",
       "Name: Fare, Length: 100, dtype: float64"
      ]
     },
     "metadata": {},
     "execution_count": 68
    }
   ],
   "source": [
    "# col = 'Fare', 결측값 각 Pclass 마다 fare 중앙값을 넣는다.\n",
    "fare_map =  test_df[['Fare', 'Pclass']].dropna().groupby('Pclass').median().to_dict()\n",
    "# fare_map    # {'Fare': {1: 80.68, 2: 14.455, 3: 11.52}}\n",
    "test_df['Fare'] = test_df['Fare'].fillna(test_df['Pclass'].map(fare_map['Fare']))\n",
    "test_df['Fare'] = np.log1p(test_df['Fare'])\n",
    "test_df['Fare'][:100]"
   ]
  },
  {
   "source": [
    "* 앞 이름만 가져오기"
   ],
   "cell_type": "markdown",
   "metadata": {}
  },
  {
   "cell_type": "code",
   "execution_count": 69,
   "metadata": {},
   "outputs": [
    {
     "output_type": "execute_result",
     "data": {
      "text/plain": [
       "       PassengerId  Survived  Pclass       Name     Sex        Age  SibSp  \\\n",
       "0                0         1       1    Oconnor    male  38.355472      2   \n",
       "1                1         0       3      Bryan    male  38.355472      0   \n",
       "2                2         0       3      Owens    male   0.330000      1   \n",
       "3                3         0       3     Kramer    male  19.000000      0   \n",
       "4                4         1       3       Bond    male  25.000000      0   \n",
       "...            ...       ...     ...        ...     ...        ...    ...   \n",
       "99995        99995         1       2       Bell  female  62.000000      0   \n",
       "99996        99996         0       2      Brown    male  66.000000      0   \n",
       "99997        99997         0       3  Childress    male  37.000000      0   \n",
       "99998        99998         0       3   Caughlin    male  51.000000      0   \n",
       "99999        99999         0       3     Enciso    male  55.000000      0   \n",
       "\n",
       "       Parch Ticket      Fare Cabin Embarked  \n",
       "0          0      X  3.337192     C        S  \n",
       "1          0      X  2.663750     X        S  \n",
       "2          2     CA  4.280686     X        S  \n",
       "3          0     A.  2.641910     X        S  \n",
       "4          0      X  2.170196     X        S  \n",
       "...      ...    ...       ...   ...      ...  \n",
       "99995      0     PC  2.763800     D        C  \n",
       "99996      0      X  2.497329     X        S  \n",
       "99997      0      X  2.393339     X        S  \n",
       "99998      1      X  3.463233     X        S  \n",
       "99999      0      X  2.705380     X        S  \n",
       "\n",
       "[100000 rows x 12 columns]"
      ],
      "text/html": "<div>\n<style scoped>\n    .dataframe tbody tr th:only-of-type {\n        vertical-align: middle;\n    }\n\n    .dataframe tbody tr th {\n        vertical-align: top;\n    }\n\n    .dataframe thead th {\n        text-align: right;\n    }\n</style>\n<table border=\"1\" class=\"dataframe\">\n  <thead>\n    <tr style=\"text-align: right;\">\n      <th></th>\n      <th>PassengerId</th>\n      <th>Survived</th>\n      <th>Pclass</th>\n      <th>Name</th>\n      <th>Sex</th>\n      <th>Age</th>\n      <th>SibSp</th>\n      <th>Parch</th>\n      <th>Ticket</th>\n      <th>Fare</th>\n      <th>Cabin</th>\n      <th>Embarked</th>\n    </tr>\n  </thead>\n  <tbody>\n    <tr>\n      <th>0</th>\n      <td>0</td>\n      <td>1</td>\n      <td>1</td>\n      <td>Oconnor</td>\n      <td>male</td>\n      <td>38.355472</td>\n      <td>2</td>\n      <td>0</td>\n      <td>X</td>\n      <td>3.337192</td>\n      <td>C</td>\n      <td>S</td>\n    </tr>\n    <tr>\n      <th>1</th>\n      <td>1</td>\n      <td>0</td>\n      <td>3</td>\n      <td>Bryan</td>\n      <td>male</td>\n      <td>38.355472</td>\n      <td>0</td>\n      <td>0</td>\n      <td>X</td>\n      <td>2.663750</td>\n      <td>X</td>\n      <td>S</td>\n    </tr>\n    <tr>\n      <th>2</th>\n      <td>2</td>\n      <td>0</td>\n      <td>3</td>\n      <td>Owens</td>\n      <td>male</td>\n      <td>0.330000</td>\n      <td>1</td>\n      <td>2</td>\n      <td>CA</td>\n      <td>4.280686</td>\n      <td>X</td>\n      <td>S</td>\n    </tr>\n    <tr>\n      <th>3</th>\n      <td>3</td>\n      <td>0</td>\n      <td>3</td>\n      <td>Kramer</td>\n      <td>male</td>\n      <td>19.000000</td>\n      <td>0</td>\n      <td>0</td>\n      <td>A.</td>\n      <td>2.641910</td>\n      <td>X</td>\n      <td>S</td>\n    </tr>\n    <tr>\n      <th>4</th>\n      <td>4</td>\n      <td>1</td>\n      <td>3</td>\n      <td>Bond</td>\n      <td>male</td>\n      <td>25.000000</td>\n      <td>0</td>\n      <td>0</td>\n      <td>X</td>\n      <td>2.170196</td>\n      <td>X</td>\n      <td>S</td>\n    </tr>\n    <tr>\n      <th>...</th>\n      <td>...</td>\n      <td>...</td>\n      <td>...</td>\n      <td>...</td>\n      <td>...</td>\n      <td>...</td>\n      <td>...</td>\n      <td>...</td>\n      <td>...</td>\n      <td>...</td>\n      <td>...</td>\n      <td>...</td>\n    </tr>\n    <tr>\n      <th>99995</th>\n      <td>99995</td>\n      <td>1</td>\n      <td>2</td>\n      <td>Bell</td>\n      <td>female</td>\n      <td>62.000000</td>\n      <td>0</td>\n      <td>0</td>\n      <td>PC</td>\n      <td>2.763800</td>\n      <td>D</td>\n      <td>C</td>\n    </tr>\n    <tr>\n      <th>99996</th>\n      <td>99996</td>\n      <td>0</td>\n      <td>2</td>\n      <td>Brown</td>\n      <td>male</td>\n      <td>66.000000</td>\n      <td>0</td>\n      <td>0</td>\n      <td>X</td>\n      <td>2.497329</td>\n      <td>X</td>\n      <td>S</td>\n    </tr>\n    <tr>\n      <th>99997</th>\n      <td>99997</td>\n      <td>0</td>\n      <td>3</td>\n      <td>Childress</td>\n      <td>male</td>\n      <td>37.000000</td>\n      <td>0</td>\n      <td>0</td>\n      <td>X</td>\n      <td>2.393339</td>\n      <td>X</td>\n      <td>S</td>\n    </tr>\n    <tr>\n      <th>99998</th>\n      <td>99998</td>\n      <td>0</td>\n      <td>3</td>\n      <td>Caughlin</td>\n      <td>male</td>\n      <td>51.000000</td>\n      <td>0</td>\n      <td>1</td>\n      <td>X</td>\n      <td>3.463233</td>\n      <td>X</td>\n      <td>S</td>\n    </tr>\n    <tr>\n      <th>99999</th>\n      <td>99999</td>\n      <td>0</td>\n      <td>3</td>\n      <td>Enciso</td>\n      <td>male</td>\n      <td>55.000000</td>\n      <td>0</td>\n      <td>0</td>\n      <td>X</td>\n      <td>2.705380</td>\n      <td>X</td>\n      <td>S</td>\n    </tr>\n  </tbody>\n</table>\n<p>100000 rows × 12 columns</p>\n</div>"
     },
     "metadata": {},
     "execution_count": 69
    }
   ],
   "source": [
    "train_df['Name'] = train_df['Name'].map(lambda x: x.split(',')[0])\n",
    "test_df['Name'] = test_df['Name'].map(lambda x: x.split(',')[0])\n",
    "train_df"
   ]
  },
  {
   "source": [
    "* 'Survived' 컬럼을 맨 뒤로 보내기"
   ],
   "cell_type": "markdown",
   "metadata": {}
  },
  {
   "cell_type": "code",
   "execution_count": 70,
   "metadata": {},
   "outputs": [
    {
     "output_type": "execute_result",
     "data": {
      "text/plain": [
       "       PassengerId  Pclass       Name     Sex        Age  SibSp  Parch Ticket  \\\n",
       "0                0       1    Oconnor    male  38.355472      2      0      X   \n",
       "1                1       3      Bryan    male  38.355472      0      0      X   \n",
       "2                2       3      Owens    male   0.330000      1      2     CA   \n",
       "3                3       3     Kramer    male  19.000000      0      0     A.   \n",
       "4                4       3       Bond    male  25.000000      0      0      X   \n",
       "...            ...     ...        ...     ...        ...    ...    ...    ...   \n",
       "99995        99995       2       Bell  female  62.000000      0      0     PC   \n",
       "99996        99996       2      Brown    male  66.000000      0      0      X   \n",
       "99997        99997       3  Childress    male  37.000000      0      0      X   \n",
       "99998        99998       3   Caughlin    male  51.000000      0      1      X   \n",
       "99999        99999       3     Enciso    male  55.000000      0      0      X   \n",
       "\n",
       "           Fare Cabin Embarked  y_target  \n",
       "0      3.337192     C        S         1  \n",
       "1      2.663750     X        S         0  \n",
       "2      4.280686     X        S         0  \n",
       "3      2.641910     X        S         0  \n",
       "4      2.170196     X        S         1  \n",
       "...         ...   ...      ...       ...  \n",
       "99995  2.763800     D        C         1  \n",
       "99996  2.497329     X        S         0  \n",
       "99997  2.393339     X        S         0  \n",
       "99998  3.463233     X        S         0  \n",
       "99999  2.705380     X        S         0  \n",
       "\n",
       "[100000 rows x 12 columns]"
      ],
      "text/html": "<div>\n<style scoped>\n    .dataframe tbody tr th:only-of-type {\n        vertical-align: middle;\n    }\n\n    .dataframe tbody tr th {\n        vertical-align: top;\n    }\n\n    .dataframe thead th {\n        text-align: right;\n    }\n</style>\n<table border=\"1\" class=\"dataframe\">\n  <thead>\n    <tr style=\"text-align: right;\">\n      <th></th>\n      <th>PassengerId</th>\n      <th>Pclass</th>\n      <th>Name</th>\n      <th>Sex</th>\n      <th>Age</th>\n      <th>SibSp</th>\n      <th>Parch</th>\n      <th>Ticket</th>\n      <th>Fare</th>\n      <th>Cabin</th>\n      <th>Embarked</th>\n      <th>y_target</th>\n    </tr>\n  </thead>\n  <tbody>\n    <tr>\n      <th>0</th>\n      <td>0</td>\n      <td>1</td>\n      <td>Oconnor</td>\n      <td>male</td>\n      <td>38.355472</td>\n      <td>2</td>\n      <td>0</td>\n      <td>X</td>\n      <td>3.337192</td>\n      <td>C</td>\n      <td>S</td>\n      <td>1</td>\n    </tr>\n    <tr>\n      <th>1</th>\n      <td>1</td>\n      <td>3</td>\n      <td>Bryan</td>\n      <td>male</td>\n      <td>38.355472</td>\n      <td>0</td>\n      <td>0</td>\n      <td>X</td>\n      <td>2.663750</td>\n      <td>X</td>\n      <td>S</td>\n      <td>0</td>\n    </tr>\n    <tr>\n      <th>2</th>\n      <td>2</td>\n      <td>3</td>\n      <td>Owens</td>\n      <td>male</td>\n      <td>0.330000</td>\n      <td>1</td>\n      <td>2</td>\n      <td>CA</td>\n      <td>4.280686</td>\n      <td>X</td>\n      <td>S</td>\n      <td>0</td>\n    </tr>\n    <tr>\n      <th>3</th>\n      <td>3</td>\n      <td>3</td>\n      <td>Kramer</td>\n      <td>male</td>\n      <td>19.000000</td>\n      <td>0</td>\n      <td>0</td>\n      <td>A.</td>\n      <td>2.641910</td>\n      <td>X</td>\n      <td>S</td>\n      <td>0</td>\n    </tr>\n    <tr>\n      <th>4</th>\n      <td>4</td>\n      <td>3</td>\n      <td>Bond</td>\n      <td>male</td>\n      <td>25.000000</td>\n      <td>0</td>\n      <td>0</td>\n      <td>X</td>\n      <td>2.170196</td>\n      <td>X</td>\n      <td>S</td>\n      <td>1</td>\n    </tr>\n    <tr>\n      <th>...</th>\n      <td>...</td>\n      <td>...</td>\n      <td>...</td>\n      <td>...</td>\n      <td>...</td>\n      <td>...</td>\n      <td>...</td>\n      <td>...</td>\n      <td>...</td>\n      <td>...</td>\n      <td>...</td>\n      <td>...</td>\n    </tr>\n    <tr>\n      <th>99995</th>\n      <td>99995</td>\n      <td>2</td>\n      <td>Bell</td>\n      <td>female</td>\n      <td>62.000000</td>\n      <td>0</td>\n      <td>0</td>\n      <td>PC</td>\n      <td>2.763800</td>\n      <td>D</td>\n      <td>C</td>\n      <td>1</td>\n    </tr>\n    <tr>\n      <th>99996</th>\n      <td>99996</td>\n      <td>2</td>\n      <td>Brown</td>\n      <td>male</td>\n      <td>66.000000</td>\n      <td>0</td>\n      <td>0</td>\n      <td>X</td>\n      <td>2.497329</td>\n      <td>X</td>\n      <td>S</td>\n      <td>0</td>\n    </tr>\n    <tr>\n      <th>99997</th>\n      <td>99997</td>\n      <td>3</td>\n      <td>Childress</td>\n      <td>male</td>\n      <td>37.000000</td>\n      <td>0</td>\n      <td>0</td>\n      <td>X</td>\n      <td>2.393339</td>\n      <td>X</td>\n      <td>S</td>\n      <td>0</td>\n    </tr>\n    <tr>\n      <th>99998</th>\n      <td>99998</td>\n      <td>3</td>\n      <td>Caughlin</td>\n      <td>male</td>\n      <td>51.000000</td>\n      <td>0</td>\n      <td>1</td>\n      <td>X</td>\n      <td>3.463233</td>\n      <td>X</td>\n      <td>S</td>\n      <td>0</td>\n    </tr>\n    <tr>\n      <th>99999</th>\n      <td>99999</td>\n      <td>3</td>\n      <td>Enciso</td>\n      <td>male</td>\n      <td>55.000000</td>\n      <td>0</td>\n      <td>0</td>\n      <td>X</td>\n      <td>2.705380</td>\n      <td>X</td>\n      <td>S</td>\n      <td>0</td>\n    </tr>\n  </tbody>\n</table>\n<p>100000 rows × 12 columns</p>\n</div>"
     },
     "metadata": {},
     "execution_count": 70
    }
   ],
   "source": [
    "train_df['y_target'] = train_df['Survived']\n",
    "train_df = train_df.drop(['Survived'], axis=1)\n",
    "train_df"
   ]
  },
  {
   "source": [
    "* 문자들을 숫자로 치환하기"
   ],
   "cell_type": "markdown",
   "metadata": {}
  },
  {
   "cell_type": "code",
   "execution_count": 71,
   "metadata": {},
   "outputs": [],
   "source": [
    "def label_encoder(c):\n",
    "    encoder = LabelEncoder()\n",
    "    return encoder.fit_transform(c)\n",
    "\n",
    "labels_col = ['Sex','Ticket']\n",
    "label_encoded_df = train_df[labels_col].apply(label_encoder)\n",
    "test_label_encoded_df = test_df[labels_col].apply(label_encoder)\n",
    "# label_encoded_df\n",
    "\n",
    "onehot_cols = ['Cabin', 'Embarked']\n",
    "onehot_encoded_df = pd.get_dummies(train_df[onehot_cols])\n",
    "test_onehot_encoded_df = pd.get_dummies(test_df[onehot_cols])\n",
    "# onehot_encoded_df\n",
    "\n",
    "numerical_cols = ['Age', 'SibSp', 'Parch', 'Fare']\n",
    "scaler = MinMaxScaler()\n",
    "numerical_df = pd.DataFrame(scaler.fit_transform(train_df[numerical_cols]), columns=numerical_cols)\n",
    "test_numerical_df = pd.DataFrame(scaler.fit_transform(test_df[numerical_cols]), columns=numerical_cols)\n",
    "# numerical_df\n",
    "\n",
    "etc_df = train_df['Pclass']\n",
    "test_etc_df = test_df['Pclass']\n",
    "\n",
    "target_df = train_df['y_target']\n",
    "\n",
    "\n",
    "train_df = pd.concat([etc_df, numerical_df, label_encoded_df, onehot_encoded_df, target_df], axis=1)\n",
    "test_df = pd.concat([test_etc_df, test_numerical_df, test_label_encoded_df, test_onehot_encoded_df], axis=1)"
   ]
  },
  {
   "source": [
    "최종적으로 사용할 데이터 셋"
   ],
   "cell_type": "markdown",
   "metadata": {}
  },
  {
   "cell_type": "code",
   "execution_count": 72,
   "metadata": {},
   "outputs": [
    {
     "output_type": "execute_result",
     "data": {
      "text/plain": [
       "       Pclass       Age  SibSp     Parch      Fare  Sex  Ticket  Cabin_A  \\\n",
       "0           1  0.440353  0.250  0.000000  0.462375    1      49        0   \n",
       "1           3  0.440353  0.000  0.000000  0.351893    1      49        0   \n",
       "2           3  0.002876  0.125  0.222222  0.617161    1      14        0   \n",
       "3           3  0.217671  0.000  0.000000  0.348310    1       0        0   \n",
       "4           3  0.286700  0.000  0.000000  0.270923    1      49        0   \n",
       "...       ...       ...    ...       ...       ...  ...     ...      ...   \n",
       "99995       2  0.712379  0.000  0.000000  0.368307    0      21        0   \n",
       "99996       2  0.758399  0.000  0.000000  0.324591    1      49        0   \n",
       "99997       3  0.424758  0.000  0.000000  0.307531    1      49        0   \n",
       "99998       3  0.585826  0.000  0.111111  0.483053    1      49        0   \n",
       "99999       3  0.631845  0.000  0.000000  0.358723    1      49        0   \n",
       "\n",
       "       Cabin_B  Cabin_C  ...  Cabin_E  Cabin_F  Cabin_G  Cabin_T  Cabin_X  \\\n",
       "0            0        1  ...        0        0        0        0        0   \n",
       "1            0        0  ...        0        0        0        0        1   \n",
       "2            0        0  ...        0        0        0        0        1   \n",
       "3            0        0  ...        0        0        0        0        1   \n",
       "4            0        0  ...        0        0        0        0        1   \n",
       "...        ...      ...  ...      ...      ...      ...      ...      ...   \n",
       "99995        0        0  ...        0        0        0        0        0   \n",
       "99996        0        0  ...        0        0        0        0        1   \n",
       "99997        0        0  ...        0        0        0        0        1   \n",
       "99998        0        0  ...        0        0        0        0        1   \n",
       "99999        0        0  ...        0        0        0        0        1   \n",
       "\n",
       "       Embarked_C  Embarked_Q  Embarked_S  Embarked_X  y_target  \n",
       "0               0           0           1           0         1  \n",
       "1               0           0           1           0         0  \n",
       "2               0           0           1           0         0  \n",
       "3               0           0           1           0         0  \n",
       "4               0           0           1           0         1  \n",
       "...           ...         ...         ...         ...       ...  \n",
       "99995           1           0           0           0         1  \n",
       "99996           0           0           1           0         0  \n",
       "99997           0           0           1           0         0  \n",
       "99998           0           0           1           0         0  \n",
       "99999           0           0           1           0         0  \n",
       "\n",
       "[100000 rows x 21 columns]"
      ],
      "text/html": "<div>\n<style scoped>\n    .dataframe tbody tr th:only-of-type {\n        vertical-align: middle;\n    }\n\n    .dataframe tbody tr th {\n        vertical-align: top;\n    }\n\n    .dataframe thead th {\n        text-align: right;\n    }\n</style>\n<table border=\"1\" class=\"dataframe\">\n  <thead>\n    <tr style=\"text-align: right;\">\n      <th></th>\n      <th>Pclass</th>\n      <th>Age</th>\n      <th>SibSp</th>\n      <th>Parch</th>\n      <th>Fare</th>\n      <th>Sex</th>\n      <th>Ticket</th>\n      <th>Cabin_A</th>\n      <th>Cabin_B</th>\n      <th>Cabin_C</th>\n      <th>...</th>\n      <th>Cabin_E</th>\n      <th>Cabin_F</th>\n      <th>Cabin_G</th>\n      <th>Cabin_T</th>\n      <th>Cabin_X</th>\n      <th>Embarked_C</th>\n      <th>Embarked_Q</th>\n      <th>Embarked_S</th>\n      <th>Embarked_X</th>\n      <th>y_target</th>\n    </tr>\n  </thead>\n  <tbody>\n    <tr>\n      <th>0</th>\n      <td>1</td>\n      <td>0.440353</td>\n      <td>0.250</td>\n      <td>0.000000</td>\n      <td>0.462375</td>\n      <td>1</td>\n      <td>49</td>\n      <td>0</td>\n      <td>0</td>\n      <td>1</td>\n      <td>...</td>\n      <td>0</td>\n      <td>0</td>\n      <td>0</td>\n      <td>0</td>\n      <td>0</td>\n      <td>0</td>\n      <td>0</td>\n      <td>1</td>\n      <td>0</td>\n      <td>1</td>\n    </tr>\n    <tr>\n      <th>1</th>\n      <td>3</td>\n      <td>0.440353</td>\n      <td>0.000</td>\n      <td>0.000000</td>\n      <td>0.351893</td>\n      <td>1</td>\n      <td>49</td>\n      <td>0</td>\n      <td>0</td>\n      <td>0</td>\n      <td>...</td>\n      <td>0</td>\n      <td>0</td>\n      <td>0</td>\n      <td>0</td>\n      <td>1</td>\n      <td>0</td>\n      <td>0</td>\n      <td>1</td>\n      <td>0</td>\n      <td>0</td>\n    </tr>\n    <tr>\n      <th>2</th>\n      <td>3</td>\n      <td>0.002876</td>\n      <td>0.125</td>\n      <td>0.222222</td>\n      <td>0.617161</td>\n      <td>1</td>\n      <td>14</td>\n      <td>0</td>\n      <td>0</td>\n      <td>0</td>\n      <td>...</td>\n      <td>0</td>\n      <td>0</td>\n      <td>0</td>\n      <td>0</td>\n      <td>1</td>\n      <td>0</td>\n      <td>0</td>\n      <td>1</td>\n      <td>0</td>\n      <td>0</td>\n    </tr>\n    <tr>\n      <th>3</th>\n      <td>3</td>\n      <td>0.217671</td>\n      <td>0.000</td>\n      <td>0.000000</td>\n      <td>0.348310</td>\n      <td>1</td>\n      <td>0</td>\n      <td>0</td>\n      <td>0</td>\n      <td>0</td>\n      <td>...</td>\n      <td>0</td>\n      <td>0</td>\n      <td>0</td>\n      <td>0</td>\n      <td>1</td>\n      <td>0</td>\n      <td>0</td>\n      <td>1</td>\n      <td>0</td>\n      <td>0</td>\n    </tr>\n    <tr>\n      <th>4</th>\n      <td>3</td>\n      <td>0.286700</td>\n      <td>0.000</td>\n      <td>0.000000</td>\n      <td>0.270923</td>\n      <td>1</td>\n      <td>49</td>\n      <td>0</td>\n      <td>0</td>\n      <td>0</td>\n      <td>...</td>\n      <td>0</td>\n      <td>0</td>\n      <td>0</td>\n      <td>0</td>\n      <td>1</td>\n      <td>0</td>\n      <td>0</td>\n      <td>1</td>\n      <td>0</td>\n      <td>1</td>\n    </tr>\n    <tr>\n      <th>...</th>\n      <td>...</td>\n      <td>...</td>\n      <td>...</td>\n      <td>...</td>\n      <td>...</td>\n      <td>...</td>\n      <td>...</td>\n      <td>...</td>\n      <td>...</td>\n      <td>...</td>\n      <td>...</td>\n      <td>...</td>\n      <td>...</td>\n      <td>...</td>\n      <td>...</td>\n      <td>...</td>\n      <td>...</td>\n      <td>...</td>\n      <td>...</td>\n      <td>...</td>\n      <td>...</td>\n    </tr>\n    <tr>\n      <th>99995</th>\n      <td>2</td>\n      <td>0.712379</td>\n      <td>0.000</td>\n      <td>0.000000</td>\n      <td>0.368307</td>\n      <td>0</td>\n      <td>21</td>\n      <td>0</td>\n      <td>0</td>\n      <td>0</td>\n      <td>...</td>\n      <td>0</td>\n      <td>0</td>\n      <td>0</td>\n      <td>0</td>\n      <td>0</td>\n      <td>1</td>\n      <td>0</td>\n      <td>0</td>\n      <td>0</td>\n      <td>1</td>\n    </tr>\n    <tr>\n      <th>99996</th>\n      <td>2</td>\n      <td>0.758399</td>\n      <td>0.000</td>\n      <td>0.000000</td>\n      <td>0.324591</td>\n      <td>1</td>\n      <td>49</td>\n      <td>0</td>\n      <td>0</td>\n      <td>0</td>\n      <td>...</td>\n      <td>0</td>\n      <td>0</td>\n      <td>0</td>\n      <td>0</td>\n      <td>1</td>\n      <td>0</td>\n      <td>0</td>\n      <td>1</td>\n      <td>0</td>\n      <td>0</td>\n    </tr>\n    <tr>\n      <th>99997</th>\n      <td>3</td>\n      <td>0.424758</td>\n      <td>0.000</td>\n      <td>0.000000</td>\n      <td>0.307531</td>\n      <td>1</td>\n      <td>49</td>\n      <td>0</td>\n      <td>0</td>\n      <td>0</td>\n      <td>...</td>\n      <td>0</td>\n      <td>0</td>\n      <td>0</td>\n      <td>0</td>\n      <td>1</td>\n      <td>0</td>\n      <td>0</td>\n      <td>1</td>\n      <td>0</td>\n      <td>0</td>\n    </tr>\n    <tr>\n      <th>99998</th>\n      <td>3</td>\n      <td>0.585826</td>\n      <td>0.000</td>\n      <td>0.111111</td>\n      <td>0.483053</td>\n      <td>1</td>\n      <td>49</td>\n      <td>0</td>\n      <td>0</td>\n      <td>0</td>\n      <td>...</td>\n      <td>0</td>\n      <td>0</td>\n      <td>0</td>\n      <td>0</td>\n      <td>1</td>\n      <td>0</td>\n      <td>0</td>\n      <td>1</td>\n      <td>0</td>\n      <td>0</td>\n    </tr>\n    <tr>\n      <th>99999</th>\n      <td>3</td>\n      <td>0.631845</td>\n      <td>0.000</td>\n      <td>0.000000</td>\n      <td>0.358723</td>\n      <td>1</td>\n      <td>49</td>\n      <td>0</td>\n      <td>0</td>\n      <td>0</td>\n      <td>...</td>\n      <td>0</td>\n      <td>0</td>\n      <td>0</td>\n      <td>0</td>\n      <td>1</td>\n      <td>0</td>\n      <td>0</td>\n      <td>1</td>\n      <td>0</td>\n      <td>0</td>\n    </tr>\n  </tbody>\n</table>\n<p>100000 rows × 21 columns</p>\n</div>"
     },
     "metadata": {},
     "execution_count": 72
    }
   ],
   "source": [
    "train_df"
   ]
  },
  {
   "cell_type": "code",
   "execution_count": 73,
   "metadata": {},
   "outputs": [
    {
     "output_type": "execute_result",
     "data": {
      "text/plain": [
       "       Pclass       Age  SibSp     Parch      Fare  Sex  Ticket  Cabin_A  \\\n",
       "0           3  0.233811  0.000  0.000000  0.634709    1      49        0   \n",
       "1           3  0.653979  0.000  0.000000  0.288706    0      49        0   \n",
       "2           1  0.233811  0.000  0.000000  0.561759    0      49        0   \n",
       "3           2  0.307958  0.000  0.000000  0.399218    1      49        0   \n",
       "4           1  0.209095  0.000  0.222222  0.506421    0      49        0   \n",
       "...       ...       ...    ...       ...       ...  ...     ...      ...   \n",
       "99995       3  0.332674  0.000  0.000000  0.364427    0      49        0   \n",
       "99996       1  0.728127  0.125  0.000000  0.646993    1      49        0   \n",
       "99997       3  0.579832  0.000  0.000000  0.374506    1      49        0   \n",
       "99998       1  0.604548  0.125  0.222222  0.521143    0      21        0   \n",
       "99999       1  0.505685  0.000  0.222222  0.807841    0      21        0   \n",
       "\n",
       "       Cabin_B  Cabin_C  Cabin_D  Cabin_E  Cabin_F  Cabin_G  Cabin_T  Cabin_X  \\\n",
       "0            0        0        0        0        0        0        0        1   \n",
       "1            0        0        0        0        0        0        0        1   \n",
       "2            1        0        0        0        0        0        0        0   \n",
       "3            0        0        0        0        0        0        0        1   \n",
       "4            1        0        0        0        0        0        0        0   \n",
       "...        ...      ...      ...      ...      ...      ...      ...      ...   \n",
       "99995        0        0        0        0        0        0        0        1   \n",
       "99996        0        0        0        0        0        0        0        1   \n",
       "99997        0        0        0        0        0        0        0        1   \n",
       "99998        1        0        0        0        0        0        0        0   \n",
       "99999        0        0        0        1        0        0        0        0   \n",
       "\n",
       "       Embarked_C  Embarked_Q  Embarked_S  Embarked_X  \n",
       "0               0           0           1           0  \n",
       "1               0           0           1           0  \n",
       "2               1           0           0           0  \n",
       "3               0           0           1           0  \n",
       "4               1           0           0           0  \n",
       "...           ...         ...         ...         ...  \n",
       "99995           0           1           0           0  \n",
       "99996           0           0           1           0  \n",
       "99997           0           0           1           0  \n",
       "99998           1           0           0           0  \n",
       "99999           1           0           0           0  \n",
       "\n",
       "[100000 rows x 20 columns]"
      ],
      "text/html": "<div>\n<style scoped>\n    .dataframe tbody tr th:only-of-type {\n        vertical-align: middle;\n    }\n\n    .dataframe tbody tr th {\n        vertical-align: top;\n    }\n\n    .dataframe thead th {\n        text-align: right;\n    }\n</style>\n<table border=\"1\" class=\"dataframe\">\n  <thead>\n    <tr style=\"text-align: right;\">\n      <th></th>\n      <th>Pclass</th>\n      <th>Age</th>\n      <th>SibSp</th>\n      <th>Parch</th>\n      <th>Fare</th>\n      <th>Sex</th>\n      <th>Ticket</th>\n      <th>Cabin_A</th>\n      <th>Cabin_B</th>\n      <th>Cabin_C</th>\n      <th>Cabin_D</th>\n      <th>Cabin_E</th>\n      <th>Cabin_F</th>\n      <th>Cabin_G</th>\n      <th>Cabin_T</th>\n      <th>Cabin_X</th>\n      <th>Embarked_C</th>\n      <th>Embarked_Q</th>\n      <th>Embarked_S</th>\n      <th>Embarked_X</th>\n    </tr>\n  </thead>\n  <tbody>\n    <tr>\n      <th>0</th>\n      <td>3</td>\n      <td>0.233811</td>\n      <td>0.000</td>\n      <td>0.000000</td>\n      <td>0.634709</td>\n      <td>1</td>\n      <td>49</td>\n      <td>0</td>\n      <td>0</td>\n      <td>0</td>\n      <td>0</td>\n      <td>0</td>\n      <td>0</td>\n      <td>0</td>\n      <td>0</td>\n      <td>1</td>\n      <td>0</td>\n      <td>0</td>\n      <td>1</td>\n      <td>0</td>\n    </tr>\n    <tr>\n      <th>1</th>\n      <td>3</td>\n      <td>0.653979</td>\n      <td>0.000</td>\n      <td>0.000000</td>\n      <td>0.288706</td>\n      <td>0</td>\n      <td>49</td>\n      <td>0</td>\n      <td>0</td>\n      <td>0</td>\n      <td>0</td>\n      <td>0</td>\n      <td>0</td>\n      <td>0</td>\n      <td>0</td>\n      <td>1</td>\n      <td>0</td>\n      <td>0</td>\n      <td>1</td>\n      <td>0</td>\n    </tr>\n    <tr>\n      <th>2</th>\n      <td>1</td>\n      <td>0.233811</td>\n      <td>0.000</td>\n      <td>0.000000</td>\n      <td>0.561759</td>\n      <td>0</td>\n      <td>49</td>\n      <td>0</td>\n      <td>1</td>\n      <td>0</td>\n      <td>0</td>\n      <td>0</td>\n      <td>0</td>\n      <td>0</td>\n      <td>0</td>\n      <td>0</td>\n      <td>1</td>\n      <td>0</td>\n      <td>0</td>\n      <td>0</td>\n    </tr>\n    <tr>\n      <th>3</th>\n      <td>2</td>\n      <td>0.307958</td>\n      <td>0.000</td>\n      <td>0.000000</td>\n      <td>0.399218</td>\n      <td>1</td>\n      <td>49</td>\n      <td>0</td>\n      <td>0</td>\n      <td>0</td>\n      <td>0</td>\n      <td>0</td>\n      <td>0</td>\n      <td>0</td>\n      <td>0</td>\n      <td>1</td>\n      <td>0</td>\n      <td>0</td>\n      <td>1</td>\n      <td>0</td>\n    </tr>\n    <tr>\n      <th>4</th>\n      <td>1</td>\n      <td>0.209095</td>\n      <td>0.000</td>\n      <td>0.222222</td>\n      <td>0.506421</td>\n      <td>0</td>\n      <td>49</td>\n      <td>0</td>\n      <td>1</td>\n      <td>0</td>\n      <td>0</td>\n      <td>0</td>\n      <td>0</td>\n      <td>0</td>\n      <td>0</td>\n      <td>0</td>\n      <td>1</td>\n      <td>0</td>\n      <td>0</td>\n      <td>0</td>\n    </tr>\n    <tr>\n      <th>...</th>\n      <td>...</td>\n      <td>...</td>\n      <td>...</td>\n      <td>...</td>\n      <td>...</td>\n      <td>...</td>\n      <td>...</td>\n      <td>...</td>\n      <td>...</td>\n      <td>...</td>\n      <td>...</td>\n      <td>...</td>\n      <td>...</td>\n      <td>...</td>\n      <td>...</td>\n      <td>...</td>\n      <td>...</td>\n      <td>...</td>\n      <td>...</td>\n      <td>...</td>\n    </tr>\n    <tr>\n      <th>99995</th>\n      <td>3</td>\n      <td>0.332674</td>\n      <td>0.000</td>\n      <td>0.000000</td>\n      <td>0.364427</td>\n      <td>0</td>\n      <td>49</td>\n      <td>0</td>\n      <td>0</td>\n      <td>0</td>\n      <td>0</td>\n      <td>0</td>\n      <td>0</td>\n      <td>0</td>\n      <td>0</td>\n      <td>1</td>\n      <td>0</td>\n      <td>1</td>\n      <td>0</td>\n      <td>0</td>\n    </tr>\n    <tr>\n      <th>99996</th>\n      <td>1</td>\n      <td>0.728127</td>\n      <td>0.125</td>\n      <td>0.000000</td>\n      <td>0.646993</td>\n      <td>1</td>\n      <td>49</td>\n      <td>0</td>\n      <td>0</td>\n      <td>0</td>\n      <td>0</td>\n      <td>0</td>\n      <td>0</td>\n      <td>0</td>\n      <td>0</td>\n      <td>1</td>\n      <td>0</td>\n      <td>0</td>\n      <td>1</td>\n      <td>0</td>\n    </tr>\n    <tr>\n      <th>99997</th>\n      <td>3</td>\n      <td>0.579832</td>\n      <td>0.000</td>\n      <td>0.000000</td>\n      <td>0.374506</td>\n      <td>1</td>\n      <td>49</td>\n      <td>0</td>\n      <td>0</td>\n      <td>0</td>\n      <td>0</td>\n      <td>0</td>\n      <td>0</td>\n      <td>0</td>\n      <td>0</td>\n      <td>1</td>\n      <td>0</td>\n      <td>0</td>\n      <td>1</td>\n      <td>0</td>\n    </tr>\n    <tr>\n      <th>99998</th>\n      <td>1</td>\n      <td>0.604548</td>\n      <td>0.125</td>\n      <td>0.222222</td>\n      <td>0.521143</td>\n      <td>0</td>\n      <td>21</td>\n      <td>0</td>\n      <td>1</td>\n      <td>0</td>\n      <td>0</td>\n      <td>0</td>\n      <td>0</td>\n      <td>0</td>\n      <td>0</td>\n      <td>0</td>\n      <td>1</td>\n      <td>0</td>\n      <td>0</td>\n      <td>0</td>\n    </tr>\n    <tr>\n      <th>99999</th>\n      <td>1</td>\n      <td>0.505685</td>\n      <td>0.000</td>\n      <td>0.222222</td>\n      <td>0.807841</td>\n      <td>0</td>\n      <td>21</td>\n      <td>0</td>\n      <td>0</td>\n      <td>0</td>\n      <td>0</td>\n      <td>1</td>\n      <td>0</td>\n      <td>0</td>\n      <td>0</td>\n      <td>0</td>\n      <td>1</td>\n      <td>0</td>\n      <td>0</td>\n      <td>0</td>\n    </tr>\n  </tbody>\n</table>\n<p>100000 rows × 20 columns</p>\n</div>"
     },
     "metadata": {},
     "execution_count": 73
    }
   ],
   "source": [
    "test_df"
   ]
  },
  {
   "source": [
    "# 1. DATA"
   ],
   "cell_type": "markdown",
   "metadata": {}
  },
  {
   "cell_type": "code",
   "execution_count": 74,
   "metadata": {},
   "outputs": [],
   "source": [
    "N_ESTIMATORS = 1000\n",
    "N_SPLITS = 10\n",
    "SEED = 2021\n",
    "EARLY_STOPPING_ROUNDS = 20\n",
    "VERBOSE = 1\n",
    "\n",
    "skf = StratifiedKFold(n_splits=N_SPLITS, shuffle=True, random_state=SEED)"
   ]
  },
  {
   "cell_type": "code",
   "execution_count": 75,
   "metadata": {},
   "outputs": [
    {
     "output_type": "stream",
     "name": "stdout",
     "text": [
      "(100000, 20) (100000,)\n"
     ]
    }
   ],
   "source": [
    "# 훈련 데이터 셋\n",
    "x = train_df.drop(['y_target'], axis=1)\n",
    "y = train_df['y_target']\n",
    "x = x.to_numpy()\n",
    "y = y.to_numpy()\n",
    "print(x.shape, y.shape)"
   ]
  },
  {
   "cell_type": "code",
   "execution_count": 76,
   "metadata": {},
   "outputs": [
    {
     "output_type": "stream",
     "name": "stdout",
     "text": [
      "(100000, 20)\n"
     ]
    }
   ],
   "source": [
    "# 예측 데이터 셋\n",
    "x_pred = test_df\n",
    "x_pred = x_pred.to_numpy()\n",
    "print(x_pred.shape)"
   ]
  },
  {
   "cell_type": "code",
   "execution_count": 77,
   "metadata": {},
   "outputs": [
    {
     "output_type": "stream",
     "name": "stdout",
     "text": [
      "(90000, 20) (10000, 20)\n(90000,) (10000,)\n"
     ]
    }
   ],
   "source": [
    "x_train, x_val, y_train, y_val = train_test_split(x, y, train_size=0.9, shuffle=True, random_state=42)\n",
    "print(x_train.shape, x_val.shape)   # (80000, 20) (20000, 20)\n",
    "print(y_train.shape, y_val.shape)   # (80000,) (20000,)"
   ]
  },
  {
   "source": [
    "# 2. Model"
   ],
   "cell_type": "markdown",
   "metadata": {}
  },
  {
   "cell_type": "code",
   "execution_count": 78,
   "metadata": {
    "tags": [
     "outputPrepend"
    ]
   },
   "outputs": [
    {
     "output_type": "stream",
     "name": "stdout",
     "text": [
      "708\ttest: 0.4682081\tbest: 0.4682081 (623)\ttotal: 8.35s\tremaining: 5.03s\n",
      "624:\tlearn: 0.4604541\ttest: 0.4681958\tbest: 0.4681958 (624)\ttotal: 8.36s\tremaining: 5.02s\n",
      "625:\tlearn: 0.4604387\ttest: 0.4682017\tbest: 0.4681958 (624)\ttotal: 8.38s\tremaining: 5s\n",
      "626:\tlearn: 0.4604208\ttest: 0.4682049\tbest: 0.4681958 (624)\ttotal: 8.39s\tremaining: 4.99s\n",
      "627:\tlearn: 0.4604016\ttest: 0.4681975\tbest: 0.4681958 (624)\ttotal: 8.4s\tremaining: 4.98s\n",
      "628:\tlearn: 0.4603894\ttest: 0.4682040\tbest: 0.4681958 (624)\ttotal: 8.42s\tremaining: 4.96s\n",
      "629:\tlearn: 0.4603762\ttest: 0.4682068\tbest: 0.4681958 (624)\ttotal: 8.43s\tremaining: 4.95s\n",
      "630:\tlearn: 0.4603618\ttest: 0.4682114\tbest: 0.4681958 (624)\ttotal: 8.44s\tremaining: 4.94s\n",
      "631:\tlearn: 0.4603484\ttest: 0.4682069\tbest: 0.4681958 (624)\ttotal: 8.46s\tremaining: 4.92s\n",
      "632:\tlearn: 0.4603300\ttest: 0.4682039\tbest: 0.4681958 (624)\ttotal: 8.47s\tremaining: 4.91s\n",
      "633:\tlearn: 0.4603099\ttest: 0.4681898\tbest: 0.4681898 (633)\ttotal: 8.48s\tremaining: 4.9s\n",
      "634:\tlearn: 0.4602926\ttest: 0.4682017\tbest: 0.4681898 (633)\ttotal: 8.5s\tremaining: 4.88s\n",
      "635:\tlearn: 0.4602732\ttest: 0.4682153\tbest: 0.4681898 (633)\ttotal: 8.51s\tremaining: 4.87s\n",
      "636:\tlearn: 0.4602530\ttest: 0.4682146\tbest: 0.4681898 (633)\ttotal: 8.52s\tremaining: 4.86s\n",
      "637:\tlearn: 0.4602369\ttest: 0.4682211\tbest: 0.4681898 (633)\ttotal: 8.54s\tremaining: 4.84s\n",
      "638:\tlearn: 0.4602146\ttest: 0.4682089\tbest: 0.4681898 (633)\ttotal: 8.55s\tremaining: 4.83s\n",
      "639:\tlearn: 0.4601933\ttest: 0.4682119\tbest: 0.4681898 (633)\ttotal: 8.56s\tremaining: 4.82s\n",
      "640:\tlearn: 0.4601724\ttest: 0.4682052\tbest: 0.4681898 (633)\ttotal: 8.58s\tremaining: 4.8s\n",
      "641:\tlearn: 0.4601562\ttest: 0.4682042\tbest: 0.4681898 (633)\ttotal: 8.59s\tremaining: 4.79s\n",
      "642:\tlearn: 0.4601364\ttest: 0.4682007\tbest: 0.4681898 (633)\ttotal: 8.61s\tremaining: 4.78s\n",
      "643:\tlearn: 0.4601243\ttest: 0.4682072\tbest: 0.4681898 (633)\ttotal: 8.62s\tremaining: 4.76s\n",
      "644:\tlearn: 0.4601089\ttest: 0.4682092\tbest: 0.4681898 (633)\ttotal: 8.63s\tremaining: 4.75s\n",
      "645:\tlearn: 0.4600938\ttest: 0.4682122\tbest: 0.4681898 (633)\ttotal: 8.64s\tremaining: 4.74s\n",
      "646:\tlearn: 0.4600720\ttest: 0.4682063\tbest: 0.4681898 (633)\ttotal: 8.66s\tremaining: 4.72s\n",
      "647:\tlearn: 0.4600553\ttest: 0.4681975\tbest: 0.4681898 (633)\ttotal: 8.67s\tremaining: 4.71s\n",
      "648:\tlearn: 0.4600390\ttest: 0.4681969\tbest: 0.4681898 (633)\ttotal: 8.69s\tremaining: 4.7s\n",
      "649:\tlearn: 0.4600216\ttest: 0.4682085\tbest: 0.4681898 (633)\ttotal: 8.7s\tremaining: 4.68s\n",
      "650:\tlearn: 0.4600091\ttest: 0.4682022\tbest: 0.4681898 (633)\ttotal: 8.71s\tremaining: 4.67s\n",
      "651:\tlearn: 0.4599904\ttest: 0.4681856\tbest: 0.4681856 (651)\ttotal: 8.72s\tremaining: 4.66s\n",
      "652:\tlearn: 0.4599772\ttest: 0.4681754\tbest: 0.4681754 (652)\ttotal: 8.74s\tremaining: 4.64s\n",
      "653:\tlearn: 0.4599581\ttest: 0.4681571\tbest: 0.4681571 (653)\ttotal: 8.75s\tremaining: 4.63s\n",
      "654:\tlearn: 0.4599365\ttest: 0.4681479\tbest: 0.4681479 (654)\ttotal: 8.76s\tremaining: 4.62s\n",
      "655:\tlearn: 0.4599192\ttest: 0.4681506\tbest: 0.4681479 (654)\ttotal: 8.78s\tremaining: 4.6s\n",
      "656:\tlearn: 0.4598991\ttest: 0.4681477\tbest: 0.4681477 (656)\ttotal: 8.79s\tremaining: 4.59s\n",
      "657:\tlearn: 0.4598743\ttest: 0.4681304\tbest: 0.4681304 (657)\ttotal: 8.81s\tremaining: 4.58s\n",
      "658:\tlearn: 0.4598598\ttest: 0.4681267\tbest: 0.4681267 (658)\ttotal: 8.82s\tremaining: 4.56s\n",
      "659:\tlearn: 0.4598346\ttest: 0.4681393\tbest: 0.4681267 (658)\ttotal: 8.83s\tremaining: 4.55s\n",
      "660:\tlearn: 0.4598159\ttest: 0.4681272\tbest: 0.4681267 (658)\ttotal: 8.85s\tremaining: 4.54s\n",
      "661:\tlearn: 0.4597896\ttest: 0.4681203\tbest: 0.4681203 (661)\ttotal: 8.86s\tremaining: 4.52s\n",
      "662:\tlearn: 0.4597598\ttest: 0.4681087\tbest: 0.4681087 (662)\ttotal: 8.87s\tremaining: 4.51s\n",
      "663:\tlearn: 0.4597408\ttest: 0.4680981\tbest: 0.4680981 (663)\ttotal: 8.89s\tremaining: 4.5s\n",
      "664:\tlearn: 0.4597233\ttest: 0.4680994\tbest: 0.4680981 (663)\ttotal: 8.9s\tremaining: 4.48s\n",
      "665:\tlearn: 0.4597026\ttest: 0.4680989\tbest: 0.4680981 (663)\ttotal: 8.91s\tremaining: 4.47s\n",
      "666:\tlearn: 0.4596836\ttest: 0.4680882\tbest: 0.4680882 (666)\ttotal: 8.93s\tremaining: 4.46s\n",
      "667:\tlearn: 0.4596678\ttest: 0.4680758\tbest: 0.4680758 (667)\ttotal: 8.94s\tremaining: 4.44s\n",
      "668:\tlearn: 0.4596565\ttest: 0.4680657\tbest: 0.4680657 (668)\ttotal: 8.96s\tremaining: 4.43s\n",
      "669:\tlearn: 0.4596405\ttest: 0.4680589\tbest: 0.4680589 (669)\ttotal: 8.97s\tremaining: 4.42s\n",
      "670:\tlearn: 0.4596277\ttest: 0.4680641\tbest: 0.4680589 (669)\ttotal: 8.98s\tremaining: 4.4s\n",
      "671:\tlearn: 0.4596003\ttest: 0.4680654\tbest: 0.4680589 (669)\ttotal: 9s\tremaining: 4.39s\n",
      "672:\tlearn: 0.4595796\ttest: 0.4680616\tbest: 0.4680589 (669)\ttotal: 9.01s\tremaining: 4.38s\n",
      "673:\tlearn: 0.4595632\ttest: 0.4680631\tbest: 0.4680589 (669)\ttotal: 9.02s\tremaining: 4.36s\n",
      "674:\tlearn: 0.4595546\ttest: 0.4680524\tbest: 0.4680524 (674)\ttotal: 9.04s\tremaining: 4.35s\n",
      "675:\tlearn: 0.4595405\ttest: 0.4680517\tbest: 0.4680517 (675)\ttotal: 9.05s\tremaining: 4.34s\n",
      "676:\tlearn: 0.4595010\ttest: 0.4680407\tbest: 0.4680407 (676)\ttotal: 9.06s\tremaining: 4.32s\n",
      "677:\tlearn: 0.4594804\ttest: 0.4680440\tbest: 0.4680407 (676)\ttotal: 9.08s\tremaining: 4.31s\n",
      "678:\tlearn: 0.4594632\ttest: 0.4680387\tbest: 0.4680387 (678)\ttotal: 9.09s\tremaining: 4.3s\n",
      "679:\tlearn: 0.4594488\ttest: 0.4680361\tbest: 0.4680361 (679)\ttotal: 9.1s\tremaining: 4.28s\n",
      "680:\tlearn: 0.4594197\ttest: 0.4680218\tbest: 0.4680218 (680)\ttotal: 9.12s\tremaining: 4.27s\n",
      "681:\tlearn: 0.4594055\ttest: 0.4680229\tbest: 0.4680218 (680)\ttotal: 9.13s\tremaining: 4.26s\n",
      "682:\tlearn: 0.4593691\ttest: 0.4680338\tbest: 0.4680218 (680)\ttotal: 9.15s\tremaining: 4.25s\n",
      "683:\tlearn: 0.4593500\ttest: 0.4680228\tbest: 0.4680218 (680)\ttotal: 9.16s\tremaining: 4.23s\n",
      "684:\tlearn: 0.4593278\ttest: 0.4680165\tbest: 0.4680165 (684)\ttotal: 9.17s\tremaining: 4.22s\n",
      "685:\tlearn: 0.4593010\ttest: 0.4680161\tbest: 0.4680161 (685)\ttotal: 9.19s\tremaining: 4.21s\n",
      "686:\tlearn: 0.4592911\ttest: 0.4680174\tbest: 0.4680161 (685)\ttotal: 9.2s\tremaining: 4.19s\n",
      "687:\tlearn: 0.4592675\ttest: 0.4680205\tbest: 0.4680161 (685)\ttotal: 9.21s\tremaining: 4.18s\n",
      "688:\tlearn: 0.4592526\ttest: 0.4680154\tbest: 0.4680154 (688)\ttotal: 9.23s\tremaining: 4.17s\n",
      "689:\tlearn: 0.4592290\ttest: 0.4680188\tbest: 0.4680154 (688)\ttotal: 9.24s\tremaining: 4.15s\n",
      "690:\tlearn: 0.4592042\ttest: 0.4680159\tbest: 0.4680154 (688)\ttotal: 9.26s\tremaining: 4.14s\n",
      "691:\tlearn: 0.4591931\ttest: 0.4680079\tbest: 0.4680079 (691)\ttotal: 9.27s\tremaining: 4.13s\n",
      "692:\tlearn: 0.4591759\ttest: 0.4680005\tbest: 0.4680005 (692)\ttotal: 9.28s\tremaining: 4.11s\n",
      "693:\tlearn: 0.4591569\ttest: 0.4679953\tbest: 0.4679953 (693)\ttotal: 9.29s\tremaining: 4.1s\n",
      "694:\tlearn: 0.4591387\ttest: 0.4679966\tbest: 0.4679953 (693)\ttotal: 9.31s\tremaining: 4.08s\n",
      "695:\tlearn: 0.4591198\ttest: 0.4679894\tbest: 0.4679894 (695)\ttotal: 9.32s\tremaining: 4.07s\n",
      "696:\tlearn: 0.4590974\ttest: 0.4679807\tbest: 0.4679807 (696)\ttotal: 9.34s\tremaining: 4.06s\n",
      "697:\tlearn: 0.4590777\ttest: 0.4679855\tbest: 0.4679807 (696)\ttotal: 9.35s\tremaining: 4.04s\n",
      "698:\tlearn: 0.4590629\ttest: 0.4679838\tbest: 0.4679807 (696)\ttotal: 9.36s\tremaining: 4.03s\n",
      "699:\tlearn: 0.4590491\ttest: 0.4679834\tbest: 0.4679807 (696)\ttotal: 9.38s\tremaining: 4.02s\n",
      "700:\tlearn: 0.4590388\ttest: 0.4679862\tbest: 0.4679807 (696)\ttotal: 9.39s\tremaining: 4s\n",
      "701:\tlearn: 0.4590201\ttest: 0.4679936\tbest: 0.4679807 (696)\ttotal: 9.4s\tremaining: 3.99s\n",
      "702:\tlearn: 0.4590066\ttest: 0.4679886\tbest: 0.4679807 (696)\ttotal: 9.41s\tremaining: 3.98s\n",
      "703:\tlearn: 0.4589823\ttest: 0.4679858\tbest: 0.4679807 (696)\ttotal: 9.43s\tremaining: 3.96s\n",
      "704:\tlearn: 0.4589689\ttest: 0.4679893\tbest: 0.4679807 (696)\ttotal: 9.44s\tremaining: 3.95s\n",
      "705:\tlearn: 0.4589465\ttest: 0.4679715\tbest: 0.4679715 (705)\ttotal: 9.46s\tremaining: 3.94s\n",
      "706:\tlearn: 0.4589207\ttest: 0.4679456\tbest: 0.4679456 (706)\ttotal: 9.47s\tremaining: 3.92s\n",
      "707:\tlearn: 0.4588994\ttest: 0.4679509\tbest: 0.4679456 (706)\ttotal: 9.48s\tremaining: 3.91s\n",
      "708:\tlearn: 0.4588901\ttest: 0.4679473\tbest: 0.4679456 (706)\ttotal: 9.5s\tremaining: 3.9s\n",
      "709:\tlearn: 0.4588820\ttest: 0.4679489\tbest: 0.4679456 (706)\ttotal: 9.51s\tremaining: 3.88s\n",
      "710:\tlearn: 0.4588711\ttest: 0.4679475\tbest: 0.4679456 (706)\ttotal: 9.52s\tremaining: 3.87s\n",
      "711:\tlearn: 0.4588546\ttest: 0.4679398\tbest: 0.4679398 (711)\ttotal: 9.54s\tremaining: 3.86s\n",
      "712:\tlearn: 0.4588412\ttest: 0.4679381\tbest: 0.4679381 (712)\ttotal: 9.55s\tremaining: 3.84s\n",
      "713:\tlearn: 0.4588193\ttest: 0.4679440\tbest: 0.4679381 (712)\ttotal: 9.56s\tremaining: 3.83s\n",
      "714:\tlearn: 0.4588033\ttest: 0.4679396\tbest: 0.4679381 (712)\ttotal: 9.58s\tremaining: 3.82s\n",
      "715:\tlearn: 0.4587752\ttest: 0.4679261\tbest: 0.4679261 (715)\ttotal: 9.59s\tremaining: 3.8s\n",
      "716:\tlearn: 0.4587653\ttest: 0.4679287\tbest: 0.4679261 (715)\ttotal: 9.6s\tremaining: 3.79s\n",
      "717:\tlearn: 0.4587503\ttest: 0.4679210\tbest: 0.4679210 (717)\ttotal: 9.62s\tremaining: 3.78s\n",
      "718:\tlearn: 0.4587386\ttest: 0.4679187\tbest: 0.4679187 (718)\ttotal: 9.63s\tremaining: 3.76s\n",
      "719:\tlearn: 0.4587125\ttest: 0.4679252\tbest: 0.4679187 (718)\ttotal: 9.64s\tremaining: 3.75s\n",
      "720:\tlearn: 0.4586997\ttest: 0.4679268\tbest: 0.4679187 (718)\ttotal: 9.66s\tremaining: 3.74s\n",
      "721:\tlearn: 0.4586869\ttest: 0.4679181\tbest: 0.4679181 (721)\ttotal: 9.67s\tremaining: 3.72s\n",
      "722:\tlearn: 0.4586691\ttest: 0.4679202\tbest: 0.4679181 (721)\ttotal: 9.68s\tremaining: 3.71s\n",
      "723:\tlearn: 0.4586539\ttest: 0.4679176\tbest: 0.4679176 (723)\ttotal: 9.7s\tremaining: 3.7s\n",
      "724:\tlearn: 0.4586436\ttest: 0.4679180\tbest: 0.4679176 (723)\ttotal: 9.71s\tremaining: 3.68s\n",
      "725:\tlearn: 0.4586308\ttest: 0.4679159\tbest: 0.4679159 (725)\ttotal: 9.72s\tremaining: 3.67s\n",
      "726:\tlearn: 0.4586154\ttest: 0.4679161\tbest: 0.4679159 (725)\ttotal: 9.74s\tremaining: 3.66s\n",
      "727:\tlearn: 0.4585923\ttest: 0.4679202\tbest: 0.4679159 (725)\ttotal: 9.75s\tremaining: 3.64s\n",
      "728:\tlearn: 0.4585688\ttest: 0.4679207\tbest: 0.4679159 (725)\ttotal: 9.76s\tremaining: 3.63s\n",
      "729:\tlearn: 0.4585510\ttest: 0.4679121\tbest: 0.4679121 (729)\ttotal: 9.78s\tremaining: 3.62s\n",
      "730:\tlearn: 0.4585372\ttest: 0.4678984\tbest: 0.4678984 (730)\ttotal: 9.79s\tremaining: 3.6s\n",
      "731:\tlearn: 0.4585172\ttest: 0.4679005\tbest: 0.4678984 (730)\ttotal: 9.8s\tremaining: 3.59s\n",
      "732:\tlearn: 0.4585038\ttest: 0.4678938\tbest: 0.4678938 (732)\ttotal: 9.82s\tremaining: 3.58s\n",
      "733:\tlearn: 0.4584902\ttest: 0.4678928\tbest: 0.4678928 (733)\ttotal: 9.83s\tremaining: 3.56s\n",
      "734:\tlearn: 0.4584793\ttest: 0.4678907\tbest: 0.4678907 (734)\ttotal: 9.85s\tremaining: 3.55s\n",
      "735:\tlearn: 0.4584739\ttest: 0.4678901\tbest: 0.4678901 (735)\ttotal: 9.86s\tremaining: 3.54s\n",
      "736:\tlearn: 0.4584418\ttest: 0.4678795\tbest: 0.4678795 (736)\ttotal: 9.87s\tremaining: 3.52s\n",
      "737:\tlearn: 0.4584333\ttest: 0.4678757\tbest: 0.4678757 (737)\ttotal: 9.89s\tremaining: 3.51s\n",
      "738:\tlearn: 0.4584122\ttest: 0.4678623\tbest: 0.4678623 (738)\ttotal: 9.9s\tremaining: 3.5s\n",
      "739:\tlearn: 0.4583938\ttest: 0.4678737\tbest: 0.4678623 (738)\ttotal: 9.91s\tremaining: 3.48s\n",
      "740:\tlearn: 0.4583741\ttest: 0.4678539\tbest: 0.4678539 (740)\ttotal: 9.93s\tremaining: 3.47s\n",
      "741:\tlearn: 0.4583457\ttest: 0.4678541\tbest: 0.4678539 (740)\ttotal: 9.94s\tremaining: 3.46s\n",
      "742:\tlearn: 0.4583218\ttest: 0.4678660\tbest: 0.4678539 (740)\ttotal: 9.95s\tremaining: 3.44s\n",
      "743:\tlearn: 0.4583097\ttest: 0.4678612\tbest: 0.4678539 (740)\ttotal: 9.97s\tremaining: 3.43s\n",
      "744:\tlearn: 0.4582958\ttest: 0.4678573\tbest: 0.4678539 (740)\ttotal: 9.98s\tremaining: 3.42s\n",
      "745:\tlearn: 0.4582784\ttest: 0.4678563\tbest: 0.4678539 (740)\ttotal: 9.99s\tremaining: 3.4s\n",
      "746:\tlearn: 0.4582648\ttest: 0.4678615\tbest: 0.4678539 (740)\ttotal: 10s\tremaining: 3.39s\n",
      "747:\tlearn: 0.4582479\ttest: 0.4678597\tbest: 0.4678539 (740)\ttotal: 10s\tremaining: 3.38s\n",
      "748:\tlearn: 0.4582349\ttest: 0.4678575\tbest: 0.4678539 (740)\ttotal: 10s\tremaining: 3.36s\n",
      "749:\tlearn: 0.4582152\ttest: 0.4678795\tbest: 0.4678539 (740)\ttotal: 10s\tremaining: 3.35s\n",
      "750:\tlearn: 0.4582052\ttest: 0.4678813\tbest: 0.4678539 (740)\ttotal: 10.1s\tremaining: 3.33s\n",
      "751:\tlearn: 0.4581805\ttest: 0.4678772\tbest: 0.4678539 (740)\ttotal: 10.1s\tremaining: 3.32s\n",
      "752:\tlearn: 0.4581597\ttest: 0.4678690\tbest: 0.4678539 (740)\ttotal: 10.1s\tremaining: 3.31s\n",
      "753:\tlearn: 0.4581440\ttest: 0.4678684\tbest: 0.4678539 (740)\ttotal: 10.1s\tremaining: 3.29s\n",
      "754:\tlearn: 0.4581322\ttest: 0.4678592\tbest: 0.4678539 (740)\ttotal: 10.1s\tremaining: 3.28s\n",
      "755:\tlearn: 0.4581197\ttest: 0.4678501\tbest: 0.4678501 (755)\ttotal: 10.1s\tremaining: 3.27s\n",
      "756:\tlearn: 0.4581037\ttest: 0.4678496\tbest: 0.4678496 (756)\ttotal: 10.1s\tremaining: 3.25s\n",
      "757:\tlearn: 0.4580895\ttest: 0.4678500\tbest: 0.4678496 (756)\ttotal: 10.2s\tremaining: 3.24s\n",
      "758:\tlearn: 0.4580649\ttest: 0.4678455\tbest: 0.4678455 (758)\ttotal: 10.2s\tremaining: 3.23s\n",
      "759:\tlearn: 0.4580420\ttest: 0.4678453\tbest: 0.4678453 (759)\ttotal: 10.2s\tremaining: 3.21s\n",
      "760:\tlearn: 0.4580303\ttest: 0.4678405\tbest: 0.4678405 (760)\ttotal: 10.2s\tremaining: 3.2s\n",
      "761:\tlearn: 0.4580115\ttest: 0.4678347\tbest: 0.4678347 (761)\ttotal: 10.2s\tremaining: 3.19s\n",
      "762:\tlearn: 0.4579923\ttest: 0.4678379\tbest: 0.4678347 (761)\ttotal: 10.2s\tremaining: 3.17s\n",
      "763:\tlearn: 0.4579810\ttest: 0.4678359\tbest: 0.4678347 (761)\ttotal: 10.2s\tremaining: 3.16s\n",
      "764:\tlearn: 0.4579589\ttest: 0.4678386\tbest: 0.4678347 (761)\ttotal: 10.2s\tremaining: 3.15s\n",
      "765:\tlearn: 0.4579402\ttest: 0.4678342\tbest: 0.4678342 (765)\ttotal: 10.3s\tremaining: 3.13s\n",
      "766:\tlearn: 0.4579197\ttest: 0.4678368\tbest: 0.4678342 (765)\ttotal: 10.3s\tremaining: 3.12s\n",
      "767:\tlearn: 0.4578993\ttest: 0.4678367\tbest: 0.4678342 (765)\ttotal: 10.3s\tremaining: 3.11s\n",
      "768:\tlearn: 0.4578837\ttest: 0.4678414\tbest: 0.4678342 (765)\ttotal: 10.3s\tremaining: 3.09s\n",
      "769:\tlearn: 0.4578634\ttest: 0.4678469\tbest: 0.4678342 (765)\ttotal: 10.3s\tremaining: 3.08s\n",
      "770:\tlearn: 0.4578549\ttest: 0.4678459\tbest: 0.4678342 (765)\ttotal: 10.3s\tremaining: 3.07s\n",
      "771:\tlearn: 0.4578405\ttest: 0.4678429\tbest: 0.4678342 (765)\ttotal: 10.3s\tremaining: 3.05s\n",
      "772:\tlearn: 0.4578343\ttest: 0.4678440\tbest: 0.4678342 (765)\ttotal: 10.4s\tremaining: 3.04s\n",
      "773:\tlearn: 0.4578193\ttest: 0.4678359\tbest: 0.4678342 (765)\ttotal: 10.4s\tremaining: 3.03s\n",
      "774:\tlearn: 0.4577892\ttest: 0.4678396\tbest: 0.4678342 (765)\ttotal: 10.4s\tremaining: 3.01s\n",
      "775:\tlearn: 0.4577717\ttest: 0.4678353\tbest: 0.4678342 (765)\ttotal: 10.4s\tremaining: 3s\n",
      "776:\tlearn: 0.4577523\ttest: 0.4678320\tbest: 0.4678320 (776)\ttotal: 10.4s\tremaining: 2.99s\n",
      "777:\tlearn: 0.4577328\ttest: 0.4678369\tbest: 0.4678320 (776)\ttotal: 10.4s\tremaining: 2.97s\n",
      "778:\tlearn: 0.4577063\ttest: 0.4678167\tbest: 0.4678167 (778)\ttotal: 10.4s\tremaining: 2.96s\n",
      "779:\tlearn: 0.4576954\ttest: 0.4678079\tbest: 0.4678079 (779)\ttotal: 10.4s\tremaining: 2.95s\n",
      "780:\tlearn: 0.4576826\ttest: 0.4678105\tbest: 0.4678079 (779)\ttotal: 10.5s\tremaining: 2.93s\n",
      "781:\tlearn: 0.4576610\ttest: 0.4678058\tbest: 0.4678058 (781)\ttotal: 10.5s\tremaining: 2.92s\n",
      "782:\tlearn: 0.4576525\ttest: 0.4678080\tbest: 0.4678058 (781)\ttotal: 10.5s\tremaining: 2.91s\n",
      "783:\tlearn: 0.4576398\ttest: 0.4678067\tbest: 0.4678058 (781)\ttotal: 10.5s\tremaining: 2.89s\n",
      "784:\tlearn: 0.4576306\ttest: 0.4678055\tbest: 0.4678055 (784)\ttotal: 10.5s\tremaining: 2.88s\n",
      "785:\tlearn: 0.4576201\ttest: 0.4678061\tbest: 0.4678055 (784)\ttotal: 10.5s\tremaining: 2.87s\n",
      "786:\tlearn: 0.4576075\ttest: 0.4678003\tbest: 0.4678003 (786)\ttotal: 10.5s\tremaining: 2.85s\n",
      "787:\tlearn: 0.4575975\ttest: 0.4677998\tbest: 0.4677998 (787)\ttotal: 10.6s\tremaining: 2.84s\n",
      "788:\tlearn: 0.4575797\ttest: 0.4677979\tbest: 0.4677979 (788)\ttotal: 10.6s\tremaining: 2.83s\n",
      "789:\tlearn: 0.4575714\ttest: 0.4678004\tbest: 0.4677979 (788)\ttotal: 10.6s\tremaining: 2.81s\n",
      "790:\tlearn: 0.4575531\ttest: 0.4677954\tbest: 0.4677954 (790)\ttotal: 10.6s\tremaining: 2.8s\n",
      "791:\tlearn: 0.4575441\ttest: 0.4677903\tbest: 0.4677903 (791)\ttotal: 10.6s\tremaining: 2.79s\n",
      "792:\tlearn: 0.4575280\ttest: 0.4677891\tbest: 0.4677891 (792)\ttotal: 10.6s\tremaining: 2.77s\n",
      "793:\tlearn: 0.4575142\ttest: 0.4677888\tbest: 0.4677888 (793)\ttotal: 10.6s\tremaining: 2.76s\n",
      "794:\tlearn: 0.4575010\ttest: 0.4677853\tbest: 0.4677853 (794)\ttotal: 10.7s\tremaining: 2.75s\n",
      "795:\tlearn: 0.4574782\ttest: 0.4677675\tbest: 0.4677675 (795)\ttotal: 10.7s\tremaining: 2.73s\n",
      "796:\tlearn: 0.4574585\ttest: 0.4677556\tbest: 0.4677556 (796)\ttotal: 10.7s\tremaining: 2.72s\n",
      "797:\tlearn: 0.4574447\ttest: 0.4677546\tbest: 0.4677546 (797)\ttotal: 10.7s\tremaining: 2.71s\n",
      "798:\tlearn: 0.4574296\ttest: 0.4677595\tbest: 0.4677546 (797)\ttotal: 10.7s\tremaining: 2.69s\n",
      "799:\tlearn: 0.4574190\ttest: 0.4677597\tbest: 0.4677546 (797)\ttotal: 10.7s\tremaining: 2.68s\n",
      "800:\tlearn: 0.4574024\ttest: 0.4677479\tbest: 0.4677479 (800)\ttotal: 10.7s\tremaining: 2.67s\n",
      "801:\tlearn: 0.4573798\ttest: 0.4677350\tbest: 0.4677350 (801)\ttotal: 10.7s\tremaining: 2.65s\n",
      "802:\tlearn: 0.4573692\ttest: 0.4677421\tbest: 0.4677350 (801)\ttotal: 10.8s\tremaining: 2.64s\n",
      "803:\tlearn: 0.4573552\ttest: 0.4677429\tbest: 0.4677350 (801)\ttotal: 10.8s\tremaining: 2.63s\n",
      "804:\tlearn: 0.4573404\ttest: 0.4677390\tbest: 0.4677350 (801)\ttotal: 10.8s\tremaining: 2.61s\n",
      "805:\tlearn: 0.4573151\ttest: 0.4677292\tbest: 0.4677292 (805)\ttotal: 10.8s\tremaining: 2.6s\n",
      "806:\tlearn: 0.4573033\ttest: 0.4677310\tbest: 0.4677292 (805)\ttotal: 10.8s\tremaining: 2.59s\n",
      "807:\tlearn: 0.4572724\ttest: 0.4677281\tbest: 0.4677281 (807)\ttotal: 10.8s\tremaining: 2.57s\n",
      "808:\tlearn: 0.4572530\ttest: 0.4677250\tbest: 0.4677250 (808)\ttotal: 10.8s\tremaining: 2.56s\n",
      "809:\tlearn: 0.4572414\ttest: 0.4677167\tbest: 0.4677167 (809)\ttotal: 10.9s\tremaining: 2.55s\n",
      "810:\tlearn: 0.4572234\ttest: 0.4677075\tbest: 0.4677075 (810)\ttotal: 10.9s\tremaining: 2.53s\n",
      "811:\tlearn: 0.4572056\ttest: 0.4676931\tbest: 0.4676931 (811)\ttotal: 10.9s\tremaining: 2.52s\n",
      "812:\tlearn: 0.4571838\ttest: 0.4676777\tbest: 0.4676777 (812)\ttotal: 10.9s\tremaining: 2.51s\n",
      "813:\tlearn: 0.4571674\ttest: 0.4676709\tbest: 0.4676709 (813)\ttotal: 10.9s\tremaining: 2.49s\n",
      "814:\tlearn: 0.4571526\ttest: 0.4676652\tbest: 0.4676652 (814)\ttotal: 10.9s\tremaining: 2.48s\n",
      "815:\tlearn: 0.4571372\ttest: 0.4676626\tbest: 0.4676626 (815)\ttotal: 10.9s\tremaining: 2.47s\n",
      "816:\tlearn: 0.4571142\ttest: 0.4676575\tbest: 0.4676575 (816)\ttotal: 11s\tremaining: 2.45s\n",
      "817:\tlearn: 0.4570993\ttest: 0.4676537\tbest: 0.4676537 (817)\ttotal: 11s\tremaining: 2.44s\n",
      "818:\tlearn: 0.4570747\ttest: 0.4676588\tbest: 0.4676537 (817)\ttotal: 11s\tremaining: 2.43s\n",
      "819:\tlearn: 0.4570603\ttest: 0.4676496\tbest: 0.4676496 (819)\ttotal: 11s\tremaining: 2.41s\n",
      "820:\tlearn: 0.4570498\ttest: 0.4676419\tbest: 0.4676419 (820)\ttotal: 11s\tremaining: 2.4s\n",
      "821:\tlearn: 0.4570271\ttest: 0.4676360\tbest: 0.4676360 (821)\ttotal: 11s\tremaining: 2.39s\n",
      "822:\tlearn: 0.4570060\ttest: 0.4676556\tbest: 0.4676360 (821)\ttotal: 11s\tremaining: 2.37s\n",
      "823:\tlearn: 0.4569878\ttest: 0.4676662\tbest: 0.4676360 (821)\ttotal: 11s\tremaining: 2.36s\n",
      "824:\tlearn: 0.4569560\ttest: 0.4676644\tbest: 0.4676360 (821)\ttotal: 11.1s\tremaining: 2.35s\n",
      "825:\tlearn: 0.4569409\ttest: 0.4676639\tbest: 0.4676360 (821)\ttotal: 11.1s\tremaining: 2.33s\n",
      "826:\tlearn: 0.4569298\ttest: 0.4676644\tbest: 0.4676360 (821)\ttotal: 11.1s\tremaining: 2.32s\n",
      "827:\tlearn: 0.4569187\ttest: 0.4676640\tbest: 0.4676360 (821)\ttotal: 11.1s\tremaining: 2.31s\n",
      "828:\tlearn: 0.4568990\ttest: 0.4676745\tbest: 0.4676360 (821)\ttotal: 11.1s\tremaining: 2.29s\n",
      "829:\tlearn: 0.4568834\ttest: 0.4676727\tbest: 0.4676360 (821)\ttotal: 11.1s\tremaining: 2.28s\n",
      "830:\tlearn: 0.4568664\ttest: 0.4676602\tbest: 0.4676360 (821)\ttotal: 11.1s\tremaining: 2.27s\n",
      "831:\tlearn: 0.4568472\ttest: 0.4676630\tbest: 0.4676360 (821)\ttotal: 11.2s\tremaining: 2.25s\n",
      "832:\tlearn: 0.4568352\ttest: 0.4676528\tbest: 0.4676360 (821)\ttotal: 11.2s\tremaining: 2.24s\n",
      "833:\tlearn: 0.4568229\ttest: 0.4676665\tbest: 0.4676360 (821)\ttotal: 11.2s\tremaining: 2.23s\n",
      "834:\tlearn: 0.4568023\ttest: 0.4676688\tbest: 0.4676360 (821)\ttotal: 11.2s\tremaining: 2.21s\n",
      "835:\tlearn: 0.4567821\ttest: 0.4676716\tbest: 0.4676360 (821)\ttotal: 11.2s\tremaining: 2.2s\n",
      "836:\tlearn: 0.4567715\ttest: 0.4676753\tbest: 0.4676360 (821)\ttotal: 11.2s\tremaining: 2.19s\n",
      "837:\tlearn: 0.4567628\ttest: 0.4676794\tbest: 0.4676360 (821)\ttotal: 11.2s\tremaining: 2.17s\n",
      "838:\tlearn: 0.4567440\ttest: 0.4676732\tbest: 0.4676360 (821)\ttotal: 11.3s\tremaining: 2.16s\n",
      "839:\tlearn: 0.4567293\ttest: 0.4676695\tbest: 0.4676360 (821)\ttotal: 11.3s\tremaining: 2.15s\n",
      "840:\tlearn: 0.4567185\ttest: 0.4676662\tbest: 0.4676360 (821)\ttotal: 11.3s\tremaining: 2.13s\n",
      "841:\tlearn: 0.4566892\ttest: 0.4676756\tbest: 0.4676360 (821)\ttotal: 11.3s\tremaining: 2.12s\n",
      "bestTest = 0.4676360352\n",
      "bestIteration = 821\n",
      "Shrink model to first 822 iterations.\n",
      "===== ACCURACY SCORE 0.787100 =====\n",
      "thresholds  [ 0.12801382  0.2374819   0.33377942  0.45574374  0.83179122  0.97057481\n",
      "  1.01256063  1.09976298  1.6903986   3.12875997  3.9107532   4.94713087\n",
      "  5.00024731  5.31907997  5.65944849  5.95697486  6.95537507  9.44652711\n",
      "  9.96639432 32.9492017 ]\n"
     ]
    }
   ],
   "source": [
    "import catboost as ctb\n",
    "\n",
    "params = {\n",
    "    'bootstrap_type': 'Poisson',\n",
    "    'loss_function': 'Logloss',\n",
    "    'eval_metric': 'Logloss',\n",
    "    'random_seed': SEED,\n",
    "    'task_type': 'GPU',\n",
    "    'max_depth': 8,\n",
    "    'learning_rate': 0.01,\n",
    "    'n_estimators': N_ESTIMATORS,\n",
    "    'max_bin': 280,\n",
    "    'min_data_in_leaf': 64,\n",
    "    'l2_leaf_reg': 0.01,\n",
    "    'subsample': 0.8\n",
    "}\n",
    "\n",
    "\n",
    "model = ctb.CatBoostClassifier(**params)\n",
    "model.fit(x_train, y_train,\n",
    "        eval_set=[(x_val, y_val)],\n",
    "        use_best_model=True,\n",
    "        early_stopping_rounds=EARLY_STOPPING_ROUNDS,\n",
    "        verbose=VERBOSE)\n",
    "\n",
    "y_val_pred = model.predict(x_val)\n",
    "acc_score = accuracy_score(y_val, y_val_pred)\n",
    "print(f\"===== ACCURACY SCORE {acc_score:.6f} =====\")    # 0.787100\n",
    "\n",
    "\n",
    "thresholds = np.sort(model.feature_importances_) \n",
    "print(\"thresholds \", thresholds)\n",
    "# thresholds  [ 0.1083786   0.18521109  0.32127596  0.43993949  0.82497197  0.92280282\n",
    "#   0.94481891  1.06688423  1.62426033  3.13577599  3.8949793   4.6347862\n",
    "#   5.08635771  5.45298035  5.47368981  5.82584516  6.87331242  9.53751041\n",
    "#   9.63734725 34.00887201]"
   ]
  },
  {
   "cell_type": "code",
   "execution_count": 83,
   "metadata": {
    "tags": []
   },
   "outputs": [
    {
     "output_type": "stream",
     "name": "stdout",
     "text": [
      "(90000, 20)\n",
      "Thresh=0.128, n=20, ACC: 78.22%\n",
      "(90000, 19)\n",
      "Thresh=0.237, n=19, ACC: 78.30%\n",
      "(90000, 18)\n",
      "Thresh=0.334, n=18, ACC: 78.28%\n",
      "(90000, 17)\n",
      "Thresh=0.456, n=17, ACC: 78.19%\n",
      "(90000, 16)\n",
      "Thresh=0.832, n=16, ACC: 78.23%\n",
      "(90000, 15)\n",
      "Thresh=0.971, n=15, ACC: 78.28%\n",
      "(90000, 14)\n",
      "Thresh=1.013, n=14, ACC: 78.22%\n",
      "(90000, 13)\n",
      "Thresh=1.100, n=13, ACC: 78.27%\n",
      "(90000, 12)\n",
      "Thresh=1.690, n=12, ACC: 78.23%\n",
      "(90000, 11)\n",
      "Thresh=3.129, n=11, ACC: 78.15%\n",
      "(90000, 10)\n",
      "Thresh=3.911, n=10, ACC: 77.93%\n",
      "(90000, 9)\n",
      "Thresh=4.947, n=9, ACC: 77.97%\n",
      "(90000, 8)\n",
      "Thresh=5.000, n=8, ACC: 78.06%\n",
      "(90000, 7)\n",
      "Thresh=5.319, n=7, ACC: 77.54%\n",
      "(90000, 6)\n",
      "Thresh=5.659, n=6, ACC: 76.54%\n",
      "(90000, 5)\n",
      "Thresh=5.957, n=5, ACC: 76.58%\n",
      "(90000, 4)\n",
      "Thresh=6.955, n=4, ACC: 76.54%\n",
      "(90000, 3)\n",
      "Thresh=9.447, n=3, ACC: 76.00%\n",
      "(90000, 2)\n",
      "Thresh=9.966, n=2, ACC: 75.91%\n",
      "(90000, 1)\n",
      "Thresh=32.949, n=1, ACC: 75.59%\n",
      "< Done >\n"
     ]
    }
   ],
   "source": [
    "\n",
    "best_tmp = [0,0]\n",
    "best_acc = 0\n",
    "best_feature = []\n",
    "df = pd.DataFrame(x)\n",
    "\n",
    "for thresh in thresholds :\n",
    "    selection = SelectFromModel(model, threshold=thresh, prefit=True)\n",
    "\n",
    "    feature_idx = selection.get_support()\n",
    "    feature_name = df.columns[feature_idx]\n",
    "\n",
    "    select_x_train = selection.transform(x_train)\n",
    "    print(select_x_train.shape)\n",
    "\n",
    "    select_x_val = selection.transform(x_val)\n",
    "    select_x_pred = selection.transform(x_pred)\n",
    "\n",
    "\n",
    "    selection_model = ctb.CatBoostClassifier(**params)\n",
    "    selection_model.fit(select_x_train, y_train,\n",
    "            eval_set=[(select_x_val, y_val)],\n",
    "            use_best_model=True,\n",
    "            early_stopping_rounds=EARLY_STOPPING_ROUNDS,\n",
    "            verbose=0)\n",
    "\n",
    "    select_y_pred = selection_model.predict(select_x_val)\n",
    "    acc_score = accuracy_score(y_val, select_y_pred)\n",
    "\n",
    "    print(\"Thresh=%.3f, n=%d, ACC: %.2f%%\" % (thresh, select_x_train.shape[1], acc_score*100))\n",
    "\n",
    "    if best_acc < acc_score :\n",
    "        best_tmp[0] = thresh\n",
    "        best_tmp[1] = select_x_train.shape[1]\n",
    "        best_acc = acc_score\n",
    "        best_feature = feature_name\n",
    "\n",
    "print(\"< Done >\")\n"
   ]
  },
  {
   "cell_type": "code",
   "execution_count": 85,
   "metadata": {},
   "outputs": [
    {
     "output_type": "stream",
     "name": "stdout",
     "text": [
      "=====Fold 0=====\n",
      "(90000, 19)\n",
      "Thresh=32.949, n=19, ACC: 77.75%\n",
      "=====Fold 1=====\n",
      "(90000, 19)\n",
      "Thresh=32.949, n=19, ACC: 78.89%\n",
      "=====Fold 2=====\n",
      "(90000, 19)\n",
      "Thresh=32.949, n=19, ACC: 78.38%\n",
      "=====Fold 3=====\n",
      "(90000, 19)\n",
      "Thresh=32.949, n=19, ACC: 78.24%\n",
      "=====Fold 4=====\n",
      "(90000, 19)\n",
      "Thresh=32.949, n=19, ACC: 78.36%\n",
      "=====Fold 5=====\n",
      "(90000, 19)\n",
      "Thresh=32.949, n=19, ACC: 78.30%\n",
      "=====Fold 6=====\n",
      "(90000, 19)\n",
      "Thresh=32.949, n=19, ACC: 78.39%\n",
      "=====Fold 7=====\n",
      "(90000, 19)\n",
      "Thresh=32.949, n=19, ACC: 78.87%\n",
      "=====Fold 8=====\n",
      "(90000, 19)\n",
      "Thresh=32.949, n=19, ACC: 77.69%\n",
      "=====Fold 9=====\n",
      "(90000, 19)\n",
      "Thresh=32.949, n=19, ACC: 77.89%\n",
      "< Done >\n"
     ]
    }
   ],
   "source": [
    "select_x_pred_f = selection_f.transform(x_pred)\n",
    "y_pred = np.zeros(select_x_pred_f.shape[0])\n",
    "\n",
    "#KFold\n",
    "for fold, (train_idx, valid_idx) in enumerate(skf.split(x, y)) :\n",
    "    print(f\"=====Fold {fold}=====\")\n",
    "    x_train = x[train_idx]\n",
    "    x_val = x[valid_idx]\n",
    "    y_train = y[train_idx]\n",
    "    y_val = y[valid_idx]  \n",
    "\n",
    "    selection_f = SelectFromModel(model, threshold=best_tmp[0], prefit=True)\n",
    "    select_x_train_f = selection_f.transform(x_train)\n",
    "    select_x_val_f = selection_f.transform(x_val)\n",
    "    print(select_x_train_f.shape)   # (90000, 19)\n",
    "\n",
    "    selection_model_f = ctb.CatBoostClassifier(**params)\n",
    "    selection_model_f.fit(select_x_train_f, y_train,\n",
    "            eval_set=[(select_x_val_f, y_val)],\n",
    "            use_best_model=True,\n",
    "            early_stopping_rounds=EARLY_STOPPING_ROUNDS,\n",
    "            verbose=0)\n",
    "\n",
    "    select_y_pred_f = selection_model_f.predict(select_x_val_f)\n",
    "    acc_score = accuracy_score(y_val, select_y_pred_f)\n",
    "\n",
    "    print(\"Thresh=%.3f, n=%d, ACC: %.2f%%\" % (thresh, select_x_train_f.shape[1], acc_score*100))    \n",
    "\n",
    "    y_pred += selection_model_f.predict(select_x_pred_f)\n",
    "\n",
    "print(\"< Done >\")"
   ]
  },
  {
   "source": [
    "# 3. Predict"
   ],
   "cell_type": "markdown",
   "metadata": {}
  },
  {
   "cell_type": "code",
   "execution_count": 86,
   "metadata": {},
   "outputs": [
    {
     "output_type": "execute_result",
     "data": {
      "text/plain": [
       "(100000,)"
      ]
     },
     "metadata": {},
     "execution_count": 86
    }
   ],
   "source": [
    "# y_pred = selection_model_f.predict(select_x_pred_f)\n",
    "y_pred /= N_SPLITS\n",
    "y_pred.shape"
   ]
  },
  {
   "cell_type": "code",
   "execution_count": 87,
   "metadata": {},
   "outputs": [
    {
     "output_type": "execute_result",
     "data": {
      "text/plain": [
       "       PassengerId  Survived\n",
       "0           100000         0\n",
       "1           100001         1\n",
       "2           100002         1\n",
       "3           100003         0\n",
       "4           100004         1\n",
       "...            ...       ...\n",
       "99995       199995         1\n",
       "99996       199996         0\n",
       "99997       199997         0\n",
       "99998       199998         1\n",
       "99999       199999         1\n",
       "\n",
       "[100000 rows x 2 columns]"
      ],
      "text/html": "<div>\n<style scoped>\n    .dataframe tbody tr th:only-of-type {\n        vertical-align: middle;\n    }\n\n    .dataframe tbody tr th {\n        vertical-align: top;\n    }\n\n    .dataframe thead th {\n        text-align: right;\n    }\n</style>\n<table border=\"1\" class=\"dataframe\">\n  <thead>\n    <tr style=\"text-align: right;\">\n      <th></th>\n      <th>PassengerId</th>\n      <th>Survived</th>\n    </tr>\n  </thead>\n  <tbody>\n    <tr>\n      <th>0</th>\n      <td>100000</td>\n      <td>0</td>\n    </tr>\n    <tr>\n      <th>1</th>\n      <td>100001</td>\n      <td>1</td>\n    </tr>\n    <tr>\n      <th>2</th>\n      <td>100002</td>\n      <td>1</td>\n    </tr>\n    <tr>\n      <th>3</th>\n      <td>100003</td>\n      <td>0</td>\n    </tr>\n    <tr>\n      <th>4</th>\n      <td>100004</td>\n      <td>1</td>\n    </tr>\n    <tr>\n      <th>...</th>\n      <td>...</td>\n      <td>...</td>\n    </tr>\n    <tr>\n      <th>99995</th>\n      <td>199995</td>\n      <td>1</td>\n    </tr>\n    <tr>\n      <th>99996</th>\n      <td>199996</td>\n      <td>0</td>\n    </tr>\n    <tr>\n      <th>99997</th>\n      <td>199997</td>\n      <td>0</td>\n    </tr>\n    <tr>\n      <th>99998</th>\n      <td>199998</td>\n      <td>1</td>\n    </tr>\n    <tr>\n      <th>99999</th>\n      <td>199999</td>\n      <td>1</td>\n    </tr>\n  </tbody>\n</table>\n<p>100000 rows × 2 columns</p>\n</div>"
     },
     "metadata": {},
     "execution_count": 87
    }
   ],
   "source": [
    "submission['Survived'] = np.round(y_pred).astype(int)\n",
    "submission"
   ]
  },
  {
   "source": [
    "# 4.Submission"
   ],
   "cell_type": "markdown",
   "metadata": {}
  },
  {
   "cell_type": "code",
   "execution_count": 88,
   "metadata": {},
   "outputs": [
    {
     "output_type": "execute_result",
     "data": {
      "text/plain": [
       "       PassengerId  Survived\n",
       "0           100000         0\n",
       "1           100001         1\n",
       "2           100002         1\n",
       "3           100003         0\n",
       "4           100004         1\n",
       "...            ...       ...\n",
       "99995       199995         1\n",
       "99996       199996         0\n",
       "99997       199997         0\n",
       "99998       199998         1\n",
       "99999       199999         1\n",
       "\n",
       "[100000 rows x 2 columns]"
      ],
      "text/html": "<div>\n<style scoped>\n    .dataframe tbody tr th:only-of-type {\n        vertical-align: middle;\n    }\n\n    .dataframe tbody tr th {\n        vertical-align: top;\n    }\n\n    .dataframe thead th {\n        text-align: right;\n    }\n</style>\n<table border=\"1\" class=\"dataframe\">\n  <thead>\n    <tr style=\"text-align: right;\">\n      <th></th>\n      <th>PassengerId</th>\n      <th>Survived</th>\n    </tr>\n  </thead>\n  <tbody>\n    <tr>\n      <th>0</th>\n      <td>100000</td>\n      <td>0</td>\n    </tr>\n    <tr>\n      <th>1</th>\n      <td>100001</td>\n      <td>1</td>\n    </tr>\n    <tr>\n      <th>2</th>\n      <td>100002</td>\n      <td>1</td>\n    </tr>\n    <tr>\n      <th>3</th>\n      <td>100003</td>\n      <td>0</td>\n    </tr>\n    <tr>\n      <th>4</th>\n      <td>100004</td>\n      <td>1</td>\n    </tr>\n    <tr>\n      <th>...</th>\n      <td>...</td>\n      <td>...</td>\n    </tr>\n    <tr>\n      <th>99995</th>\n      <td>199995</td>\n      <td>1</td>\n    </tr>\n    <tr>\n      <th>99996</th>\n      <td>199996</td>\n      <td>0</td>\n    </tr>\n    <tr>\n      <th>99997</th>\n      <td>199997</td>\n      <td>0</td>\n    </tr>\n    <tr>\n      <th>99998</th>\n      <td>199998</td>\n      <td>1</td>\n    </tr>\n    <tr>\n      <th>99999</th>\n      <td>199999</td>\n      <td>1</td>\n    </tr>\n  </tbody>\n</table>\n<p>100000 rows × 2 columns</p>\n</div>"
     },
     "metadata": {},
     "execution_count": 88
    }
   ],
   "source": [
    "# submission.to_csv(\"E:\\\\data\\\\kaggle_tabular\\\\submission_0425_catboost3.csv\", index = False)\n",
    "submission.to_csv(\"E:\\\\data\\\\kaggle_tabular\\\\submission_0425_catboost4.csv\", index = False)\n",
    "submission"
   ]
  },
  {
   "source": [
    "---\n",
    "파일명 : submission_0425_catboost3.csv     \n",
    "score : 0.80205      \n",
    "\n",
    "파일명 : submission_0425_catboost4.csv     \n",
    "score : 0.80160"
   ],
   "cell_type": "markdown",
   "metadata": {}
  }
 ]
}