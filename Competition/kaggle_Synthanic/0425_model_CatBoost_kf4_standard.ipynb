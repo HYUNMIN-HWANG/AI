{
 "metadata": {
  "language_info": {
   "codemirror_mode": {
    "name": "ipython",
    "version": 3
   },
   "file_extension": ".py",
   "mimetype": "text/x-python",
   "name": "python",
   "nbconvert_exporter": "python",
   "pygments_lexer": "ipython3",
   "version": "3.8.5"
  },
  "orig_nbformat": 2,
  "kernelspec": {
   "name": "python385jvsc74a57bd0cfed29639e118e2330c8cca2e9f389b076390c6676518be5d289ddd682bc9f99",
   "display_name": "Python 3.8.5 64-bit (conda)"
  }
 },
 "nbformat": 4,
 "nbformat_minor": 2,
 "cells": [
  {
   "cell_type": "code",
   "execution_count": 2,
   "metadata": {},
   "outputs": [],
   "source": [
    "import pandas as pd\n",
    "import numpy as np\n",
    "import random\n",
    "import os\n",
    "\n",
    "from sklearn.metrics import accuracy_score\n",
    "from sklearn.preprocessing import LabelEncoder, StandardScaler, OneHotEncoder, MinMaxScaler\n",
    "from sklearn.model_selection import train_test_split, KFold, StratifiedKFold\n",
    "\n",
    "train_df = pd.read_csv('E:\\data\\kaggle_tabular/train.csv')\n",
    "test_df = pd.read_csv('E:\\data\\kaggle_tabular/test.csv')\n",
    "submission = pd.read_csv('E:\\data\\kaggle_tabular/sample_submission.csv')"
   ]
  },
  {
   "source": [
    "https://www.kaggle.com/hiro5299834/tps-apr-2021-pseudo-labeling-voting-ensemble"
   ],
   "cell_type": "markdown",
   "metadata": {}
  },
  {
   "source": [
    "앞으로 해볼 것    \n",
    "GridSearchCV > 튜닝하기    \n",
    "데이터 전처리 다시 하기    \n",
    "pca  \n",
    "오토인코더       "
   ],
   "cell_type": "markdown",
   "metadata": {}
  },
  {
   "source": [
    "# data 전처리"
   ],
   "cell_type": "markdown",
   "metadata": {}
  },
  {
   "source": [
    "* Pclass - a proxy for socio-economic status (SES) where 1st = Upper, 2nd = Middle and 3rd = Lower.\n",
    "* Sex - male and female.\n",
    "* Age - fractional if it less than 1 and age estimation in the form of xx.5.\n",
    "* SibSp - number of siblings / spouses aboard the Synthanic; siblings are brother, sister, stepbrother and stepsister and spouses are husband and wife (mistresses and fiancés were ignored).\n",
    "* Parch - # of parents / children aboard the Synthanic; parents are mother and father; child are daughter, son, stepdaughter and stepson. Some children travelled only with a nanny, therefore Parch is 0 for them.\n",
    "* Fare - the paassenger fare.\n",
    "* Cabin - the cabin number.\n",
    "* Emarked - port of embarkation where C is Cherbourg, Q is Queenstown and S is Southampton.\n",
    "* Ticket - ticket number.\n",
    "* Name - passengers name.\n",
    "* Survived - target variable where 0 is not survived and 1 is survived."
   ],
   "cell_type": "markdown",
   "metadata": {}
  },
  {
   "source": [
    "* 결측값 채우기"
   ],
   "cell_type": "markdown",
   "metadata": {}
  },
  {
   "cell_type": "code",
   "execution_count": 3,
   "metadata": {},
   "outputs": [
    {
     "output_type": "stream",
     "name": "stdout",
     "text": [
      "Missing values per columns in train dataset\nPassengerId: 0\nSurvived: 0\nPclass: 0\nName: 0\nSex: 0\nAge: 3292\nSibSp: 0\nParch: 0\nTicket: 4623\nFare: 134\nCabin: 67866\nEmbarked: 250\n"
     ]
    }
   ],
   "source": [
    "print('Missing values per columns in train dataset')\n",
    "for col in train_df.columns:\n",
    "    temp_col = train_df[col].isnull().sum()\n",
    "    print(f'{col}: {temp_col}')"
   ]
  },
  {
   "cell_type": "code",
   "execution_count": 4,
   "metadata": {},
   "outputs": [],
   "source": [
    "# col = 'Age' 평균 나이로 결측값 채우기\n",
    "train_df['Age'] = train_df['Age'].fillna(train_df['Age'].mean())\n",
    "test_df['Age'] = test_df['Age'].fillna(test_df['Age'].mean())"
   ]
  },
  {
   "cell_type": "code",
   "execution_count": 5,
   "metadata": {},
   "outputs": [
    {
     "output_type": "execute_result",
     "data": {
      "text/plain": [
       "0      X\n",
       "1      X\n",
       "2     CA\n",
       "3     A.\n",
       "4      X\n",
       "      ..\n",
       "95     X\n",
       "96     X\n",
       "97    PC\n",
       "98     X\n",
       "99     X\n",
       "Name: Ticket, Length: 100, dtype: object"
      ]
     },
     "metadata": {},
     "execution_count": 5
    }
   ],
   "source": [
    "# col = 'Ticket', 결측값 'X'로 채우기\n",
    "train_df['Ticket'] = train_df['Ticket'].fillna('X').map(lambda x:str(x).split()[0] if len(str(x).split()) > 1 else 'X')\n",
    "test_df['Ticket'] = test_df['Ticket'].fillna('X').map(lambda x:str(x).split()[0] if len(str(x).split()) > 1 else 'X')\n",
    "train_df['Ticket'][:100]"
   ]
  },
  {
   "cell_type": "code",
   "execution_count": 6,
   "metadata": {},
   "outputs": [
    {
     "output_type": "execute_result",
     "data": {
      "text/plain": [
       "0     C\n",
       "1     X\n",
       "2     X\n",
       "3     X\n",
       "4     X\n",
       "     ..\n",
       "95    X\n",
       "96    X\n",
       "97    D\n",
       "98    X\n",
       "99    C\n",
       "Name: Cabin, Length: 100, dtype: object"
      ]
     },
     "metadata": {},
     "execution_count": 6
    }
   ],
   "source": [
    "# col = 'Cabin', 결측값 'X'로 채우기\n",
    "train_df['Cabin'] = train_df['Cabin'].fillna('X').map(lambda x: x[0].strip())\n",
    "test_df['Cabin'] = test_df['Cabin'].fillna('X').map(lambda x: x[0].strip())\n",
    "train_df['Cabin'][:100]"
   ]
  },
  {
   "cell_type": "code",
   "execution_count": 7,
   "metadata": {},
   "outputs": [
    {
     "output_type": "execute_result",
     "data": {
      "text/plain": [
       "0     S\n",
       "1     S\n",
       "2     S\n",
       "3     S\n",
       "4     S\n",
       "     ..\n",
       "95    S\n",
       "96    Q\n",
       "97    Q\n",
       "98    S\n",
       "99    C\n",
       "Name: Embarked, Length: 100, dtype: object"
      ]
     },
     "metadata": {},
     "execution_count": 7
    }
   ],
   "source": [
    "# col = 'Embarked', 결측값 'X'로 채우기\n",
    "train_df['Embarked'] = train_df['Embarked'].fillna('X')\n",
    "test_df['Embarked'] = test_df['Embarked'].fillna('X')\n",
    "train_df['Embarked'][:100]"
   ]
  },
  {
   "cell_type": "code",
   "execution_count": 8,
   "metadata": {},
   "outputs": [
    {
     "output_type": "execute_result",
     "data": {
      "text/plain": [
       "0     3.337192\n",
       "1     2.663750\n",
       "2     4.280686\n",
       "3     2.641910\n",
       "4     2.170196\n",
       "        ...   \n",
       "95    3.503754\n",
       "96    3.312730\n",
       "97    4.884921\n",
       "98    3.363149\n",
       "99    5.633217\n",
       "Name: Fare, Length: 100, dtype: float64"
      ]
     },
     "metadata": {},
     "execution_count": 8
    }
   ],
   "source": [
    "# col = 'Fare', 결측값 각 Pclass 마다 fare 중앙값을 넣는다.\n",
    "fare_map =  train_df[['Fare', 'Pclass']].dropna().groupby('Pclass').median().to_dict()\n",
    "# fare_map    # {'Fare': {1: 63.58, 2: 22.72, 3: 10.96}}\n",
    "train_df['Fare'] = train_df['Fare'].fillna(train_df['Pclass'].map(fare_map['Fare']))\n",
    "train_df['Fare'] = np.log1p(train_df['Fare'])\n",
    "train_df['Fare'][:100]"
   ]
  },
  {
   "cell_type": "code",
   "execution_count": 9,
   "metadata": {},
   "outputs": [
    {
     "output_type": "execute_result",
     "data": {
      "text/plain": [
       "0     4.159039\n",
       "1     1.918392\n",
       "2     3.686627\n",
       "3     2.634045\n",
       "4     3.328268\n",
       "        ...   \n",
       "95    2.249184\n",
       "96    2.621766\n",
       "97    1.969906\n",
       "98    2.536866\n",
       "99    3.469479\n",
       "Name: Fare, Length: 100, dtype: float64"
      ]
     },
     "metadata": {},
     "execution_count": 9
    }
   ],
   "source": [
    "# col = 'Fare', 결측값 각 Pclass 마다 fare 중앙값을 넣는다.\n",
    "fare_map =  test_df[['Fare', 'Pclass']].dropna().groupby('Pclass').median().to_dict()\n",
    "# fare_map    # {'Fare': {1: 80.68, 2: 14.455, 3: 11.52}}\n",
    "test_df['Fare'] = test_df['Fare'].fillna(test_df['Pclass'].map(fare_map['Fare']))\n",
    "test_df['Fare'] = np.log1p(test_df['Fare'])\n",
    "test_df['Fare'][:100]"
   ]
  },
  {
   "source": [
    "* 앞 이름만 가져오기"
   ],
   "cell_type": "markdown",
   "metadata": {}
  },
  {
   "cell_type": "code",
   "execution_count": 10,
   "metadata": {},
   "outputs": [
    {
     "output_type": "execute_result",
     "data": {
      "text/plain": [
       "       PassengerId  Survived  Pclass       Name     Sex        Age  SibSp  \\\n",
       "0                0         1       1    Oconnor    male  38.355472      2   \n",
       "1                1         0       3      Bryan    male  38.355472      0   \n",
       "2                2         0       3      Owens    male   0.330000      1   \n",
       "3                3         0       3     Kramer    male  19.000000      0   \n",
       "4                4         1       3       Bond    male  25.000000      0   \n",
       "...            ...       ...     ...        ...     ...        ...    ...   \n",
       "99995        99995         1       2       Bell  female  62.000000      0   \n",
       "99996        99996         0       2      Brown    male  66.000000      0   \n",
       "99997        99997         0       3  Childress    male  37.000000      0   \n",
       "99998        99998         0       3   Caughlin    male  51.000000      0   \n",
       "99999        99999         0       3     Enciso    male  55.000000      0   \n",
       "\n",
       "       Parch Ticket      Fare Cabin Embarked  \n",
       "0          0      X  3.337192     C        S  \n",
       "1          0      X  2.663750     X        S  \n",
       "2          2     CA  4.280686     X        S  \n",
       "3          0     A.  2.641910     X        S  \n",
       "4          0      X  2.170196     X        S  \n",
       "...      ...    ...       ...   ...      ...  \n",
       "99995      0     PC  2.763800     D        C  \n",
       "99996      0      X  2.497329     X        S  \n",
       "99997      0      X  2.393339     X        S  \n",
       "99998      1      X  3.463233     X        S  \n",
       "99999      0      X  2.705380     X        S  \n",
       "\n",
       "[100000 rows x 12 columns]"
      ],
      "text/html": "<div>\n<style scoped>\n    .dataframe tbody tr th:only-of-type {\n        vertical-align: middle;\n    }\n\n    .dataframe tbody tr th {\n        vertical-align: top;\n    }\n\n    .dataframe thead th {\n        text-align: right;\n    }\n</style>\n<table border=\"1\" class=\"dataframe\">\n  <thead>\n    <tr style=\"text-align: right;\">\n      <th></th>\n      <th>PassengerId</th>\n      <th>Survived</th>\n      <th>Pclass</th>\n      <th>Name</th>\n      <th>Sex</th>\n      <th>Age</th>\n      <th>SibSp</th>\n      <th>Parch</th>\n      <th>Ticket</th>\n      <th>Fare</th>\n      <th>Cabin</th>\n      <th>Embarked</th>\n    </tr>\n  </thead>\n  <tbody>\n    <tr>\n      <th>0</th>\n      <td>0</td>\n      <td>1</td>\n      <td>1</td>\n      <td>Oconnor</td>\n      <td>male</td>\n      <td>38.355472</td>\n      <td>2</td>\n      <td>0</td>\n      <td>X</td>\n      <td>3.337192</td>\n      <td>C</td>\n      <td>S</td>\n    </tr>\n    <tr>\n      <th>1</th>\n      <td>1</td>\n      <td>0</td>\n      <td>3</td>\n      <td>Bryan</td>\n      <td>male</td>\n      <td>38.355472</td>\n      <td>0</td>\n      <td>0</td>\n      <td>X</td>\n      <td>2.663750</td>\n      <td>X</td>\n      <td>S</td>\n    </tr>\n    <tr>\n      <th>2</th>\n      <td>2</td>\n      <td>0</td>\n      <td>3</td>\n      <td>Owens</td>\n      <td>male</td>\n      <td>0.330000</td>\n      <td>1</td>\n      <td>2</td>\n      <td>CA</td>\n      <td>4.280686</td>\n      <td>X</td>\n      <td>S</td>\n    </tr>\n    <tr>\n      <th>3</th>\n      <td>3</td>\n      <td>0</td>\n      <td>3</td>\n      <td>Kramer</td>\n      <td>male</td>\n      <td>19.000000</td>\n      <td>0</td>\n      <td>0</td>\n      <td>A.</td>\n      <td>2.641910</td>\n      <td>X</td>\n      <td>S</td>\n    </tr>\n    <tr>\n      <th>4</th>\n      <td>4</td>\n      <td>1</td>\n      <td>3</td>\n      <td>Bond</td>\n      <td>male</td>\n      <td>25.000000</td>\n      <td>0</td>\n      <td>0</td>\n      <td>X</td>\n      <td>2.170196</td>\n      <td>X</td>\n      <td>S</td>\n    </tr>\n    <tr>\n      <th>...</th>\n      <td>...</td>\n      <td>...</td>\n      <td>...</td>\n      <td>...</td>\n      <td>...</td>\n      <td>...</td>\n      <td>...</td>\n      <td>...</td>\n      <td>...</td>\n      <td>...</td>\n      <td>...</td>\n      <td>...</td>\n    </tr>\n    <tr>\n      <th>99995</th>\n      <td>99995</td>\n      <td>1</td>\n      <td>2</td>\n      <td>Bell</td>\n      <td>female</td>\n      <td>62.000000</td>\n      <td>0</td>\n      <td>0</td>\n      <td>PC</td>\n      <td>2.763800</td>\n      <td>D</td>\n      <td>C</td>\n    </tr>\n    <tr>\n      <th>99996</th>\n      <td>99996</td>\n      <td>0</td>\n      <td>2</td>\n      <td>Brown</td>\n      <td>male</td>\n      <td>66.000000</td>\n      <td>0</td>\n      <td>0</td>\n      <td>X</td>\n      <td>2.497329</td>\n      <td>X</td>\n      <td>S</td>\n    </tr>\n    <tr>\n      <th>99997</th>\n      <td>99997</td>\n      <td>0</td>\n      <td>3</td>\n      <td>Childress</td>\n      <td>male</td>\n      <td>37.000000</td>\n      <td>0</td>\n      <td>0</td>\n      <td>X</td>\n      <td>2.393339</td>\n      <td>X</td>\n      <td>S</td>\n    </tr>\n    <tr>\n      <th>99998</th>\n      <td>99998</td>\n      <td>0</td>\n      <td>3</td>\n      <td>Caughlin</td>\n      <td>male</td>\n      <td>51.000000</td>\n      <td>0</td>\n      <td>1</td>\n      <td>X</td>\n      <td>3.463233</td>\n      <td>X</td>\n      <td>S</td>\n    </tr>\n    <tr>\n      <th>99999</th>\n      <td>99999</td>\n      <td>0</td>\n      <td>3</td>\n      <td>Enciso</td>\n      <td>male</td>\n      <td>55.000000</td>\n      <td>0</td>\n      <td>0</td>\n      <td>X</td>\n      <td>2.705380</td>\n      <td>X</td>\n      <td>S</td>\n    </tr>\n  </tbody>\n</table>\n<p>100000 rows × 12 columns</p>\n</div>"
     },
     "metadata": {},
     "execution_count": 10
    }
   ],
   "source": [
    "train_df['Name'] = train_df['Name'].map(lambda x: x.split(',')[0])\n",
    "test_df['Name'] = test_df['Name'].map(lambda x: x.split(',')[0])\n",
    "train_df"
   ]
  },
  {
   "source": [
    "* 'Survived' 컬럼을 맨 뒤로 보내기"
   ],
   "cell_type": "markdown",
   "metadata": {}
  },
  {
   "cell_type": "code",
   "execution_count": 11,
   "metadata": {},
   "outputs": [
    {
     "output_type": "execute_result",
     "data": {
      "text/plain": [
       "       PassengerId  Pclass       Name     Sex        Age  SibSp  Parch Ticket  \\\n",
       "0                0       1    Oconnor    male  38.355472      2      0      X   \n",
       "1                1       3      Bryan    male  38.355472      0      0      X   \n",
       "2                2       3      Owens    male   0.330000      1      2     CA   \n",
       "3                3       3     Kramer    male  19.000000      0      0     A.   \n",
       "4                4       3       Bond    male  25.000000      0      0      X   \n",
       "...            ...     ...        ...     ...        ...    ...    ...    ...   \n",
       "99995        99995       2       Bell  female  62.000000      0      0     PC   \n",
       "99996        99996       2      Brown    male  66.000000      0      0      X   \n",
       "99997        99997       3  Childress    male  37.000000      0      0      X   \n",
       "99998        99998       3   Caughlin    male  51.000000      0      1      X   \n",
       "99999        99999       3     Enciso    male  55.000000      0      0      X   \n",
       "\n",
       "           Fare Cabin Embarked  y_target  \n",
       "0      3.337192     C        S         1  \n",
       "1      2.663750     X        S         0  \n",
       "2      4.280686     X        S         0  \n",
       "3      2.641910     X        S         0  \n",
       "4      2.170196     X        S         1  \n",
       "...         ...   ...      ...       ...  \n",
       "99995  2.763800     D        C         1  \n",
       "99996  2.497329     X        S         0  \n",
       "99997  2.393339     X        S         0  \n",
       "99998  3.463233     X        S         0  \n",
       "99999  2.705380     X        S         0  \n",
       "\n",
       "[100000 rows x 12 columns]"
      ],
      "text/html": "<div>\n<style scoped>\n    .dataframe tbody tr th:only-of-type {\n        vertical-align: middle;\n    }\n\n    .dataframe tbody tr th {\n        vertical-align: top;\n    }\n\n    .dataframe thead th {\n        text-align: right;\n    }\n</style>\n<table border=\"1\" class=\"dataframe\">\n  <thead>\n    <tr style=\"text-align: right;\">\n      <th></th>\n      <th>PassengerId</th>\n      <th>Pclass</th>\n      <th>Name</th>\n      <th>Sex</th>\n      <th>Age</th>\n      <th>SibSp</th>\n      <th>Parch</th>\n      <th>Ticket</th>\n      <th>Fare</th>\n      <th>Cabin</th>\n      <th>Embarked</th>\n      <th>y_target</th>\n    </tr>\n  </thead>\n  <tbody>\n    <tr>\n      <th>0</th>\n      <td>0</td>\n      <td>1</td>\n      <td>Oconnor</td>\n      <td>male</td>\n      <td>38.355472</td>\n      <td>2</td>\n      <td>0</td>\n      <td>X</td>\n      <td>3.337192</td>\n      <td>C</td>\n      <td>S</td>\n      <td>1</td>\n    </tr>\n    <tr>\n      <th>1</th>\n      <td>1</td>\n      <td>3</td>\n      <td>Bryan</td>\n      <td>male</td>\n      <td>38.355472</td>\n      <td>0</td>\n      <td>0</td>\n      <td>X</td>\n      <td>2.663750</td>\n      <td>X</td>\n      <td>S</td>\n      <td>0</td>\n    </tr>\n    <tr>\n      <th>2</th>\n      <td>2</td>\n      <td>3</td>\n      <td>Owens</td>\n      <td>male</td>\n      <td>0.330000</td>\n      <td>1</td>\n      <td>2</td>\n      <td>CA</td>\n      <td>4.280686</td>\n      <td>X</td>\n      <td>S</td>\n      <td>0</td>\n    </tr>\n    <tr>\n      <th>3</th>\n      <td>3</td>\n      <td>3</td>\n      <td>Kramer</td>\n      <td>male</td>\n      <td>19.000000</td>\n      <td>0</td>\n      <td>0</td>\n      <td>A.</td>\n      <td>2.641910</td>\n      <td>X</td>\n      <td>S</td>\n      <td>0</td>\n    </tr>\n    <tr>\n      <th>4</th>\n      <td>4</td>\n      <td>3</td>\n      <td>Bond</td>\n      <td>male</td>\n      <td>25.000000</td>\n      <td>0</td>\n      <td>0</td>\n      <td>X</td>\n      <td>2.170196</td>\n      <td>X</td>\n      <td>S</td>\n      <td>1</td>\n    </tr>\n    <tr>\n      <th>...</th>\n      <td>...</td>\n      <td>...</td>\n      <td>...</td>\n      <td>...</td>\n      <td>...</td>\n      <td>...</td>\n      <td>...</td>\n      <td>...</td>\n      <td>...</td>\n      <td>...</td>\n      <td>...</td>\n      <td>...</td>\n    </tr>\n    <tr>\n      <th>99995</th>\n      <td>99995</td>\n      <td>2</td>\n      <td>Bell</td>\n      <td>female</td>\n      <td>62.000000</td>\n      <td>0</td>\n      <td>0</td>\n      <td>PC</td>\n      <td>2.763800</td>\n      <td>D</td>\n      <td>C</td>\n      <td>1</td>\n    </tr>\n    <tr>\n      <th>99996</th>\n      <td>99996</td>\n      <td>2</td>\n      <td>Brown</td>\n      <td>male</td>\n      <td>66.000000</td>\n      <td>0</td>\n      <td>0</td>\n      <td>X</td>\n      <td>2.497329</td>\n      <td>X</td>\n      <td>S</td>\n      <td>0</td>\n    </tr>\n    <tr>\n      <th>99997</th>\n      <td>99997</td>\n      <td>3</td>\n      <td>Childress</td>\n      <td>male</td>\n      <td>37.000000</td>\n      <td>0</td>\n      <td>0</td>\n      <td>X</td>\n      <td>2.393339</td>\n      <td>X</td>\n      <td>S</td>\n      <td>0</td>\n    </tr>\n    <tr>\n      <th>99998</th>\n      <td>99998</td>\n      <td>3</td>\n      <td>Caughlin</td>\n      <td>male</td>\n      <td>51.000000</td>\n      <td>0</td>\n      <td>1</td>\n      <td>X</td>\n      <td>3.463233</td>\n      <td>X</td>\n      <td>S</td>\n      <td>0</td>\n    </tr>\n    <tr>\n      <th>99999</th>\n      <td>99999</td>\n      <td>3</td>\n      <td>Enciso</td>\n      <td>male</td>\n      <td>55.000000</td>\n      <td>0</td>\n      <td>0</td>\n      <td>X</td>\n      <td>2.705380</td>\n      <td>X</td>\n      <td>S</td>\n      <td>0</td>\n    </tr>\n  </tbody>\n</table>\n<p>100000 rows × 12 columns</p>\n</div>"
     },
     "metadata": {},
     "execution_count": 11
    }
   ],
   "source": [
    "train_df['y_target'] = train_df['Survived']\n",
    "train_df = train_df.drop(['Survived'], axis=1)\n",
    "train_df"
   ]
  },
  {
   "source": [
    "* 문자들을 숫자로 치환하기"
   ],
   "cell_type": "markdown",
   "metadata": {}
  },
  {
   "cell_type": "code",
   "execution_count": 12,
   "metadata": {},
   "outputs": [],
   "source": [
    "def label_encoder(c):\n",
    "    encoder = LabelEncoder()\n",
    "    return encoder.fit_transform(c)\n",
    "\n",
    "labels_col = ['Sex','Ticket']\n",
    "label_encoded_df = train_df[labels_col].apply(label_encoder)\n",
    "test_label_encoded_df = test_df[labels_col].apply(label_encoder)\n",
    "# label_encoded_df\n",
    "\n",
    "onehot_cols = ['Cabin', 'Embarked']\n",
    "onehot_encoded_df = pd.get_dummies(train_df[onehot_cols])\n",
    "test_onehot_encoded_df = pd.get_dummies(test_df[onehot_cols])\n",
    "# onehot_encoded_df\n",
    "\n",
    "numerical_cols = ['Age', 'SibSp', 'Parch', 'Fare']\n",
    "scaler = StandardScaler()\n",
    "numerical_df = pd.DataFrame(scaler.fit_transform(train_df[numerical_cols]), columns=numerical_cols)\n",
    "test_numerical_df = pd.DataFrame(scaler.fit_transform(test_df[numerical_cols]), columns=numerical_cols)\n",
    "# numerical_df\n",
    "\n",
    "etc_df = train_df['Pclass']\n",
    "test_etc_df = test_df['Pclass']\n",
    "\n",
    "target_df = train_df['y_target']\n",
    "\n",
    "\n",
    "train_df = pd.concat([etc_df, numerical_df, label_encoded_df, onehot_encoded_df, target_df], axis=1)\n",
    "test_df = pd.concat([test_etc_df, test_numerical_df, test_label_encoded_df, test_onehot_encoded_df], axis=1)"
   ]
  },
  {
   "source": [
    "최종적으로 사용할 데이터 셋"
   ],
   "cell_type": "markdown",
   "metadata": {}
  },
  {
   "cell_type": "code",
   "execution_count": 13,
   "metadata": {},
   "outputs": [
    {
     "output_type": "execute_result",
     "data": {
      "text/plain": [
       "       Pclass           Age     SibSp     Parch      Fare  Sex  Ticket  \\\n",
       "0           1 -7.890755e-16  1.857618 -0.478448  0.124005    1      49   \n",
       "1           3 -7.890755e-16 -0.461057 -0.478448 -0.566348    1      49   \n",
       "2           3 -2.111412e+00  0.698280  1.626657  1.091190    1      14   \n",
       "3           3 -1.074737e+00 -0.461057 -0.478448 -0.588736    1       0   \n",
       "4           3 -7.415793e-01 -0.461057 -0.478448 -1.072296    1      49   \n",
       "...       ...           ...       ...       ...       ...  ...     ...   \n",
       "99995       2  1.312892e+00 -0.461057 -0.478448 -0.463785    0      21   \n",
       "99996       2  1.534997e+00 -0.461057 -0.478448 -0.736948    1      49   \n",
       "99997       3 -7.526429e-02 -0.461057 -0.478448 -0.843549    1      49   \n",
       "99998       3  7.021033e-01 -0.461057  0.574104  0.253210    1      49   \n",
       "99999       3  9.242083e-01 -0.461057 -0.478448 -0.523673    1      49   \n",
       "\n",
       "       Cabin_A  Cabin_B  Cabin_C  ...  Cabin_E  Cabin_F  Cabin_G  Cabin_T  \\\n",
       "0            0        0        1  ...        0        0        0        0   \n",
       "1            0        0        0  ...        0        0        0        0   \n",
       "2            0        0        0  ...        0        0        0        0   \n",
       "3            0        0        0  ...        0        0        0        0   \n",
       "4            0        0        0  ...        0        0        0        0   \n",
       "...        ...      ...      ...  ...      ...      ...      ...      ...   \n",
       "99995        0        0        0  ...        0        0        0        0   \n",
       "99996        0        0        0  ...        0        0        0        0   \n",
       "99997        0        0        0  ...        0        0        0        0   \n",
       "99998        0        0        0  ...        0        0        0        0   \n",
       "99999        0        0        0  ...        0        0        0        0   \n",
       "\n",
       "       Cabin_X  Embarked_C  Embarked_Q  Embarked_S  Embarked_X  y_target  \n",
       "0            0           0           0           1           0         1  \n",
       "1            1           0           0           1           0         0  \n",
       "2            1           0           0           1           0         0  \n",
       "3            1           0           0           1           0         0  \n",
       "4            1           0           0           1           0         1  \n",
       "...        ...         ...         ...         ...         ...       ...  \n",
       "99995        0           1           0           0           0         1  \n",
       "99996        1           0           0           1           0         0  \n",
       "99997        1           0           0           1           0         0  \n",
       "99998        1           0           0           1           0         0  \n",
       "99999        1           0           0           1           0         0  \n",
       "\n",
       "[100000 rows x 21 columns]"
      ],
      "text/html": "<div>\n<style scoped>\n    .dataframe tbody tr th:only-of-type {\n        vertical-align: middle;\n    }\n\n    .dataframe tbody tr th {\n        vertical-align: top;\n    }\n\n    .dataframe thead th {\n        text-align: right;\n    }\n</style>\n<table border=\"1\" class=\"dataframe\">\n  <thead>\n    <tr style=\"text-align: right;\">\n      <th></th>\n      <th>Pclass</th>\n      <th>Age</th>\n      <th>SibSp</th>\n      <th>Parch</th>\n      <th>Fare</th>\n      <th>Sex</th>\n      <th>Ticket</th>\n      <th>Cabin_A</th>\n      <th>Cabin_B</th>\n      <th>Cabin_C</th>\n      <th>...</th>\n      <th>Cabin_E</th>\n      <th>Cabin_F</th>\n      <th>Cabin_G</th>\n      <th>Cabin_T</th>\n      <th>Cabin_X</th>\n      <th>Embarked_C</th>\n      <th>Embarked_Q</th>\n      <th>Embarked_S</th>\n      <th>Embarked_X</th>\n      <th>y_target</th>\n    </tr>\n  </thead>\n  <tbody>\n    <tr>\n      <th>0</th>\n      <td>1</td>\n      <td>-7.890755e-16</td>\n      <td>1.857618</td>\n      <td>-0.478448</td>\n      <td>0.124005</td>\n      <td>1</td>\n      <td>49</td>\n      <td>0</td>\n      <td>0</td>\n      <td>1</td>\n      <td>...</td>\n      <td>0</td>\n      <td>0</td>\n      <td>0</td>\n      <td>0</td>\n      <td>0</td>\n      <td>0</td>\n      <td>0</td>\n      <td>1</td>\n      <td>0</td>\n      <td>1</td>\n    </tr>\n    <tr>\n      <th>1</th>\n      <td>3</td>\n      <td>-7.890755e-16</td>\n      <td>-0.461057</td>\n      <td>-0.478448</td>\n      <td>-0.566348</td>\n      <td>1</td>\n      <td>49</td>\n      <td>0</td>\n      <td>0</td>\n      <td>0</td>\n      <td>...</td>\n      <td>0</td>\n      <td>0</td>\n      <td>0</td>\n      <td>0</td>\n      <td>1</td>\n      <td>0</td>\n      <td>0</td>\n      <td>1</td>\n      <td>0</td>\n      <td>0</td>\n    </tr>\n    <tr>\n      <th>2</th>\n      <td>3</td>\n      <td>-2.111412e+00</td>\n      <td>0.698280</td>\n      <td>1.626657</td>\n      <td>1.091190</td>\n      <td>1</td>\n      <td>14</td>\n      <td>0</td>\n      <td>0</td>\n      <td>0</td>\n      <td>...</td>\n      <td>0</td>\n      <td>0</td>\n      <td>0</td>\n      <td>0</td>\n      <td>1</td>\n      <td>0</td>\n      <td>0</td>\n      <td>1</td>\n      <td>0</td>\n      <td>0</td>\n    </tr>\n    <tr>\n      <th>3</th>\n      <td>3</td>\n      <td>-1.074737e+00</td>\n      <td>-0.461057</td>\n      <td>-0.478448</td>\n      <td>-0.588736</td>\n      <td>1</td>\n      <td>0</td>\n      <td>0</td>\n      <td>0</td>\n      <td>0</td>\n      <td>...</td>\n      <td>0</td>\n      <td>0</td>\n      <td>0</td>\n      <td>0</td>\n      <td>1</td>\n      <td>0</td>\n      <td>0</td>\n      <td>1</td>\n      <td>0</td>\n      <td>0</td>\n    </tr>\n    <tr>\n      <th>4</th>\n      <td>3</td>\n      <td>-7.415793e-01</td>\n      <td>-0.461057</td>\n      <td>-0.478448</td>\n      <td>-1.072296</td>\n      <td>1</td>\n      <td>49</td>\n      <td>0</td>\n      <td>0</td>\n      <td>0</td>\n      <td>...</td>\n      <td>0</td>\n      <td>0</td>\n      <td>0</td>\n      <td>0</td>\n      <td>1</td>\n      <td>0</td>\n      <td>0</td>\n      <td>1</td>\n      <td>0</td>\n      <td>1</td>\n    </tr>\n    <tr>\n      <th>...</th>\n      <td>...</td>\n      <td>...</td>\n      <td>...</td>\n      <td>...</td>\n      <td>...</td>\n      <td>...</td>\n      <td>...</td>\n      <td>...</td>\n      <td>...</td>\n      <td>...</td>\n      <td>...</td>\n      <td>...</td>\n      <td>...</td>\n      <td>...</td>\n      <td>...</td>\n      <td>...</td>\n      <td>...</td>\n      <td>...</td>\n      <td>...</td>\n      <td>...</td>\n      <td>...</td>\n    </tr>\n    <tr>\n      <th>99995</th>\n      <td>2</td>\n      <td>1.312892e+00</td>\n      <td>-0.461057</td>\n      <td>-0.478448</td>\n      <td>-0.463785</td>\n      <td>0</td>\n      <td>21</td>\n      <td>0</td>\n      <td>0</td>\n      <td>0</td>\n      <td>...</td>\n      <td>0</td>\n      <td>0</td>\n      <td>0</td>\n      <td>0</td>\n      <td>0</td>\n      <td>1</td>\n      <td>0</td>\n      <td>0</td>\n      <td>0</td>\n      <td>1</td>\n    </tr>\n    <tr>\n      <th>99996</th>\n      <td>2</td>\n      <td>1.534997e+00</td>\n      <td>-0.461057</td>\n      <td>-0.478448</td>\n      <td>-0.736948</td>\n      <td>1</td>\n      <td>49</td>\n      <td>0</td>\n      <td>0</td>\n      <td>0</td>\n      <td>...</td>\n      <td>0</td>\n      <td>0</td>\n      <td>0</td>\n      <td>0</td>\n      <td>1</td>\n      <td>0</td>\n      <td>0</td>\n      <td>1</td>\n      <td>0</td>\n      <td>0</td>\n    </tr>\n    <tr>\n      <th>99997</th>\n      <td>3</td>\n      <td>-7.526429e-02</td>\n      <td>-0.461057</td>\n      <td>-0.478448</td>\n      <td>-0.843549</td>\n      <td>1</td>\n      <td>49</td>\n      <td>0</td>\n      <td>0</td>\n      <td>0</td>\n      <td>...</td>\n      <td>0</td>\n      <td>0</td>\n      <td>0</td>\n      <td>0</td>\n      <td>1</td>\n      <td>0</td>\n      <td>0</td>\n      <td>1</td>\n      <td>0</td>\n      <td>0</td>\n    </tr>\n    <tr>\n      <th>99998</th>\n      <td>3</td>\n      <td>7.021033e-01</td>\n      <td>-0.461057</td>\n      <td>0.574104</td>\n      <td>0.253210</td>\n      <td>1</td>\n      <td>49</td>\n      <td>0</td>\n      <td>0</td>\n      <td>0</td>\n      <td>...</td>\n      <td>0</td>\n      <td>0</td>\n      <td>0</td>\n      <td>0</td>\n      <td>1</td>\n      <td>0</td>\n      <td>0</td>\n      <td>1</td>\n      <td>0</td>\n      <td>0</td>\n    </tr>\n    <tr>\n      <th>99999</th>\n      <td>3</td>\n      <td>9.242083e-01</td>\n      <td>-0.461057</td>\n      <td>-0.478448</td>\n      <td>-0.523673</td>\n      <td>1</td>\n      <td>49</td>\n      <td>0</td>\n      <td>0</td>\n      <td>0</td>\n      <td>...</td>\n      <td>0</td>\n      <td>0</td>\n      <td>0</td>\n      <td>0</td>\n      <td>1</td>\n      <td>0</td>\n      <td>0</td>\n      <td>1</td>\n      <td>0</td>\n      <td>0</td>\n    </tr>\n  </tbody>\n</table>\n<p>100000 rows × 21 columns</p>\n</div>"
     },
     "metadata": {},
     "execution_count": 13
    }
   ],
   "source": [
    "train_df"
   ]
  },
  {
   "cell_type": "code",
   "execution_count": 14,
   "metadata": {},
   "outputs": [
    {
     "output_type": "execute_result",
     "data": {
      "text/plain": [
       "       Pclass       Age     SibSp     Parch      Fare  Sex  Ticket  Cabin_A  \\\n",
       "0           3 -0.837655 -0.630852 -0.533599  0.935250    1      49        0   \n",
       "1           3  1.624802 -0.630852 -0.533599 -1.221265    0      49        0   \n",
       "2           1 -0.837655 -0.630852 -0.533599  0.480576    0      49        0   \n",
       "3           2 -0.403104 -0.630852 -0.533599 -0.532483    1      49        0   \n",
       "4           1 -0.982506 -0.630852  1.631851  0.135673    0      49        0   \n",
       "...       ...       ...       ...       ...       ...  ...     ...      ...   \n",
       "99995       3 -0.258254 -0.630852 -0.533599 -0.749323    0      49        0   \n",
       "99996       1  2.059353  0.665730 -0.533599  1.011813    1      49        0   \n",
       "99997       3  1.190251 -0.630852 -0.533599 -0.686505    1      49        0   \n",
       "99998       1  1.335101  0.665730  1.631851  0.227436    0      21        0   \n",
       "99999       1  0.755699 -0.630852  1.631851  2.014318    0      21        0   \n",
       "\n",
       "       Cabin_B  Cabin_C  Cabin_D  Cabin_E  Cabin_F  Cabin_G  Cabin_T  Cabin_X  \\\n",
       "0            0        0        0        0        0        0        0        1   \n",
       "1            0        0        0        0        0        0        0        1   \n",
       "2            1        0        0        0        0        0        0        0   \n",
       "3            0        0        0        0        0        0        0        1   \n",
       "4            1        0        0        0        0        0        0        0   \n",
       "...        ...      ...      ...      ...      ...      ...      ...      ...   \n",
       "99995        0        0        0        0        0        0        0        1   \n",
       "99996        0        0        0        0        0        0        0        1   \n",
       "99997        0        0        0        0        0        0        0        1   \n",
       "99998        1        0        0        0        0        0        0        0   \n",
       "99999        0        0        0        1        0        0        0        0   \n",
       "\n",
       "       Embarked_C  Embarked_Q  Embarked_S  Embarked_X  \n",
       "0               0           0           1           0  \n",
       "1               0           0           1           0  \n",
       "2               1           0           0           0  \n",
       "3               0           0           1           0  \n",
       "4               1           0           0           0  \n",
       "...           ...         ...         ...         ...  \n",
       "99995           0           1           0           0  \n",
       "99996           0           0           1           0  \n",
       "99997           0           0           1           0  \n",
       "99998           1           0           0           0  \n",
       "99999           1           0           0           0  \n",
       "\n",
       "[100000 rows x 20 columns]"
      ],
      "text/html": "<div>\n<style scoped>\n    .dataframe tbody tr th:only-of-type {\n        vertical-align: middle;\n    }\n\n    .dataframe tbody tr th {\n        vertical-align: top;\n    }\n\n    .dataframe thead th {\n        text-align: right;\n    }\n</style>\n<table border=\"1\" class=\"dataframe\">\n  <thead>\n    <tr style=\"text-align: right;\">\n      <th></th>\n      <th>Pclass</th>\n      <th>Age</th>\n      <th>SibSp</th>\n      <th>Parch</th>\n      <th>Fare</th>\n      <th>Sex</th>\n      <th>Ticket</th>\n      <th>Cabin_A</th>\n      <th>Cabin_B</th>\n      <th>Cabin_C</th>\n      <th>Cabin_D</th>\n      <th>Cabin_E</th>\n      <th>Cabin_F</th>\n      <th>Cabin_G</th>\n      <th>Cabin_T</th>\n      <th>Cabin_X</th>\n      <th>Embarked_C</th>\n      <th>Embarked_Q</th>\n      <th>Embarked_S</th>\n      <th>Embarked_X</th>\n    </tr>\n  </thead>\n  <tbody>\n    <tr>\n      <th>0</th>\n      <td>3</td>\n      <td>-0.837655</td>\n      <td>-0.630852</td>\n      <td>-0.533599</td>\n      <td>0.935250</td>\n      <td>1</td>\n      <td>49</td>\n      <td>0</td>\n      <td>0</td>\n      <td>0</td>\n      <td>0</td>\n      <td>0</td>\n      <td>0</td>\n      <td>0</td>\n      <td>0</td>\n      <td>1</td>\n      <td>0</td>\n      <td>0</td>\n      <td>1</td>\n      <td>0</td>\n    </tr>\n    <tr>\n      <th>1</th>\n      <td>3</td>\n      <td>1.624802</td>\n      <td>-0.630852</td>\n      <td>-0.533599</td>\n      <td>-1.221265</td>\n      <td>0</td>\n      <td>49</td>\n      <td>0</td>\n      <td>0</td>\n      <td>0</td>\n      <td>0</td>\n      <td>0</td>\n      <td>0</td>\n      <td>0</td>\n      <td>0</td>\n      <td>1</td>\n      <td>0</td>\n      <td>0</td>\n      <td>1</td>\n      <td>0</td>\n    </tr>\n    <tr>\n      <th>2</th>\n      <td>1</td>\n      <td>-0.837655</td>\n      <td>-0.630852</td>\n      <td>-0.533599</td>\n      <td>0.480576</td>\n      <td>0</td>\n      <td>49</td>\n      <td>0</td>\n      <td>1</td>\n      <td>0</td>\n      <td>0</td>\n      <td>0</td>\n      <td>0</td>\n      <td>0</td>\n      <td>0</td>\n      <td>0</td>\n      <td>1</td>\n      <td>0</td>\n      <td>0</td>\n      <td>0</td>\n    </tr>\n    <tr>\n      <th>3</th>\n      <td>2</td>\n      <td>-0.403104</td>\n      <td>-0.630852</td>\n      <td>-0.533599</td>\n      <td>-0.532483</td>\n      <td>1</td>\n      <td>49</td>\n      <td>0</td>\n      <td>0</td>\n      <td>0</td>\n      <td>0</td>\n      <td>0</td>\n      <td>0</td>\n      <td>0</td>\n      <td>0</td>\n      <td>1</td>\n      <td>0</td>\n      <td>0</td>\n      <td>1</td>\n      <td>0</td>\n    </tr>\n    <tr>\n      <th>4</th>\n      <td>1</td>\n      <td>-0.982506</td>\n      <td>-0.630852</td>\n      <td>1.631851</td>\n      <td>0.135673</td>\n      <td>0</td>\n      <td>49</td>\n      <td>0</td>\n      <td>1</td>\n      <td>0</td>\n      <td>0</td>\n      <td>0</td>\n      <td>0</td>\n      <td>0</td>\n      <td>0</td>\n      <td>0</td>\n      <td>1</td>\n      <td>0</td>\n      <td>0</td>\n      <td>0</td>\n    </tr>\n    <tr>\n      <th>...</th>\n      <td>...</td>\n      <td>...</td>\n      <td>...</td>\n      <td>...</td>\n      <td>...</td>\n      <td>...</td>\n      <td>...</td>\n      <td>...</td>\n      <td>...</td>\n      <td>...</td>\n      <td>...</td>\n      <td>...</td>\n      <td>...</td>\n      <td>...</td>\n      <td>...</td>\n      <td>...</td>\n      <td>...</td>\n      <td>...</td>\n      <td>...</td>\n      <td>...</td>\n    </tr>\n    <tr>\n      <th>99995</th>\n      <td>3</td>\n      <td>-0.258254</td>\n      <td>-0.630852</td>\n      <td>-0.533599</td>\n      <td>-0.749323</td>\n      <td>0</td>\n      <td>49</td>\n      <td>0</td>\n      <td>0</td>\n      <td>0</td>\n      <td>0</td>\n      <td>0</td>\n      <td>0</td>\n      <td>0</td>\n      <td>0</td>\n      <td>1</td>\n      <td>0</td>\n      <td>1</td>\n      <td>0</td>\n      <td>0</td>\n    </tr>\n    <tr>\n      <th>99996</th>\n      <td>1</td>\n      <td>2.059353</td>\n      <td>0.665730</td>\n      <td>-0.533599</td>\n      <td>1.011813</td>\n      <td>1</td>\n      <td>49</td>\n      <td>0</td>\n      <td>0</td>\n      <td>0</td>\n      <td>0</td>\n      <td>0</td>\n      <td>0</td>\n      <td>0</td>\n      <td>0</td>\n      <td>1</td>\n      <td>0</td>\n      <td>0</td>\n      <td>1</td>\n      <td>0</td>\n    </tr>\n    <tr>\n      <th>99997</th>\n      <td>3</td>\n      <td>1.190251</td>\n      <td>-0.630852</td>\n      <td>-0.533599</td>\n      <td>-0.686505</td>\n      <td>1</td>\n      <td>49</td>\n      <td>0</td>\n      <td>0</td>\n      <td>0</td>\n      <td>0</td>\n      <td>0</td>\n      <td>0</td>\n      <td>0</td>\n      <td>0</td>\n      <td>1</td>\n      <td>0</td>\n      <td>0</td>\n      <td>1</td>\n      <td>0</td>\n    </tr>\n    <tr>\n      <th>99998</th>\n      <td>1</td>\n      <td>1.335101</td>\n      <td>0.665730</td>\n      <td>1.631851</td>\n      <td>0.227436</td>\n      <td>0</td>\n      <td>21</td>\n      <td>0</td>\n      <td>1</td>\n      <td>0</td>\n      <td>0</td>\n      <td>0</td>\n      <td>0</td>\n      <td>0</td>\n      <td>0</td>\n      <td>0</td>\n      <td>1</td>\n      <td>0</td>\n      <td>0</td>\n      <td>0</td>\n    </tr>\n    <tr>\n      <th>99999</th>\n      <td>1</td>\n      <td>0.755699</td>\n      <td>-0.630852</td>\n      <td>1.631851</td>\n      <td>2.014318</td>\n      <td>0</td>\n      <td>21</td>\n      <td>0</td>\n      <td>0</td>\n      <td>0</td>\n      <td>0</td>\n      <td>1</td>\n      <td>0</td>\n      <td>0</td>\n      <td>0</td>\n      <td>0</td>\n      <td>1</td>\n      <td>0</td>\n      <td>0</td>\n      <td>0</td>\n    </tr>\n  </tbody>\n</table>\n<p>100000 rows × 20 columns</p>\n</div>"
     },
     "metadata": {},
     "execution_count": 14
    }
   ],
   "source": [
    "test_df"
   ]
  },
  {
   "source": [
    "# 1. DATA"
   ],
   "cell_type": "markdown",
   "metadata": {}
  },
  {
   "cell_type": "code",
   "execution_count": 15,
   "metadata": {},
   "outputs": [],
   "source": [
    "N_ESTIMATORS = 1000\n",
    "N_SPLITS = 10\n",
    "SEED = 2021\n",
    "EARLY_STOPPING_ROUNDS = 20\n",
    "VERBOSE = 0\n",
    "\n",
    "skf = StratifiedKFold(n_splits=N_SPLITS, shuffle=True, random_state=SEED)"
   ]
  },
  {
   "cell_type": "code",
   "execution_count": 16,
   "metadata": {},
   "outputs": [
    {
     "output_type": "stream",
     "name": "stdout",
     "text": [
      "(100000, 20) (100000,)\n"
     ]
    }
   ],
   "source": [
    "# 훈련 데이터 셋\n",
    "x = train_df.drop(['y_target'], axis=1)\n",
    "y = train_df['y_target']\n",
    "x = x.to_numpy()\n",
    "y = y.to_numpy()\n",
    "print(x.shape, y.shape)"
   ]
  },
  {
   "cell_type": "code",
   "execution_count": 17,
   "metadata": {},
   "outputs": [
    {
     "output_type": "stream",
     "name": "stdout",
     "text": [
      "(100000, 20)\n"
     ]
    }
   ],
   "source": [
    "# 예측 데이터 셋\n",
    "x_pred = test_df\n",
    "x_pred = x_pred.to_numpy()\n",
    "print(x_pred.shape)"
   ]
  },
  {
   "cell_type": "code",
   "execution_count": 18,
   "metadata": {},
   "outputs": [],
   "source": [
    "# x_train, x_val, y_train, y_val = train_test_split(x, y, train_size=0.8, shuffle=True, random_state=42)\n",
    "# print(x_train.shape, x_val.shape)   # (80000, 20) (20000, 20)\n",
    "# print(y_train.shape, y_val.shape)   # (80000,) (20000,)"
   ]
  },
  {
   "source": [
    "# 2. Model"
   ],
   "cell_type": "markdown",
   "metadata": {}
  },
  {
   "cell_type": "code",
   "execution_count": 19,
   "metadata": {
    "tags": []
   },
   "outputs": [
    {
     "output_type": "stream",
     "name": "stdout",
     "text": [
      "=====Fold 0=====\n",
      "===== ACCURACY SCORE 0.777900 =====\n",
      "=====Fold 1=====\n",
      "===== ACCURACY SCORE 0.789000 =====\n",
      "=====Fold 2=====\n",
      "===== ACCURACY SCORE 0.783600 =====\n",
      "=====Fold 3=====\n",
      "===== ACCURACY SCORE 0.782900 =====\n",
      "=====Fold 4=====\n",
      "===== ACCURACY SCORE 0.783300 =====\n",
      "=====Fold 5=====\n",
      "===== ACCURACY SCORE 0.782400 =====\n",
      "=====Fold 6=====\n",
      "===== ACCURACY SCORE 0.783900 =====\n",
      "=====Fold 7=====\n",
      "===== ACCURACY SCORE 0.787900 =====\n",
      "=====Fold 8=====\n",
      "===== ACCURACY SCORE 0.776700 =====\n",
      "=====Fold 9=====\n",
      "===== ACCURACY SCORE 0.778700 =====\n",
      "===== ACCURACY SCORE 0.778700 =====\n"
     ]
    }
   ],
   "source": [
    "import catboost as ctb\n",
    "\n",
    "params = {\n",
    "    'bootstrap_type': 'Poisson',\n",
    "    'loss_function': 'Logloss',\n",
    "    'eval_metric': 'Logloss',\n",
    "    'random_seed': SEED,\n",
    "    'task_type': 'GPU',\n",
    "    'max_depth': 8,\n",
    "    'learning_rate': 0.01,\n",
    "    'n_estimators': N_ESTIMATORS,\n",
    "    'max_bin': 280,\n",
    "    'min_data_in_leaf': 64,\n",
    "    'l2_leaf_reg': 0.01,\n",
    "    'subsample': 0.8\n",
    "}\n",
    "\n",
    "y_pred = np.zeros(x_pred.shape[0])\n",
    "# print(y_pred.shape)\n",
    "\n",
    "#KFold\n",
    "for fold, (train_idx, valid_idx) in enumerate(skf.split(x, y)) :\n",
    "    print(f\"=====Fold {fold}=====\")\n",
    "    x_train = x[train_idx]\n",
    "    x_val = x[valid_idx]\n",
    "    y_train = y[train_idx]\n",
    "    y_val = y[valid_idx]  \n",
    "    # print(x_train.shape, x_val.shape)  # (90000, 20) (10000, 20)\n",
    "    # print(y_train.shape, y_val.shape)  # (90000,) (10000,)\n",
    "    \n",
    "\n",
    "    model = ctb.CatBoostClassifier(**params)\n",
    "    model.fit(x_train, y_train,\n",
    "            eval_set=[(x_val, y_val)],\n",
    "            use_best_model=True,\n",
    "            early_stopping_rounds=EARLY_STOPPING_ROUNDS,\n",
    "            verbose=VERBOSE)\n",
    "\n",
    "    y_val_pred = model.predict(x_val)\n",
    "    acc_score = accuracy_score(y_val, y_val_pred)\n",
    "    print(f\"===== ACCURACY SCORE {acc_score:.6f} =====\")    # 0.778700\n",
    "\n",
    "    y_pred += model.predict(x_pred)\n",
    "\n",
    "acc_score = accuracy_score(y_val, y_val_pred)\n",
    "print(f\"===== ACCURACY SCORE {acc_score:.6f} =====\")    # 0.778700\n"
   ]
  },
  {
   "source": [
    "# 3. Predict"
   ],
   "cell_type": "markdown",
   "metadata": {}
  },
  {
   "cell_type": "code",
   "execution_count": 20,
   "metadata": {},
   "outputs": [
    {
     "output_type": "execute_result",
     "data": {
      "text/plain": [
       "(100000,)"
      ]
     },
     "metadata": {},
     "execution_count": 20
    }
   ],
   "source": [
    "y_pred /= N_SPLITS\n",
    "y_pred.shape"
   ]
  },
  {
   "cell_type": "code",
   "execution_count": 21,
   "metadata": {},
   "outputs": [
    {
     "output_type": "execute_result",
     "data": {
      "text/plain": [
       "       PassengerId  Survived\n",
       "0           100000         0\n",
       "1           100001         1\n",
       "2           100002         1\n",
       "3           100003         0\n",
       "4           100004         1\n",
       "...            ...       ...\n",
       "99995       199995         1\n",
       "99996       199996         0\n",
       "99997       199997         0\n",
       "99998       199998         1\n",
       "99999       199999         1\n",
       "\n",
       "[100000 rows x 2 columns]"
      ],
      "text/html": "<div>\n<style scoped>\n    .dataframe tbody tr th:only-of-type {\n        vertical-align: middle;\n    }\n\n    .dataframe tbody tr th {\n        vertical-align: top;\n    }\n\n    .dataframe thead th {\n        text-align: right;\n    }\n</style>\n<table border=\"1\" class=\"dataframe\">\n  <thead>\n    <tr style=\"text-align: right;\">\n      <th></th>\n      <th>PassengerId</th>\n      <th>Survived</th>\n    </tr>\n  </thead>\n  <tbody>\n    <tr>\n      <th>0</th>\n      <td>100000</td>\n      <td>0</td>\n    </tr>\n    <tr>\n      <th>1</th>\n      <td>100001</td>\n      <td>1</td>\n    </tr>\n    <tr>\n      <th>2</th>\n      <td>100002</td>\n      <td>1</td>\n    </tr>\n    <tr>\n      <th>3</th>\n      <td>100003</td>\n      <td>0</td>\n    </tr>\n    <tr>\n      <th>4</th>\n      <td>100004</td>\n      <td>1</td>\n    </tr>\n    <tr>\n      <th>...</th>\n      <td>...</td>\n      <td>...</td>\n    </tr>\n    <tr>\n      <th>99995</th>\n      <td>199995</td>\n      <td>1</td>\n    </tr>\n    <tr>\n      <th>99996</th>\n      <td>199996</td>\n      <td>0</td>\n    </tr>\n    <tr>\n      <th>99997</th>\n      <td>199997</td>\n      <td>0</td>\n    </tr>\n    <tr>\n      <th>99998</th>\n      <td>199998</td>\n      <td>1</td>\n    </tr>\n    <tr>\n      <th>99999</th>\n      <td>199999</td>\n      <td>1</td>\n    </tr>\n  </tbody>\n</table>\n<p>100000 rows × 2 columns</p>\n</div>"
     },
     "metadata": {},
     "execution_count": 21
    }
   ],
   "source": [
    "submission['Survived'] = np.round(y_pred).astype(int)\n",
    "submission"
   ]
  },
  {
   "source": [
    "# 4.Submission"
   ],
   "cell_type": "markdown",
   "metadata": {}
  },
  {
   "cell_type": "code",
   "execution_count": 22,
   "metadata": {},
   "outputs": [
    {
     "output_type": "execute_result",
     "data": {
      "text/plain": [
       "       PassengerId  Survived\n",
       "0           100000         0\n",
       "1           100001         1\n",
       "2           100002         1\n",
       "3           100003         0\n",
       "4           100004         1\n",
       "...            ...       ...\n",
       "99995       199995         1\n",
       "99996       199996         0\n",
       "99997       199997         0\n",
       "99998       199998         1\n",
       "99999       199999         1\n",
       "\n",
       "[100000 rows x 2 columns]"
      ],
      "text/html": "<div>\n<style scoped>\n    .dataframe tbody tr th:only-of-type {\n        vertical-align: middle;\n    }\n\n    .dataframe tbody tr th {\n        vertical-align: top;\n    }\n\n    .dataframe thead th {\n        text-align: right;\n    }\n</style>\n<table border=\"1\" class=\"dataframe\">\n  <thead>\n    <tr style=\"text-align: right;\">\n      <th></th>\n      <th>PassengerId</th>\n      <th>Survived</th>\n    </tr>\n  </thead>\n  <tbody>\n    <tr>\n      <th>0</th>\n      <td>100000</td>\n      <td>0</td>\n    </tr>\n    <tr>\n      <th>1</th>\n      <td>100001</td>\n      <td>1</td>\n    </tr>\n    <tr>\n      <th>2</th>\n      <td>100002</td>\n      <td>1</td>\n    </tr>\n    <tr>\n      <th>3</th>\n      <td>100003</td>\n      <td>0</td>\n    </tr>\n    <tr>\n      <th>4</th>\n      <td>100004</td>\n      <td>1</td>\n    </tr>\n    <tr>\n      <th>...</th>\n      <td>...</td>\n      <td>...</td>\n    </tr>\n    <tr>\n      <th>99995</th>\n      <td>199995</td>\n      <td>1</td>\n    </tr>\n    <tr>\n      <th>99996</th>\n      <td>199996</td>\n      <td>0</td>\n    </tr>\n    <tr>\n      <th>99997</th>\n      <td>199997</td>\n      <td>0</td>\n    </tr>\n    <tr>\n      <th>99998</th>\n      <td>199998</td>\n      <td>1</td>\n    </tr>\n    <tr>\n      <th>99999</th>\n      <td>199999</td>\n      <td>1</td>\n    </tr>\n  </tbody>\n</table>\n<p>100000 rows × 2 columns</p>\n</div>"
     },
     "metadata": {},
     "execution_count": 22
    }
   ],
   "source": [
    "submission.to_csv(\"E:\\\\data\\\\kaggle_tabular\\\\submission_0425_catboost6.csv\", index = False)\n",
    "submission"
   ]
  },
  {
   "source": [
    "---\n",
    "파일명 : submission_0425_catboost6.csv     \n",
    "score : 0.80196    \n",
    "-> standardscaler 한 것보다 minmaxscaler한 게 더 점수가 잘 나왔음"
   ],
   "cell_type": "markdown",
   "metadata": {}
  }
 ]
}