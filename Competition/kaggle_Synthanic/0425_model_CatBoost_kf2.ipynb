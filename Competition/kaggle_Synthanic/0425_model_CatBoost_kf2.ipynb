{
 "metadata": {
  "language_info": {
   "codemirror_mode": {
    "name": "ipython",
    "version": 3
   },
   "file_extension": ".py",
   "mimetype": "text/x-python",
   "name": "python",
   "nbconvert_exporter": "python",
   "pygments_lexer": "ipython3",
   "version": "3.8.5"
  },
  "orig_nbformat": 2,
  "kernelspec": {
   "name": "python385jvsc74a57bd0cfed29639e118e2330c8cca2e9f389b076390c6676518be5d289ddd682bc9f99",
   "display_name": "Python 3.8.5 64-bit (conda)"
  }
 },
 "nbformat": 4,
 "nbformat_minor": 2,
 "cells": [
  {
   "cell_type": "code",
   "execution_count": 1,
   "metadata": {},
   "outputs": [],
   "source": [
    "import pandas as pd\n",
    "import numpy as np\n",
    "import random\n",
    "import os\n",
    "\n",
    "from sklearn.metrics import accuracy_score\n",
    "from sklearn.preprocessing import LabelEncoder, StandardScaler, OneHotEncoder, MinMaxScaler\n",
    "from sklearn.model_selection import train_test_split, KFold, StratifiedKFold\n",
    "\n",
    "train_df = pd.read_csv('E:\\data\\kaggle_tabular/train.csv')\n",
    "test_df = pd.read_csv('E:\\data\\kaggle_tabular/test.csv')\n",
    "submission = pd.read_csv('E:\\data\\kaggle_tabular/sample_submission.csv')"
   ]
  },
  {
   "source": [
    "https://www.kaggle.com/hiro5299834/tps-apr-2021-pseudo-labeling-voting-ensemble"
   ],
   "cell_type": "markdown",
   "metadata": {}
  },
  {
   "source": [
    "앞으로 해볼 것    \n",
    "K-fold    \n",
    "GridSearchCV  > 튜닝하기      \n",
    "best_columns를 구할 수 있는 게 있었던 거 같은데 - from sklearn.feature_selection import SelectFromModel    > 중요 컬람만 남기기    "
   ],
   "cell_type": "markdown",
   "metadata": {}
  },
  {
   "source": [
    "# data 전처리"
   ],
   "cell_type": "markdown",
   "metadata": {}
  },
  {
   "source": [
    "* Pclass - a proxy for socio-economic status (SES) where 1st = Upper, 2nd = Middle and 3rd = Lower.\n",
    "* Sex - male and female.\n",
    "* Age - fractional if it less than 1 and age estimation in the form of xx.5.\n",
    "* SibSp - number of siblings / spouses aboard the Synthanic; siblings are brother, sister, stepbrother and stepsister and spouses are husband and wife (mistresses and fiancés were ignored).\n",
    "* Parch - # of parents / children aboard the Synthanic; parents are mother and father; child are daughter, son, stepdaughter and stepson. Some children travelled only with a nanny, therefore Parch is 0 for them.\n",
    "* Fare - the paassenger fare.\n",
    "* Cabin - the cabin number.\n",
    "* Emarked - port of embarkation where C is Cherbourg, Q is Queenstown and S is Southampton.\n",
    "* Ticket - ticket number.\n",
    "* Name - passengers name.\n",
    "* Survived - target variable where 0 is not survived and 1 is survived."
   ],
   "cell_type": "markdown",
   "metadata": {}
  },
  {
   "source": [
    "* 결측값 채우기"
   ],
   "cell_type": "markdown",
   "metadata": {}
  },
  {
   "cell_type": "code",
   "execution_count": 2,
   "metadata": {},
   "outputs": [
    {
     "output_type": "stream",
     "name": "stdout",
     "text": [
      "Missing values per columns in train dataset\nPassengerId: 0\nSurvived: 0\nPclass: 0\nName: 0\nSex: 0\nAge: 3292\nSibSp: 0\nParch: 0\nTicket: 4623\nFare: 134\nCabin: 67866\nEmbarked: 250\n"
     ]
    }
   ],
   "source": [
    "print('Missing values per columns in train dataset')\n",
    "for col in train_df.columns:\n",
    "    temp_col = train_df[col].isnull().sum()\n",
    "    print(f'{col}: {temp_col}')"
   ]
  },
  {
   "cell_type": "code",
   "execution_count": 3,
   "metadata": {},
   "outputs": [],
   "source": [
    "# col = 'Age' 평균 나이로 결측값 채우기\n",
    "train_df['Age'] = train_df['Age'].fillna(train_df['Age'].mean())\n",
    "test_df['Age'] = test_df['Age'].fillna(test_df['Age'].mean())"
   ]
  },
  {
   "cell_type": "code",
   "execution_count": 4,
   "metadata": {},
   "outputs": [
    {
     "output_type": "execute_result",
     "data": {
      "text/plain": [
       "0      X\n",
       "1      X\n",
       "2     CA\n",
       "3     A.\n",
       "4      X\n",
       "      ..\n",
       "95     X\n",
       "96     X\n",
       "97    PC\n",
       "98     X\n",
       "99     X\n",
       "Name: Ticket, Length: 100, dtype: object"
      ]
     },
     "metadata": {},
     "execution_count": 4
    }
   ],
   "source": [
    "# col = 'Ticket', 결측값 'X'로 채우기\n",
    "train_df['Ticket'] = train_df['Ticket'].fillna('X').map(lambda x:str(x).split()[0] if len(str(x).split()) > 1 else 'X')\n",
    "test_df['Ticket'] = test_df['Ticket'].fillna('X').map(lambda x:str(x).split()[0] if len(str(x).split()) > 1 else 'X')\n",
    "train_df['Ticket'][:100]"
   ]
  },
  {
   "cell_type": "code",
   "execution_count": 5,
   "metadata": {},
   "outputs": [
    {
     "output_type": "execute_result",
     "data": {
      "text/plain": [
       "0     C\n",
       "1     X\n",
       "2     X\n",
       "3     X\n",
       "4     X\n",
       "     ..\n",
       "95    X\n",
       "96    X\n",
       "97    D\n",
       "98    X\n",
       "99    C\n",
       "Name: Cabin, Length: 100, dtype: object"
      ]
     },
     "metadata": {},
     "execution_count": 5
    }
   ],
   "source": [
    "# col = 'Cabin', 결측값 'X'로 채우기\n",
    "train_df['Cabin'] = train_df['Cabin'].fillna('X').map(lambda x: x[0].strip())\n",
    "test_df['Cabin'] = test_df['Cabin'].fillna('X').map(lambda x: x[0].strip())\n",
    "train_df['Cabin'][:100]"
   ]
  },
  {
   "cell_type": "code",
   "execution_count": 6,
   "metadata": {},
   "outputs": [
    {
     "output_type": "execute_result",
     "data": {
      "text/plain": [
       "0     S\n",
       "1     S\n",
       "2     S\n",
       "3     S\n",
       "4     S\n",
       "     ..\n",
       "95    S\n",
       "96    Q\n",
       "97    Q\n",
       "98    S\n",
       "99    C\n",
       "Name: Embarked, Length: 100, dtype: object"
      ]
     },
     "metadata": {},
     "execution_count": 6
    }
   ],
   "source": [
    "# col = 'Embarked', 결측값 'X'로 채우기\n",
    "train_df['Embarked'] = train_df['Embarked'].fillna('X')\n",
    "test_df['Embarked'] = test_df['Embarked'].fillna('X')\n",
    "train_df['Embarked'][:100]"
   ]
  },
  {
   "cell_type": "code",
   "execution_count": 7,
   "metadata": {},
   "outputs": [
    {
     "output_type": "execute_result",
     "data": {
      "text/plain": [
       "0     3.337192\n",
       "1     2.663750\n",
       "2     4.280686\n",
       "3     2.641910\n",
       "4     2.170196\n",
       "        ...   \n",
       "95    3.503754\n",
       "96    3.312730\n",
       "97    4.884921\n",
       "98    3.363149\n",
       "99    5.633217\n",
       "Name: Fare, Length: 100, dtype: float64"
      ]
     },
     "metadata": {},
     "execution_count": 7
    }
   ],
   "source": [
    "# col = 'Fare', 결측값 각 Pclass 마다 fare 중앙값을 넣는다.\n",
    "fare_map =  train_df[['Fare', 'Pclass']].dropna().groupby('Pclass').median().to_dict()\n",
    "# fare_map    # {'Fare': {1: 63.58, 2: 22.72, 3: 10.96}}\n",
    "train_df['Fare'] = train_df['Fare'].fillna(train_df['Pclass'].map(fare_map['Fare']))\n",
    "train_df['Fare'] = np.log1p(train_df['Fare'])\n",
    "train_df['Fare'][:100]"
   ]
  },
  {
   "cell_type": "code",
   "execution_count": 8,
   "metadata": {},
   "outputs": [
    {
     "output_type": "execute_result",
     "data": {
      "text/plain": [
       "0     4.159039\n",
       "1     1.918392\n",
       "2     3.686627\n",
       "3     2.634045\n",
       "4     3.328268\n",
       "        ...   \n",
       "95    2.249184\n",
       "96    2.621766\n",
       "97    1.969906\n",
       "98    2.536866\n",
       "99    3.469479\n",
       "Name: Fare, Length: 100, dtype: float64"
      ]
     },
     "metadata": {},
     "execution_count": 8
    }
   ],
   "source": [
    "# col = 'Fare', 결측값 각 Pclass 마다 fare 중앙값을 넣는다.\n",
    "fare_map =  test_df[['Fare', 'Pclass']].dropna().groupby('Pclass').median().to_dict()\n",
    "# fare_map    # {'Fare': {1: 80.68, 2: 14.455, 3: 11.52}}\n",
    "test_df['Fare'] = test_df['Fare'].fillna(test_df['Pclass'].map(fare_map['Fare']))\n",
    "test_df['Fare'] = np.log1p(test_df['Fare'])\n",
    "test_df['Fare'][:100]"
   ]
  },
  {
   "source": [
    "* 앞 이름만 가져오기"
   ],
   "cell_type": "markdown",
   "metadata": {}
  },
  {
   "cell_type": "code",
   "execution_count": 9,
   "metadata": {},
   "outputs": [
    {
     "output_type": "execute_result",
     "data": {
      "text/plain": [
       "       PassengerId  Survived  Pclass       Name     Sex        Age  SibSp  \\\n",
       "0                0         1       1    Oconnor    male  38.355472      2   \n",
       "1                1         0       3      Bryan    male  38.355472      0   \n",
       "2                2         0       3      Owens    male   0.330000      1   \n",
       "3                3         0       3     Kramer    male  19.000000      0   \n",
       "4                4         1       3       Bond    male  25.000000      0   \n",
       "...            ...       ...     ...        ...     ...        ...    ...   \n",
       "99995        99995         1       2       Bell  female  62.000000      0   \n",
       "99996        99996         0       2      Brown    male  66.000000      0   \n",
       "99997        99997         0       3  Childress    male  37.000000      0   \n",
       "99998        99998         0       3   Caughlin    male  51.000000      0   \n",
       "99999        99999         0       3     Enciso    male  55.000000      0   \n",
       "\n",
       "       Parch Ticket      Fare Cabin Embarked  \n",
       "0          0      X  3.337192     C        S  \n",
       "1          0      X  2.663750     X        S  \n",
       "2          2     CA  4.280686     X        S  \n",
       "3          0     A.  2.641910     X        S  \n",
       "4          0      X  2.170196     X        S  \n",
       "...      ...    ...       ...   ...      ...  \n",
       "99995      0     PC  2.763800     D        C  \n",
       "99996      0      X  2.497329     X        S  \n",
       "99997      0      X  2.393339     X        S  \n",
       "99998      1      X  3.463233     X        S  \n",
       "99999      0      X  2.705380     X        S  \n",
       "\n",
       "[100000 rows x 12 columns]"
      ],
      "text/html": "<div>\n<style scoped>\n    .dataframe tbody tr th:only-of-type {\n        vertical-align: middle;\n    }\n\n    .dataframe tbody tr th {\n        vertical-align: top;\n    }\n\n    .dataframe thead th {\n        text-align: right;\n    }\n</style>\n<table border=\"1\" class=\"dataframe\">\n  <thead>\n    <tr style=\"text-align: right;\">\n      <th></th>\n      <th>PassengerId</th>\n      <th>Survived</th>\n      <th>Pclass</th>\n      <th>Name</th>\n      <th>Sex</th>\n      <th>Age</th>\n      <th>SibSp</th>\n      <th>Parch</th>\n      <th>Ticket</th>\n      <th>Fare</th>\n      <th>Cabin</th>\n      <th>Embarked</th>\n    </tr>\n  </thead>\n  <tbody>\n    <tr>\n      <th>0</th>\n      <td>0</td>\n      <td>1</td>\n      <td>1</td>\n      <td>Oconnor</td>\n      <td>male</td>\n      <td>38.355472</td>\n      <td>2</td>\n      <td>0</td>\n      <td>X</td>\n      <td>3.337192</td>\n      <td>C</td>\n      <td>S</td>\n    </tr>\n    <tr>\n      <th>1</th>\n      <td>1</td>\n      <td>0</td>\n      <td>3</td>\n      <td>Bryan</td>\n      <td>male</td>\n      <td>38.355472</td>\n      <td>0</td>\n      <td>0</td>\n      <td>X</td>\n      <td>2.663750</td>\n      <td>X</td>\n      <td>S</td>\n    </tr>\n    <tr>\n      <th>2</th>\n      <td>2</td>\n      <td>0</td>\n      <td>3</td>\n      <td>Owens</td>\n      <td>male</td>\n      <td>0.330000</td>\n      <td>1</td>\n      <td>2</td>\n      <td>CA</td>\n      <td>4.280686</td>\n      <td>X</td>\n      <td>S</td>\n    </tr>\n    <tr>\n      <th>3</th>\n      <td>3</td>\n      <td>0</td>\n      <td>3</td>\n      <td>Kramer</td>\n      <td>male</td>\n      <td>19.000000</td>\n      <td>0</td>\n      <td>0</td>\n      <td>A.</td>\n      <td>2.641910</td>\n      <td>X</td>\n      <td>S</td>\n    </tr>\n    <tr>\n      <th>4</th>\n      <td>4</td>\n      <td>1</td>\n      <td>3</td>\n      <td>Bond</td>\n      <td>male</td>\n      <td>25.000000</td>\n      <td>0</td>\n      <td>0</td>\n      <td>X</td>\n      <td>2.170196</td>\n      <td>X</td>\n      <td>S</td>\n    </tr>\n    <tr>\n      <th>...</th>\n      <td>...</td>\n      <td>...</td>\n      <td>...</td>\n      <td>...</td>\n      <td>...</td>\n      <td>...</td>\n      <td>...</td>\n      <td>...</td>\n      <td>...</td>\n      <td>...</td>\n      <td>...</td>\n      <td>...</td>\n    </tr>\n    <tr>\n      <th>99995</th>\n      <td>99995</td>\n      <td>1</td>\n      <td>2</td>\n      <td>Bell</td>\n      <td>female</td>\n      <td>62.000000</td>\n      <td>0</td>\n      <td>0</td>\n      <td>PC</td>\n      <td>2.763800</td>\n      <td>D</td>\n      <td>C</td>\n    </tr>\n    <tr>\n      <th>99996</th>\n      <td>99996</td>\n      <td>0</td>\n      <td>2</td>\n      <td>Brown</td>\n      <td>male</td>\n      <td>66.000000</td>\n      <td>0</td>\n      <td>0</td>\n      <td>X</td>\n      <td>2.497329</td>\n      <td>X</td>\n      <td>S</td>\n    </tr>\n    <tr>\n      <th>99997</th>\n      <td>99997</td>\n      <td>0</td>\n      <td>3</td>\n      <td>Childress</td>\n      <td>male</td>\n      <td>37.000000</td>\n      <td>0</td>\n      <td>0</td>\n      <td>X</td>\n      <td>2.393339</td>\n      <td>X</td>\n      <td>S</td>\n    </tr>\n    <tr>\n      <th>99998</th>\n      <td>99998</td>\n      <td>0</td>\n      <td>3</td>\n      <td>Caughlin</td>\n      <td>male</td>\n      <td>51.000000</td>\n      <td>0</td>\n      <td>1</td>\n      <td>X</td>\n      <td>3.463233</td>\n      <td>X</td>\n      <td>S</td>\n    </tr>\n    <tr>\n      <th>99999</th>\n      <td>99999</td>\n      <td>0</td>\n      <td>3</td>\n      <td>Enciso</td>\n      <td>male</td>\n      <td>55.000000</td>\n      <td>0</td>\n      <td>0</td>\n      <td>X</td>\n      <td>2.705380</td>\n      <td>X</td>\n      <td>S</td>\n    </tr>\n  </tbody>\n</table>\n<p>100000 rows × 12 columns</p>\n</div>"
     },
     "metadata": {},
     "execution_count": 9
    }
   ],
   "source": [
    "train_df['Name'] = train_df['Name'].map(lambda x: x.split(',')[0])\n",
    "test_df['Name'] = test_df['Name'].map(lambda x: x.split(',')[0])\n",
    "train_df"
   ]
  },
  {
   "source": [
    "* 'Survived' 컬럼을 맨 뒤로 보내기"
   ],
   "cell_type": "markdown",
   "metadata": {}
  },
  {
   "cell_type": "code",
   "execution_count": 10,
   "metadata": {},
   "outputs": [
    {
     "output_type": "execute_result",
     "data": {
      "text/plain": [
       "       PassengerId  Pclass       Name     Sex        Age  SibSp  Parch Ticket  \\\n",
       "0                0       1    Oconnor    male  38.355472      2      0      X   \n",
       "1                1       3      Bryan    male  38.355472      0      0      X   \n",
       "2                2       3      Owens    male   0.330000      1      2     CA   \n",
       "3                3       3     Kramer    male  19.000000      0      0     A.   \n",
       "4                4       3       Bond    male  25.000000      0      0      X   \n",
       "...            ...     ...        ...     ...        ...    ...    ...    ...   \n",
       "99995        99995       2       Bell  female  62.000000      0      0     PC   \n",
       "99996        99996       2      Brown    male  66.000000      0      0      X   \n",
       "99997        99997       3  Childress    male  37.000000      0      0      X   \n",
       "99998        99998       3   Caughlin    male  51.000000      0      1      X   \n",
       "99999        99999       3     Enciso    male  55.000000      0      0      X   \n",
       "\n",
       "           Fare Cabin Embarked  y_target  \n",
       "0      3.337192     C        S         1  \n",
       "1      2.663750     X        S         0  \n",
       "2      4.280686     X        S         0  \n",
       "3      2.641910     X        S         0  \n",
       "4      2.170196     X        S         1  \n",
       "...         ...   ...      ...       ...  \n",
       "99995  2.763800     D        C         1  \n",
       "99996  2.497329     X        S         0  \n",
       "99997  2.393339     X        S         0  \n",
       "99998  3.463233     X        S         0  \n",
       "99999  2.705380     X        S         0  \n",
       "\n",
       "[100000 rows x 12 columns]"
      ],
      "text/html": "<div>\n<style scoped>\n    .dataframe tbody tr th:only-of-type {\n        vertical-align: middle;\n    }\n\n    .dataframe tbody tr th {\n        vertical-align: top;\n    }\n\n    .dataframe thead th {\n        text-align: right;\n    }\n</style>\n<table border=\"1\" class=\"dataframe\">\n  <thead>\n    <tr style=\"text-align: right;\">\n      <th></th>\n      <th>PassengerId</th>\n      <th>Pclass</th>\n      <th>Name</th>\n      <th>Sex</th>\n      <th>Age</th>\n      <th>SibSp</th>\n      <th>Parch</th>\n      <th>Ticket</th>\n      <th>Fare</th>\n      <th>Cabin</th>\n      <th>Embarked</th>\n      <th>y_target</th>\n    </tr>\n  </thead>\n  <tbody>\n    <tr>\n      <th>0</th>\n      <td>0</td>\n      <td>1</td>\n      <td>Oconnor</td>\n      <td>male</td>\n      <td>38.355472</td>\n      <td>2</td>\n      <td>0</td>\n      <td>X</td>\n      <td>3.337192</td>\n      <td>C</td>\n      <td>S</td>\n      <td>1</td>\n    </tr>\n    <tr>\n      <th>1</th>\n      <td>1</td>\n      <td>3</td>\n      <td>Bryan</td>\n      <td>male</td>\n      <td>38.355472</td>\n      <td>0</td>\n      <td>0</td>\n      <td>X</td>\n      <td>2.663750</td>\n      <td>X</td>\n      <td>S</td>\n      <td>0</td>\n    </tr>\n    <tr>\n      <th>2</th>\n      <td>2</td>\n      <td>3</td>\n      <td>Owens</td>\n      <td>male</td>\n      <td>0.330000</td>\n      <td>1</td>\n      <td>2</td>\n      <td>CA</td>\n      <td>4.280686</td>\n      <td>X</td>\n      <td>S</td>\n      <td>0</td>\n    </tr>\n    <tr>\n      <th>3</th>\n      <td>3</td>\n      <td>3</td>\n      <td>Kramer</td>\n      <td>male</td>\n      <td>19.000000</td>\n      <td>0</td>\n      <td>0</td>\n      <td>A.</td>\n      <td>2.641910</td>\n      <td>X</td>\n      <td>S</td>\n      <td>0</td>\n    </tr>\n    <tr>\n      <th>4</th>\n      <td>4</td>\n      <td>3</td>\n      <td>Bond</td>\n      <td>male</td>\n      <td>25.000000</td>\n      <td>0</td>\n      <td>0</td>\n      <td>X</td>\n      <td>2.170196</td>\n      <td>X</td>\n      <td>S</td>\n      <td>1</td>\n    </tr>\n    <tr>\n      <th>...</th>\n      <td>...</td>\n      <td>...</td>\n      <td>...</td>\n      <td>...</td>\n      <td>...</td>\n      <td>...</td>\n      <td>...</td>\n      <td>...</td>\n      <td>...</td>\n      <td>...</td>\n      <td>...</td>\n      <td>...</td>\n    </tr>\n    <tr>\n      <th>99995</th>\n      <td>99995</td>\n      <td>2</td>\n      <td>Bell</td>\n      <td>female</td>\n      <td>62.000000</td>\n      <td>0</td>\n      <td>0</td>\n      <td>PC</td>\n      <td>2.763800</td>\n      <td>D</td>\n      <td>C</td>\n      <td>1</td>\n    </tr>\n    <tr>\n      <th>99996</th>\n      <td>99996</td>\n      <td>2</td>\n      <td>Brown</td>\n      <td>male</td>\n      <td>66.000000</td>\n      <td>0</td>\n      <td>0</td>\n      <td>X</td>\n      <td>2.497329</td>\n      <td>X</td>\n      <td>S</td>\n      <td>0</td>\n    </tr>\n    <tr>\n      <th>99997</th>\n      <td>99997</td>\n      <td>3</td>\n      <td>Childress</td>\n      <td>male</td>\n      <td>37.000000</td>\n      <td>0</td>\n      <td>0</td>\n      <td>X</td>\n      <td>2.393339</td>\n      <td>X</td>\n      <td>S</td>\n      <td>0</td>\n    </tr>\n    <tr>\n      <th>99998</th>\n      <td>99998</td>\n      <td>3</td>\n      <td>Caughlin</td>\n      <td>male</td>\n      <td>51.000000</td>\n      <td>0</td>\n      <td>1</td>\n      <td>X</td>\n      <td>3.463233</td>\n      <td>X</td>\n      <td>S</td>\n      <td>0</td>\n    </tr>\n    <tr>\n      <th>99999</th>\n      <td>99999</td>\n      <td>3</td>\n      <td>Enciso</td>\n      <td>male</td>\n      <td>55.000000</td>\n      <td>0</td>\n      <td>0</td>\n      <td>X</td>\n      <td>2.705380</td>\n      <td>X</td>\n      <td>S</td>\n      <td>0</td>\n    </tr>\n  </tbody>\n</table>\n<p>100000 rows × 12 columns</p>\n</div>"
     },
     "metadata": {},
     "execution_count": 10
    }
   ],
   "source": [
    "train_df['y_target'] = train_df['Survived']\n",
    "train_df = train_df.drop(['Survived'], axis=1)\n",
    "train_df"
   ]
  },
  {
   "source": [
    "* 문자들을 숫자로 치환하기"
   ],
   "cell_type": "markdown",
   "metadata": {}
  },
  {
   "cell_type": "code",
   "execution_count": 11,
   "metadata": {},
   "outputs": [],
   "source": [
    "def label_encoder(c):\n",
    "    encoder = LabelEncoder()\n",
    "    return encoder.fit_transform(c)\n",
    "\n",
    "labels_col = ['Sex','Ticket']\n",
    "label_encoded_df = train_df[labels_col].apply(label_encoder)\n",
    "test_label_encoded_df = test_df[labels_col].apply(label_encoder)\n",
    "# label_encoded_df\n",
    "\n",
    "onehot_cols = ['Cabin', 'Embarked']\n",
    "onehot_encoded_df = pd.get_dummies(train_df[onehot_cols])\n",
    "test_onehot_encoded_df = pd.get_dummies(test_df[onehot_cols])\n",
    "# onehot_encoded_df\n",
    "\n",
    "numerical_cols = ['Age', 'SibSp', 'Parch', 'Fare']\n",
    "scaler = MinMaxScaler()\n",
    "numerical_df = pd.DataFrame(scaler.fit_transform(train_df[numerical_cols]), columns=numerical_cols)\n",
    "test_numerical_df = pd.DataFrame(scaler.fit_transform(test_df[numerical_cols]), columns=numerical_cols)\n",
    "# numerical_df\n",
    "\n",
    "etc_df = train_df['Pclass']\n",
    "test_etc_df = test_df['Pclass']\n",
    "\n",
    "target_df = train_df['y_target']\n",
    "\n",
    "\n",
    "train_df = pd.concat([etc_df, numerical_df, label_encoded_df, onehot_encoded_df, target_df], axis=1)\n",
    "test_df = pd.concat([test_etc_df, test_numerical_df, test_label_encoded_df, test_onehot_encoded_df], axis=1)"
   ]
  },
  {
   "source": [
    "최종적으로 사용할 데이터 셋"
   ],
   "cell_type": "markdown",
   "metadata": {}
  },
  {
   "cell_type": "code",
   "execution_count": 12,
   "metadata": {},
   "outputs": [
    {
     "output_type": "execute_result",
     "data": {
      "text/plain": [
       "       Pclass       Age  SibSp     Parch      Fare  Sex  Ticket  Cabin_A  \\\n",
       "0           1  0.440353  0.250  0.000000  0.462375    1      49        0   \n",
       "1           3  0.440353  0.000  0.000000  0.351893    1      49        0   \n",
       "2           3  0.002876  0.125  0.222222  0.617161    1      14        0   \n",
       "3           3  0.217671  0.000  0.000000  0.348310    1       0        0   \n",
       "4           3  0.286700  0.000  0.000000  0.270923    1      49        0   \n",
       "...       ...       ...    ...       ...       ...  ...     ...      ...   \n",
       "99995       2  0.712379  0.000  0.000000  0.368307    0      21        0   \n",
       "99996       2  0.758399  0.000  0.000000  0.324591    1      49        0   \n",
       "99997       3  0.424758  0.000  0.000000  0.307531    1      49        0   \n",
       "99998       3  0.585826  0.000  0.111111  0.483053    1      49        0   \n",
       "99999       3  0.631845  0.000  0.000000  0.358723    1      49        0   \n",
       "\n",
       "       Cabin_B  Cabin_C  ...  Cabin_E  Cabin_F  Cabin_G  Cabin_T  Cabin_X  \\\n",
       "0            0        1  ...        0        0        0        0        0   \n",
       "1            0        0  ...        0        0        0        0        1   \n",
       "2            0        0  ...        0        0        0        0        1   \n",
       "3            0        0  ...        0        0        0        0        1   \n",
       "4            0        0  ...        0        0        0        0        1   \n",
       "...        ...      ...  ...      ...      ...      ...      ...      ...   \n",
       "99995        0        0  ...        0        0        0        0        0   \n",
       "99996        0        0  ...        0        0        0        0        1   \n",
       "99997        0        0  ...        0        0        0        0        1   \n",
       "99998        0        0  ...        0        0        0        0        1   \n",
       "99999        0        0  ...        0        0        0        0        1   \n",
       "\n",
       "       Embarked_C  Embarked_Q  Embarked_S  Embarked_X  y_target  \n",
       "0               0           0           1           0         1  \n",
       "1               0           0           1           0         0  \n",
       "2               0           0           1           0         0  \n",
       "3               0           0           1           0         0  \n",
       "4               0           0           1           0         1  \n",
       "...           ...         ...         ...         ...       ...  \n",
       "99995           1           0           0           0         1  \n",
       "99996           0           0           1           0         0  \n",
       "99997           0           0           1           0         0  \n",
       "99998           0           0           1           0         0  \n",
       "99999           0           0           1           0         0  \n",
       "\n",
       "[100000 rows x 21 columns]"
      ],
      "text/html": "<div>\n<style scoped>\n    .dataframe tbody tr th:only-of-type {\n        vertical-align: middle;\n    }\n\n    .dataframe tbody tr th {\n        vertical-align: top;\n    }\n\n    .dataframe thead th {\n        text-align: right;\n    }\n</style>\n<table border=\"1\" class=\"dataframe\">\n  <thead>\n    <tr style=\"text-align: right;\">\n      <th></th>\n      <th>Pclass</th>\n      <th>Age</th>\n      <th>SibSp</th>\n      <th>Parch</th>\n      <th>Fare</th>\n      <th>Sex</th>\n      <th>Ticket</th>\n      <th>Cabin_A</th>\n      <th>Cabin_B</th>\n      <th>Cabin_C</th>\n      <th>...</th>\n      <th>Cabin_E</th>\n      <th>Cabin_F</th>\n      <th>Cabin_G</th>\n      <th>Cabin_T</th>\n      <th>Cabin_X</th>\n      <th>Embarked_C</th>\n      <th>Embarked_Q</th>\n      <th>Embarked_S</th>\n      <th>Embarked_X</th>\n      <th>y_target</th>\n    </tr>\n  </thead>\n  <tbody>\n    <tr>\n      <th>0</th>\n      <td>1</td>\n      <td>0.440353</td>\n      <td>0.250</td>\n      <td>0.000000</td>\n      <td>0.462375</td>\n      <td>1</td>\n      <td>49</td>\n      <td>0</td>\n      <td>0</td>\n      <td>1</td>\n      <td>...</td>\n      <td>0</td>\n      <td>0</td>\n      <td>0</td>\n      <td>0</td>\n      <td>0</td>\n      <td>0</td>\n      <td>0</td>\n      <td>1</td>\n      <td>0</td>\n      <td>1</td>\n    </tr>\n    <tr>\n      <th>1</th>\n      <td>3</td>\n      <td>0.440353</td>\n      <td>0.000</td>\n      <td>0.000000</td>\n      <td>0.351893</td>\n      <td>1</td>\n      <td>49</td>\n      <td>0</td>\n      <td>0</td>\n      <td>0</td>\n      <td>...</td>\n      <td>0</td>\n      <td>0</td>\n      <td>0</td>\n      <td>0</td>\n      <td>1</td>\n      <td>0</td>\n      <td>0</td>\n      <td>1</td>\n      <td>0</td>\n      <td>0</td>\n    </tr>\n    <tr>\n      <th>2</th>\n      <td>3</td>\n      <td>0.002876</td>\n      <td>0.125</td>\n      <td>0.222222</td>\n      <td>0.617161</td>\n      <td>1</td>\n      <td>14</td>\n      <td>0</td>\n      <td>0</td>\n      <td>0</td>\n      <td>...</td>\n      <td>0</td>\n      <td>0</td>\n      <td>0</td>\n      <td>0</td>\n      <td>1</td>\n      <td>0</td>\n      <td>0</td>\n      <td>1</td>\n      <td>0</td>\n      <td>0</td>\n    </tr>\n    <tr>\n      <th>3</th>\n      <td>3</td>\n      <td>0.217671</td>\n      <td>0.000</td>\n      <td>0.000000</td>\n      <td>0.348310</td>\n      <td>1</td>\n      <td>0</td>\n      <td>0</td>\n      <td>0</td>\n      <td>0</td>\n      <td>...</td>\n      <td>0</td>\n      <td>0</td>\n      <td>0</td>\n      <td>0</td>\n      <td>1</td>\n      <td>0</td>\n      <td>0</td>\n      <td>1</td>\n      <td>0</td>\n      <td>0</td>\n    </tr>\n    <tr>\n      <th>4</th>\n      <td>3</td>\n      <td>0.286700</td>\n      <td>0.000</td>\n      <td>0.000000</td>\n      <td>0.270923</td>\n      <td>1</td>\n      <td>49</td>\n      <td>0</td>\n      <td>0</td>\n      <td>0</td>\n      <td>...</td>\n      <td>0</td>\n      <td>0</td>\n      <td>0</td>\n      <td>0</td>\n      <td>1</td>\n      <td>0</td>\n      <td>0</td>\n      <td>1</td>\n      <td>0</td>\n      <td>1</td>\n    </tr>\n    <tr>\n      <th>...</th>\n      <td>...</td>\n      <td>...</td>\n      <td>...</td>\n      <td>...</td>\n      <td>...</td>\n      <td>...</td>\n      <td>...</td>\n      <td>...</td>\n      <td>...</td>\n      <td>...</td>\n      <td>...</td>\n      <td>...</td>\n      <td>...</td>\n      <td>...</td>\n      <td>...</td>\n      <td>...</td>\n      <td>...</td>\n      <td>...</td>\n      <td>...</td>\n      <td>...</td>\n      <td>...</td>\n    </tr>\n    <tr>\n      <th>99995</th>\n      <td>2</td>\n      <td>0.712379</td>\n      <td>0.000</td>\n      <td>0.000000</td>\n      <td>0.368307</td>\n      <td>0</td>\n      <td>21</td>\n      <td>0</td>\n      <td>0</td>\n      <td>0</td>\n      <td>...</td>\n      <td>0</td>\n      <td>0</td>\n      <td>0</td>\n      <td>0</td>\n      <td>0</td>\n      <td>1</td>\n      <td>0</td>\n      <td>0</td>\n      <td>0</td>\n      <td>1</td>\n    </tr>\n    <tr>\n      <th>99996</th>\n      <td>2</td>\n      <td>0.758399</td>\n      <td>0.000</td>\n      <td>0.000000</td>\n      <td>0.324591</td>\n      <td>1</td>\n      <td>49</td>\n      <td>0</td>\n      <td>0</td>\n      <td>0</td>\n      <td>...</td>\n      <td>0</td>\n      <td>0</td>\n      <td>0</td>\n      <td>0</td>\n      <td>1</td>\n      <td>0</td>\n      <td>0</td>\n      <td>1</td>\n      <td>0</td>\n      <td>0</td>\n    </tr>\n    <tr>\n      <th>99997</th>\n      <td>3</td>\n      <td>0.424758</td>\n      <td>0.000</td>\n      <td>0.000000</td>\n      <td>0.307531</td>\n      <td>1</td>\n      <td>49</td>\n      <td>0</td>\n      <td>0</td>\n      <td>0</td>\n      <td>...</td>\n      <td>0</td>\n      <td>0</td>\n      <td>0</td>\n      <td>0</td>\n      <td>1</td>\n      <td>0</td>\n      <td>0</td>\n      <td>1</td>\n      <td>0</td>\n      <td>0</td>\n    </tr>\n    <tr>\n      <th>99998</th>\n      <td>3</td>\n      <td>0.585826</td>\n      <td>0.000</td>\n      <td>0.111111</td>\n      <td>0.483053</td>\n      <td>1</td>\n      <td>49</td>\n      <td>0</td>\n      <td>0</td>\n      <td>0</td>\n      <td>...</td>\n      <td>0</td>\n      <td>0</td>\n      <td>0</td>\n      <td>0</td>\n      <td>1</td>\n      <td>0</td>\n      <td>0</td>\n      <td>1</td>\n      <td>0</td>\n      <td>0</td>\n    </tr>\n    <tr>\n      <th>99999</th>\n      <td>3</td>\n      <td>0.631845</td>\n      <td>0.000</td>\n      <td>0.000000</td>\n      <td>0.358723</td>\n      <td>1</td>\n      <td>49</td>\n      <td>0</td>\n      <td>0</td>\n      <td>0</td>\n      <td>...</td>\n      <td>0</td>\n      <td>0</td>\n      <td>0</td>\n      <td>0</td>\n      <td>1</td>\n      <td>0</td>\n      <td>0</td>\n      <td>1</td>\n      <td>0</td>\n      <td>0</td>\n    </tr>\n  </tbody>\n</table>\n<p>100000 rows × 21 columns</p>\n</div>"
     },
     "metadata": {},
     "execution_count": 12
    }
   ],
   "source": [
    "train_df"
   ]
  },
  {
   "cell_type": "code",
   "execution_count": 13,
   "metadata": {},
   "outputs": [
    {
     "output_type": "execute_result",
     "data": {
      "text/plain": [
       "       Pclass       Age  SibSp     Parch      Fare  Sex  Ticket  Cabin_A  \\\n",
       "0           3  0.233811  0.000  0.000000  0.634709    1      49        0   \n",
       "1           3  0.653979  0.000  0.000000  0.288706    0      49        0   \n",
       "2           1  0.233811  0.000  0.000000  0.561759    0      49        0   \n",
       "3           2  0.307958  0.000  0.000000  0.399218    1      49        0   \n",
       "4           1  0.209095  0.000  0.222222  0.506421    0      49        0   \n",
       "...       ...       ...    ...       ...       ...  ...     ...      ...   \n",
       "99995       3  0.332674  0.000  0.000000  0.364427    0      49        0   \n",
       "99996       1  0.728127  0.125  0.000000  0.646993    1      49        0   \n",
       "99997       3  0.579832  0.000  0.000000  0.374506    1      49        0   \n",
       "99998       1  0.604548  0.125  0.222222  0.521143    0      21        0   \n",
       "99999       1  0.505685  0.000  0.222222  0.807841    0      21        0   \n",
       "\n",
       "       Cabin_B  Cabin_C  Cabin_D  Cabin_E  Cabin_F  Cabin_G  Cabin_T  Cabin_X  \\\n",
       "0            0        0        0        0        0        0        0        1   \n",
       "1            0        0        0        0        0        0        0        1   \n",
       "2            1        0        0        0        0        0        0        0   \n",
       "3            0        0        0        0        0        0        0        1   \n",
       "4            1        0        0        0        0        0        0        0   \n",
       "...        ...      ...      ...      ...      ...      ...      ...      ...   \n",
       "99995        0        0        0        0        0        0        0        1   \n",
       "99996        0        0        0        0        0        0        0        1   \n",
       "99997        0        0        0        0        0        0        0        1   \n",
       "99998        1        0        0        0        0        0        0        0   \n",
       "99999        0        0        0        1        0        0        0        0   \n",
       "\n",
       "       Embarked_C  Embarked_Q  Embarked_S  Embarked_X  \n",
       "0               0           0           1           0  \n",
       "1               0           0           1           0  \n",
       "2               1           0           0           0  \n",
       "3               0           0           1           0  \n",
       "4               1           0           0           0  \n",
       "...           ...         ...         ...         ...  \n",
       "99995           0           1           0           0  \n",
       "99996           0           0           1           0  \n",
       "99997           0           0           1           0  \n",
       "99998           1           0           0           0  \n",
       "99999           1           0           0           0  \n",
       "\n",
       "[100000 rows x 20 columns]"
      ],
      "text/html": "<div>\n<style scoped>\n    .dataframe tbody tr th:only-of-type {\n        vertical-align: middle;\n    }\n\n    .dataframe tbody tr th {\n        vertical-align: top;\n    }\n\n    .dataframe thead th {\n        text-align: right;\n    }\n</style>\n<table border=\"1\" class=\"dataframe\">\n  <thead>\n    <tr style=\"text-align: right;\">\n      <th></th>\n      <th>Pclass</th>\n      <th>Age</th>\n      <th>SibSp</th>\n      <th>Parch</th>\n      <th>Fare</th>\n      <th>Sex</th>\n      <th>Ticket</th>\n      <th>Cabin_A</th>\n      <th>Cabin_B</th>\n      <th>Cabin_C</th>\n      <th>Cabin_D</th>\n      <th>Cabin_E</th>\n      <th>Cabin_F</th>\n      <th>Cabin_G</th>\n      <th>Cabin_T</th>\n      <th>Cabin_X</th>\n      <th>Embarked_C</th>\n      <th>Embarked_Q</th>\n      <th>Embarked_S</th>\n      <th>Embarked_X</th>\n    </tr>\n  </thead>\n  <tbody>\n    <tr>\n      <th>0</th>\n      <td>3</td>\n      <td>0.233811</td>\n      <td>0.000</td>\n      <td>0.000000</td>\n      <td>0.634709</td>\n      <td>1</td>\n      <td>49</td>\n      <td>0</td>\n      <td>0</td>\n      <td>0</td>\n      <td>0</td>\n      <td>0</td>\n      <td>0</td>\n      <td>0</td>\n      <td>0</td>\n      <td>1</td>\n      <td>0</td>\n      <td>0</td>\n      <td>1</td>\n      <td>0</td>\n    </tr>\n    <tr>\n      <th>1</th>\n      <td>3</td>\n      <td>0.653979</td>\n      <td>0.000</td>\n      <td>0.000000</td>\n      <td>0.288706</td>\n      <td>0</td>\n      <td>49</td>\n      <td>0</td>\n      <td>0</td>\n      <td>0</td>\n      <td>0</td>\n      <td>0</td>\n      <td>0</td>\n      <td>0</td>\n      <td>0</td>\n      <td>1</td>\n      <td>0</td>\n      <td>0</td>\n      <td>1</td>\n      <td>0</td>\n    </tr>\n    <tr>\n      <th>2</th>\n      <td>1</td>\n      <td>0.233811</td>\n      <td>0.000</td>\n      <td>0.000000</td>\n      <td>0.561759</td>\n      <td>0</td>\n      <td>49</td>\n      <td>0</td>\n      <td>1</td>\n      <td>0</td>\n      <td>0</td>\n      <td>0</td>\n      <td>0</td>\n      <td>0</td>\n      <td>0</td>\n      <td>0</td>\n      <td>1</td>\n      <td>0</td>\n      <td>0</td>\n      <td>0</td>\n    </tr>\n    <tr>\n      <th>3</th>\n      <td>2</td>\n      <td>0.307958</td>\n      <td>0.000</td>\n      <td>0.000000</td>\n      <td>0.399218</td>\n      <td>1</td>\n      <td>49</td>\n      <td>0</td>\n      <td>0</td>\n      <td>0</td>\n      <td>0</td>\n      <td>0</td>\n      <td>0</td>\n      <td>0</td>\n      <td>0</td>\n      <td>1</td>\n      <td>0</td>\n      <td>0</td>\n      <td>1</td>\n      <td>0</td>\n    </tr>\n    <tr>\n      <th>4</th>\n      <td>1</td>\n      <td>0.209095</td>\n      <td>0.000</td>\n      <td>0.222222</td>\n      <td>0.506421</td>\n      <td>0</td>\n      <td>49</td>\n      <td>0</td>\n      <td>1</td>\n      <td>0</td>\n      <td>0</td>\n      <td>0</td>\n      <td>0</td>\n      <td>0</td>\n      <td>0</td>\n      <td>0</td>\n      <td>1</td>\n      <td>0</td>\n      <td>0</td>\n      <td>0</td>\n    </tr>\n    <tr>\n      <th>...</th>\n      <td>...</td>\n      <td>...</td>\n      <td>...</td>\n      <td>...</td>\n      <td>...</td>\n      <td>...</td>\n      <td>...</td>\n      <td>...</td>\n      <td>...</td>\n      <td>...</td>\n      <td>...</td>\n      <td>...</td>\n      <td>...</td>\n      <td>...</td>\n      <td>...</td>\n      <td>...</td>\n      <td>...</td>\n      <td>...</td>\n      <td>...</td>\n      <td>...</td>\n    </tr>\n    <tr>\n      <th>99995</th>\n      <td>3</td>\n      <td>0.332674</td>\n      <td>0.000</td>\n      <td>0.000000</td>\n      <td>0.364427</td>\n      <td>0</td>\n      <td>49</td>\n      <td>0</td>\n      <td>0</td>\n      <td>0</td>\n      <td>0</td>\n      <td>0</td>\n      <td>0</td>\n      <td>0</td>\n      <td>0</td>\n      <td>1</td>\n      <td>0</td>\n      <td>1</td>\n      <td>0</td>\n      <td>0</td>\n    </tr>\n    <tr>\n      <th>99996</th>\n      <td>1</td>\n      <td>0.728127</td>\n      <td>0.125</td>\n      <td>0.000000</td>\n      <td>0.646993</td>\n      <td>1</td>\n      <td>49</td>\n      <td>0</td>\n      <td>0</td>\n      <td>0</td>\n      <td>0</td>\n      <td>0</td>\n      <td>0</td>\n      <td>0</td>\n      <td>0</td>\n      <td>1</td>\n      <td>0</td>\n      <td>0</td>\n      <td>1</td>\n      <td>0</td>\n    </tr>\n    <tr>\n      <th>99997</th>\n      <td>3</td>\n      <td>0.579832</td>\n      <td>0.000</td>\n      <td>0.000000</td>\n      <td>0.374506</td>\n      <td>1</td>\n      <td>49</td>\n      <td>0</td>\n      <td>0</td>\n      <td>0</td>\n      <td>0</td>\n      <td>0</td>\n      <td>0</td>\n      <td>0</td>\n      <td>0</td>\n      <td>1</td>\n      <td>0</td>\n      <td>0</td>\n      <td>1</td>\n      <td>0</td>\n    </tr>\n    <tr>\n      <th>99998</th>\n      <td>1</td>\n      <td>0.604548</td>\n      <td>0.125</td>\n      <td>0.222222</td>\n      <td>0.521143</td>\n      <td>0</td>\n      <td>21</td>\n      <td>0</td>\n      <td>1</td>\n      <td>0</td>\n      <td>0</td>\n      <td>0</td>\n      <td>0</td>\n      <td>0</td>\n      <td>0</td>\n      <td>0</td>\n      <td>1</td>\n      <td>0</td>\n      <td>0</td>\n      <td>0</td>\n    </tr>\n    <tr>\n      <th>99999</th>\n      <td>1</td>\n      <td>0.505685</td>\n      <td>0.000</td>\n      <td>0.222222</td>\n      <td>0.807841</td>\n      <td>0</td>\n      <td>21</td>\n      <td>0</td>\n      <td>0</td>\n      <td>0</td>\n      <td>0</td>\n      <td>1</td>\n      <td>0</td>\n      <td>0</td>\n      <td>0</td>\n      <td>0</td>\n      <td>1</td>\n      <td>0</td>\n      <td>0</td>\n      <td>0</td>\n    </tr>\n  </tbody>\n</table>\n<p>100000 rows × 20 columns</p>\n</div>"
     },
     "metadata": {},
     "execution_count": 13
    }
   ],
   "source": [
    "test_df"
   ]
  },
  {
   "source": [
    "# 1. DATA"
   ],
   "cell_type": "markdown",
   "metadata": {}
  },
  {
   "cell_type": "code",
   "execution_count": 14,
   "metadata": {},
   "outputs": [],
   "source": [
    "N_ESTIMATORS = 1000\n",
    "N_SPLITS = 10\n",
    "SEED = 2021\n",
    "EARLY_STOPPING_ROUNDS = 20\n",
    "VERBOSE = 1\n",
    "\n",
    "skf = StratifiedKFold(n_splits=N_SPLITS, shuffle=True, random_state=SEED)"
   ]
  },
  {
   "cell_type": "code",
   "execution_count": 15,
   "metadata": {},
   "outputs": [
    {
     "output_type": "stream",
     "name": "stdout",
     "text": [
      "(100000, 20) (100000,)\n"
     ]
    }
   ],
   "source": [
    "# 훈련 데이터 셋\n",
    "x = train_df.drop(['y_target'], axis=1)\n",
    "y = train_df['y_target']\n",
    "x = x.to_numpy()\n",
    "y = y.to_numpy()\n",
    "print(x.shape, y.shape)"
   ]
  },
  {
   "cell_type": "code",
   "execution_count": 16,
   "metadata": {},
   "outputs": [
    {
     "output_type": "stream",
     "name": "stdout",
     "text": [
      "(100000, 20)\n"
     ]
    }
   ],
   "source": [
    "# 예측 데이터 셋\n",
    "x_pred = test_df\n",
    "x_pred = x_pred.to_numpy()\n",
    "print(x_pred.shape)"
   ]
  },
  {
   "cell_type": "code",
   "execution_count": 17,
   "metadata": {},
   "outputs": [],
   "source": [
    "# x_train, x_val, y_train, y_val = train_test_split(x, y, train_size=0.8, shuffle=True, random_state=42)\n",
    "# print(x_train.shape, x_val.shape)   # (80000, 20) (20000, 20)\n",
    "# print(y_train.shape, y_val.shape)   # (80000,) (20000,)"
   ]
  },
  {
   "source": [
    "# 2. Model"
   ],
   "cell_type": "markdown",
   "metadata": {}
  },
  {
   "cell_type": "code",
   "execution_count": 21,
   "metadata": {
    "tags": [
     "outputPrepend"
    ]
   },
   "outputs": [
    {
     "output_type": "stream",
     "name": "stdout",
     "text": [
      ": 6.16s\n",
      "522:\tlearn: 0.4617931\ttest: 0.4745750\tbest: 0.4745750 (522)\ttotal: 6.74s\tremaining: 6.15s\n",
      "523:\tlearn: 0.4617704\ttest: 0.4745750\tbest: 0.4745750 (523)\ttotal: 6.75s\tremaining: 6.14s\n",
      "524:\tlearn: 0.4617372\ttest: 0.4745840\tbest: 0.4745750 (523)\ttotal: 6.77s\tremaining: 6.12s\n",
      "525:\tlearn: 0.4617105\ttest: 0.4745899\tbest: 0.4745750 (523)\ttotal: 6.78s\tremaining: 6.11s\n",
      "526:\tlearn: 0.4616992\ttest: 0.4745832\tbest: 0.4745750 (523)\ttotal: 6.79s\tremaining: 6.1s\n",
      "527:\tlearn: 0.4616737\ttest: 0.4745793\tbest: 0.4745750 (523)\ttotal: 6.81s\tremaining: 6.08s\n",
      "528:\tlearn: 0.4616483\ttest: 0.4745668\tbest: 0.4745668 (528)\ttotal: 6.82s\tremaining: 6.07s\n",
      "529:\tlearn: 0.4616149\ttest: 0.4745492\tbest: 0.4745492 (529)\ttotal: 6.83s\tremaining: 6.06s\n",
      "530:\tlearn: 0.4615977\ttest: 0.4745378\tbest: 0.4745378 (530)\ttotal: 6.84s\tremaining: 6.04s\n",
      "531:\tlearn: 0.4615857\ttest: 0.4745262\tbest: 0.4745262 (531)\ttotal: 6.86s\tremaining: 6.03s\n",
      "532:\tlearn: 0.4615701\ttest: 0.4745283\tbest: 0.4745262 (531)\ttotal: 6.87s\tremaining: 6.02s\n",
      "533:\tlearn: 0.4615532\ttest: 0.4745358\tbest: 0.4745262 (531)\ttotal: 6.88s\tremaining: 6.01s\n",
      "534:\tlearn: 0.4615368\ttest: 0.4745374\tbest: 0.4745262 (531)\ttotal: 6.9s\tremaining: 5.99s\n",
      "535:\tlearn: 0.4615135\ttest: 0.4745237\tbest: 0.4745237 (535)\ttotal: 6.91s\tremaining: 5.98s\n",
      "536:\tlearn: 0.4614837\ttest: 0.4745267\tbest: 0.4745237 (535)\ttotal: 6.92s\tremaining: 5.97s\n",
      "537:\tlearn: 0.4614638\ttest: 0.4745240\tbest: 0.4745237 (535)\ttotal: 6.93s\tremaining: 5.95s\n",
      "538:\tlearn: 0.4614374\ttest: 0.4745138\tbest: 0.4745138 (538)\ttotal: 6.95s\tremaining: 5.94s\n",
      "539:\tlearn: 0.4614119\ttest: 0.4745163\tbest: 0.4745138 (538)\ttotal: 6.96s\tremaining: 5.93s\n",
      "540:\tlearn: 0.4613908\ttest: 0.4745210\tbest: 0.4745138 (538)\ttotal: 6.97s\tremaining: 5.91s\n",
      "541:\tlearn: 0.4613561\ttest: 0.4745173\tbest: 0.4745138 (538)\ttotal: 6.98s\tremaining: 5.9s\n",
      "542:\tlearn: 0.4613345\ttest: 0.4745124\tbest: 0.4745124 (542)\ttotal: 7s\tremaining: 5.89s\n",
      "543:\tlearn: 0.4613191\ttest: 0.4745039\tbest: 0.4745039 (543)\ttotal: 7.01s\tremaining: 5.88s\n",
      "544:\tlearn: 0.4613043\ttest: 0.4744960\tbest: 0.4744960 (544)\ttotal: 7.02s\tremaining: 5.86s\n",
      "545:\tlearn: 0.4612898\ttest: 0.4745067\tbest: 0.4744960 (544)\ttotal: 7.04s\tremaining: 5.85s\n",
      "546:\tlearn: 0.4612693\ttest: 0.4744982\tbest: 0.4744960 (544)\ttotal: 7.05s\tremaining: 5.84s\n",
      "547:\tlearn: 0.4612542\ttest: 0.4744858\tbest: 0.4744858 (547)\ttotal: 7.06s\tremaining: 5.82s\n",
      "548:\tlearn: 0.4612193\ttest: 0.4744616\tbest: 0.4744616 (548)\ttotal: 7.07s\tremaining: 5.81s\n",
      "549:\tlearn: 0.4611859\ttest: 0.4744538\tbest: 0.4744538 (549)\ttotal: 7.09s\tremaining: 5.8s\n",
      "550:\tlearn: 0.4611627\ttest: 0.4744566\tbest: 0.4744538 (549)\ttotal: 7.1s\tremaining: 5.79s\n",
      "551:\tlearn: 0.4611386\ttest: 0.4744567\tbest: 0.4744538 (549)\ttotal: 7.11s\tremaining: 5.77s\n",
      "552:\tlearn: 0.4611037\ttest: 0.4744417\tbest: 0.4744417 (552)\ttotal: 7.13s\tremaining: 5.76s\n",
      "553:\tlearn: 0.4610939\ttest: 0.4744333\tbest: 0.4744333 (553)\ttotal: 7.14s\tremaining: 5.75s\n",
      "554:\tlearn: 0.4610725\ttest: 0.4744206\tbest: 0.4744206 (554)\ttotal: 7.15s\tremaining: 5.73s\n",
      "555:\tlearn: 0.4610503\ttest: 0.4744099\tbest: 0.4744099 (555)\ttotal: 7.16s\tremaining: 5.72s\n",
      "556:\tlearn: 0.4610275\ttest: 0.4744159\tbest: 0.4744099 (555)\ttotal: 7.18s\tremaining: 5.71s\n",
      "557:\tlearn: 0.4610095\ttest: 0.4744150\tbest: 0.4744099 (555)\ttotal: 7.19s\tremaining: 5.69s\n",
      "558:\tlearn: 0.4609951\ttest: 0.4744037\tbest: 0.4744037 (558)\ttotal: 7.2s\tremaining: 5.68s\n",
      "559:\tlearn: 0.4609728\ttest: 0.4743982\tbest: 0.4743982 (559)\ttotal: 7.21s\tremaining: 5.67s\n",
      "560:\tlearn: 0.4609534\ttest: 0.4743930\tbest: 0.4743930 (560)\ttotal: 7.23s\tremaining: 5.66s\n",
      "561:\tlearn: 0.4609356\ttest: 0.4743928\tbest: 0.4743928 (561)\ttotal: 7.24s\tremaining: 5.64s\n",
      "562:\tlearn: 0.4609189\ttest: 0.4743841\tbest: 0.4743841 (562)\ttotal: 7.25s\tremaining: 5.63s\n",
      "563:\tlearn: 0.4609099\ttest: 0.4743854\tbest: 0.4743841 (562)\ttotal: 7.26s\tremaining: 5.62s\n",
      "564:\tlearn: 0.4608759\ttest: 0.4743746\tbest: 0.4743746 (564)\ttotal: 7.28s\tremaining: 5.6s\n",
      "565:\tlearn: 0.4608659\ttest: 0.4743764\tbest: 0.4743746 (564)\ttotal: 7.29s\tremaining: 5.59s\n",
      "566:\tlearn: 0.4608424\ttest: 0.4743656\tbest: 0.4743656 (566)\ttotal: 7.3s\tremaining: 5.58s\n",
      "567:\tlearn: 0.4608223\ttest: 0.4743659\tbest: 0.4743656 (566)\ttotal: 7.32s\tremaining: 5.56s\n",
      "568:\tlearn: 0.4608031\ttest: 0.4743662\tbest: 0.4743656 (566)\ttotal: 7.33s\tremaining: 5.55s\n",
      "569:\tlearn: 0.4607807\ttest: 0.4743667\tbest: 0.4743656 (566)\ttotal: 7.34s\tremaining: 5.54s\n",
      "570:\tlearn: 0.4607478\ttest: 0.4743663\tbest: 0.4743656 (566)\ttotal: 7.35s\tremaining: 5.53s\n",
      "571:\tlearn: 0.4607325\ttest: 0.4743694\tbest: 0.4743656 (566)\ttotal: 7.37s\tremaining: 5.51s\n",
      "572:\tlearn: 0.4607124\ttest: 0.4743621\tbest: 0.4743621 (572)\ttotal: 7.38s\tremaining: 5.5s\n",
      "573:\tlearn: 0.4606970\ttest: 0.4743595\tbest: 0.4743595 (573)\ttotal: 7.39s\tremaining: 5.49s\n",
      "574:\tlearn: 0.4606678\ttest: 0.4743440\tbest: 0.4743440 (574)\ttotal: 7.4s\tremaining: 5.47s\n",
      "575:\tlearn: 0.4606489\ttest: 0.4743468\tbest: 0.4743440 (574)\ttotal: 7.42s\tremaining: 5.46s\n",
      "576:\tlearn: 0.4606312\ttest: 0.4743450\tbest: 0.4743440 (574)\ttotal: 7.43s\tremaining: 5.45s\n",
      "577:\tlearn: 0.4606120\ttest: 0.4743444\tbest: 0.4743440 (574)\ttotal: 7.44s\tremaining: 5.43s\n",
      "578:\tlearn: 0.4605913\ttest: 0.4743309\tbest: 0.4743309 (578)\ttotal: 7.46s\tremaining: 5.42s\n",
      "579:\tlearn: 0.4605696\ttest: 0.4743317\tbest: 0.4743309 (578)\ttotal: 7.47s\tremaining: 5.41s\n",
      "580:\tlearn: 0.4605413\ttest: 0.4743244\tbest: 0.4743244 (580)\ttotal: 7.48s\tremaining: 5.4s\n",
      "581:\tlearn: 0.4605231\ttest: 0.4743359\tbest: 0.4743244 (580)\ttotal: 7.5s\tremaining: 5.38s\n",
      "582:\tlearn: 0.4605098\ttest: 0.4743321\tbest: 0.4743244 (580)\ttotal: 7.51s\tremaining: 5.37s\n",
      "583:\tlearn: 0.4604930\ttest: 0.4743353\tbest: 0.4743244 (580)\ttotal: 7.52s\tremaining: 5.36s\n",
      "584:\tlearn: 0.4604665\ttest: 0.4743146\tbest: 0.4743146 (584)\ttotal: 7.53s\tremaining: 5.34s\n",
      "585:\tlearn: 0.4604555\ttest: 0.4743183\tbest: 0.4743146 (584)\ttotal: 7.55s\tremaining: 5.33s\n",
      "586:\tlearn: 0.4604352\ttest: 0.4743154\tbest: 0.4743146 (584)\ttotal: 7.56s\tremaining: 5.32s\n",
      "587:\tlearn: 0.4604073\ttest: 0.4743127\tbest: 0.4743127 (587)\ttotal: 7.57s\tremaining: 5.3s\n",
      "588:\tlearn: 0.4603913\ttest: 0.4743181\tbest: 0.4743127 (587)\ttotal: 7.58s\tremaining: 5.29s\n",
      "589:\tlearn: 0.4603694\ttest: 0.4743203\tbest: 0.4743127 (587)\ttotal: 7.6s\tremaining: 5.28s\n",
      "590:\tlearn: 0.4603570\ttest: 0.4743170\tbest: 0.4743127 (587)\ttotal: 7.61s\tremaining: 5.26s\n",
      "591:\tlearn: 0.4603431\ttest: 0.4743092\tbest: 0.4743092 (591)\ttotal: 7.62s\tremaining: 5.25s\n",
      "592:\tlearn: 0.4603153\ttest: 0.4742991\tbest: 0.4742991 (592)\ttotal: 7.63s\tremaining: 5.24s\n",
      "593:\tlearn: 0.4602947\ttest: 0.4742965\tbest: 0.4742965 (593)\ttotal: 7.65s\tremaining: 5.23s\n",
      "594:\tlearn: 0.4602805\ttest: 0.4743000\tbest: 0.4742965 (593)\ttotal: 7.66s\tremaining: 5.21s\n",
      "595:\tlearn: 0.4602575\ttest: 0.4742918\tbest: 0.4742918 (595)\ttotal: 7.67s\tremaining: 5.2s\n",
      "596:\tlearn: 0.4602354\ttest: 0.4742907\tbest: 0.4742907 (596)\ttotal: 7.69s\tremaining: 5.19s\n",
      "597:\tlearn: 0.4602236\ttest: 0.4742876\tbest: 0.4742876 (597)\ttotal: 7.7s\tremaining: 5.17s\n",
      "598:\tlearn: 0.4602066\ttest: 0.4742840\tbest: 0.4742840 (598)\ttotal: 7.71s\tremaining: 5.16s\n",
      "599:\tlearn: 0.4601872\ttest: 0.4742876\tbest: 0.4742840 (598)\ttotal: 7.72s\tremaining: 5.15s\n",
      "600:\tlearn: 0.4601680\ttest: 0.4742639\tbest: 0.4742639 (600)\ttotal: 7.74s\tremaining: 5.14s\n",
      "601:\tlearn: 0.4601523\ttest: 0.4742570\tbest: 0.4742570 (601)\ttotal: 7.75s\tremaining: 5.12s\n",
      "602:\tlearn: 0.4601434\ttest: 0.4742598\tbest: 0.4742570 (601)\ttotal: 7.76s\tremaining: 5.11s\n",
      "603:\tlearn: 0.4601175\ttest: 0.4742641\tbest: 0.4742570 (601)\ttotal: 7.78s\tremaining: 5.1s\n",
      "604:\tlearn: 0.4600874\ttest: 0.4742598\tbest: 0.4742570 (601)\ttotal: 7.79s\tremaining: 5.08s\n",
      "605:\tlearn: 0.4600715\ttest: 0.4742638\tbest: 0.4742570 (601)\ttotal: 7.8s\tremaining: 5.07s\n",
      "606:\tlearn: 0.4600351\ttest: 0.4742626\tbest: 0.4742570 (601)\ttotal: 7.81s\tremaining: 5.06s\n",
      "607:\tlearn: 0.4600111\ttest: 0.4742532\tbest: 0.4742532 (607)\ttotal: 7.83s\tremaining: 5.05s\n",
      "608:\tlearn: 0.4599981\ttest: 0.4742540\tbest: 0.4742532 (607)\ttotal: 7.84s\tremaining: 5.03s\n",
      "609:\tlearn: 0.4599838\ttest: 0.4742524\tbest: 0.4742524 (609)\ttotal: 7.85s\tremaining: 5.02s\n",
      "610:\tlearn: 0.4599524\ttest: 0.4742299\tbest: 0.4742299 (610)\ttotal: 7.86s\tremaining: 5.01s\n",
      "611:\tlearn: 0.4599381\ttest: 0.4742305\tbest: 0.4742299 (610)\ttotal: 7.88s\tremaining: 4.99s\n",
      "612:\tlearn: 0.4599253\ttest: 0.4742247\tbest: 0.4742247 (612)\ttotal: 7.89s\tremaining: 4.98s\n",
      "613:\tlearn: 0.4599076\ttest: 0.4742175\tbest: 0.4742175 (613)\ttotal: 7.9s\tremaining: 4.97s\n",
      "614:\tlearn: 0.4598871\ttest: 0.4742074\tbest: 0.4742074 (614)\ttotal: 7.92s\tremaining: 4.96s\n",
      "615:\tlearn: 0.4598707\ttest: 0.4742008\tbest: 0.4742008 (615)\ttotal: 7.93s\tremaining: 4.94s\n",
      "616:\tlearn: 0.4598585\ttest: 0.4742024\tbest: 0.4742008 (615)\ttotal: 7.94s\tremaining: 4.93s\n",
      "617:\tlearn: 0.4598431\ttest: 0.4742015\tbest: 0.4742008 (615)\ttotal: 7.95s\tremaining: 4.92s\n",
      "618:\tlearn: 0.4598171\ttest: 0.4741870\tbest: 0.4741870 (618)\ttotal: 7.97s\tremaining: 4.9s\n",
      "619:\tlearn: 0.4597843\ttest: 0.4741764\tbest: 0.4741764 (619)\ttotal: 7.98s\tremaining: 4.89s\n",
      "620:\tlearn: 0.4597709\ttest: 0.4741764\tbest: 0.4741764 (620)\ttotal: 7.99s\tremaining: 4.88s\n",
      "621:\tlearn: 0.4597341\ttest: 0.4741799\tbest: 0.4741764 (620)\ttotal: 8.01s\tremaining: 4.87s\n",
      "622:\tlearn: 0.4597066\ttest: 0.4741760\tbest: 0.4741760 (622)\ttotal: 8.02s\tremaining: 4.85s\n",
      "623:\tlearn: 0.4596919\ttest: 0.4741725\tbest: 0.4741725 (623)\ttotal: 8.03s\tremaining: 4.84s\n",
      "624:\tlearn: 0.4596796\ttest: 0.4741687\tbest: 0.4741687 (624)\ttotal: 8.04s\tremaining: 4.83s\n",
      "625:\tlearn: 0.4596668\ttest: 0.4741614\tbest: 0.4741614 (625)\ttotal: 8.06s\tremaining: 4.81s\n",
      "626:\tlearn: 0.4596510\ttest: 0.4741670\tbest: 0.4741614 (625)\ttotal: 8.07s\tremaining: 4.8s\n",
      "627:\tlearn: 0.4596351\ttest: 0.4741768\tbest: 0.4741614 (625)\ttotal: 8.08s\tremaining: 4.79s\n",
      "628:\tlearn: 0.4596131\ttest: 0.4741745\tbest: 0.4741614 (625)\ttotal: 8.09s\tremaining: 4.77s\n",
      "629:\tlearn: 0.4596063\ttest: 0.4741705\tbest: 0.4741614 (625)\ttotal: 8.11s\tremaining: 4.76s\n",
      "630:\tlearn: 0.4595947\ttest: 0.4741696\tbest: 0.4741614 (625)\ttotal: 8.12s\tremaining: 4.75s\n",
      "631:\tlearn: 0.4595742\ttest: 0.4741585\tbest: 0.4741585 (631)\ttotal: 8.13s\tremaining: 4.74s\n",
      "632:\tlearn: 0.4595587\ttest: 0.4741613\tbest: 0.4741585 (631)\ttotal: 8.14s\tremaining: 4.72s\n",
      "633:\tlearn: 0.4595429\ttest: 0.4741585\tbest: 0.4741585 (631)\ttotal: 8.16s\tremaining: 4.71s\n",
      "634:\tlearn: 0.4595186\ttest: 0.4741552\tbest: 0.4741552 (634)\ttotal: 8.17s\tremaining: 4.7s\n",
      "635:\tlearn: 0.4594817\ttest: 0.4741466\tbest: 0.4741466 (635)\ttotal: 8.19s\tremaining: 4.68s\n",
      "636:\tlearn: 0.4594697\ttest: 0.4741451\tbest: 0.4741451 (636)\ttotal: 8.2s\tremaining: 4.67s\n",
      "637:\tlearn: 0.4594472\ttest: 0.4741491\tbest: 0.4741451 (636)\ttotal: 8.21s\tremaining: 4.66s\n",
      "638:\tlearn: 0.4594154\ttest: 0.4741233\tbest: 0.4741233 (638)\ttotal: 8.22s\tremaining: 4.65s\n",
      "639:\tlearn: 0.4593903\ttest: 0.4741226\tbest: 0.4741226 (639)\ttotal: 8.24s\tremaining: 4.63s\n",
      "640:\tlearn: 0.4593688\ttest: 0.4741348\tbest: 0.4741226 (639)\ttotal: 8.25s\tremaining: 4.62s\n",
      "641:\tlearn: 0.4593521\ttest: 0.4741301\tbest: 0.4741226 (639)\ttotal: 8.27s\tremaining: 4.61s\n",
      "642:\tlearn: 0.4593421\ttest: 0.4741314\tbest: 0.4741226 (639)\ttotal: 8.28s\tremaining: 4.6s\n",
      "643:\tlearn: 0.4593204\ttest: 0.4741234\tbest: 0.4741226 (639)\ttotal: 8.29s\tremaining: 4.58s\n",
      "644:\tlearn: 0.4593114\ttest: 0.4741177\tbest: 0.4741177 (644)\ttotal: 8.31s\tremaining: 4.57s\n",
      "645:\tlearn: 0.4592917\ttest: 0.4741156\tbest: 0.4741156 (645)\ttotal: 8.32s\tremaining: 4.56s\n",
      "646:\tlearn: 0.4592819\ttest: 0.4741078\tbest: 0.4741078 (646)\ttotal: 8.33s\tremaining: 4.55s\n",
      "647:\tlearn: 0.4592713\ttest: 0.4741139\tbest: 0.4741078 (646)\ttotal: 8.35s\tremaining: 4.53s\n",
      "648:\tlearn: 0.4592580\ttest: 0.4741045\tbest: 0.4741045 (648)\ttotal: 8.36s\tremaining: 4.52s\n",
      "649:\tlearn: 0.4592450\ttest: 0.4741068\tbest: 0.4741045 (648)\ttotal: 8.37s\tremaining: 4.51s\n",
      "650:\tlearn: 0.4592325\ttest: 0.4741029\tbest: 0.4741029 (650)\ttotal: 8.38s\tremaining: 4.5s\n",
      "651:\tlearn: 0.4591971\ttest: 0.4741055\tbest: 0.4741029 (650)\ttotal: 8.4s\tremaining: 4.48s\n",
      "652:\tlearn: 0.4591763\ttest: 0.4740966\tbest: 0.4740966 (652)\ttotal: 8.41s\tremaining: 4.47s\n",
      "653:\tlearn: 0.4591547\ttest: 0.4740989\tbest: 0.4740966 (652)\ttotal: 8.42s\tremaining: 4.46s\n",
      "654:\tlearn: 0.4591339\ttest: 0.4740929\tbest: 0.4740929 (654)\ttotal: 8.44s\tremaining: 4.44s\n",
      "655:\tlearn: 0.4591028\ttest: 0.4740885\tbest: 0.4740885 (655)\ttotal: 8.45s\tremaining: 4.43s\n",
      "656:\tlearn: 0.4590895\ttest: 0.4740921\tbest: 0.4740885 (655)\ttotal: 8.46s\tremaining: 4.42s\n",
      "657:\tlearn: 0.4590754\ttest: 0.4740869\tbest: 0.4740869 (657)\ttotal: 8.48s\tremaining: 4.41s\n",
      "658:\tlearn: 0.4590670\ttest: 0.4740869\tbest: 0.4740869 (658)\ttotal: 8.49s\tremaining: 4.39s\n",
      "659:\tlearn: 0.4590481\ttest: 0.4740832\tbest: 0.4740832 (659)\ttotal: 8.5s\tremaining: 4.38s\n",
      "660:\tlearn: 0.4590296\ttest: 0.4741003\tbest: 0.4740832 (659)\ttotal: 8.52s\tremaining: 4.37s\n",
      "661:\tlearn: 0.4590108\ttest: 0.4741062\tbest: 0.4740832 (659)\ttotal: 8.53s\tremaining: 4.36s\n",
      "662:\tlearn: 0.4589937\ttest: 0.4740977\tbest: 0.4740832 (659)\ttotal: 8.54s\tremaining: 4.34s\n",
      "663:\tlearn: 0.4589665\ttest: 0.4740820\tbest: 0.4740820 (663)\ttotal: 8.56s\tremaining: 4.33s\n",
      "664:\tlearn: 0.4589371\ttest: 0.4740886\tbest: 0.4740820 (663)\ttotal: 8.57s\tremaining: 4.32s\n",
      "665:\tlearn: 0.4589240\ttest: 0.4740893\tbest: 0.4740820 (663)\ttotal: 8.58s\tremaining: 4.3s\n",
      "666:\tlearn: 0.4589001\ttest: 0.4740970\tbest: 0.4740820 (663)\ttotal: 8.6s\tremaining: 4.29s\n",
      "667:\tlearn: 0.4588852\ttest: 0.4740961\tbest: 0.4740820 (663)\ttotal: 8.61s\tremaining: 4.28s\n",
      "668:\tlearn: 0.4588682\ttest: 0.4740932\tbest: 0.4740820 (663)\ttotal: 8.62s\tremaining: 4.26s\n",
      "669:\tlearn: 0.4588456\ttest: 0.4740951\tbest: 0.4740820 (663)\ttotal: 8.63s\tremaining: 4.25s\n",
      "670:\tlearn: 0.4588278\ttest: 0.4740876\tbest: 0.4740820 (663)\ttotal: 8.65s\tremaining: 4.24s\n",
      "671:\tlearn: 0.4588115\ttest: 0.4740841\tbest: 0.4740820 (663)\ttotal: 8.66s\tremaining: 4.23s\n",
      "672:\tlearn: 0.4588010\ttest: 0.4740908\tbest: 0.4740820 (663)\ttotal: 8.68s\tremaining: 4.21s\n",
      "673:\tlearn: 0.4587855\ttest: 0.4740835\tbest: 0.4740820 (663)\ttotal: 8.69s\tremaining: 4.2s\n",
      "674:\tlearn: 0.4587633\ttest: 0.4740878\tbest: 0.4740820 (663)\ttotal: 8.7s\tremaining: 4.19s\n",
      "675:\tlearn: 0.4587368\ttest: 0.4740900\tbest: 0.4740820 (663)\ttotal: 8.72s\tremaining: 4.18s\n",
      "676:\tlearn: 0.4587106\ttest: 0.4740899\tbest: 0.4740820 (663)\ttotal: 8.73s\tremaining: 4.17s\n",
      "677:\tlearn: 0.4586933\ttest: 0.4740875\tbest: 0.4740820 (663)\ttotal: 8.74s\tremaining: 4.15s\n",
      "678:\tlearn: 0.4586721\ttest: 0.4740833\tbest: 0.4740820 (663)\ttotal: 8.76s\tremaining: 4.14s\n",
      "679:\tlearn: 0.4586539\ttest: 0.4740884\tbest: 0.4740820 (663)\ttotal: 8.77s\tremaining: 4.13s\n",
      "680:\tlearn: 0.4586354\ttest: 0.4740874\tbest: 0.4740820 (663)\ttotal: 8.79s\tremaining: 4.12s\n",
      "681:\tlearn: 0.4586154\ttest: 0.4740918\tbest: 0.4740820 (663)\ttotal: 8.8s\tremaining: 4.1s\n",
      "682:\tlearn: 0.4585951\ttest: 0.4740840\tbest: 0.4740820 (663)\ttotal: 8.81s\tremaining: 4.09s\n",
      "683:\tlearn: 0.4585770\ttest: 0.4740683\tbest: 0.4740683 (683)\ttotal: 8.83s\tremaining: 4.08s\n",
      "684:\tlearn: 0.4585568\ttest: 0.4740786\tbest: 0.4740683 (683)\ttotal: 8.84s\tremaining: 4.07s\n",
      "685:\tlearn: 0.4585369\ttest: 0.4740669\tbest: 0.4740669 (685)\ttotal: 8.85s\tremaining: 4.05s\n",
      "686:\tlearn: 0.4585189\ttest: 0.4740773\tbest: 0.4740669 (685)\ttotal: 8.87s\tremaining: 4.04s\n",
      "687:\tlearn: 0.4584931\ttest: 0.4740866\tbest: 0.4740669 (685)\ttotal: 8.88s\tremaining: 4.03s\n",
      "688:\tlearn: 0.4584739\ttest: 0.4740856\tbest: 0.4740669 (685)\ttotal: 8.9s\tremaining: 4.01s\n",
      "689:\tlearn: 0.4584351\ttest: 0.4740857\tbest: 0.4740669 (685)\ttotal: 8.91s\tremaining: 4s\n",
      "690:\tlearn: 0.4584124\ttest: 0.4740773\tbest: 0.4740669 (685)\ttotal: 8.92s\tremaining: 3.99s\n",
      "691:\tlearn: 0.4583966\ttest: 0.4740646\tbest: 0.4740646 (691)\ttotal: 8.94s\tremaining: 3.98s\n",
      "692:\tlearn: 0.4583798\ttest: 0.4740718\tbest: 0.4740646 (691)\ttotal: 8.95s\tremaining: 3.96s\n",
      "693:\tlearn: 0.4583575\ttest: 0.4740687\tbest: 0.4740646 (691)\ttotal: 8.96s\tremaining: 3.95s\n",
      "694:\tlearn: 0.4583478\ttest: 0.4740661\tbest: 0.4740646 (691)\ttotal: 8.98s\tremaining: 3.94s\n",
      "695:\tlearn: 0.4583283\ttest: 0.4740738\tbest: 0.4740646 (691)\ttotal: 8.99s\tremaining: 3.93s\n",
      "696:\tlearn: 0.4583020\ttest: 0.4740704\tbest: 0.4740646 (691)\ttotal: 9s\tremaining: 3.91s\n",
      "697:\tlearn: 0.4582905\ttest: 0.4740737\tbest: 0.4740646 (691)\ttotal: 9.01s\tremaining: 3.9s\n",
      "698:\tlearn: 0.4582673\ttest: 0.4740788\tbest: 0.4740646 (691)\ttotal: 9.03s\tremaining: 3.89s\n",
      "699:\tlearn: 0.4582550\ttest: 0.4740742\tbest: 0.4740646 (691)\ttotal: 9.04s\tremaining: 3.87s\n",
      "700:\tlearn: 0.4582284\ttest: 0.4740722\tbest: 0.4740646 (691)\ttotal: 9.05s\tremaining: 3.86s\n",
      "701:\tlearn: 0.4582189\ttest: 0.4740772\tbest: 0.4740646 (691)\ttotal: 9.07s\tremaining: 3.85s\n",
      "702:\tlearn: 0.4582054\ttest: 0.4740791\tbest: 0.4740646 (691)\ttotal: 9.08s\tremaining: 3.83s\n",
      "703:\tlearn: 0.4581876\ttest: 0.4740701\tbest: 0.4740646 (691)\ttotal: 9.09s\tremaining: 3.82s\n",
      "704:\tlearn: 0.4581653\ttest: 0.4740638\tbest: 0.4740638 (704)\ttotal: 9.11s\tremaining: 3.81s\n",
      "705:\tlearn: 0.4581434\ttest: 0.4740585\tbest: 0.4740585 (705)\ttotal: 9.12s\tremaining: 3.8s\n",
      "706:\tlearn: 0.4581332\ttest: 0.4740684\tbest: 0.4740585 (705)\ttotal: 9.13s\tremaining: 3.78s\n",
      "707:\tlearn: 0.4581158\ttest: 0.4740646\tbest: 0.4740585 (705)\ttotal: 9.14s\tremaining: 3.77s\n",
      "708:\tlearn: 0.4581014\ttest: 0.4740602\tbest: 0.4740585 (705)\ttotal: 9.16s\tremaining: 3.76s\n",
      "709:\tlearn: 0.4580845\ttest: 0.4740539\tbest: 0.4740539 (709)\ttotal: 9.17s\tremaining: 3.75s\n",
      "710:\tlearn: 0.4580688\ttest: 0.4740492\tbest: 0.4740492 (710)\ttotal: 9.18s\tremaining: 3.73s\n",
      "711:\tlearn: 0.4580519\ttest: 0.4740592\tbest: 0.4740492 (710)\ttotal: 9.2s\tremaining: 3.72s\n",
      "712:\tlearn: 0.4580359\ttest: 0.4740515\tbest: 0.4740492 (710)\ttotal: 9.21s\tremaining: 3.71s\n",
      "713:\tlearn: 0.4580059\ttest: 0.4740516\tbest: 0.4740492 (710)\ttotal: 9.22s\tremaining: 3.69s\n",
      "714:\tlearn: 0.4579935\ttest: 0.4740514\tbest: 0.4740492 (710)\ttotal: 9.23s\tremaining: 3.68s\n",
      "715:\tlearn: 0.4579830\ttest: 0.4740564\tbest: 0.4740492 (710)\ttotal: 9.25s\tremaining: 3.67s\n",
      "716:\tlearn: 0.4579641\ttest: 0.4740528\tbest: 0.4740492 (710)\ttotal: 9.26s\tremaining: 3.65s\n",
      "717:\tlearn: 0.4579463\ttest: 0.4740416\tbest: 0.4740416 (717)\ttotal: 9.27s\tremaining: 3.64s\n",
      "718:\tlearn: 0.4579383\ttest: 0.4740417\tbest: 0.4740416 (717)\ttotal: 9.29s\tremaining: 3.63s\n",
      "719:\tlearn: 0.4579235\ttest: 0.4740436\tbest: 0.4740416 (717)\ttotal: 9.3s\tremaining: 3.62s\n",
      "720:\tlearn: 0.4579097\ttest: 0.4740406\tbest: 0.4740406 (720)\ttotal: 9.31s\tremaining: 3.6s\n",
      "721:\tlearn: 0.4578945\ttest: 0.4740398\tbest: 0.4740398 (721)\ttotal: 9.32s\tremaining: 3.59s\n",
      "722:\tlearn: 0.4578854\ttest: 0.4740394\tbest: 0.4740394 (722)\ttotal: 9.34s\tremaining: 3.58s\n",
      "723:\tlearn: 0.4578703\ttest: 0.4740408\tbest: 0.4740394 (722)\ttotal: 9.35s\tremaining: 3.56s\n",
      "724:\tlearn: 0.4578588\ttest: 0.4740459\tbest: 0.4740394 (722)\ttotal: 9.36s\tremaining: 3.55s\n",
      "725:\tlearn: 0.4578483\ttest: 0.4740566\tbest: 0.4740394 (722)\ttotal: 9.38s\tremaining: 3.54s\n",
      "726:\tlearn: 0.4578247\ttest: 0.4740553\tbest: 0.4740394 (722)\ttotal: 9.39s\tremaining: 3.52s\n",
      "727:\tlearn: 0.4578109\ttest: 0.4740504\tbest: 0.4740394 (722)\ttotal: 9.4s\tremaining: 3.51s\n",
      "728:\tlearn: 0.4577990\ttest: 0.4740562\tbest: 0.4740394 (722)\ttotal: 9.41s\tremaining: 3.5s\n",
      "729:\tlearn: 0.4577806\ttest: 0.4740526\tbest: 0.4740394 (722)\ttotal: 9.43s\tremaining: 3.49s\n",
      "730:\tlearn: 0.4577740\ttest: 0.4740506\tbest: 0.4740394 (722)\ttotal: 9.44s\tremaining: 3.47s\n",
      "731:\tlearn: 0.4577471\ttest: 0.4740476\tbest: 0.4740394 (722)\ttotal: 9.45s\tremaining: 3.46s\n",
      "732:\tlearn: 0.4577374\ttest: 0.4740455\tbest: 0.4740394 (722)\ttotal: 9.47s\tremaining: 3.45s\n",
      "733:\tlearn: 0.4577185\ttest: 0.4740491\tbest: 0.4740394 (722)\ttotal: 9.48s\tremaining: 3.44s\n",
      "734:\tlearn: 0.4576914\ttest: 0.4740659\tbest: 0.4740394 (722)\ttotal: 9.49s\tremaining: 3.42s\n",
      "735:\tlearn: 0.4576809\ttest: 0.4740621\tbest: 0.4740394 (722)\ttotal: 9.5s\tremaining: 3.41s\n",
      "736:\tlearn: 0.4576652\ttest: 0.4740703\tbest: 0.4740394 (722)\ttotal: 9.52s\tremaining: 3.4s\n",
      "737:\tlearn: 0.4576559\ttest: 0.4740707\tbest: 0.4740394 (722)\ttotal: 9.53s\tremaining: 3.38s\n",
      "738:\tlearn: 0.4576236\ttest: 0.4740727\tbest: 0.4740394 (722)\ttotal: 9.54s\tremaining: 3.37s\n",
      "739:\tlearn: 0.4576111\ttest: 0.4740646\tbest: 0.4740394 (722)\ttotal: 9.55s\tremaining: 3.36s\n",
      "740:\tlearn: 0.4575925\ttest: 0.4740546\tbest: 0.4740394 (722)\ttotal: 9.57s\tremaining: 3.34s\n",
      "741:\tlearn: 0.4575707\ttest: 0.4740565\tbest: 0.4740394 (722)\ttotal: 9.58s\tremaining: 3.33s\n",
      "742:\tlearn: 0.4575584\ttest: 0.4740538\tbest: 0.4740394 (722)\ttotal: 9.59s\tremaining: 3.32s\n",
      "bestTest = 0.4740393555\n",
      "bestIteration = 722\n",
      "Shrink model to first 723 iterations.\n",
      "===== ACCURACY SCORE 0.779000 =====\n",
      "===== ACCURACY SCORE 0.779000 =====\n"
     ]
    }
   ],
   "source": [
    "import catboost as ctb\n",
    "\n",
    "params = {\n",
    "    'bootstrap_type': 'Poisson',\n",
    "    'loss_function': 'Logloss',\n",
    "    'eval_metric': 'Logloss',\n",
    "    'random_seed': SEED,\n",
    "    'task_type': 'GPU',\n",
    "    'max_depth': 8,\n",
    "    'learning_rate': 0.01,\n",
    "    'n_estimators': N_ESTIMATORS,\n",
    "    'max_bin': 280,\n",
    "    'min_data_in_leaf': 64,\n",
    "    'l2_leaf_reg': 0.01,\n",
    "    'subsample': 0.8\n",
    "}\n",
    "\n",
    "y_pred = np.zeros(x_pred.shape[0])\n",
    "# print(y_pred.shape)\n",
    "\n",
    "#KFold\n",
    "for fold, (train_idx, valid_idx) in enumerate(skf.split(x, y)) :\n",
    "    print(f\"=====Fold {fold}=====\")\n",
    "    x_train = x[train_idx]\n",
    "    x_val = x[valid_idx]\n",
    "    y_train = y[train_idx]\n",
    "    y_val = y[valid_idx]  \n",
    "    # print(x_train.shape, x_val.shape)  # (90000, 20) (10000, 20)\n",
    "    # print(y_train.shape, y_val.shape)  # (90000,) (10000,)\n",
    "    \n",
    "\n",
    "    model = ctb.CatBoostClassifier(**params)\n",
    "    model.fit(x_train, y_train,\n",
    "            eval_set=[(x_val, y_val)],\n",
    "            use_best_model=True,\n",
    "            early_stopping_rounds=EARLY_STOPPING_ROUNDS,\n",
    "            verbose=VERBOSE)\n",
    "\n",
    "    y_val_pred = model.predict(x_val)\n",
    "    acc_score = accuracy_score(y_val, y_val_pred)\n",
    "    print(f\"===== ACCURACY SCORE {acc_score:.6f} =====\")    # 0.779000\n",
    "\n",
    "    y_pred += model.predict(x_pred)\n",
    "\n",
    "acc_score = accuracy_score(y_val, y_val_pred)\n",
    "print(f\"===== ACCURACY SCORE {acc_score:.6f} =====\")    # 0.779000\n"
   ]
  },
  {
   "source": [
    "# 3. Predict"
   ],
   "cell_type": "markdown",
   "metadata": {}
  },
  {
   "cell_type": "code",
   "execution_count": 22,
   "metadata": {},
   "outputs": [
    {
     "output_type": "execute_result",
     "data": {
      "text/plain": [
       "(100000,)"
      ]
     },
     "metadata": {},
     "execution_count": 22
    }
   ],
   "source": [
    "y_pred /= N_SPLITS\n",
    "y_pred.shape"
   ]
  },
  {
   "cell_type": "code",
   "execution_count": 24,
   "metadata": {},
   "outputs": [
    {
     "output_type": "execute_result",
     "data": {
      "text/plain": [
       "       PassengerId  Survived\n",
       "0           100000         0\n",
       "1           100001         1\n",
       "2           100002         1\n",
       "3           100003         0\n",
       "4           100004         1\n",
       "...            ...       ...\n",
       "99995       199995         1\n",
       "99996       199996         0\n",
       "99997       199997         0\n",
       "99998       199998         1\n",
       "99999       199999         1\n",
       "\n",
       "[100000 rows x 2 columns]"
      ],
      "text/html": "<div>\n<style scoped>\n    .dataframe tbody tr th:only-of-type {\n        vertical-align: middle;\n    }\n\n    .dataframe tbody tr th {\n        vertical-align: top;\n    }\n\n    .dataframe thead th {\n        text-align: right;\n    }\n</style>\n<table border=\"1\" class=\"dataframe\">\n  <thead>\n    <tr style=\"text-align: right;\">\n      <th></th>\n      <th>PassengerId</th>\n      <th>Survived</th>\n    </tr>\n  </thead>\n  <tbody>\n    <tr>\n      <th>0</th>\n      <td>100000</td>\n      <td>0</td>\n    </tr>\n    <tr>\n      <th>1</th>\n      <td>100001</td>\n      <td>1</td>\n    </tr>\n    <tr>\n      <th>2</th>\n      <td>100002</td>\n      <td>1</td>\n    </tr>\n    <tr>\n      <th>3</th>\n      <td>100003</td>\n      <td>0</td>\n    </tr>\n    <tr>\n      <th>4</th>\n      <td>100004</td>\n      <td>1</td>\n    </tr>\n    <tr>\n      <th>...</th>\n      <td>...</td>\n      <td>...</td>\n    </tr>\n    <tr>\n      <th>99995</th>\n      <td>199995</td>\n      <td>1</td>\n    </tr>\n    <tr>\n      <th>99996</th>\n      <td>199996</td>\n      <td>0</td>\n    </tr>\n    <tr>\n      <th>99997</th>\n      <td>199997</td>\n      <td>0</td>\n    </tr>\n    <tr>\n      <th>99998</th>\n      <td>199998</td>\n      <td>1</td>\n    </tr>\n    <tr>\n      <th>99999</th>\n      <td>199999</td>\n      <td>1</td>\n    </tr>\n  </tbody>\n</table>\n<p>100000 rows × 2 columns</p>\n</div>"
     },
     "metadata": {},
     "execution_count": 24
    }
   ],
   "source": [
    "submission['Survived'] = np.round(y_pred).astype(int)\n",
    "submission"
   ]
  },
  {
   "source": [
    "# 4.Submission"
   ],
   "cell_type": "markdown",
   "metadata": {}
  },
  {
   "cell_type": "code",
   "execution_count": 25,
   "metadata": {},
   "outputs": [
    {
     "output_type": "execute_result",
     "data": {
      "text/plain": [
       "       PassengerId  Survived\n",
       "0           100000         0\n",
       "1           100001         1\n",
       "2           100002         1\n",
       "3           100003         0\n",
       "4           100004         1\n",
       "...            ...       ...\n",
       "99995       199995         1\n",
       "99996       199996         0\n",
       "99997       199997         0\n",
       "99998       199998         1\n",
       "99999       199999         1\n",
       "\n",
       "[100000 rows x 2 columns]"
      ],
      "text/html": "<div>\n<style scoped>\n    .dataframe tbody tr th:only-of-type {\n        vertical-align: middle;\n    }\n\n    .dataframe tbody tr th {\n        vertical-align: top;\n    }\n\n    .dataframe thead th {\n        text-align: right;\n    }\n</style>\n<table border=\"1\" class=\"dataframe\">\n  <thead>\n    <tr style=\"text-align: right;\">\n      <th></th>\n      <th>PassengerId</th>\n      <th>Survived</th>\n    </tr>\n  </thead>\n  <tbody>\n    <tr>\n      <th>0</th>\n      <td>100000</td>\n      <td>0</td>\n    </tr>\n    <tr>\n      <th>1</th>\n      <td>100001</td>\n      <td>1</td>\n    </tr>\n    <tr>\n      <th>2</th>\n      <td>100002</td>\n      <td>1</td>\n    </tr>\n    <tr>\n      <th>3</th>\n      <td>100003</td>\n      <td>0</td>\n    </tr>\n    <tr>\n      <th>4</th>\n      <td>100004</td>\n      <td>1</td>\n    </tr>\n    <tr>\n      <th>...</th>\n      <td>...</td>\n      <td>...</td>\n    </tr>\n    <tr>\n      <th>99995</th>\n      <td>199995</td>\n      <td>1</td>\n    </tr>\n    <tr>\n      <th>99996</th>\n      <td>199996</td>\n      <td>0</td>\n    </tr>\n    <tr>\n      <th>99997</th>\n      <td>199997</td>\n      <td>0</td>\n    </tr>\n    <tr>\n      <th>99998</th>\n      <td>199998</td>\n      <td>1</td>\n    </tr>\n    <tr>\n      <th>99999</th>\n      <td>199999</td>\n      <td>1</td>\n    </tr>\n  </tbody>\n</table>\n<p>100000 rows × 2 columns</p>\n</div>"
     },
     "metadata": {},
     "execution_count": 25
    }
   ],
   "source": [
    "submission.to_csv(\"E:\\\\data\\\\kaggle_tabular\\\\submission_0425_catboost2.csv\", index = False)\n",
    "submission"
   ]
  },
  {
   "source": [
    "---\n",
    "파일명 : submission_0425_catboost2.csv     \n",
    "score : 0.80281"
   ],
   "cell_type": "markdown",
   "metadata": {}
  }
 ]
}